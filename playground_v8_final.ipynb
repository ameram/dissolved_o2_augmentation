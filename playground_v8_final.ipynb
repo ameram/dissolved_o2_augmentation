{
 "cells": [
  {
   "cell_type": "code",
   "execution_count": 1,
   "id": "29c8ba5f-bb90-42de-9a96-ee78dfe661b5",
   "metadata": {},
   "outputs": [],
   "source": [
    "import numpy as np\n",
    "import pandas as pd\n",
    "import matplotlib.pyplot as plt\n",
    "import seaborn as sns\n",
    "from sklearn.model_selection import train_test_split, cross_val_score\n",
    "from sklearn.ensemble import RandomForestRegressor, IsolationForest\n",
    "from sklearn.metrics import mean_squared_error\n",
    "from sklearn.linear_model import SGDOneClassSVM\n",
    "from sklearn.neighbors import LocalOutlierFactor\n",
    "import seaborn as sns"
   ]
  },
  {
   "cell_type": "markdown",
   "id": "e8171f9c-19e8-470a-8b5b-322dcb5b326b",
   "metadata": {
    "tags": []
   },
   "source": [
    "# The Checklist\n",
    "- [ ] Get the data\n",
    "- [ ] Do the One Class SVM, Isolation Tree, and Local Outlier Factor\n",
    "- [ ] Clip the Target\n",
    "- [ ] Arithmetic Mean\n"
   ]
  },
  {
   "cell_type": "code",
   "execution_count": 2,
   "id": "a6575816-a5b6-4b27-9f7e-e09e18b9c777",
   "metadata": {},
   "outputs": [
    {
     "data": {
      "text/html": [
       "<div>\n",
       "<style scoped>\n",
       "    .dataframe tbody tr th:only-of-type {\n",
       "        vertical-align: middle;\n",
       "    }\n",
       "\n",
       "    .dataframe tbody tr th {\n",
       "        vertical-align: top;\n",
       "    }\n",
       "\n",
       "    .dataframe thead th {\n",
       "        text-align: right;\n",
       "    }\n",
       "</style>\n",
       "<table border=\"1\" class=\"dataframe\">\n",
       "  <thead>\n",
       "    <tr style=\"text-align: right;\">\n",
       "      <th></th>\n",
       "      <th>id</th>\n",
       "      <th>target</th>\n",
       "      <th>O2_1</th>\n",
       "      <th>O2_2</th>\n",
       "      <th>O2_3</th>\n",
       "      <th>O2_4</th>\n",
       "      <th>O2_5</th>\n",
       "      <th>O2_6</th>\n",
       "      <th>O2_7</th>\n",
       "      <th>NH4_1</th>\n",
       "      <th>...</th>\n",
       "      <th>NO3_5</th>\n",
       "      <th>NO3_6</th>\n",
       "      <th>NO3_7</th>\n",
       "      <th>BOD5_1</th>\n",
       "      <th>BOD5_2</th>\n",
       "      <th>BOD5_3</th>\n",
       "      <th>BOD5_4</th>\n",
       "      <th>BOD5_5</th>\n",
       "      <th>BOD5_6</th>\n",
       "      <th>BOD5_7</th>\n",
       "    </tr>\n",
       "  </thead>\n",
       "  <tbody>\n",
       "    <tr>\n",
       "      <th>0</th>\n",
       "      <td>0</td>\n",
       "      <td>8.59</td>\n",
       "      <td>7.500</td>\n",
       "      <td>9.000</td>\n",
       "      <td>9.545</td>\n",
       "      <td>9.265</td>\n",
       "      <td>8.110</td>\n",
       "      <td>8.430</td>\n",
       "      <td>7.150</td>\n",
       "      <td>0.180</td>\n",
       "      <td>...</td>\n",
       "      <td>4.950</td>\n",
       "      <td>1.730</td>\n",
       "      <td>1.800</td>\n",
       "      <td>4.800</td>\n",
       "      <td>3.150</td>\n",
       "      <td>10.665</td>\n",
       "      <td>10.465</td>\n",
       "      <td>16.645</td>\n",
       "      <td>5.750</td>\n",
       "      <td>10.37</td>\n",
       "    </tr>\n",
       "    <tr>\n",
       "      <th>1</th>\n",
       "      <td>1</td>\n",
       "      <td>9.10</td>\n",
       "      <td>13.533</td>\n",
       "      <td>40.900</td>\n",
       "      <td>8.770</td>\n",
       "      <td>9.265</td>\n",
       "      <td>6.015</td>\n",
       "      <td>10.070</td>\n",
       "      <td>7.150</td>\n",
       "      <td>1.107</td>\n",
       "      <td>...</td>\n",
       "      <td>20.050</td>\n",
       "      <td>9.530</td>\n",
       "      <td>7.695</td>\n",
       "      <td>4.550</td>\n",
       "      <td>6.950</td>\n",
       "      <td>2.040</td>\n",
       "      <td>5.200</td>\n",
       "      <td>5.725</td>\n",
       "      <td>2.950</td>\n",
       "      <td>2.23</td>\n",
       "    </tr>\n",
       "    <tr>\n",
       "      <th>2</th>\n",
       "      <td>2</td>\n",
       "      <td>8.21</td>\n",
       "      <td>3.710</td>\n",
       "      <td>5.420</td>\n",
       "      <td>8.770</td>\n",
       "      <td>9.265</td>\n",
       "      <td>4.550</td>\n",
       "      <td>10.070</td>\n",
       "      <td>7.150</td>\n",
       "      <td>0.020</td>\n",
       "      <td>...</td>\n",
       "      <td>4.580</td>\n",
       "      <td>3.025</td>\n",
       "      <td>3.960</td>\n",
       "      <td>4.935</td>\n",
       "      <td>4.950</td>\n",
       "      <td>4.725</td>\n",
       "      <td>6.075</td>\n",
       "      <td>6.750</td>\n",
       "      <td>3.500</td>\n",
       "      <td>3.17</td>\n",
       "    </tr>\n",
       "    <tr>\n",
       "      <th>3</th>\n",
       "      <td>3</td>\n",
       "      <td>8.39</td>\n",
       "      <td>8.700</td>\n",
       "      <td>8.100</td>\n",
       "      <td>9.500</td>\n",
       "      <td>9.200</td>\n",
       "      <td>5.200</td>\n",
       "      <td>8.670</td>\n",
       "      <td>6.670</td>\n",
       "      <td>0.280</td>\n",
       "      <td>...</td>\n",
       "      <td>8.450</td>\n",
       "      <td>2.070</td>\n",
       "      <td>1.730</td>\n",
       "      <td>6.300</td>\n",
       "      <td>4.700</td>\n",
       "      <td>3.500</td>\n",
       "      <td>6.200</td>\n",
       "      <td>8.670</td>\n",
       "      <td>2.900</td>\n",
       "      <td>7.37</td>\n",
       "    </tr>\n",
       "    <tr>\n",
       "      <th>4</th>\n",
       "      <td>4</td>\n",
       "      <td>8.07</td>\n",
       "      <td>8.050</td>\n",
       "      <td>8.650</td>\n",
       "      <td>7.960</td>\n",
       "      <td>9.265</td>\n",
       "      <td>3.290</td>\n",
       "      <td>10.070</td>\n",
       "      <td>7.150</td>\n",
       "      <td>0.360</td>\n",
       "      <td>...</td>\n",
       "      <td>2.020</td>\n",
       "      <td>1.730</td>\n",
       "      <td>0.760</td>\n",
       "      <td>4.800</td>\n",
       "      <td>4.970</td>\n",
       "      <td>3.950</td>\n",
       "      <td>2.800</td>\n",
       "      <td>8.400</td>\n",
       "      <td>3.500</td>\n",
       "      <td>3.90</td>\n",
       "    </tr>\n",
       "    <tr>\n",
       "      <th>...</th>\n",
       "      <td>...</td>\n",
       "      <td>...</td>\n",
       "      <td>...</td>\n",
       "      <td>...</td>\n",
       "      <td>...</td>\n",
       "      <td>...</td>\n",
       "      <td>...</td>\n",
       "      <td>...</td>\n",
       "      <td>...</td>\n",
       "      <td>...</td>\n",
       "      <td>...</td>\n",
       "      <td>...</td>\n",
       "      <td>...</td>\n",
       "      <td>...</td>\n",
       "      <td>...</td>\n",
       "      <td>...</td>\n",
       "      <td>...</td>\n",
       "      <td>...</td>\n",
       "      <td>...</td>\n",
       "      <td>...</td>\n",
       "      <td>...</td>\n",
       "    </tr>\n",
       "    <tr>\n",
       "      <th>3495</th>\n",
       "      <td>3495</td>\n",
       "      <td>8.08</td>\n",
       "      <td>6.250</td>\n",
       "      <td>8.300</td>\n",
       "      <td>7.795</td>\n",
       "      <td>9.265</td>\n",
       "      <td>5.690</td>\n",
       "      <td>8.555</td>\n",
       "      <td>6.335</td>\n",
       "      <td>0.565</td>\n",
       "      <td>...</td>\n",
       "      <td>14.575</td>\n",
       "      <td>0.636</td>\n",
       "      <td>1.640</td>\n",
       "      <td>4.235</td>\n",
       "      <td>4.100</td>\n",
       "      <td>2.800</td>\n",
       "      <td>3.950</td>\n",
       "      <td>7.695</td>\n",
       "      <td>3.540</td>\n",
       "      <td>2.50</td>\n",
       "    </tr>\n",
       "    <tr>\n",
       "      <th>3496</th>\n",
       "      <td>3496</td>\n",
       "      <td>8.09</td>\n",
       "      <td>6.630</td>\n",
       "      <td>6.630</td>\n",
       "      <td>8.370</td>\n",
       "      <td>7.600</td>\n",
       "      <td>0.636</td>\n",
       "      <td>8.430</td>\n",
       "      <td>7.150</td>\n",
       "      <td>1.300</td>\n",
       "      <td>...</td>\n",
       "      <td>4.580</td>\n",
       "      <td>1.730</td>\n",
       "      <td>1.800</td>\n",
       "      <td>4.900</td>\n",
       "      <td>3.150</td>\n",
       "      <td>2.040</td>\n",
       "      <td>6.075</td>\n",
       "      <td>8.415</td>\n",
       "      <td>2.155</td>\n",
       "      <td>2.90</td>\n",
       "    </tr>\n",
       "    <tr>\n",
       "      <th>3497</th>\n",
       "      <td>3497</td>\n",
       "      <td>9.95</td>\n",
       "      <td>8.367</td>\n",
       "      <td>8.433</td>\n",
       "      <td>8.770</td>\n",
       "      <td>6.170</td>\n",
       "      <td>5.800</td>\n",
       "      <td>10.400</td>\n",
       "      <td>7.200</td>\n",
       "      <td>0.430</td>\n",
       "      <td>...</td>\n",
       "      <td>20.050</td>\n",
       "      <td>1.440</td>\n",
       "      <td>1.800</td>\n",
       "      <td>4.867</td>\n",
       "      <td>4.833</td>\n",
       "      <td>4.725</td>\n",
       "      <td>4.950</td>\n",
       "      <td>8.400</td>\n",
       "      <td>6.625</td>\n",
       "      <td>4.20</td>\n",
       "    </tr>\n",
       "    <tr>\n",
       "      <th>3498</th>\n",
       "      <td>3498</td>\n",
       "      <td>9.52</td>\n",
       "      <td>10.000</td>\n",
       "      <td>6.630</td>\n",
       "      <td>9.545</td>\n",
       "      <td>9.265</td>\n",
       "      <td>3.290</td>\n",
       "      <td>8.980</td>\n",
       "      <td>2.310</td>\n",
       "      <td>0.300</td>\n",
       "      <td>...</td>\n",
       "      <td>20.050</td>\n",
       "      <td>9.530</td>\n",
       "      <td>7.695</td>\n",
       "      <td>10.700</td>\n",
       "      <td>5.400</td>\n",
       "      <td>4.725</td>\n",
       "      <td>3.300</td>\n",
       "      <td>6.750</td>\n",
       "      <td>6.625</td>\n",
       "      <td>5.00</td>\n",
       "    </tr>\n",
       "    <tr>\n",
       "      <th>3499</th>\n",
       "      <td>3499</td>\n",
       "      <td>8.51</td>\n",
       "      <td>8.500</td>\n",
       "      <td>8.100</td>\n",
       "      <td>9.545</td>\n",
       "      <td>9.265</td>\n",
       "      <td>8.110</td>\n",
       "      <td>9.805</td>\n",
       "      <td>7.150</td>\n",
       "      <td>0.215</td>\n",
       "      <td>...</td>\n",
       "      <td>3.070</td>\n",
       "      <td>1.730</td>\n",
       "      <td>1.800</td>\n",
       "      <td>1.720</td>\n",
       "      <td>2.520</td>\n",
       "      <td>2.040</td>\n",
       "      <td>2.040</td>\n",
       "      <td>8.415</td>\n",
       "      <td>2.950</td>\n",
       "      <td>2.27</td>\n",
       "    </tr>\n",
       "  </tbody>\n",
       "</table>\n",
       "<p>3500 rows × 37 columns</p>\n",
       "</div>"
      ],
      "text/plain": [
       "        id  target    O2_1    O2_2   O2_3   O2_4   O2_5    O2_6   O2_7  NH4_1  \\\n",
       "0        0    8.59   7.500   9.000  9.545  9.265  8.110   8.430  7.150  0.180   \n",
       "1        1    9.10  13.533  40.900  8.770  9.265  6.015  10.070  7.150  1.107   \n",
       "2        2    8.21   3.710   5.420  8.770  9.265  4.550  10.070  7.150  0.020   \n",
       "3        3    8.39   8.700   8.100  9.500  9.200  5.200   8.670  6.670  0.280   \n",
       "4        4    8.07   8.050   8.650  7.960  9.265  3.290  10.070  7.150  0.360   \n",
       "...    ...     ...     ...     ...    ...    ...    ...     ...    ...    ...   \n",
       "3495  3495    8.08   6.250   8.300  7.795  9.265  5.690   8.555  6.335  0.565   \n",
       "3496  3496    8.09   6.630   6.630  8.370  7.600  0.636   8.430  7.150  1.300   \n",
       "3497  3497    9.95   8.367   8.433  8.770  6.170  5.800  10.400  7.200  0.430   \n",
       "3498  3498    9.52  10.000   6.630  9.545  9.265  3.290   8.980  2.310  0.300   \n",
       "3499  3499    8.51   8.500   8.100  9.545  9.265  8.110   9.805  7.150  0.215   \n",
       "\n",
       "      ...   NO3_5  NO3_6  NO3_7  BOD5_1  BOD5_2  BOD5_3  BOD5_4  BOD5_5  \\\n",
       "0     ...   4.950  1.730  1.800   4.800   3.150  10.665  10.465  16.645   \n",
       "1     ...  20.050  9.530  7.695   4.550   6.950   2.040   5.200   5.725   \n",
       "2     ...   4.580  3.025  3.960   4.935   4.950   4.725   6.075   6.750   \n",
       "3     ...   8.450  2.070  1.730   6.300   4.700   3.500   6.200   8.670   \n",
       "4     ...   2.020  1.730  0.760   4.800   4.970   3.950   2.800   8.400   \n",
       "...   ...     ...    ...    ...     ...     ...     ...     ...     ...   \n",
       "3495  ...  14.575  0.636  1.640   4.235   4.100   2.800   3.950   7.695   \n",
       "3496  ...   4.580  1.730  1.800   4.900   3.150   2.040   6.075   8.415   \n",
       "3497  ...  20.050  1.440  1.800   4.867   4.833   4.725   4.950   8.400   \n",
       "3498  ...  20.050  9.530  7.695  10.700   5.400   4.725   3.300   6.750   \n",
       "3499  ...   3.070  1.730  1.800   1.720   2.520   2.040   2.040   8.415   \n",
       "\n",
       "      BOD5_6  BOD5_7  \n",
       "0      5.750   10.37  \n",
       "1      2.950    2.23  \n",
       "2      3.500    3.17  \n",
       "3      2.900    7.37  \n",
       "4      3.500    3.90  \n",
       "...      ...     ...  \n",
       "3495   3.540    2.50  \n",
       "3496   2.155    2.90  \n",
       "3497   6.625    4.20  \n",
       "3498   6.625    5.00  \n",
       "3499   2.950    2.27  \n",
       "\n",
       "[3500 rows x 37 columns]"
      ]
     },
     "execution_count": 2,
     "metadata": {},
     "output_type": "execute_result"
    }
   ],
   "source": [
    "df = pd.read_csv('sample_submission.csv')\n",
    "df"
   ]
  },
  {
   "cell_type": "markdown",
   "id": "8b6d3e6b-d145-471a-ac5f-662c10f5d378",
   "metadata": {
    "tags": []
   },
   "source": [
    "# Setting up the Helper Methods\n",
    "\n",
    "Now I am going to setup a streamlined k folds and random forest regressor"
   ]
  },
  {
   "cell_type": "code",
   "execution_count": 3,
   "id": "7fadf1c0-be03-4477-a8c0-99a5a249b2bc",
   "metadata": {},
   "outputs": [],
   "source": [
    "def test_on_data(x_train, x_test, y_train, y_test):\n",
    "    rf = RandomForestRegressor(\n",
    "       n_estimators=1000,\n",
    "       max_depth=7,\n",
    "       n_jobs=-1,\n",
    "       random_state=42)\n",
    "\n",
    "    rf.fit(x_train, y_train)\n",
    "    preds = rf.predict(x_test)\n",
    "    return mean_squared_error(y_test, preds)"
   ]
  },
  {
   "cell_type": "code",
   "execution_count": 4,
   "id": "9f3d2767-d094-4d06-9356-91ec582abf7c",
   "metadata": {},
   "outputs": [],
   "source": [
    "def test_on_data_cv(x, y, cv=5):\n",
    "    rf = RandomForestRegressor(\n",
    "       n_estimators=1000,\n",
    "       max_depth=7,\n",
    "       n_jobs=-1,\n",
    "       random_state=42)\n",
    "\n",
    "    scores = cross_val_score(rf, x, y, cv=cv, scoring='neg_root_mean_squared_error')\n",
    "    scores\n",
    "    return scores"
   ]
  },
  {
   "cell_type": "markdown",
   "id": "4ae024e5-7f56-42df-9624-e4dccc63c05e",
   "metadata": {},
   "source": [
    "TODO: add custom K-Folds"
   ]
  },
  {
   "cell_type": "code",
   "execution_count": 5,
   "id": "cd42dbfa-1020-44ef-9580-5c47a31dff2e",
   "metadata": {},
   "outputs": [],
   "source": [
    "def test_with_std(x, y, cv=5, n=10):\n",
    "    score_total = []\n",
    "    for i in range(n):\n",
    "        score_total.append(test_on_data_cv(x, y, cv=cv))\n",
    "    score_total = np.array(score_total)\n",
    "    print(f'Mean {score_total.mean()} and std {score_total.std()}')"
   ]
  },
  {
   "cell_type": "code",
   "execution_count": null,
   "id": "56a3cc02-38e5-43a6-a574-436309764302",
   "metadata": {},
   "outputs": [],
   "source": [
    "# Let's try these methods.\n",
    "# test_with_std(df.drop('target', axis=1), df.target)"
   ]
  },
  {
   "cell_type": "markdown",
   "id": "170928b8-5a46-4c9a-9132-f972ffec5927",
   "metadata": {},
   "source": [
    "For normal k-folds without any change in data, we got a pretty bad score and even worst we got a big std compared to mean. For curisoty sake I'm going to do it on the clipped version too."
   ]
  },
  {
   "cell_type": "code",
   "execution_count": null,
   "id": "b998a7d4-4f80-4c3d-bd0f-5be8f93bedf0",
   "metadata": {},
   "outputs": [],
   "source": [
    "# Testing cell, not run by default\n",
    "# test_with_std(df.drop('target', axis=1), df['target'].clip(7, 16))"
   ]
  },
  {
   "cell_type": "markdown",
   "id": "081912f8-1da0-4280-9bfc-ca246b3de9a3",
   "metadata": {},
   "source": [
    "Ok this seems better with 0.9 MSE and 0.02 std, MAYBE I SHOULD VALUE STD MORE."
   ]
  },
  {
   "cell_type": "code",
   "execution_count": null,
   "id": "e8f98371-c196-4d85-8bf7-67657f40c371",
   "metadata": {},
   "outputs": [],
   "source": [
    "def give_zero_sub(df=df):\n",
    "    dfc = df.copy()\n",
    "    dfc.iloc[:]=0\n",
    "    return dfc"
   ]
  },
  {
   "cell_type": "markdown",
   "id": "04521715-3d23-49b7-b755-99a7a8cba540",
   "metadata": {
    "tags": []
   },
   "source": [
    "# Half hearted EDA & Outlier Detection"
   ]
  },
  {
   "cell_type": "code",
   "execution_count": null,
   "id": "496a5d9d-698a-4b3a-8f07-28501d0aadf7",
   "metadata": {},
   "outputs": [],
   "source": [
    "data_to_plot = df.drop(['id'], axis=1)\n",
    "\n",
    "# Determine the number of columns to plot, 36\n",
    "num_cols = len(data_to_plot.columns)\n",
    "\n",
    "# Calculate the number of rows and columns for the subplots\n",
    "num_rows = (num_cols + 2) // 3\n",
    "num_cols_per_subplot = min(num_cols, 5)"
   ]
  },
  {
   "cell_type": "code",
   "execution_count": null,
   "id": "743dc5ae-13f7-4f17-88e5-a68e0675e7c8",
   "metadata": {},
   "outputs": [],
   "source": [
    "# Create subplots\n",
    "fig, axes = plt.subplots(num_rows, num_cols_per_subplot, figsize=(18, 2 * num_rows))\n",
    "\n",
    "# Flatten the axes for iteration\n",
    "axes = axes.flatten()\n",
    "\n",
    "# Create box plots for each column\n",
    "for i, col in enumerate(data_to_plot.columns):\n",
    "    # The main magic happens here:\n",
    "    sns.boxplot(x=data_to_plot[col], ax=axes[i])\n",
    "    axes[i].set_title(col)\n",
    "    axes[i].set_xticks([])  # Remove x-axis labels for better readability\n",
    "    \n",
    "# Remove any empty subplots\n",
    "for i in range(num_cols, num_rows * num_cols_per_subplot):\n",
    "    fig.delaxes(axes[i])\n",
    "\n",
    "plt.tight_layout()\n",
    "plt.show()"
   ]
  },
  {
   "cell_type": "code",
   "execution_count": null,
   "id": "ff09de6b-109a-4608-9b5b-4c8e98d001d4",
   "metadata": {},
   "outputs": [],
   "source": [
    "sns.lineplot(data=df, x='id',y='target')"
   ]
  },
  {
   "cell_type": "code",
   "execution_count": null,
   "id": "24e82761-b00a-471f-8224-fed0e218ae90",
   "metadata": {},
   "outputs": [],
   "source": [
    "sns.lineplot(data=df, x='id',y='O2_1')"
   ]
  },
  {
   "cell_type": "code",
   "execution_count": null,
   "id": "7ad10acc-d122-4676-9da6-ee3f3762726e",
   "metadata": {},
   "outputs": [],
   "source": [
    "sns.lineplot(data=df, x='id',y='O2_2')"
   ]
  },
  {
   "cell_type": "code",
   "execution_count": null,
   "id": "4f94e9b6-f04b-432f-982b-b2ab2c2b9802",
   "metadata": {},
   "outputs": [],
   "source": [
    "sns.lineplot(data=df, x='id',y='BOD5_5')"
   ]
  },
  {
   "cell_type": "code",
   "execution_count": null,
   "id": "cbb00bcf-8f92-452f-85ef-52b32122a75a",
   "metadata": {},
   "outputs": [],
   "source": [
    "df[df.target>20]"
   ]
  },
  {
   "cell_type": "code",
   "execution_count": null,
   "id": "282cbfdc-5000-483b-ba00-157e26d11605",
   "metadata": {},
   "outputs": [],
   "source": [
    "df[df['BOD5_5'] >35]"
   ]
  },
  {
   "cell_type": "markdown",
   "id": "6cffd7d3-03d6-4c33-b43f-33f30e51b227",
   "metadata": {
    "jp-MarkdownHeadingCollapsed": true,
    "tags": []
   },
   "source": [
    "2 outliers on target which are 316 and 451, from this point we are going to pretend that ID column does not exist, because internet says so."
   ]
  },
  {
   "cell_type": "markdown",
   "id": "b0a9c519-bc2b-4883-9146-0597ba09e81b",
   "metadata": {},
   "source": [
    "# Outlier Cleaning"
   ]
  },
  {
   "cell_type": "markdown",
   "id": "2098238e-91c5-4737-9137-35ba15ece042",
   "metadata": {
    "tags": []
   },
   "source": [
    "## SVM, Isolation Forest, LOF"
   ]
  },
  {
   "cell_type": "code",
   "execution_count": null,
   "id": "a589343d-b044-49da-b591-a1a90fe363ab",
   "metadata": {},
   "outputs": [],
   "source": [
    "def dropped_df(idx):\n",
    "    return df.drop(idx, axis=0)"
   ]
  },
  {
   "cell_type": "code",
   "execution_count": null,
   "id": "d70e709a-83ae-4e9e-ac23-391e02167813",
   "metadata": {},
   "outputs": [],
   "source": [
    "def get_svm_idx(nu=.3):\n",
    "    svm = SGDOneClassSVM(nu)\n",
    "    svm.fit(df.drop('id', axis=1))\n",
    "    svm_pred = svm.predict(df.drop('id', axis=1))\n",
    "    svm_remove_idx = np.where(svm_pred==-1)[0]\n",
    "    return svm_remove_idx"
   ]
  },
  {
   "cell_type": "markdown",
   "id": "bccce3ae-4150-45d3-a34f-98cfddec8ebb",
   "metadata": {},
   "source": [
    "SGDOneClassSVM works best without id for finding outliers."
   ]
  },
  {
   "cell_type": "code",
   "execution_count": null,
   "id": "300b68ae-f710-4ebc-a6a8-a030336b01bd",
   "metadata": {},
   "outputs": [],
   "source": [
    "# # Testing different nu values\n",
    "\n",
    "# svm_df_3 = dropped_df(get_svm_idx(nu=0.3))\n",
    "# test_with_std(svm_df_3.drop('target', axis=1), svm_df_3.target, cv=5, n=7)"
   ]
  },
  {
   "cell_type": "code",
   "execution_count": null,
   "id": "ca495c9d-56f1-4b75-9902-80f66c6a731e",
   "metadata": {},
   "outputs": [],
   "source": [
    "# svm_df_5 = dropped_df(get_svm_idx(nu=0.5))\n",
    "# test_with_std(svm_df_5.drop('target', axis=1), svm_df_5.target, cv=5, n=7)"
   ]
  },
  {
   "cell_type": "code",
   "execution_count": null,
   "id": "4782d273-e08b-4372-a84f-b747de18496b",
   "metadata": {},
   "outputs": [],
   "source": [
    "# svm_df_8 = dropped_df(get_svm_idx(nu=0.8))\n",
    "# test_with_std(svm_df_8.drop('target', axis=1), svm_df_8.target, cv=5, n=7)"
   ]
  },
  {
   "cell_type": "code",
   "execution_count": null,
   "id": "45b5cd4c-bfbc-4150-be1d-e5a86a174d67",
   "metadata": {},
   "outputs": [],
   "source": [
    "def get_iso_idx(cont=0.005):\n",
    "    isofor = IsolationForest(contamination=cont)\n",
    "    isofor.fit(df.drop('id',axis=1))\n",
    "    iso_pred = isofor.predict(df.drop('id',axis=1))\n",
    "    iso_remove_idx = np.where(iso_pred==-1)[0]\n",
    "    return iso_remove_idx"
   ]
  },
  {
   "cell_type": "code",
   "execution_count": null,
   "id": "4d6874ee-e669-459a-ab97-b4fd0e9b5116",
   "metadata": {},
   "outputs": [],
   "source": [
    "# # Testing different contamination values\n",
    "\n",
    "# iso_df_1 = dropped_df(get_iso_idx(cont='auto'))\n",
    "# test_with_std(iso_df_1.drop('target', axis=1), iso_df_1.target, cv=5, n=7)"
   ]
  },
  {
   "cell_type": "code",
   "execution_count": null,
   "id": "06a7b3e0-e6ac-4b99-a8b5-a6515f900d10",
   "metadata": {},
   "outputs": [],
   "source": [
    "# iso_df_2 = dropped_df(get_iso_idx(cont=0.01))\n",
    "# test_with_std(iso_df_2.drop('target', axis=1), iso_df_2.target, cv=5, n=7)"
   ]
  },
  {
   "cell_type": "code",
   "execution_count": null,
   "id": "9efa3949-4aac-44fb-ade4-00077073f08a",
   "metadata": {},
   "outputs": [],
   "source": [
    "# iso_df_3 = dropped_df(get_iso_idx(cont=0.5))\n",
    "# test_with_std(iso_df_3.drop('target', axis=1), iso_df_3.target, cv=5, n=7)"
   ]
  },
  {
   "cell_type": "code",
   "execution_count": null,
   "id": "9d423199-f72a-4086-81c2-4a26de20951a",
   "metadata": {},
   "outputs": [],
   "source": [
    "def get_lof_idx(cont=0.005):\n",
    "    lof = LocalOutlierFactor(contamination=cont)\n",
    "    lof_pred = lof.fit_predict(df.drop('id',axis=1))\n",
    "    lof_remove_idx = np.where(lof_pred==-1)[0]\n",
    "    return lof_remove_idx"
   ]
  },
  {
   "cell_type": "code",
   "execution_count": null,
   "id": "e44b3bea-ae8d-40aa-abd4-7bf9bf878636",
   "metadata": {},
   "outputs": [],
   "source": [
    "# # Testing different contamination values\n",
    "\n",
    "# lof_df_1 = dropped_df(get_lof_idx(cont='auto'))\n",
    "# test_with_std(lof_df_1.drop('target', axis=1), lof_df_1.target, cv=5, n=7)"
   ]
  },
  {
   "cell_type": "code",
   "execution_count": null,
   "id": "81900d5b-939b-43e5-aac9-dfec7199dbd9",
   "metadata": {},
   "outputs": [],
   "source": [
    "# lof_df_2 = dropped_df(get_lof_idx(cont=0.1))\n",
    "# test_with_std(lof_df_2.drop('target', axis=1), lof_df_2.target, cv=5, n=7)"
   ]
  },
  {
   "cell_type": "code",
   "execution_count": null,
   "id": "844f4d00-aa1d-459a-b0f5-eb38b4eadaf1",
   "metadata": {},
   "outputs": [],
   "source": [
    "# iso_df_3 = dropped_df(get_lof_idx(cont=0.5))\n",
    "# test_with_std(iso_df_3.drop('target', axis=1), iso_df_3.target, cv=5, n=7)"
   ]
  },
  {
   "cell_type": "markdown",
   "id": "a685e5b7-dac2-414c-b4df-56e75b55b091",
   "metadata": {},
   "source": [
    "Score i got were:\n",
    "SVM(nu): 0.3:(-1.39;0.61), 0.5:(-1.39;0.61), 0.8:(-1.39;0.61) - So no meaningful differences.\n",
    "\n",
    "Isolation Tree(cont): auto:(1.41;0.61), 0.01:(1.40;0.61), **0.5:(0.93; 0.08),**\n",
    "\n",
    "LocalOutlierFactor(cont): auto:(0.98;0.05), 0.1:(0.92;0.03), **0.5:(0.83; 0.02)**\n",
    "\n",
    "I wonder if is should this radical numbers for cont, since no one else seems to be using them. \n",
    "\n",
    "edit: Ok now i know the reason why people in the Kaggle don't use the big number because it get picky pretty fast. My values are nu=0.3 and both contaminations set to 0.01"
   ]
  },
  {
   "cell_type": "code",
   "execution_count": null,
   "id": "3837c41e-f8e9-4fd8-ac11-0619b24641fa",
   "metadata": {},
   "outputs": [],
   "source": [
    "svm_remove_idx = get_svm_idx(nu=0.3)\n",
    "iso_remove_idx = get_iso_idx(cont=0.005)\n",
    "lof_remove_idx = get_lof_idx(cont=0.005)\n",
    "\n",
    "idx_to_remove = np.union1d(np.union1d(lof_remove_idx, iso_remove_idx), svm_remove_idx)"
   ]
  },
  {
   "cell_type": "code",
   "execution_count": null,
   "id": "513c7405-2bc3-4a8e-a2d2-ab58e372eee5",
   "metadata": {},
   "outputs": [],
   "source": [
    "len(svm_remove_idx)"
   ]
  },
  {
   "cell_type": "code",
   "execution_count": null,
   "id": "aabca485-5f10-43cc-9e5a-068ee44cbf11",
   "metadata": {},
   "outputs": [],
   "source": [
    "len(iso_remove_idx)"
   ]
  },
  {
   "cell_type": "code",
   "execution_count": null,
   "id": "b5c2ec4b-5f6a-4808-bfbd-dd4532317fe8",
   "metadata": {},
   "outputs": [],
   "source": [
    "len(lof_remove_idx)"
   ]
  },
  {
   "cell_type": "code",
   "execution_count": null,
   "id": "470392f3-1c78-44e5-bf03-0c5a9734350f",
   "metadata": {},
   "outputs": [],
   "source": [
    "len(idx_to_remove)"
   ]
  },
  {
   "cell_type": "code",
   "execution_count": null,
   "id": "3c7f59ab-42ad-4e7d-85da-d4b2298a48bc",
   "metadata": {},
   "outputs": [],
   "source": [
    "df_clean = dropped_df(idx_to_remove)\n",
    "len(df_clean)"
   ]
  },
  {
   "cell_type": "markdown",
   "id": "c765ecd4-bd68-46c4-8338-01f0e212c8ac",
   "metadata": {},
   "source": [
    "3500-80 = 3420\n",
    "Ok we will clip target once between 7 and 20 and second between 7 and 16"
   ]
  },
  {
   "cell_type": "markdown",
   "id": "4705dcb5-f28d-4fc4-b76a-c4ef713b7a9b",
   "metadata": {},
   "source": [
    "## Features Importance"
   ]
  },
  {
   "cell_type": "code",
   "execution_count": null,
   "id": "2e5063ba-0fcb-4eec-a87e-f784a828f4e0",
   "metadata": {},
   "outputs": [],
   "source": [
    "X = df.drop(['id','target'],axis=1)\n",
    "y = df.loc[:,'target']\n",
    "rf = RandomForestRegressor(\n",
    "       n_estimators=1000,\n",
    "       max_depth=7,\n",
    "       n_jobs=-1,\n",
    "       random_state=42)\n",
    "\n",
    "rf.fit(X,y)\n",
    "importances = rf.feature_importances_"
   ]
  },
  {
   "cell_type": "code",
   "execution_count": null,
   "id": "942ff621-e6b5-4703-8841-0e5113e62786",
   "metadata": {},
   "outputs": [],
   "source": [
    "s = pd.Series(importances)\n",
    "selected_features = s.sort_values(ascending=False)[:6]\n",
    "selected_features"
   ]
  },
  {
   "cell_type": "code",
   "execution_count": null,
   "id": "04b14fbf-d5aa-4a31-aa7d-170f0bc6debc",
   "metadata": {},
   "outputs": [],
   "source": [
    "# The names of first 4 features\n",
    "X.columns[selected_features.index]"
   ]
  },
  {
   "cell_type": "code",
   "execution_count": null,
   "id": "e50c6064-c771-4c64-859f-8375348f6d96",
   "metadata": {},
   "outputs": [],
   "source": [
    "X = df_clean.drop(['id','target'], axis=1)\n",
    "y = df_clean.loc[:,'target']\n",
    "rf = RandomForestRegressor(\n",
    "       n_estimators=1000,\n",
    "       max_depth=7,\n",
    "       n_jobs=-1,\n",
    "       random_state=42)\n",
    "\n",
    "rf.fit(X,y)\n",
    "importances = rf.feature_importances_\n",
    "s = pd.Series(importances)\n",
    "selected_features = s.sort_values(ascending=False)[:4]\n",
    "selected_features"
   ]
  },
  {
   "cell_type": "code",
   "execution_count": null,
   "id": "cd64d4ce-b723-47d0-aa8a-95cf38ea1336",
   "metadata": {},
   "outputs": [],
   "source": [
    "# The names of first 4 features\n",
    "X.columns[selected_features.index]"
   ]
  },
  {
   "cell_type": "markdown",
   "id": "54b3a99a-a3e8-40aa-8d23-f12f3eb62f0b",
   "metadata": {},
   "source": [
    "Outliers and the hyperparameters of above operations operate imporatance of these features too much but still I am going to choose 4."
   ]
  },
  {
   "cell_type": "code",
   "execution_count": null,
   "id": "ec3578e1-26e6-4fee-bf1d-1ca8da6b7598",
   "metadata": {},
   "outputs": [],
   "source": [
    "columns_idx = selected_features.index.to_list()\n",
    "columns_idx_x = columns_idx + [15]"
   ]
  },
  {
   "cell_type": "markdown",
   "id": "f68b08ff-d07b-466c-b33b-61aad169cabf",
   "metadata": {},
   "source": [
    "# Clipping"
   ]
  },
  {
   "cell_type": "code",
   "execution_count": null,
   "id": "57847314-d8af-4234-82ce-6a406b6de745",
   "metadata": {},
   "outputs": [],
   "source": [
    "def y_clipped(low, high):\n",
    "    return df_clean.target.clip(low, high)"
   ]
  },
  {
   "cell_type": "code",
   "execution_count": null,
   "id": "068bfd53-a190-4dad-882c-cff6b27fa17d",
   "metadata": {},
   "outputs": [],
   "source": [
    "y_20 = y_clipped(7, 20)\n",
    "y_16 = y_clipped(7, 16)"
   ]
  },
  {
   "cell_type": "code",
   "execution_count": 7,
   "id": "129172ff-3f3d-4efe-ab67-57744df4175d",
   "metadata": {},
   "outputs": [],
   "source": [
    "# TEST CELL\n",
    "\n",
    "# test_with_std(X.iloc[:, columns_idx], y_20, n=7)\n",
    "# test_with_std(X.iloc[:, columns_idx], y_16, n=7)\n",
    "# test_with_std(X.iloc[:, columns_idx_x], y_20, n=7)\n",
    "# test_with_std(X.iloc[:, columns_idx_x], y_16, n=7)"
   ]
  },
  {
   "cell_type": "code",
   "execution_count": null,
   "id": "0d9de4e9-9639-468c-88ca-031d3567f09e",
   "metadata": {},
   "outputs": [],
   "source": [
    "df_sub = df_clean.copy()\n",
    "df_sub[:]=0"
   ]
  },
  {
   "cell_type": "code",
   "execution_count": null,
   "id": "a8992c01-ce41-40c5-b8a2-e3d54f932a71",
   "metadata": {},
   "outputs": [],
   "source": [
    "columns_idxcol"
   ]
  },
  {
   "cell_type": "code",
   "execution_count": null,
   "id": "1f1d0b87-6e22-469c-a071-72c5d59b29d0",
   "metadata": {},
   "outputs": [],
   "source": [
    "col_np = np.array(columns_idx)\n",
    "col_np+2"
   ]
  },
  {
   "cell_type": "code",
   "execution_count": null,
   "id": "e9664c26-a165-4920-8d4e-0d9e767794b6",
   "metadata": {},
   "outputs": [],
   "source": [
    "df_sub.iloc[:, col_np+2] = df_clean.iloc[:,col_np+2]\n",
    "df_sub"
   ]
  },
  {
   "cell_type": "code",
   "execution_count": null,
   "id": "42134309-0d20-4e98-9e35-4e01efc60c87",
   "metadata": {},
   "outputs": [],
   "source": [
    "df_sub.target = y_20"
   ]
  },
  {
   "cell_type": "code",
   "execution_count": null,
   "id": "1d68bf7e-86f7-466f-b87b-88a93359fda5",
   "metadata": {},
   "outputs": [],
   "source": [
    "df_sub.to_csv('subv8_1.csv', index=False)"
   ]
  },
  {
   "cell_type": "code",
   "execution_count": null,
   "id": "29baa125-b124-41be-bc8f-dc03c163a2e3",
   "metadata": {},
   "outputs": [],
   "source": [
    "df_sub.target = y_16\n",
    "df_sub.to_csv('subv8_2.csv', index=False)"
   ]
  },
  {
   "cell_type": "code",
   "execution_count": null,
   "id": "36a2113d-70e5-4510-afe0-88ec5e4fe702",
   "metadata": {},
   "outputs": [],
   "source": [
    "test_with_std(X.iloc[:, columns_idx_x], y_clipped(7, 35), n=5)"
   ]
  },
  {
   "cell_type": "code",
   "execution_count": null,
   "id": "18961cb4-94d0-449e-abf5-b946f33c4b26",
   "metadata": {},
   "outputs": [],
   "source": [
    "sns.lineplot(data=df, x='id',y='target')"
   ]
  },
  {
   "cell_type": "code",
   "execution_count": null,
   "id": "a8f140d1-46cb-4bb9-8c9b-71355b6abe6f",
   "metadata": {},
   "outputs": [],
   "source": [
    "df_sub.target = y_clipped(7, 35)\n",
    "df_sub.to_csv('subv8_3.csv', index=False)"
   ]
  },
  {
   "cell_type": "markdown",
   "id": "fc41f500-4bd4-4e81-8130-fac5541703d4",
   "metadata": {},
   "source": [
    "# Testing"
   ]
  },
  {
   "cell_type": "code",
   "execution_count": null,
   "id": "5192f14b-2d97-4cb7-936e-d36129183510",
   "metadata": {},
   "outputs": [],
   "source": []
  },
  {
   "cell_type": "markdown",
   "id": "3df0f4d8-7510-4294-ae8c-41ca87e91f9d",
   "metadata": {},
   "source": [
    "# Experimental Y Dropping"
   ]
  },
  {
   "cell_type": "code",
   "execution_count": null,
   "id": "b7b88ee1-f232-4ff1-a07f-fdff7628c422",
   "metadata": {},
   "outputs": [],
   "source": []
  },
  {
   "cell_type": "markdown",
   "id": "5d71910f-a570-46f0-a52e-11738eab6680",
   "metadata": {},
   "source": [
    "# Experimental Artihmatic Mean"
   ]
  },
  {
   "cell_type": "code",
   "execution_count": null,
   "id": "32128a1a-eaef-4096-9cf6-16d09b206e7b",
   "metadata": {},
   "outputs": [],
   "source": []
  }
 ],
 "metadata": {
  "kernelspec": {
   "display_name": "Python 3 (ipykernel)",
   "language": "python",
   "name": "python3"
  },
  "language_info": {
   "codemirror_mode": {
    "name": "ipython",
    "version": 3
   },
   "file_extension": ".py",
   "mimetype": "text/x-python",
   "name": "python",
   "nbconvert_exporter": "python",
   "pygments_lexer": "ipython3",
   "version": "3.10.9"
  },
  "toc-autonumbering": true,
  "toc-showtags": false
 },
 "nbformat": 4,
 "nbformat_minor": 5
}
