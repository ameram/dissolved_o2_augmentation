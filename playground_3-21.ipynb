{
 "cells": [
  {
   "cell_type": "code",
   "execution_count": 1,
   "id": "a277b17e-7813-4cc5-9feb-b1173bff92dc",
   "metadata": {},
   "outputs": [],
   "source": [
    "import pandas as pd\n",
    "import numpy as np"
   ]
  },
  {
   "cell_type": "code",
   "execution_count": 2,
   "id": "2d25b36f-055c-42b7-ab3d-b8d2367ea875",
   "metadata": {},
   "outputs": [],
   "source": [
    "import matplotlib.pyplot as plt"
   ]
  },
  {
   "cell_type": "markdown",
   "id": "3d5be428-0c0c-4f5f-a4dc-34f29d99cbb6",
   "metadata": {},
   "source": [
    "# ABOUT THIS NOTEBOOK\n",
    "\n",
    "## Created for Kaggle playground series season 3, episode 21 - 8.26.23\n",
    "## Part I\n",
    "This notebooks will be in two sections 1) EDA and 2) Predictions, first will mostly consist of making plots and cleaning the data. And when the data is ready we can feed to the model to prediction."
   ]
  },
  {
   "cell_type": "code",
   "execution_count": 3,
   "id": "ce951cc2-62c6-4a2f-bfae-02582eb64749",
   "metadata": {},
   "outputs": [],
   "source": [
    "df = pd.read_csv('sample_submission.csv')"
   ]
  },
  {
   "cell_type": "code",
   "execution_count": 4,
   "id": "de873da8-dbce-4cf3-b2f4-b4ab9a2f220d",
   "metadata": {},
   "outputs": [
    {
     "data": {
      "text/html": [
       "<div>\n",
       "<style scoped>\n",
       "    .dataframe tbody tr th:only-of-type {\n",
       "        vertical-align: middle;\n",
       "    }\n",
       "\n",
       "    .dataframe tbody tr th {\n",
       "        vertical-align: top;\n",
       "    }\n",
       "\n",
       "    .dataframe thead th {\n",
       "        text-align: right;\n",
       "    }\n",
       "</style>\n",
       "<table border=\"1\" class=\"dataframe\">\n",
       "  <thead>\n",
       "    <tr style=\"text-align: right;\">\n",
       "      <th></th>\n",
       "      <th>id</th>\n",
       "      <th>target</th>\n",
       "      <th>O2_1</th>\n",
       "      <th>O2_2</th>\n",
       "      <th>O2_3</th>\n",
       "      <th>O2_4</th>\n",
       "      <th>O2_5</th>\n",
       "      <th>O2_6</th>\n",
       "      <th>O2_7</th>\n",
       "      <th>NH4_1</th>\n",
       "      <th>...</th>\n",
       "      <th>NO3_5</th>\n",
       "      <th>NO3_6</th>\n",
       "      <th>NO3_7</th>\n",
       "      <th>BOD5_1</th>\n",
       "      <th>BOD5_2</th>\n",
       "      <th>BOD5_3</th>\n",
       "      <th>BOD5_4</th>\n",
       "      <th>BOD5_5</th>\n",
       "      <th>BOD5_6</th>\n",
       "      <th>BOD5_7</th>\n",
       "    </tr>\n",
       "  </thead>\n",
       "  <tbody>\n",
       "    <tr>\n",
       "      <th>0</th>\n",
       "      <td>0</td>\n",
       "      <td>8.59</td>\n",
       "      <td>7.500</td>\n",
       "      <td>9.00</td>\n",
       "      <td>9.545</td>\n",
       "      <td>9.265</td>\n",
       "      <td>8.110</td>\n",
       "      <td>8.43</td>\n",
       "      <td>7.15</td>\n",
       "      <td>0.180</td>\n",
       "      <td>...</td>\n",
       "      <td>4.95</td>\n",
       "      <td>1.730</td>\n",
       "      <td>1.800</td>\n",
       "      <td>4.800</td>\n",
       "      <td>3.15</td>\n",
       "      <td>10.665</td>\n",
       "      <td>10.465</td>\n",
       "      <td>16.645</td>\n",
       "      <td>5.75</td>\n",
       "      <td>10.37</td>\n",
       "    </tr>\n",
       "    <tr>\n",
       "      <th>1</th>\n",
       "      <td>1</td>\n",
       "      <td>9.10</td>\n",
       "      <td>13.533</td>\n",
       "      <td>40.90</td>\n",
       "      <td>8.770</td>\n",
       "      <td>9.265</td>\n",
       "      <td>6.015</td>\n",
       "      <td>10.07</td>\n",
       "      <td>7.15</td>\n",
       "      <td>1.107</td>\n",
       "      <td>...</td>\n",
       "      <td>20.05</td>\n",
       "      <td>9.530</td>\n",
       "      <td>7.695</td>\n",
       "      <td>4.550</td>\n",
       "      <td>6.95</td>\n",
       "      <td>2.040</td>\n",
       "      <td>5.200</td>\n",
       "      <td>5.725</td>\n",
       "      <td>2.95</td>\n",
       "      <td>2.23</td>\n",
       "    </tr>\n",
       "    <tr>\n",
       "      <th>2</th>\n",
       "      <td>2</td>\n",
       "      <td>8.21</td>\n",
       "      <td>3.710</td>\n",
       "      <td>5.42</td>\n",
       "      <td>8.770</td>\n",
       "      <td>9.265</td>\n",
       "      <td>4.550</td>\n",
       "      <td>10.07</td>\n",
       "      <td>7.15</td>\n",
       "      <td>0.020</td>\n",
       "      <td>...</td>\n",
       "      <td>4.58</td>\n",
       "      <td>3.025</td>\n",
       "      <td>3.960</td>\n",
       "      <td>4.935</td>\n",
       "      <td>4.95</td>\n",
       "      <td>4.725</td>\n",
       "      <td>6.075</td>\n",
       "      <td>6.750</td>\n",
       "      <td>3.50</td>\n",
       "      <td>3.17</td>\n",
       "    </tr>\n",
       "    <tr>\n",
       "      <th>3</th>\n",
       "      <td>3</td>\n",
       "      <td>8.39</td>\n",
       "      <td>8.700</td>\n",
       "      <td>8.10</td>\n",
       "      <td>9.500</td>\n",
       "      <td>9.200</td>\n",
       "      <td>5.200</td>\n",
       "      <td>8.67</td>\n",
       "      <td>6.67</td>\n",
       "      <td>0.280</td>\n",
       "      <td>...</td>\n",
       "      <td>8.45</td>\n",
       "      <td>2.070</td>\n",
       "      <td>1.730</td>\n",
       "      <td>6.300</td>\n",
       "      <td>4.70</td>\n",
       "      <td>3.500</td>\n",
       "      <td>6.200</td>\n",
       "      <td>8.670</td>\n",
       "      <td>2.90</td>\n",
       "      <td>7.37</td>\n",
       "    </tr>\n",
       "    <tr>\n",
       "      <th>4</th>\n",
       "      <td>4</td>\n",
       "      <td>8.07</td>\n",
       "      <td>8.050</td>\n",
       "      <td>8.65</td>\n",
       "      <td>7.960</td>\n",
       "      <td>9.265</td>\n",
       "      <td>3.290</td>\n",
       "      <td>10.07</td>\n",
       "      <td>7.15</td>\n",
       "      <td>0.360</td>\n",
       "      <td>...</td>\n",
       "      <td>2.02</td>\n",
       "      <td>1.730</td>\n",
       "      <td>0.760</td>\n",
       "      <td>4.800</td>\n",
       "      <td>4.97</td>\n",
       "      <td>3.950</td>\n",
       "      <td>2.800</td>\n",
       "      <td>8.400</td>\n",
       "      <td>3.50</td>\n",
       "      <td>3.90</td>\n",
       "    </tr>\n",
       "  </tbody>\n",
       "</table>\n",
       "<p>5 rows × 37 columns</p>\n",
       "</div>"
      ],
      "text/plain": [
       "   id  target    O2_1   O2_2   O2_3   O2_4   O2_5   O2_6  O2_7  NH4_1  ...  \\\n",
       "0   0    8.59   7.500   9.00  9.545  9.265  8.110   8.43  7.15  0.180  ...   \n",
       "1   1    9.10  13.533  40.90  8.770  9.265  6.015  10.07  7.15  1.107  ...   \n",
       "2   2    8.21   3.710   5.42  8.770  9.265  4.550  10.07  7.15  0.020  ...   \n",
       "3   3    8.39   8.700   8.10  9.500  9.200  5.200   8.67  6.67  0.280  ...   \n",
       "4   4    8.07   8.050   8.65  7.960  9.265  3.290  10.07  7.15  0.360  ...   \n",
       "\n",
       "   NO3_5  NO3_6  NO3_7  BOD5_1  BOD5_2  BOD5_3  BOD5_4  BOD5_5  BOD5_6  BOD5_7  \n",
       "0   4.95  1.730  1.800   4.800    3.15  10.665  10.465  16.645    5.75   10.37  \n",
       "1  20.05  9.530  7.695   4.550    6.95   2.040   5.200   5.725    2.95    2.23  \n",
       "2   4.58  3.025  3.960   4.935    4.95   4.725   6.075   6.750    3.50    3.17  \n",
       "3   8.45  2.070  1.730   6.300    4.70   3.500   6.200   8.670    2.90    7.37  \n",
       "4   2.02  1.730  0.760   4.800    4.97   3.950   2.800   8.400    3.50    3.90  \n",
       "\n",
       "[5 rows x 37 columns]"
      ]
     },
     "execution_count": 4,
     "metadata": {},
     "output_type": "execute_result"
    }
   ],
   "source": [
    "df.head()"
   ]
  },
  {
   "cell_type": "code",
   "execution_count": 5,
   "id": "44b0d783-3daa-4b82-a68f-c1c53cdf889c",
   "metadata": {},
   "outputs": [
    {
     "data": {
      "text/plain": [
       "id        False\n",
       "target    False\n",
       "O2_1      False\n",
       "O2_2      False\n",
       "O2_3      False\n",
       "O2_4      False\n",
       "O2_5      False\n",
       "O2_6      False\n",
       "O2_7      False\n",
       "NH4_1     False\n",
       "NH4_2     False\n",
       "NH4_3     False\n",
       "NH4_4     False\n",
       "NH4_5     False\n",
       "NH4_6     False\n",
       "NH4_7     False\n",
       "NO2_1     False\n",
       "NO2_2     False\n",
       "NO2_3     False\n",
       "NO2_4     False\n",
       "NO2_5     False\n",
       "NO2_6     False\n",
       "NO2_7     False\n",
       "NO3_1     False\n",
       "NO3_2     False\n",
       "NO3_3     False\n",
       "NO3_4     False\n",
       "NO3_5     False\n",
       "NO3_6     False\n",
       "NO3_7     False\n",
       "BOD5_1    False\n",
       "BOD5_2    False\n",
       "BOD5_3    False\n",
       "BOD5_4    False\n",
       "BOD5_5    False\n",
       "BOD5_6    False\n",
       "BOD5_7    False\n",
       "dtype: bool"
      ]
     },
     "execution_count": 5,
     "metadata": {},
     "output_type": "execute_result"
    }
   ],
   "source": [
    "df.isna().any()"
   ]
  },
  {
   "cell_type": "markdown",
   "id": "4bb178fc-6bbf-4d6a-9c59-fe00a0ecc23d",
   "metadata": {},
   "source": [
    "OK we don't have any null or na values.\n",
    "\n",
    "### The official kaggle explanation\n",
    "> This is a very different type of challenge! For this challenge, your task is to improve a dataset that is being used to train a random forest model; in other words, your submission will be training data, not predictions. A random forest model will be trained on your submission, used to make predictions, and then those predictions will be used to generate your score.\n",
    "\n",
    "> The dataset for this competition is a synthetic dataset based off of the Dissolved oxygen prediction in river water dataset. You are free to use the original in any way that you find useful.\n",
    "\n",
    "> Please see important information on the Evaluation tab about the model that will be trained on your submitted data.\n",
    "\n",
    "> Good luck!\n",
    "\n",
    "Now we have the current dataset which has only data from 7 stations and it is used to build a random forest model. __So first we need to create a Random Forest to compare the output__ and then augment the data by adding 8th station to df and running it again by the same random forest (or another) to see the differences.\n",
    "\n",
    "Let's create a random forest model."
   ]
  },
  {
   "cell_type": "code",
   "execution_count": 6,
   "id": "2866ab8c-c166-4991-8c5f-ebc71ab6509b",
   "metadata": {},
   "outputs": [],
   "source": [
    "indicators = ['O2', 'NH4', 'NO2', 'NO3', 'BOD5']"
   ]
  },
  {
   "cell_type": "code",
   "execution_count": 7,
   "id": "d887f0fc-edd6-4671-ac3a-b249f1445685",
   "metadata": {},
   "outputs": [],
   "source": [
    "def get_seven_stations(indicator):\n",
    "    col_names = [indicator + '_' + str(i) for i in range(1, 8)]\n",
    "    return col_names"
   ]
  },
  {
   "cell_type": "code",
   "execution_count": 8,
   "id": "e9b44cdf-c564-4a45-abf2-a63751d5fd5f",
   "metadata": {},
   "outputs": [
    {
     "data": {
      "text/plain": [
       "['BOD5_1', 'BOD5_2', 'BOD5_3', 'BOD5_4', 'BOD5_5', 'BOD5_6', 'BOD5_7']"
      ]
     },
     "execution_count": 8,
     "metadata": {},
     "output_type": "execute_result"
    }
   ],
   "source": [
    "get_seven_stations(indicators[4])"
   ]
  },
  {
   "cell_type": "code",
   "execution_count": 9,
   "id": "334402c4-f8db-4215-aa15-f1104d7e9320",
   "metadata": {},
   "outputs": [],
   "source": [
    "oxgen_col = get_seven_stations(indicators[0])"
   ]
  },
  {
   "cell_type": "code",
   "execution_count": 10,
   "id": "df46f11f-c47f-4bbe-905f-be0f3e3f117f",
   "metadata": {},
   "outputs": [
    {
     "data": {
      "text/html": [
       "<div>\n",
       "<style scoped>\n",
       "    .dataframe tbody tr th:only-of-type {\n",
       "        vertical-align: middle;\n",
       "    }\n",
       "\n",
       "    .dataframe tbody tr th {\n",
       "        vertical-align: top;\n",
       "    }\n",
       "\n",
       "    .dataframe thead th {\n",
       "        text-align: right;\n",
       "    }\n",
       "</style>\n",
       "<table border=\"1\" class=\"dataframe\">\n",
       "  <thead>\n",
       "    <tr style=\"text-align: right;\">\n",
       "      <th></th>\n",
       "      <th>O2_1</th>\n",
       "      <th>O2_2</th>\n",
       "      <th>O2_3</th>\n",
       "      <th>O2_4</th>\n",
       "      <th>O2_5</th>\n",
       "      <th>O2_6</th>\n",
       "      <th>O2_7</th>\n",
       "    </tr>\n",
       "  </thead>\n",
       "  <tbody>\n",
       "    <tr>\n",
       "      <th>0</th>\n",
       "      <td>7.500</td>\n",
       "      <td>9.000</td>\n",
       "      <td>9.545</td>\n",
       "      <td>9.265</td>\n",
       "      <td>8.110</td>\n",
       "      <td>8.430</td>\n",
       "      <td>7.150</td>\n",
       "    </tr>\n",
       "    <tr>\n",
       "      <th>1</th>\n",
       "      <td>13.533</td>\n",
       "      <td>40.900</td>\n",
       "      <td>8.770</td>\n",
       "      <td>9.265</td>\n",
       "      <td>6.015</td>\n",
       "      <td>10.070</td>\n",
       "      <td>7.150</td>\n",
       "    </tr>\n",
       "    <tr>\n",
       "      <th>2</th>\n",
       "      <td>3.710</td>\n",
       "      <td>5.420</td>\n",
       "      <td>8.770</td>\n",
       "      <td>9.265</td>\n",
       "      <td>4.550</td>\n",
       "      <td>10.070</td>\n",
       "      <td>7.150</td>\n",
       "    </tr>\n",
       "    <tr>\n",
       "      <th>3</th>\n",
       "      <td>8.700</td>\n",
       "      <td>8.100</td>\n",
       "      <td>9.500</td>\n",
       "      <td>9.200</td>\n",
       "      <td>5.200</td>\n",
       "      <td>8.670</td>\n",
       "      <td>6.670</td>\n",
       "    </tr>\n",
       "    <tr>\n",
       "      <th>4</th>\n",
       "      <td>8.050</td>\n",
       "      <td>8.650</td>\n",
       "      <td>7.960</td>\n",
       "      <td>9.265</td>\n",
       "      <td>3.290</td>\n",
       "      <td>10.070</td>\n",
       "      <td>7.150</td>\n",
       "    </tr>\n",
       "    <tr>\n",
       "      <th>...</th>\n",
       "      <td>...</td>\n",
       "      <td>...</td>\n",
       "      <td>...</td>\n",
       "      <td>...</td>\n",
       "      <td>...</td>\n",
       "      <td>...</td>\n",
       "      <td>...</td>\n",
       "    </tr>\n",
       "    <tr>\n",
       "      <th>3495</th>\n",
       "      <td>6.250</td>\n",
       "      <td>8.300</td>\n",
       "      <td>7.795</td>\n",
       "      <td>9.265</td>\n",
       "      <td>5.690</td>\n",
       "      <td>8.555</td>\n",
       "      <td>6.335</td>\n",
       "    </tr>\n",
       "    <tr>\n",
       "      <th>3496</th>\n",
       "      <td>6.630</td>\n",
       "      <td>6.630</td>\n",
       "      <td>8.370</td>\n",
       "      <td>7.600</td>\n",
       "      <td>0.636</td>\n",
       "      <td>8.430</td>\n",
       "      <td>7.150</td>\n",
       "    </tr>\n",
       "    <tr>\n",
       "      <th>3497</th>\n",
       "      <td>8.367</td>\n",
       "      <td>8.433</td>\n",
       "      <td>8.770</td>\n",
       "      <td>6.170</td>\n",
       "      <td>5.800</td>\n",
       "      <td>10.400</td>\n",
       "      <td>7.200</td>\n",
       "    </tr>\n",
       "    <tr>\n",
       "      <th>3498</th>\n",
       "      <td>10.000</td>\n",
       "      <td>6.630</td>\n",
       "      <td>9.545</td>\n",
       "      <td>9.265</td>\n",
       "      <td>3.290</td>\n",
       "      <td>8.980</td>\n",
       "      <td>2.310</td>\n",
       "    </tr>\n",
       "    <tr>\n",
       "      <th>3499</th>\n",
       "      <td>8.500</td>\n",
       "      <td>8.100</td>\n",
       "      <td>9.545</td>\n",
       "      <td>9.265</td>\n",
       "      <td>8.110</td>\n",
       "      <td>9.805</td>\n",
       "      <td>7.150</td>\n",
       "    </tr>\n",
       "  </tbody>\n",
       "</table>\n",
       "<p>3500 rows × 7 columns</p>\n",
       "</div>"
      ],
      "text/plain": [
       "        O2_1    O2_2   O2_3   O2_4   O2_5    O2_6   O2_7\n",
       "0      7.500   9.000  9.545  9.265  8.110   8.430  7.150\n",
       "1     13.533  40.900  8.770  9.265  6.015  10.070  7.150\n",
       "2      3.710   5.420  8.770  9.265  4.550  10.070  7.150\n",
       "3      8.700   8.100  9.500  9.200  5.200   8.670  6.670\n",
       "4      8.050   8.650  7.960  9.265  3.290  10.070  7.150\n",
       "...      ...     ...    ...    ...    ...     ...    ...\n",
       "3495   6.250   8.300  7.795  9.265  5.690   8.555  6.335\n",
       "3496   6.630   6.630  8.370  7.600  0.636   8.430  7.150\n",
       "3497   8.367   8.433  8.770  6.170  5.800  10.400  7.200\n",
       "3498  10.000   6.630  9.545  9.265  3.290   8.980  2.310\n",
       "3499   8.500   8.100  9.545  9.265  8.110   9.805  7.150\n",
       "\n",
       "[3500 rows x 7 columns]"
      ]
     },
     "execution_count": 10,
     "metadata": {},
     "output_type": "execute_result"
    }
   ],
   "source": [
    "df[oxgen_col]"
   ]
  },
  {
   "cell_type": "code",
   "execution_count": 11,
   "id": "87250301-6ba5-4e51-bd7c-6d83532000a8",
   "metadata": {},
   "outputs": [
    {
     "data": {
      "text/plain": [
       "array([[1.        , 0.20475417],\n",
       "       [0.20475417, 1.        ]])"
      ]
     },
     "execution_count": 11,
     "metadata": {},
     "output_type": "execute_result"
    }
   ],
   "source": [
    "np.corrcoef(df['O2_1'],df['O2_2'])"
   ]
  },
  {
   "cell_type": "code",
   "execution_count": 12,
   "id": "0f667534-2b2e-41ce-84e0-900fcaa53b23",
   "metadata": {},
   "outputs": [],
   "source": [
    "def corr (x,y):\n",
    "    return np.corrcoef(x, y) [0][1]\n",
    "\n",
    "def show_corr(df, a, b):\n",
    "    x,y = df [a], df[b]\n",
    "    plt.scatter (x,y, alpha=0.5, s=4)\n",
    "    plt.title(f'{a} vs {b}; r: {corr (x, y) : .2f}')"
   ]
  },
  {
   "cell_type": "code",
   "execution_count": 13,
   "id": "c5433670-b700-4b85-85cd-403548b6fdb9",
   "metadata": {},
   "outputs": [
    {
     "data": {
      "image/png": "[encoded data removed]",
      "text/plain": [
       "<Figure size 640x480 with 1 Axes>"
      ]
     },
     "metadata": {},
     "output_type": "display_data"
    }
   ],
   "source": [
    "show_corr(df, 'O2_1','O2_3')"
   ]
  },
  {
   "cell_type": "code",
   "execution_count": 14,
   "id": "250aec86-c6f2-49e6-9ec0-42bc8811a36e",
   "metadata": {},
   "outputs": [
    {
     "data": {
      "image/png": "[encoded data removed]",
      "text/plain": [
       "<Figure size 480x480 with 1 Axes>"
      ]
     },
     "metadata": {},
     "output_type": "display_data"
    }
   ],
   "source": [
    "plt.matshow(df.corr())\n",
    "plt.show()"
   ]
  },
  {
   "cell_type": "markdown",
   "id": "53b443e0-ec1e-4d2f-a38c-c3ae75fec5de",
   "metadata": {},
   "source": [
    "I thought maybe there was a correlation between perhaps oxygen and nitrogen dioxide but there aren't any power connections, except for nitrate.\n",
    "\n",
    "Let's check to TODO:\n",
    "\n",
    "- [x] Look at the big picture.\n",
    "- [x] Get the data.\n",
    "- [x] Discover and visualize the data to gain insights.\n",
    "- [ ] Prepare the data for Machine Learning algorithms.\n",
    "- [ ] Select a model and train it.\n",
    "- [ ] Fine-tune your model.\n",
    "- [ ] Present your solution.\n",
    "- [ ] ~~Launch, monitor, and maintain your system.~~"
   ]
  },
  {
   "cell_type": "markdown",
   "id": "ca70a16a-892f-48bf-b52a-d6681587c87b",
   "metadata": {},
   "source": [
    "### NOTE\n",
    "This is part is quite useful, since it was the part where I learnt how to index columns, obviuosly with iloc. I wonder if it is also possible with 'loc'?\n",
    "\n",
    "Another way which I thought up was to select like `df.iloc[:, 0]` and `df.iloc[:, 2:37]` and then add them to a big X df. More info on column based indexing on [Pandas Site](https://pandas.pydata.org/docs/reference/api/pandas.DataFrame.iloc.html)."
   ]
  },
  {
   "cell_type": "code",
   "execution_count": 15,
   "id": "04dd894c-603d-4421-aa1e-8329898b4184",
   "metadata": {},
   "outputs": [],
   "source": [
    "inx = np.ones((37))"
   ]
  },
  {
   "cell_type": "code",
   "execution_count": 16,
   "id": "13494991-3753-4a81-8992-26646e9cbbb6",
   "metadata": {},
   "outputs": [],
   "source": [
    "inx[1] = 0"
   ]
  },
  {
   "cell_type": "code",
   "execution_count": 17,
   "id": "671b7261-8386-42bc-909f-c3fb964c0d7c",
   "metadata": {},
   "outputs": [],
   "source": [
    "x_full = df.iloc[:, inx == True]"
   ]
  },
  {
   "cell_type": "code",
   "execution_count": 18,
   "id": "0df25801-b7f5-432c-bc5e-0249ef5a39a4",
   "metadata": {},
   "outputs": [
    {
     "data": {
      "text/plain": [
       "False"
      ]
     },
     "execution_count": 18,
     "metadata": {},
     "output_type": "execute_result"
    }
   ],
   "source": [
    "y_full = df.iloc[:, 1]\n",
    "y_full.any() != df['target'].any()"
   ]
  },
  {
   "cell_type": "code",
   "execution_count": 19,
   "id": "9588d265-e7c2-4cc5-b0bd-b8724984772d",
   "metadata": {},
   "outputs": [
    {
     "data": {
      "text/plain": [
       "65.93"
      ]
     },
     "execution_count": 19,
     "metadata": {},
     "output_type": "execute_result"
    }
   ],
   "source": [
    "np.max(y_full)"
   ]
  },
  {
   "cell_type": "code",
   "execution_count": 20,
   "id": "851a7538-8a2a-4b2d-906a-4f1b650397c1",
   "metadata": {},
   "outputs": [
    {
     "data": {
      "text/plain": [
       "1.3"
      ]
     },
     "execution_count": 20,
     "metadata": {},
     "output_type": "execute_result"
    }
   ],
   "source": [
    "np.min(y_full)\n",
    "\n",
    "# TODO test normalization"
   ]
  },
  {
   "cell_type": "code",
   "execution_count": 21,
   "id": "20f4e91d-4bb8-4abb-ac1c-017ffcbe2d90",
   "metadata": {},
   "outputs": [],
   "source": [
    "# Splitting the data\n",
    "from sklearn.model_selection import train_test_split\n",
    "\n",
    "x_train, x_test, y_train, y_test = train_test_split(x_full, y_full, test_size=0.2)"
   ]
  },
  {
   "cell_type": "code",
   "execution_count": 86,
   "id": "ad927df9-c88e-4136-b415-225daeccfce8",
   "metadata": {},
   "outputs": [
    {
     "data": {
      "text/html": [
       "<style>#sk-container-id-2 {color: black;background-color: white;}#sk-container-id-2 pre{padding: 0;}#sk-container-id-2 div.sk-toggleable {background-color: white;}#sk-container-id-2 label.sk-toggleable__label {cursor: pointer;display: block;width: 100%;margin-bottom: 0;padding: 0.3em;box-sizing: border-box;text-align: center;}#sk-container-id-2 label.sk-toggleable__label-arrow:before {content: \"▸\";float: left;margin-right: 0.25em;color: #696969;}#sk-container-id-2 label.sk-toggleable__label-arrow:hover:before {color: black;}#sk-container-id-2 div.sk-estimator:hover label.sk-toggleable__label-arrow:before {color: black;}#sk-container-id-2 div.sk-toggleable__content {max-height: 0;max-width: 0;overflow: hidden;text-align: left;background-color: #f0f8ff;}#sk-container-id-2 div.sk-toggleable__content pre {margin: 0.2em;color: black;border-radius: 0.25em;background-color: #f0f8ff;}#sk-container-id-2 input.sk-toggleable__control:checked~div.sk-toggleable__content {max-height: 200px;max-width: 100%;overflow: auto;}#sk-container-id-2 input.sk-toggleable__control:checked~label.sk-toggleable__label-arrow:before {content: \"▾\";}#sk-container-id-2 div.sk-estimator input.sk-toggleable__control:checked~label.sk-toggleable__label {background-color: #d4ebff;}#sk-container-id-2 div.sk-label input.sk-toggleable__control:checked~label.sk-toggleable__label {background-color: #d4ebff;}#sk-container-id-2 input.sk-hidden--visually {border: 0;clip: rect(1px 1px 1px 1px);clip: rect(1px, 1px, 1px, 1px);height: 1px;margin: -1px;overflow: hidden;padding: 0;position: absolute;width: 1px;}#sk-container-id-2 div.sk-estimator {font-family: monospace;background-color: #f0f8ff;border: 1px dotted black;border-radius: 0.25em;box-sizing: border-box;margin-bottom: 0.5em;}#sk-container-id-2 div.sk-estimator:hover {background-color: #d4ebff;}#sk-container-id-2 div.sk-parallel-item::after {content: \"\";width: 100%;border-bottom: 1px solid gray;flex-grow: 1;}#sk-container-id-2 div.sk-label:hover label.sk-toggleable__label {background-color: #d4ebff;}#sk-container-id-2 div.sk-serial::before {content: \"\";position: absolute;border-left: 1px solid gray;box-sizing: border-box;top: 0;bottom: 0;left: 50%;z-index: 0;}#sk-container-id-2 div.sk-serial {display: flex;flex-direction: column;align-items: center;background-color: white;padding-right: 0.2em;padding-left: 0.2em;position: relative;}#sk-container-id-2 div.sk-item {position: relative;z-index: 1;}#sk-container-id-2 div.sk-parallel {display: flex;align-items: stretch;justify-content: center;background-color: white;position: relative;}#sk-container-id-2 div.sk-item::before, #sk-container-id-2 div.sk-parallel-item::before {content: \"\";position: absolute;border-left: 1px solid gray;box-sizing: border-box;top: 0;bottom: 0;left: 50%;z-index: -1;}#sk-container-id-2 div.sk-parallel-item {display: flex;flex-direction: column;z-index: 1;position: relative;background-color: white;}#sk-container-id-2 div.sk-parallel-item:first-child::after {align-self: flex-end;width: 50%;}#sk-container-id-2 div.sk-parallel-item:last-child::after {align-self: flex-start;width: 50%;}#sk-container-id-2 div.sk-parallel-item:only-child::after {width: 0;}#sk-container-id-2 div.sk-dashed-wrapped {border: 1px dashed gray;margin: 0 0.4em 0.5em 0.4em;box-sizing: border-box;padding-bottom: 0.4em;background-color: white;}#sk-container-id-2 div.sk-label label {font-family: monospace;font-weight: bold;display: inline-block;line-height: 1.2em;}#sk-container-id-2 div.sk-label-container {text-align: center;}#sk-container-id-2 div.sk-container {/* jupyter's `normalize.less` sets `[hidden] { display: none; }` but bootstrap.min.css set `[hidden] { display: none !important; }` so we also need the `!important` here to be able to override the default hidden behavior on the sphinx rendered scikit-learn.org. See: https://github.com/scikit-learn/scikit-learn/issues/21755 */display: inline-block !important;position: relative;}#sk-container-id-2 div.sk-text-repr-fallback {display: none;}</style><div id=\"sk-container-id-2\" class=\"sk-top-container\"><div class=\"sk-text-repr-fallback\"><pre>RandomForestRegressor(max_depth=7, n_estimators=1000, n_jobs=-1,\n",
       "                      random_state=42)</pre><b>In a Jupyter environment, please rerun this cell to show the HTML representation or trust the notebook. <br />On GitHub, the HTML representation is unable to render, please try loading this page with nbviewer.org.</b></div><div class=\"sk-container\" hidden><div class=\"sk-item\"><div class=\"sk-estimator sk-toggleable\"><input class=\"sk-toggleable__control sk-hidden--visually\" id=\"sk-estimator-id-2\" type=\"checkbox\" checked><label for=\"sk-estimator-id-2\" class=\"sk-toggleable__label sk-toggleable__label-arrow\">RandomForestRegressor</label><div class=\"sk-toggleable__content\"><pre>RandomForestRegressor(max_depth=7, n_estimators=1000, n_jobs=-1,\n",
       "                      random_state=42)</pre></div></div></div></div></div>"
      ],
      "text/plain": [
       "RandomForestRegressor(max_depth=7, n_estimators=1000, n_jobs=-1,\n",
       "                      random_state=42)"
      ]
     },
     "execution_count": 86,
     "metadata": {},
     "output_type": "execute_result"
    }
   ],
   "source": [
    "from sklearn.ensemble import RandomForestRegressor\n",
    "\n",
    "rf = RandomForestRegressor(\n",
    "       n_estimators=1000,\n",
    "       max_depth=7,\n",
    "       n_jobs=-1,\n",
    "       random_state=42)\n",
    "\n",
    "rf.fit(x_train, y_train)"
   ]
  },
  {
   "cell_type": "code",
   "execution_count": 88,
   "id": "680366ba-c4a4-45f6-a003-a089d753a607",
   "metadata": {},
   "outputs": [
    {
     "name": "stdout",
     "output_type": "stream",
     "text": [
      "MSE for training dataset [1] is: 0.9151989353368198\n",
      "MSE for test dataset [1] is: 1.4183081616612727\n",
      "\n",
      "MSE for training dataset [2] is: 0.7208618594721672\n",
      "MSE for test dataset [2] is: 5.279086094373523\n",
      "\n",
      "MSE for training dataset [3] is: 0.6982857903096786\n",
      "MSE for test dataset [3] is: 6.36036828282298\n",
      "\n",
      "MSE for training dataset [4] is: 0.6861227958016543\n",
      "MSE for test dataset [4] is: 6.304503296267733\n",
      "\n",
      "MSE for training dataset [5] is: 0.6819109989172119\n",
      "MSE for test dataset [5] is: 6.224094464318788\n",
      "\n"
     ]
    }
   ],
   "source": [
    "from sklearn.metrics import mean_squared_error\n",
    "\n",
    "for i in range(0, 5):\n",
    "    x_train, x_test, y_train, y_test = train_test_split(x_full, y_full, test_size=0.2)\n",
    "    \n",
    "    rf = RandomForestRegressor(\n",
    "       n_estimators=1000,\n",
    "       max_depth=7,\n",
    "       n_jobs=-1,\n",
    "       random_state=42)\n",
    "\n",
    "    rf.fit(x_train, y_train)\n",
    "\n",
    "    rf_preds_train = rf.predict(x_train)\n",
    "    rf_preds = rf.predict(x_test)\n",
    "    mse_train = mean_squared_error(y_train, rf_preds_train)\n",
    "    mse_test = mean_squared_error(y_test, rf_preds)\n",
    "\n",
    "    print(f'MSE for training dataset [{i+1}] is: {mse_train}')\n",
    "    print(f'MSE for test dataset [{i+1}] is: {mse_test}\\n')"
   ]
  },
  {
   "cell_type": "markdown",
   "id": "14ab75d0-f36f-47d2-9800-41f3be505750",
   "metadata": {},
   "source": [
    "MSE for training dataset [1] is: 0.8866603327584299\n",
    "MSE for test dataset [1] is: 1.5932736251233603\n",
    "\n",
    "MSE for training dataset [2] is: 0.9360571125125997\n",
    "MSE for test dataset [2] is: 1.1064419699076584\n",
    "\n",
    "MSE for training dataset [3] is: 0.9078948819808679\n",
    "MSE for test dataset [3] is: 1.276288024059143\n",
    "\n",
    "MSE for training dataset [4] is: 0.9498894585142702\n",
    "MSE for test dataset [4] is: 0.9498135555848811\n",
    "\n",
    "MSE for training dataset [5] is: 0.7531009828761299\n",
    "MSE for test dataset [5] is: 4.975854847543697\n",
    "\n",
    "\n",
    "Error for training set is fairly the same in all 5 distributions of data, but MSE for test data set varys a lot."
   ]
  },
  {
   "cell_type": "code",
   "execution_count": 89,
   "id": "b12547de-04a3-44cb-aee2-3c402ab1f902",
   "metadata": {},
   "outputs": [
    {
     "data": {
      "text/plain": [
       "True"
      ]
     },
     "execution_count": 89,
     "metadata": {},
     "output_type": "execute_result"
    }
   ],
   "source": [
    "len(y_test) == len(rf_preds)"
   ]
  },
  {
   "cell_type": "code",
   "execution_count": 90,
   "id": "2ba75f6f-4f92-4e83-87b4-29e69b6e6256",
   "metadata": {},
   "outputs": [
    {
     "data": {
      "text/plain": [
       "2866    1.801984\n",
       "605     2.549054\n",
       "1437    0.896783\n",
       "3055    1.115724\n",
       "1773    0.001120\n",
       "          ...   \n",
       "74      0.068898\n",
       "323     7.894138\n",
       "2851    7.455423\n",
       "3355    0.151062\n",
       "2380    0.001516\n",
       "Name: target, Length: 700, dtype: float64"
      ]
     },
     "execution_count": 90,
     "metadata": {},
     "output_type": "execute_result"
    }
   ],
   "source": [
    "err_values = []\n",
    "\n",
    "for i in y_test:\n",
    "    err = (y_test - rf_preds) ** 2\n",
    "    err_values.append(err)\n",
    "err"
   ]
  },
  {
   "cell_type": "code",
   "execution_count": 91,
   "id": "954e4617-6622-4224-b4da-be8d914e4d9b",
   "metadata": {},
   "outputs": [],
   "source": [
    "imporatnces = rf.feature_importances_"
   ]
  },
  {
   "cell_type": "code",
   "execution_count": 92,
   "id": "2043b7c6-eb19-40cc-9326-6322d5adb656",
   "metadata": {},
   "outputs": [
    {
     "data": {
      "text/plain": [
       "36"
      ]
     },
     "execution_count": 92,
     "metadata": {},
     "output_type": "execute_result"
    }
   ],
   "source": [
    "len(imporatnces)"
   ]
  },
  {
   "cell_type": "code",
   "execution_count": 93,
   "id": "aea807e2-178f-40e1-a90c-eef5335fe80f",
   "metadata": {},
   "outputs": [
    {
     "data": {
      "text/plain": [
       "([<matplotlib.axis.XTick at 0x7fec1b2573a0>,\n",
       "  <matplotlib.axis.XTick at 0x7fec1b257370>,\n",
       "  <matplotlib.axis.XTick at 0x7fec1b2572e0>,\n",
       "  <matplotlib.axis.XTick at 0x7fec1b7ff9d0>,\n",
       "  <matplotlib.axis.XTick at 0x7fec1b7f44c0>,\n",
       "  <matplotlib.axis.XTick at 0x7fec1b7ff280>,\n",
       "  <matplotlib.axis.XTick at 0x7fec1b7f5360>,\n",
       "  <matplotlib.axis.XTick at 0x7fec1b7f5e10>,\n",
       "  <matplotlib.axis.XTick at 0x7fec1b7f68c0>,\n",
       "  <matplotlib.axis.XTick at 0x7fec1b7f7370>,\n",
       "  <matplotlib.axis.XTick at 0x7fec1b7f5750>,\n",
       "  <matplotlib.axis.XTick at 0x7fec1b7f7d90>,\n",
       "  <matplotlib.axis.XTick at 0x7fec1b85c880>,\n",
       "  <matplotlib.axis.XTick at 0x7fec1b85d330>,\n",
       "  <matplotlib.axis.XTick at 0x7fec1b85dde0>,\n",
       "  <matplotlib.axis.XTick at 0x7fec1b7fd210>,\n",
       "  <matplotlib.axis.XTick at 0x7fec1b85dff0>,\n",
       "  <matplotlib.axis.XTick at 0x7fec1b85eaa0>,\n",
       "  <matplotlib.axis.XTick at 0x7fec1b85f550>,\n",
       "  <matplotlib.axis.XTick at 0x7fec1b85fca0>,\n",
       "  <matplotlib.axis.XTick at 0x7fec1b85d5a0>,\n",
       "  <matplotlib.axis.XTick at 0x7fec1b878790>,\n",
       "  <matplotlib.axis.XTick at 0x7fec1b879240>,\n",
       "  <matplotlib.axis.XTick at 0x7fec1b879cf0>,\n",
       "  <matplotlib.axis.XTick at 0x7fec1b85fa90>,\n",
       "  <matplotlib.axis.XTick at 0x7fec1b87a620>,\n",
       "  <matplotlib.axis.XTick at 0x7fec1b87b0d0>,\n",
       "  <matplotlib.axis.XTick at 0x7fec1b87bb80>,\n",
       "  <matplotlib.axis.XTick at 0x7fec1abc4670>,\n",
       "  <matplotlib.axis.XTick at 0x7fec1b87aa10>,\n",
       "  <matplotlib.axis.XTick at 0x7fec1abc5090>,\n",
       "  <matplotlib.axis.XTick at 0x7fec1abc5b40>,\n",
       "  <matplotlib.axis.XTick at 0x7fec1abc65f0>,\n",
       "  <matplotlib.axis.XTick at 0x7fec1abc70a0>,\n",
       "  <matplotlib.axis.XTick at 0x7fec1abc5f90>,\n",
       "  <matplotlib.axis.XTick at 0x7fec1abc79a0>],\n",
       " [Text(0, 0, '0'),\n",
       "  Text(1, 0, '1'),\n",
       "  Text(2, 0, '2'),\n",
       "  Text(3, 0, '3'),\n",
       "  Text(4, 0, '4'),\n",
       "  Text(5, 0, '5'),\n",
       "  Text(6, 0, '6'),\n",
       "  Text(7, 0, '7'),\n",
       "  Text(8, 0, '8'),\n",
       "  Text(9, 0, '9'),\n",
       "  Text(10, 0, '10'),\n",
       "  Text(11, 0, '11'),\n",
       "  Text(12, 0, '12'),\n",
       "  Text(13, 0, '13'),\n",
       "  Text(14, 0, '14'),\n",
       "  Text(15, 0, '15'),\n",
       "  Text(16, 0, '16'),\n",
       "  Text(17, 0, '17'),\n",
       "  Text(18, 0, '18'),\n",
       "  Text(19, 0, '19'),\n",
       "  Text(20, 0, '20'),\n",
       "  Text(21, 0, '21'),\n",
       "  Text(22, 0, '22'),\n",
       "  Text(23, 0, '23'),\n",
       "  Text(24, 0, '24'),\n",
       "  Text(25, 0, '25'),\n",
       "  Text(26, 0, '26'),\n",
       "  Text(27, 0, '27'),\n",
       "  Text(28, 0, '28'),\n",
       "  Text(29, 0, '29'),\n",
       "  Text(30, 0, '30'),\n",
       "  Text(31, 0, '31'),\n",
       "  Text(32, 0, '32'),\n",
       "  Text(33, 0, '33'),\n",
       "  Text(34, 0, '34'),\n",
       "  Text(35, 0, '35')])"
      ]
     },
     "execution_count": 93,
     "metadata": {},
     "output_type": "execute_result"
    },
    {
     "data": {
      "image/png": "[encoded data removed]",
      "text/plain": [
       "<Figure size 1900x700 with 1 Axes>"
      ]
     },
     "metadata": {},
     "output_type": "display_data"
    }
   ],
   "source": [
    "from matplotlib.pyplot import figure\n",
    "figure(figsize=(19, 7))\n",
    "plt.plot(imporatnces)\n",
    "plt.xticks(np.arange(0, 36, step=1))"
   ]
  },
  {
   "cell_type": "markdown",
   "id": "aaac115f-eeb0-43fb-a9fc-52b8223e1da2",
   "metadata": {},
   "source": [
    "So the most importance columns are 2, 3, 34. Let's see what are these?"
   ]
  },
  {
   "cell_type": "code",
   "execution_count": 94,
   "id": "6d9b1d39-46bf-4f62-8eaf-9f773bcc25ba",
   "metadata": {},
   "outputs": [],
   "source": [
    "imporatnces = pd.Series(imporatnces)"
   ]
  },
  {
   "cell_type": "code",
   "execution_count": 95,
   "id": "e988f481-83aa-4c49-9cb6-ea4d2b719a7f",
   "metadata": {},
   "outputs": [],
   "source": [
    "imporatnces.sort_values(ascending=False, inplace=True)"
   ]
  },
  {
   "cell_type": "code",
   "execution_count": 96,
   "id": "0879ebef-e45e-4b2a-9547-df17e9b12723",
   "metadata": {},
   "outputs": [
    {
     "data": {
      "text/plain": [
       "1     0.656002\n",
       "33    0.112550\n",
       "2     0.045424\n",
       "dtype: float64"
      ]
     },
     "execution_count": 96,
     "metadata": {},
     "output_type": "execute_result"
    }
   ],
   "source": [
    "imporatnces[imporatnces > imporatnces.mean()]"
   ]
  },
  {
   "cell_type": "code",
   "execution_count": 32,
   "id": "f0e4a52b-8a3a-4f32-837a-de178791c788",
   "metadata": {},
   "outputs": [
    {
     "data": {
      "text/plain": [
       "Index(['O2_2', 'O2_3', 'BOD5_6'], dtype='object')"
      ]
     },
     "execution_count": 32,
     "metadata": {},
     "output_type": "execute_result"
    }
   ],
   "source": [
    "x_full.columns[[2, 3, 34]]"
   ]
  },
  {
   "cell_type": "markdown",
   "id": "4bf98216-21ea-402a-ae58-2c0c5e225a9d",
   "metadata": {
    "tags": []
   },
   "source": [
    "## Part II\n",
    "\n",
    "Now I am going to train a Random Forest Regresson with only these three features and let's see how much MSE goes up? This will help to realize the real loss or lack of it by other feautres, maybe we could also combine other features imporatnce and compare but this is more fun."
   ]
  },
  {
   "cell_type": "markdown",
   "id": "d586d311-428c-4dc9-bc91-8838fb00fddf",
   "metadata": {
    "jp-MarkdownHeadingCollapsed": true,
    "tags": []
   },
   "source": [
    "### 5 Features"
   ]
  },
  {
   "cell_type": "code",
   "execution_count": 33,
   "id": "85f9e33e-d43b-41df-b8e9-b2c661c085b3",
   "metadata": {},
   "outputs": [],
   "source": [
    "minimal_train_data = []\n",
    "minimal_test_data = []\n",
    "\n",
    "for i in range(3, 18):\n",
    "    minimal_inx = np.zeros_like(x_train.columns)\n",
    "    minimal_inx[imporatnces[:i].index] = 1\n",
    "    minimal_inx = minimal_inx == 1\n",
    "    minimal_train_data.append(x_train.iloc[:, minimal_inx])\n",
    "    minimal_test_data.append(x_test.iloc[:, minimal_inx])"
   ]
  },
  {
   "cell_type": "code",
   "execution_count": 34,
   "id": "391daf0a-71d5-4ac2-80ac-cb8aa537e9a9",
   "metadata": {},
   "outputs": [
    {
     "name": "stdout",
     "output_type": "stream",
     "text": [
      "For the 3 features the mse is: 1.1878300246751523\n",
      "Compare to 36 features mse it is: \n",
      "0.1349816167534199\n",
      "\n",
      "For the 4 features the mse is: 1.1770959906579583\n",
      "Compare to 36 features mse it is: \n",
      "0.14571565077061388\n",
      "\n",
      "For the 5 features the mse is: 1.1590961025967794\n",
      "Compare to 36 features mse it is: \n",
      "0.1637155388317928\n",
      "\n",
      "For the 6 features the mse is: 1.148240438822547\n",
      "Compare to 36 features mse it is: \n",
      "0.17457120260602532\n",
      "\n",
      "For the 7 features the mse is: 1.1662657445668452\n",
      "Compare to 36 features mse it is: \n",
      "0.15654589686172704\n",
      "\n",
      "For the 8 features the mse is: 1.163393580959628\n",
      "Compare to 36 features mse it is: \n",
      "0.15941806046894413\n",
      "\n",
      "For the 9 features the mse is: 1.1577275767034618\n",
      "Compare to 36 features mse it is: \n",
      "0.1650840647251104\n",
      "\n",
      "For the 10 features the mse is: 1.15773274612417\n",
      "Compare to 36 features mse it is: \n",
      "0.16507889530440223\n",
      "\n",
      "For the 11 features the mse is: 1.1472373205941857\n",
      "Compare to 36 features mse it is: \n",
      "0.1755743208343865\n",
      "\n",
      "For the 12 features the mse is: 1.1438388598226787\n",
      "Compare to 36 features mse it is: \n",
      "0.17897278160589347\n",
      "\n",
      "For the 13 features the mse is: 1.1431248186131875\n",
      "Compare to 36 features mse it is: \n",
      "0.17968682281538473\n",
      "\n",
      "For the 14 features the mse is: 1.1420673165961923\n",
      "Compare to 36 features mse it is: \n",
      "0.1807443248323799\n",
      "\n",
      "For the 15 features the mse is: 1.1483978192756008\n",
      "Compare to 36 features mse it is: \n",
      "0.1744138221529714\n",
      "\n",
      "For the 16 features the mse is: 1.1426329995351778\n",
      "Compare to 36 features mse it is: \n",
      "0.1801786418933944\n",
      "\n",
      "For the 17 features the mse is: 1.1422746296536255\n",
      "Compare to 36 features mse it is: \n",
      "0.18053701177494674\n",
      "\n"
     ]
    }
   ],
   "source": [
    "all_features_mse = 1.3228116414285722\n",
    "\n",
    "\n",
    "for i in range(0, len(minimal_test_data)):\n",
    "    minimal_rf = RandomForestRegressor(\n",
    "       n_estimators=1000,\n",
    "       max_depth=7,\n",
    "       n_jobs=-1,\n",
    "       random_state=42)\n",
    "    \n",
    "    \n",
    "    minimal_rf.fit(minimal_train_data[i], y_train)\n",
    "    minimal_preds = minimal_rf.predict(minimal_test_data[i])\n",
    "    mse = mean_squared_error(y_test, minimal_preds)\n",
    "    print(f'For the {i+3} features the mse is: {mse}')\n",
    "    print(f'Compare to 36 features mse it is: ')\n",
    "    print(f'{(all_features_mse-mse)}\\n')"
   ]
  },
  {
   "cell_type": "markdown",
   "id": "e35bb8ce-6466-4712-8551-37c173143113",
   "metadata": {
    "tags": []
   },
   "source": [
    "OK the 36 features version of model had a mse of 1.3228116414285722 and the new (minimal) model has only 1.3232833197493163, only 4 ten-thousandth for 33 extra features. The sweet spot is around 10 features but other than that it would be 5 and 3 features.\n",
    "\n",
    "### Checking for Outliers"
   ]
  },
  {
   "cell_type": "code",
   "execution_count": 35,
   "id": "5eb9b12e-aef9-4b02-a19c-fd1c6d7b6f3d",
   "metadata": {},
   "outputs": [],
   "source": [
    "# 5 features\n",
    "\n",
    "minimal_inx = np.zeros_like(x_train.columns)\n",
    "minimal_inx[imporatnces[:5].index] = 1\n",
    "minimal_inx = minimal_inx == 1\n",
    "five_f = x_train.iloc[:, minimal_inx]"
   ]
  },
  {
   "cell_type": "code",
   "execution_count": 36,
   "id": "d541ef84-2c20-45ca-80b0-fc9510bfe552",
   "metadata": {},
   "outputs": [
    {
     "data": {
      "text/html": [
       "<div>\n",
       "<style scoped>\n",
       "    .dataframe tbody tr th:only-of-type {\n",
       "        vertical-align: middle;\n",
       "    }\n",
       "\n",
       "    .dataframe tbody tr th {\n",
       "        vertical-align: top;\n",
       "    }\n",
       "\n",
       "    .dataframe thead th {\n",
       "        text-align: right;\n",
       "    }\n",
       "</style>\n",
       "<table border=\"1\" class=\"dataframe\">\n",
       "  <thead>\n",
       "    <tr style=\"text-align: right;\">\n",
       "      <th></th>\n",
       "      <th>O2_1</th>\n",
       "      <th>O2_2</th>\n",
       "      <th>NH4_6</th>\n",
       "      <th>NO3_6</th>\n",
       "      <th>BOD5_5</th>\n",
       "    </tr>\n",
       "  </thead>\n",
       "  <tbody>\n",
       "    <tr>\n",
       "      <th>824</th>\n",
       "      <td>7.700</td>\n",
       "      <td>8.900</td>\n",
       "      <td>0.380</td>\n",
       "      <td>1.730</td>\n",
       "      <td>8.415</td>\n",
       "    </tr>\n",
       "    <tr>\n",
       "      <th>931</th>\n",
       "      <td>7.933</td>\n",
       "      <td>8.933</td>\n",
       "      <td>0.280</td>\n",
       "      <td>1.440</td>\n",
       "      <td>5.840</td>\n",
       "    </tr>\n",
       "    <tr>\n",
       "      <th>2101</th>\n",
       "      <td>7.100</td>\n",
       "      <td>7.750</td>\n",
       "      <td>0.370</td>\n",
       "      <td>1.730</td>\n",
       "      <td>30.725</td>\n",
       "    </tr>\n",
       "    <tr>\n",
       "      <th>3341</th>\n",
       "      <td>9.700</td>\n",
       "      <td>8.100</td>\n",
       "      <td>1.285</td>\n",
       "      <td>2.020</td>\n",
       "      <td>8.415</td>\n",
       "    </tr>\n",
       "    <tr>\n",
       "      <th>3209</th>\n",
       "      <td>9.400</td>\n",
       "      <td>8.200</td>\n",
       "      <td>0.280</td>\n",
       "      <td>9.530</td>\n",
       "      <td>8.400</td>\n",
       "    </tr>\n",
       "    <tr>\n",
       "      <th>...</th>\n",
       "      <td>...</td>\n",
       "      <td>...</td>\n",
       "      <td>...</td>\n",
       "      <td>...</td>\n",
       "      <td>...</td>\n",
       "    </tr>\n",
       "    <tr>\n",
       "      <th>174</th>\n",
       "      <td>8.200</td>\n",
       "      <td>8.900</td>\n",
       "      <td>0.280</td>\n",
       "      <td>2.074</td>\n",
       "      <td>8.415</td>\n",
       "    </tr>\n",
       "    <tr>\n",
       "      <th>2078</th>\n",
       "      <td>7.300</td>\n",
       "      <td>8.100</td>\n",
       "      <td>0.380</td>\n",
       "      <td>1.730</td>\n",
       "      <td>6.750</td>\n",
       "    </tr>\n",
       "    <tr>\n",
       "      <th>2781</th>\n",
       "      <td>7.500</td>\n",
       "      <td>8.900</td>\n",
       "      <td>0.380</td>\n",
       "      <td>1.730</td>\n",
       "      <td>7.055</td>\n",
       "    </tr>\n",
       "    <tr>\n",
       "      <th>558</th>\n",
       "      <td>7.250</td>\n",
       "      <td>7.650</td>\n",
       "      <td>0.429</td>\n",
       "      <td>3.730</td>\n",
       "      <td>5.200</td>\n",
       "    </tr>\n",
       "    <tr>\n",
       "      <th>1233</th>\n",
       "      <td>9.400</td>\n",
       "      <td>7.400</td>\n",
       "      <td>0.310</td>\n",
       "      <td>5.070</td>\n",
       "      <td>6.750</td>\n",
       "    </tr>\n",
       "  </tbody>\n",
       "</table>\n",
       "<p>2800 rows × 5 columns</p>\n",
       "</div>"
      ],
      "text/plain": [
       "       O2_1   O2_2  NH4_6  NO3_6  BOD5_5\n",
       "824   7.700  8.900  0.380  1.730   8.415\n",
       "931   7.933  8.933  0.280  1.440   5.840\n",
       "2101  7.100  7.750  0.370  1.730  30.725\n",
       "3341  9.700  8.100  1.285  2.020   8.415\n",
       "3209  9.400  8.200  0.280  9.530   8.400\n",
       "...     ...    ...    ...    ...     ...\n",
       "174   8.200  8.900  0.280  2.074   8.415\n",
       "2078  7.300  8.100  0.380  1.730   6.750\n",
       "2781  7.500  8.900  0.380  1.730   7.055\n",
       "558   7.250  7.650  0.429  3.730   5.200\n",
       "1233  9.400  7.400  0.310  5.070   6.750\n",
       "\n",
       "[2800 rows x 5 columns]"
      ]
     },
     "execution_count": 36,
     "metadata": {},
     "output_type": "execute_result"
    }
   ],
   "source": [
    "five_f"
   ]
  },
  {
   "cell_type": "code",
   "execution_count": 37,
   "id": "1da9105e-ea8a-4765-a75e-c489c326b974",
   "metadata": {},
   "outputs": [
    {
     "data": {
      "image/png": "[encoded data removed]",
      "text/plain": [
       "<Figure size 480x480 with 1 Axes>"
      ]
     },
     "metadata": {},
     "output_type": "display_data"
    }
   ],
   "source": [
    "plt.matshow(five_f.corr(), cmap='gray_r')\n",
    "plt.show()"
   ]
  },
  {
   "cell_type": "code",
   "execution_count": 38,
   "id": "823918e6-a66c-44fb-916a-3d9c7f352261",
   "metadata": {},
   "outputs": [
    {
     "data": {
      "text/html": [
       "<div>\n",
       "<style scoped>\n",
       "    .dataframe tbody tr th:only-of-type {\n",
       "        vertical-align: middle;\n",
       "    }\n",
       "\n",
       "    .dataframe tbody tr th {\n",
       "        vertical-align: top;\n",
       "    }\n",
       "\n",
       "    .dataframe thead th {\n",
       "        text-align: right;\n",
       "    }\n",
       "</style>\n",
       "<table border=\"1\" class=\"dataframe\">\n",
       "  <thead>\n",
       "    <tr style=\"text-align: right;\">\n",
       "      <th></th>\n",
       "      <th>O2_1</th>\n",
       "      <th>O2_2</th>\n",
       "      <th>NH4_6</th>\n",
       "      <th>NO3_6</th>\n",
       "      <th>BOD5_5</th>\n",
       "    </tr>\n",
       "  </thead>\n",
       "  <tbody>\n",
       "    <tr>\n",
       "      <th>count</th>\n",
       "      <td>2800.000000</td>\n",
       "      <td>2800.000000</td>\n",
       "      <td>2800.000000</td>\n",
       "      <td>2800.000000</td>\n",
       "      <td>2800.000000</td>\n",
       "    </tr>\n",
       "    <tr>\n",
       "      <th>mean</th>\n",
       "      <td>8.186012</td>\n",
       "      <td>9.311615</td>\n",
       "      <td>0.468977</td>\n",
       "      <td>3.047607</td>\n",
       "      <td>7.758877</td>\n",
       "    </tr>\n",
       "    <tr>\n",
       "      <th>std</th>\n",
       "      <td>2.866504</td>\n",
       "      <td>6.882540</td>\n",
       "      <td>0.314958</td>\n",
       "      <td>2.963170</td>\n",
       "      <td>3.396840</td>\n",
       "    </tr>\n",
       "    <tr>\n",
       "      <th>min</th>\n",
       "      <td>0.000000</td>\n",
       "      <td>0.000000</td>\n",
       "      <td>0.052000</td>\n",
       "      <td>0.011000</td>\n",
       "      <td>2.020000</td>\n",
       "    </tr>\n",
       "    <tr>\n",
       "      <th>25%</th>\n",
       "      <td>7.100000</td>\n",
       "      <td>7.300000</td>\n",
       "      <td>0.310000</td>\n",
       "      <td>1.420000</td>\n",
       "      <td>5.725000</td>\n",
       "    </tr>\n",
       "    <tr>\n",
       "      <th>50%</th>\n",
       "      <td>7.800000</td>\n",
       "      <td>8.300000</td>\n",
       "      <td>0.380000</td>\n",
       "      <td>1.730000</td>\n",
       "      <td>7.400000</td>\n",
       "    </tr>\n",
       "    <tr>\n",
       "      <th>75%</th>\n",
       "      <td>9.100000</td>\n",
       "      <td>8.700000</td>\n",
       "      <td>0.429000</td>\n",
       "      <td>3.500000</td>\n",
       "      <td>8.400000</td>\n",
       "    </tr>\n",
       "    <tr>\n",
       "      <th>max</th>\n",
       "      <td>46.950000</td>\n",
       "      <td>65.950000</td>\n",
       "      <td>2.680000</td>\n",
       "      <td>19.355000</td>\n",
       "      <td>56.950000</td>\n",
       "    </tr>\n",
       "  </tbody>\n",
       "</table>\n",
       "</div>"
      ],
      "text/plain": [
       "              O2_1         O2_2        NH4_6        NO3_6       BOD5_5\n",
       "count  2800.000000  2800.000000  2800.000000  2800.000000  2800.000000\n",
       "mean      8.186012     9.311615     0.468977     3.047607     7.758877\n",
       "std       2.866504     6.882540     0.314958     2.963170     3.396840\n",
       "min       0.000000     0.000000     0.052000     0.011000     2.020000\n",
       "25%       7.100000     7.300000     0.310000     1.420000     5.725000\n",
       "50%       7.800000     8.300000     0.380000     1.730000     7.400000\n",
       "75%       9.100000     8.700000     0.429000     3.500000     8.400000\n",
       "max      46.950000    65.950000     2.680000    19.355000    56.950000"
      ]
     },
     "execution_count": 38,
     "metadata": {},
     "output_type": "execute_result"
    }
   ],
   "source": [
    "five_f.describe()"
   ]
  },
  {
   "cell_type": "markdown",
   "id": "ad9f2b23-d846-4707-a009-4bba7b051b1e",
   "metadata": {},
   "source": [
    "OK there are some jarring outliers, maybe let's get the ratio of how much data is outside of the IQR?"
   ]
  },
  {
   "cell_type": "code",
   "execution_count": 45,
   "id": "37e4c99a-1994-45f1-946f-f6709a2cfafa",
   "metadata": {},
   "outputs": [],
   "source": [
    "# O21_cutoff = (five_f['O2_1'].quantile(0.9))\n",
    "# O22_cutoff = (five_f['O2_2'].quantile(0.9))\n",
    "# NH4_cutoff = (five_f['NH4_6'].quantile(0.9))\n",
    "# NO3_cutoff = (five_f['NO3_6'].quantile(0.9))\n",
    "# BOD5_cutoff = (five_f['BOD5_5'].quantile(0.9))\n",
    "\n",
    "# # Clip the last 10 percentiles\n",
    "\n",
    "# # TODO test normalization"
   ]
  },
  {
   "cell_type": "code",
   "execution_count": 47,
   "id": "d5994044-48c2-480e-99d1-b33858dfb038",
   "metadata": {},
   "outputs": [],
   "source": [
    "# print(len(five_f[five_f['O2_1'] <= O21_cutoff])/len(five_f)* 100)\n",
    "# print(len(five_f[five_f['O2_2'] <= O22_cutoff])/len(five_f)* 100)\n",
    "# print(len(five_f[five_f['NH4_6'] <= NH4_cutoff])/len(five_f)* 100)\n",
    "# print(len(five_f[five_f['NO2_2'] <= NO2_cutoff])/len(five_f)* 100)\n",
    "# print(len(five_f[five_f['BOD5_5'] <= BOD5_cutoff])/len(five_f)* 100)"
   ]
  },
  {
   "cell_type": "code",
   "execution_count": 48,
   "id": "dacc4b7e-cab4-4286-b435-da19cb2b17ac",
   "metadata": {},
   "outputs": [],
   "source": [
    "five_f = five_f.copy()"
   ]
  },
  {
   "cell_type": "markdown",
   "id": "75628eb1-4c83-40a1-82ff-4c3ccfad1f28",
   "metadata": {},
   "source": [
    "I don't think this kind of mechanical cut off would be beneficial for anything except for NH4_5 and NO2_2"
   ]
  },
  {
   "cell_type": "code",
   "execution_count": 49,
   "id": "6abb8f0f-96a4-45a4-82d9-9f811355ef21",
   "metadata": {},
   "outputs": [
    {
     "data": {
      "text/html": [
       "<div>\n",
       "<style scoped>\n",
       "    .dataframe tbody tr th:only-of-type {\n",
       "        vertical-align: middle;\n",
       "    }\n",
       "\n",
       "    .dataframe tbody tr th {\n",
       "        vertical-align: top;\n",
       "    }\n",
       "\n",
       "    .dataframe thead th {\n",
       "        text-align: right;\n",
       "    }\n",
       "</style>\n",
       "<table border=\"1\" class=\"dataframe\">\n",
       "  <thead>\n",
       "    <tr style=\"text-align: right;\">\n",
       "      <th></th>\n",
       "      <th>O2_1</th>\n",
       "      <th>O2_2</th>\n",
       "      <th>NH4_6</th>\n",
       "      <th>NO3_6</th>\n",
       "      <th>BOD5_5</th>\n",
       "    </tr>\n",
       "  </thead>\n",
       "  <tbody>\n",
       "    <tr>\n",
       "      <th>count</th>\n",
       "      <td>2800.000000</td>\n",
       "      <td>2800.000000</td>\n",
       "      <td>2800.000000</td>\n",
       "      <td>2800.000000</td>\n",
       "      <td>2800.000000</td>\n",
       "    </tr>\n",
       "    <tr>\n",
       "      <th>mean</th>\n",
       "      <td>8.186012</td>\n",
       "      <td>9.311615</td>\n",
       "      <td>0.468977</td>\n",
       "      <td>3.047607</td>\n",
       "      <td>7.758877</td>\n",
       "    </tr>\n",
       "    <tr>\n",
       "      <th>std</th>\n",
       "      <td>2.866504</td>\n",
       "      <td>6.882540</td>\n",
       "      <td>0.314958</td>\n",
       "      <td>2.963170</td>\n",
       "      <td>3.396840</td>\n",
       "    </tr>\n",
       "    <tr>\n",
       "      <th>min</th>\n",
       "      <td>0.000000</td>\n",
       "      <td>0.000000</td>\n",
       "      <td>0.052000</td>\n",
       "      <td>0.011000</td>\n",
       "      <td>2.020000</td>\n",
       "    </tr>\n",
       "    <tr>\n",
       "      <th>25%</th>\n",
       "      <td>7.100000</td>\n",
       "      <td>7.300000</td>\n",
       "      <td>0.310000</td>\n",
       "      <td>1.420000</td>\n",
       "      <td>5.725000</td>\n",
       "    </tr>\n",
       "    <tr>\n",
       "      <th>50%</th>\n",
       "      <td>7.800000</td>\n",
       "      <td>8.300000</td>\n",
       "      <td>0.380000</td>\n",
       "      <td>1.730000</td>\n",
       "      <td>7.400000</td>\n",
       "    </tr>\n",
       "    <tr>\n",
       "      <th>75%</th>\n",
       "      <td>9.100000</td>\n",
       "      <td>8.700000</td>\n",
       "      <td>0.429000</td>\n",
       "      <td>3.500000</td>\n",
       "      <td>8.400000</td>\n",
       "    </tr>\n",
       "    <tr>\n",
       "      <th>max</th>\n",
       "      <td>46.950000</td>\n",
       "      <td>65.950000</td>\n",
       "      <td>2.680000</td>\n",
       "      <td>19.355000</td>\n",
       "      <td>56.950000</td>\n",
       "    </tr>\n",
       "  </tbody>\n",
       "</table>\n",
       "</div>"
      ],
      "text/plain": [
       "              O2_1         O2_2        NH4_6        NO3_6       BOD5_5\n",
       "count  2800.000000  2800.000000  2800.000000  2800.000000  2800.000000\n",
       "mean      8.186012     9.311615     0.468977     3.047607     7.758877\n",
       "std       2.866504     6.882540     0.314958     2.963170     3.396840\n",
       "min       0.000000     0.000000     0.052000     0.011000     2.020000\n",
       "25%       7.100000     7.300000     0.310000     1.420000     5.725000\n",
       "50%       7.800000     8.300000     0.380000     1.730000     7.400000\n",
       "75%       9.100000     8.700000     0.429000     3.500000     8.400000\n",
       "max      46.950000    65.950000     2.680000    19.355000    56.950000"
      ]
     },
     "execution_count": 49,
     "metadata": {},
     "output_type": "execute_result"
    }
   ],
   "source": [
    "five_f.describe()"
   ]
  },
  {
   "cell_type": "code",
   "execution_count": null,
   "id": "c294f0b1-b25a-4c8d-9487-62ed57cce77c",
   "metadata": {},
   "outputs": [],
   "source": [
    "plt.hist(five_f['O2_1'], alpha=0.4)\n",
    "plt.hist(five_f['O2_2'], alpha=0.4)\n",
    "plt.hist(five_f['NH4_6'], alpha=0.4)\n",
    "plt.hist(five_f['NO2_2'], alpha=0.4)\n",
    "plt.hist(five_f['BOD5_5'], alpha=0.4)"
   ]
  },
  {
   "cell_type": "markdown",
   "id": "ac8e7374-ead2-45d8-abf5-15a560dfb2b4",
   "metadata": {},
   "source": [
    "This is a skewed data, log might help us."
   ]
  },
  {
   "cell_type": "code",
   "execution_count": null,
   "id": "7791a0e4-213e-4fed-8e35-629c49e1e0f8",
   "metadata": {},
   "outputs": [],
   "source": [
    "n_o2 = np.log1p(five_f['O2_1'])"
   ]
  },
  {
   "cell_type": "code",
   "execution_count": null,
   "id": "7b97a71f-7f93-4037-abed-0284645dd0fb",
   "metadata": {},
   "outputs": [],
   "source": [
    "five_f['O2_1'] = np.log1p(five_f['O2_1'])\n",
    "five_f['O2_2'] = np.log1p(five_f['O2_2'])\n",
    "five_f['NH4_6'] = np.log1p(five_f['NH4_6'])\n",
    "five_f['NO2_2'] = np.log1p(five_f['NO2_2'])\n",
    "five_f['BOD5_5'] = np.log1p(five_f['BOD5_5'])"
   ]
  },
  {
   "cell_type": "code",
   "execution_count": null,
   "id": "006df657-8eba-4d84-a9f9-c4b621876da2",
   "metadata": {},
   "outputs": [],
   "source": [
    "plt.hist(five_f['O2_1'])\n",
    "plt.hist(five_f['O2_2'])\n",
    "plt.hist(five_f['NH4_6'])\n",
    "plt.hist(five_f['NO2_2'])\n",
    "plt.hist(five_f['BOD5_5'])"
   ]
  },
  {
   "cell_type": "code",
   "execution_count": null,
   "id": "3c5e6a3f-2dd6-456e-8c87-248eeaccceb5",
   "metadata": {},
   "outputs": [],
   "source": [
    "five_f"
   ]
  },
  {
   "cell_type": "code",
   "execution_count": null,
   "id": "b602e6f9-a178-48c8-acb2-d72a5bd00721",
   "metadata": {},
   "outputs": [],
   "source": [
    "nrf_r = RandomForestRegressor(\n",
    "       n_estimators=1000,\n",
    "       max_depth=7,\n",
    "       n_jobs=-1,\n",
    "       random_state=42)\n",
    "\n",
    "nrf_r.fit(five_f, y_train)"
   ]
  },
  {
   "cell_type": "code",
   "execution_count": null,
   "id": "3c3c6cf5-4f28-490e-9ecc-8e0a00a855f2",
   "metadata": {},
   "outputs": [],
   "source": [
    "five_f_test = minimal_test_data[2]\n",
    "five_f_test = five_f_test.copy()"
   ]
  },
  {
   "cell_type": "code",
   "execution_count": null,
   "id": "1e6a6162-19d2-40c0-a6e8-d3a689d10cc8",
   "metadata": {},
   "outputs": [],
   "source": [
    "five_f_test['O2_1'] = np.log1p(five_f_test['O2_1'])\n",
    "five_f_test['O2_2'] = np.log1p(five_f_test['O2_2'])\n",
    "five_f_test['NH4_6'] = np.log1p(five_f_test['NH4_6'])\n",
    "five_f_test['NO2_2'] = np.log1p(five_f_test['NO2_2'])\n",
    "five_f_test['BOD5_5'] = np.log1p(five_f_test['BOD5_5'])"
   ]
  },
  {
   "cell_type": "code",
   "execution_count": null,
   "id": "198ffc5a-c2a8-4365-8e42-124f23c98884",
   "metadata": {},
   "outputs": [],
   "source": [
    "nrf_r_pred = nrf_r.predict(five_f_test)"
   ]
  },
  {
   "cell_type": "code",
   "execution_count": null,
   "id": "45c4c91b-7e16-4b5d-abd5-edb0cd9b7d2d",
   "metadata": {},
   "outputs": [],
   "source": [
    "mean_squared_error(y_test, nrf_r_pred)"
   ]
  },
  {
   "cell_type": "code",
   "execution_count": null,
   "id": "4ba8bde3-719e-4658-b198-96508242f899",
   "metadata": {},
   "outputs": [],
   "source": [
    "five_f_test"
   ]
  },
  {
   "cell_type": "code",
   "execution_count": null,
   "id": "fdf15345-bfd0-4401-8323-3071d54f3d4a",
   "metadata": {},
   "outputs": [],
   "source": [
    "return_five = pd.concat([five_f, five_f_test])"
   ]
  },
  {
   "cell_type": "code",
   "execution_count": null,
   "id": "6af5ae99-a80c-4442-9b5f-519d03324a69",
   "metadata": {},
   "outputs": [],
   "source": [
    "return_five = return_five.sort_index()"
   ]
  },
  {
   "cell_type": "code",
   "execution_count": null,
   "id": "e9be2078-f4a2-4b78-b39b-74dc6a1f7950",
   "metadata": {},
   "outputs": [],
   "source": [
    "return_five"
   ]
  },
  {
   "cell_type": "code",
   "execution_count": null,
   "id": "c1ec8678-d0d7-489e-8e88-43e407b43c6c",
   "metadata": {},
   "outputs": [],
   "source": [
    "df_ex = df.copy()"
   ]
  },
  {
   "cell_type": "code",
   "execution_count": null,
   "id": "4fd35c09-fbce-4744-8e7f-fb902078b36a",
   "metadata": {},
   "outputs": [],
   "source": [
    "return_five.round(2)"
   ]
  },
  {
   "cell_type": "code",
   "execution_count": null,
   "id": "a3f4f881-a7eb-4afd-be74-017b41368ce0",
   "metadata": {},
   "outputs": [],
   "source": [
    "zero_map = np.zeros(len(df_ex.columns))"
   ]
  },
  {
   "cell_type": "code",
   "execution_count": null,
   "id": "517803bd-dccb-4d8d-821f-6a4856133df8",
   "metadata": {},
   "outputs": [],
   "source": [
    "imporatnces[:5]"
   ]
  },
  {
   "cell_type": "code",
   "execution_count": null,
   "id": "70a2a37e-c996-435a-8cb6-815dad676d56",
   "metadata": {},
   "outputs": [],
   "source": [
    "zero_map[[1, 2, 3, 34]] = 1"
   ]
  },
  {
   "cell_type": "code",
   "execution_count": null,
   "id": "c27f7a5c-e84f-44b5-b983-60d34361c984",
   "metadata": {},
   "outputs": [],
   "source": [
    "zero_map = zero_map!=1"
   ]
  },
  {
   "cell_type": "code",
   "execution_count": null,
   "id": "5a229106-4bd0-46d1-99c3-e32c1c8304b5",
   "metadata": {},
   "outputs": [],
   "source": [
    "df_ex.iloc[:, zero_map] = 0"
   ]
  },
  {
   "cell_type": "code",
   "execution_count": null,
   "id": "77eb9204-c665-4e69-9f4e-600fbcc9b13d",
   "metadata": {},
   "outputs": [],
   "source": [
    "df_ex"
   ]
  },
  {
   "cell_type": "code",
   "execution_count": null,
   "id": "6049beeb-86c3-4f70-ad00-5f6501d371ab",
   "metadata": {},
   "outputs": [],
   "source": [
    "# df_ex.to_csv('sub3.csv', index=False)"
   ]
  },
  {
   "cell_type": "markdown",
   "id": "fbc35a82-d469-4b5c-bedd-ca7bcb498166",
   "metadata": {
    "tags": []
   },
   "source": [
    "## PART III\n",
    "### Target\n",
    "\n",
    "Now that we know logarithm doesn't help us that much we have to use clipping. First we start by Target."
   ]
  },
  {
   "cell_type": "code",
   "execution_count": 33,
   "id": "6bb1add7-655d-4c24-924e-da74e5a5389a",
   "metadata": {},
   "outputs": [
    {
     "name": "stdout",
     "output_type": "stream",
     "text": [
      "Full range: 64.63000000000001\n",
      "90th percentile: 9.68\n",
      "10th percentile: 7.12\n"
     ]
    }
   ],
   "source": [
    "print(f'Full range: {y_full.max() - y_full.min()}')\n",
    "print(f'90th percentile: {y_full.quantile(.9)}')\n",
    "print(f'10th percentile: {y_full.quantile(.1)}')"
   ]
  },
  {
   "cell_type": "markdown",
   "id": "d3aae7da-45a2-454f-aea5-5645b846f749",
   "metadata": {},
   "source": [
    "Let's clip the data outside of 90the and 10th percentiles"
   ]
  },
  {
   "cell_type": "code",
   "execution_count": 34,
   "id": "9836286c-0862-4ddd-bad4-7bbbf7a6ae23",
   "metadata": {},
   "outputs": [],
   "source": [
    "clipped_y_agg = y_full.clip(7, 10)\n",
    "clipped_y = y_full.clip(7, 15)"
   ]
  },
  {
   "cell_type": "code",
   "execution_count": 35,
   "id": "8d0817a9-3ab9-4d5e-8a1a-6a0d34cd079e",
   "metadata": {},
   "outputs": [],
   "source": [
    "normal_y = (y_full - y_full.mean()) / y_full.std()"
   ]
  },
  {
   "cell_type": "code",
   "execution_count": 36,
   "id": "76ea2ed7-6f9f-407d-aa35-fc869adaa6d7",
   "metadata": {},
   "outputs": [],
   "source": [
    "x_train_agg, x_test_agg, y_train_agg, y_test_agg = train_test_split(x_full, clipped_y, test_size=0.2)\n",
    "x_train_clipped, x_test_clipped, y_train_clipped, y_test_clipped = train_test_split(x_full, clipped_y_agg, test_size=0.2)\n",
    "x_train_norm, x_test_norm, y_train_norm, y_test_norm = train_test_split(x_full, normal_y, test_size=0.2)\n",
    "x_train_raw, x_test_raw, y_train_raw, y_test_raw = train_test_split(x_full, y_full, test_size=0.2)"
   ]
  },
  {
   "cell_type": "code",
   "execution_count": 37,
   "id": "47728af7-8504-4fb3-86fd-53f972d94ee1",
   "metadata": {},
   "outputs": [],
   "source": [
    "five_x_train_agg = x_train_agg.iloc[:, imporatnces[:5].index]\n",
    "five_x_test_agg = x_test_agg.iloc[:, imporatnces[:5].index]\n",
    "\n",
    "five_x_train_clipped = x_train_clipped.iloc[:, imporatnces[:5].index]\n",
    "five_x_test_clipped = x_test_clipped.iloc[:, imporatnces[:5].index]\n",
    "\n",
    "five_x_train_norm = x_train_norm.iloc[:, imporatnces[:5].index]\n",
    "five_x_test_norm = x_test_norm.iloc[:, imporatnces[:5].index]\n",
    "\n",
    "five_x_train_raw = x_train_raw.iloc[:, imporatnces[:5].index]\n",
    "five_x_test_raw = x_test_raw.iloc[:, imporatnces[:5].index]"
   ]
  },
  {
   "cell_type": "code",
   "execution_count": 38,
   "id": "a303a895-d0e8-4d19-9f7f-5a76565baeab",
   "metadata": {},
   "outputs": [
    {
     "data": {
      "text/plain": [
       "0.8301113375612239"
      ]
     },
     "execution_count": 38,
     "metadata": {},
     "output_type": "execute_result"
    }
   ],
   "source": [
    "agg_rfr = RandomForestRegressor(\n",
    "       n_estimators=1000,\n",
    "       max_depth=7,\n",
    "       n_jobs=-1,\n",
    "       random_state=42)\n",
    "\n",
    "agg_rfr.fit(five_x_train_agg, y_train_agg)\n",
    "agg_rfr_pred = agg_rfr.predict(five_x_test_agg)\n",
    "mean_squared_error(y_test_agg, agg_rfr_pred)"
   ]
  },
  {
   "cell_type": "code",
   "execution_count": 39,
   "id": "cb48df3b-a4b5-44b5-a4ee-29d4b931de3d",
   "metadata": {},
   "outputs": [
    {
     "data": {
      "text/plain": [
       "0.5213889933209791"
      ]
     },
     "execution_count": 39,
     "metadata": {},
     "output_type": "execute_result"
    }
   ],
   "source": [
    "clip_rfr = RandomForestRegressor(\n",
    "       n_estimators=1000,\n",
    "       max_depth=7,\n",
    "       n_jobs=-1,\n",
    "       random_state=42)\n",
    "\n",
    "clip_rfr.fit(five_x_train_clipped, y_train_clipped)\n",
    "clip_rfr_pred = clip_rfr.predict(five_x_test_clipped)\n",
    "mean_squared_error(y_test_clipped, clip_rfr_pred)"
   ]
  },
  {
   "cell_type": "code",
   "execution_count": 40,
   "id": "75062f0a-b6f3-412d-b70b-1ac73b7c10eb",
   "metadata": {},
   "outputs": [
    {
     "data": {
      "text/plain": [
       "0.29286326771428"
      ]
     },
     "execution_count": 40,
     "metadata": {},
     "output_type": "execute_result"
    }
   ],
   "source": [
    "norm_rfr = RandomForestRegressor(\n",
    "       n_estimators=1000,\n",
    "       max_depth=7,\n",
    "       n_jobs=-1,\n",
    "       random_state=42)\n",
    "\n",
    "norm_rfr.fit(five_x_train_norm, y_train_norm)\n",
    "norm_rfr_pred = norm_rfr.predict(five_x_test_norm)\n",
    "mean_squared_error(y_test_norm, norm_rfr_pred)"
   ]
  },
  {
   "cell_type": "code",
   "execution_count": 41,
   "id": "a2dc74be-b3ff-494f-8637-1e8e391a0fb9",
   "metadata": {},
   "outputs": [
    {
     "data": {
      "text/plain": [
       "1.7947681435303127"
      ]
     },
     "execution_count": 41,
     "metadata": {},
     "output_type": "execute_result"
    }
   ],
   "source": [
    "raw_rfr = RandomForestRegressor(\n",
    "       n_estimators=1000,\n",
    "       max_depth=7,\n",
    "       n_jobs=-1,\n",
    "       random_state=42)\n",
    "\n",
    "raw_rfr.fit(five_x_train_raw, y_train_raw)\n",
    "raw_rfr_pred = raw_rfr.predict(five_x_test_raw)\n",
    "mean_squared_error(y_test_raw, raw_rfr_pred)"
   ]
  },
  {
   "cell_type": "markdown",
   "id": "e9b4c79e-381e-406c-bda0-7db537eb98f7",
   "metadata": {},
   "source": [
    "Normalized Target seem to give use the best results\n",
    "\n",
    "* Aggressive Clipping = 0.7944536347943358\n",
    "* Clipping = 0.5671247840525266\n",
    "* Normalized = 0.3590333922067787\n",
    "* Raw = 1.1812596055750642\n",
    "\n",
    "-----\n",
    "Second Time\n",
    "* Aggressive Clipping (2nd time) = 0.8910968469441664\n",
    "* Clipping (2nd time) = 0.5401740164556785\n",
    "* Normalized (2nd time) = 0.3927672782367207\n",
    "* Raw (2nd time) = 1.3195489301516468\n",
    "\n",
    "-------\n",
    "Third Time\n",
    "* Aggressive Clipping (3rd time) = 0.765122321553859\n",
    "* Clipping (3rd time) = 0.5357782917713959\n",
    "* Normalized (3rd time) = 0.3722441788386579\n",
    "* Raw (3rd time) = 6.395317938850975\n",
    "\n",
    "Oh wow!\n",
    "Third time says it all, since all of the values of normalized and clipped data stay around the same value, while the raw data changes frantically. **We have mostly eliminated the volatility of data.** Now we can only focus on clipping and normalization.\n",
    "\n",
    "Let's check to TODO:\n",
    "\n",
    "- [x] Look at the big picture.\n",
    "- [x] Get the data.\n",
    "- [x] Discover and visualize the data to gain insights.\n",
    "- [x] Prepare the data for Machine Learning algorithms.\n",
    "~~- [x] Select a model and train it.~~\n",
    "~~- [x] Fine-tune your model.~~\n",
    "- [x] Present your solution.\n",
    "- [x] Launch, monitor, and maintain your system."
   ]
  },
  {
   "cell_type": "code",
   "execution_count": 42,
   "id": "7fbdc613-655c-4bb6-b4e0-13b67b5166fc",
   "metadata": {},
   "outputs": [],
   "source": [
    "clipped_y_loose = y_full.clip(7, 15)"
   ]
  },
  {
   "cell_type": "code",
   "execution_count": 43,
   "id": "3bbcf286-bed8-4d5b-b399-71e778d29ab5",
   "metadata": {},
   "outputs": [
    {
     "data": {
      "text/plain": [
       "0       8.59\n",
       "1       9.10\n",
       "2       8.21\n",
       "3       8.39\n",
       "4       8.07\n",
       "        ... \n",
       "3495    8.08\n",
       "3496    8.09\n",
       "3497    9.95\n",
       "3498    9.52\n",
       "3499    8.51\n",
       "Name: target, Length: 3500, dtype: float64"
      ]
     },
     "execution_count": 43,
     "metadata": {},
     "output_type": "execute_result"
    }
   ],
   "source": [
    "clipped_y_loose"
   ]
  },
  {
   "cell_type": "code",
   "execution_count": 44,
   "id": "cdfedaea-ab4c-4018-b0c3-40ff72adc46e",
   "metadata": {},
   "outputs": [],
   "source": [
    "x_train_loose, x_test_loose, y_train_loose, y_test_loose = train_test_split(x_full, clipped_y_loose, test_size=0.2)\n",
    "x_train_norm, x_test_norm, y_train_norm, y_test_norm = train_test_split(x_full, normal_y, test_size=0.2)"
   ]
  },
  {
   "cell_type": "code",
   "execution_count": 45,
   "id": "657054dd-874a-4293-9398-84d7f3ac8fbc",
   "metadata": {},
   "outputs": [],
   "source": [
    "five_x_train_loose = x_train_loose.iloc[:, imporatnces[:5].index]\n",
    "five_x_test_loose = x_test_loose.iloc[:, imporatnces[:5].index]\n",
    "\n",
    "five_x_train_norm = x_train_norm.iloc[:, imporatnces[:5].index]\n",
    "five_x_test_norm = x_test_norm.iloc[:, imporatnces[:5].index]"
   ]
  },
  {
   "cell_type": "code",
   "execution_count": 46,
   "id": "a5cd139b-3068-4b9e-b321-2cb78eb582e9",
   "metadata": {},
   "outputs": [
    {
     "data": {
      "text/plain": [
       "1836     8.10\n",
       "1596     9.41\n",
       "2962     7.29\n",
       "2160    15.00\n",
       "430      8.11\n",
       "        ...  \n",
       "3179     8.05\n",
       "1725     7.11\n",
       "1798     8.64\n",
       "2353     9.08\n",
       "316     15.00\n",
       "Name: target, Length: 2800, dtype: float64"
      ]
     },
     "execution_count": 46,
     "metadata": {},
     "output_type": "execute_result"
    }
   ],
   "source": [
    "y_train_loose"
   ]
  },
  {
   "cell_type": "code",
   "execution_count": 47,
   "id": "d3a648d5-1fd9-4a37-9c49-7c68aee3f75e",
   "metadata": {},
   "outputs": [
    {
     "data": {
      "text/html": [
       "<div>\n",
       "<style scoped>\n",
       "    .dataframe tbody tr th:only-of-type {\n",
       "        vertical-align: middle;\n",
       "    }\n",
       "\n",
       "    .dataframe tbody tr th {\n",
       "        vertical-align: top;\n",
       "    }\n",
       "\n",
       "    .dataframe thead th {\n",
       "        text-align: right;\n",
       "    }\n",
       "</style>\n",
       "<table border=\"1\" class=\"dataframe\">\n",
       "  <thead>\n",
       "    <tr style=\"text-align: right;\">\n",
       "      <th></th>\n",
       "      <th>O2_1</th>\n",
       "      <th>O2_2</th>\n",
       "      <th>NO2_2</th>\n",
       "      <th>O2_4</th>\n",
       "      <th>O2_7</th>\n",
       "    </tr>\n",
       "  </thead>\n",
       "  <tbody>\n",
       "    <tr>\n",
       "      <th>1836</th>\n",
       "      <td>8.600</td>\n",
       "      <td>8.60</td>\n",
       "      <td>0.038</td>\n",
       "      <td>9.265</td>\n",
       "      <td>7.150</td>\n",
       "    </tr>\n",
       "    <tr>\n",
       "      <th>1596</th>\n",
       "      <td>7.700</td>\n",
       "      <td>7.40</td>\n",
       "      <td>0.027</td>\n",
       "      <td>6.025</td>\n",
       "      <td>7.025</td>\n",
       "    </tr>\n",
       "    <tr>\n",
       "      <th>2962</th>\n",
       "      <td>6.630</td>\n",
       "      <td>6.63</td>\n",
       "      <td>0.034</td>\n",
       "      <td>9.265</td>\n",
       "      <td>7.150</td>\n",
       "    </tr>\n",
       "    <tr>\n",
       "      <th>2160</th>\n",
       "      <td>13.500</td>\n",
       "      <td>14.70</td>\n",
       "      <td>0.095</td>\n",
       "      <td>8.370</td>\n",
       "      <td>5.030</td>\n",
       "    </tr>\n",
       "    <tr>\n",
       "      <th>430</th>\n",
       "      <td>7.500</td>\n",
       "      <td>8.50</td>\n",
       "      <td>0.080</td>\n",
       "      <td>9.115</td>\n",
       "      <td>6.375</td>\n",
       "    </tr>\n",
       "    <tr>\n",
       "      <th>...</th>\n",
       "      <td>...</td>\n",
       "      <td>...</td>\n",
       "      <td>...</td>\n",
       "      <td>...</td>\n",
       "      <td>...</td>\n",
       "    </tr>\n",
       "    <tr>\n",
       "      <th>3179</th>\n",
       "      <td>7.050</td>\n",
       "      <td>8.65</td>\n",
       "      <td>0.025</td>\n",
       "      <td>7.700</td>\n",
       "      <td>6.375</td>\n",
       "    </tr>\n",
       "    <tr>\n",
       "      <th>1725</th>\n",
       "      <td>7.100</td>\n",
       "      <td>7.30</td>\n",
       "      <td>0.046</td>\n",
       "      <td>6.625</td>\n",
       "      <td>7.150</td>\n",
       "    </tr>\n",
       "    <tr>\n",
       "      <th>1798</th>\n",
       "      <td>8.025</td>\n",
       "      <td>8.30</td>\n",
       "      <td>0.044</td>\n",
       "      <td>6.025</td>\n",
       "      <td>8.150</td>\n",
       "    </tr>\n",
       "    <tr>\n",
       "      <th>2353</th>\n",
       "      <td>8.600</td>\n",
       "      <td>8.10</td>\n",
       "      <td>0.058</td>\n",
       "      <td>9.260</td>\n",
       "      <td>7.170</td>\n",
       "    </tr>\n",
       "    <tr>\n",
       "      <th>316</th>\n",
       "      <td>40.900</td>\n",
       "      <td>40.90</td>\n",
       "      <td>0.060</td>\n",
       "      <td>6.805</td>\n",
       "      <td>6.805</td>\n",
       "    </tr>\n",
       "  </tbody>\n",
       "</table>\n",
       "<p>2800 rows × 5 columns</p>\n",
       "</div>"
      ],
      "text/plain": [
       "        O2_1   O2_2  NO2_2   O2_4   O2_7\n",
       "1836   8.600   8.60  0.038  9.265  7.150\n",
       "1596   7.700   7.40  0.027  6.025  7.025\n",
       "2962   6.630   6.63  0.034  9.265  7.150\n",
       "2160  13.500  14.70  0.095  8.370  5.030\n",
       "430    7.500   8.50  0.080  9.115  6.375\n",
       "...      ...    ...    ...    ...    ...\n",
       "3179   7.050   8.65  0.025  7.700  6.375\n",
       "1725   7.100   7.30  0.046  6.625  7.150\n",
       "1798   8.025   8.30  0.044  6.025  8.150\n",
       "2353   8.600   8.10  0.058  9.260  7.170\n",
       "316   40.900  40.90  0.060  6.805  6.805\n",
       "\n",
       "[2800 rows x 5 columns]"
      ]
     },
     "execution_count": 47,
     "metadata": {},
     "output_type": "execute_result"
    }
   ],
   "source": [
    "five_x_train_loose"
   ]
  },
  {
   "cell_type": "code",
   "execution_count": 48,
   "id": "859f48a4-fef7-4d02-874f-60a45e614431",
   "metadata": {},
   "outputs": [
    {
     "data": {
      "text/plain": [
       "0.8621810580152994"
      ]
     },
     "execution_count": 48,
     "metadata": {},
     "output_type": "execute_result"
    }
   ],
   "source": [
    "loose_rfr = RandomForestRegressor(\n",
    "       n_estimators=1000,\n",
    "       max_depth=7,\n",
    "       n_jobs=-1,\n",
    "       random_state=42)\n",
    "\n",
    "loose_rfr.fit(five_x_train_loose, y_train_loose)\n",
    "loose_rfr_pred = loose_rfr.predict(five_x_test_loose)\n",
    "mean_squared_error(y_test_loose, loose_rfr_pred)"
   ]
  },
  {
   "cell_type": "code",
   "execution_count": 49,
   "id": "9a49b7b1-cb9c-4fb0-9d45-12b766bf5304",
   "metadata": {},
   "outputs": [
    {
     "data": {
      "text/plain": [
       "0.5200977123744936"
      ]
     },
     "execution_count": 49,
     "metadata": {},
     "output_type": "execute_result"
    }
   ],
   "source": [
    "norm_rfr = RandomForestRegressor(\n",
    "       n_estimators=1000,\n",
    "       max_depth=7,\n",
    "       n_jobs=-1,\n",
    "       random_state=42)\n",
    "\n",
    "norm_rfr.fit(five_x_train_norm, y_train_norm)\n",
    "norm_rfr_pred = norm_rfr.predict(five_x_test_norm)\n",
    "mean_squared_error(y_test_norm, norm_rfr_pred)"
   ]
  },
  {
   "cell_type": "markdown",
   "id": "9d811d67-06c0-4995-9207-4c942c097e98",
   "metadata": {},
   "source": [
    "Most of the times normal seems to outperform the loose clipping"
   ]
  },
  {
   "cell_type": "code",
   "execution_count": 50,
   "id": "1d121901-d63c-4053-8576-dbc00920d202",
   "metadata": {},
   "outputs": [
    {
     "data": {
      "text/plain": [
       "0       0.061603\n",
       "1       0.332058\n",
       "2      -0.139912\n",
       "3      -0.044458\n",
       "4      -0.214155\n",
       "          ...   \n",
       "3495   -0.208852\n",
       "3496   -0.203549\n",
       "3497    0.782816\n",
       "3498    0.554786\n",
       "3499    0.019179\n",
       "Name: target, Length: 3500, dtype: float64"
      ]
     },
     "execution_count": 50,
     "metadata": {},
     "output_type": "execute_result"
    }
   ],
   "source": [
    "normal_y"
   ]
  },
  {
   "cell_type": "code",
   "execution_count": 51,
   "id": "14f27413-d627-48c4-b813-8081f6aaa661",
   "metadata": {},
   "outputs": [],
   "source": [
    "x_pass = x_full.iloc[:, imporatnces[:4].index]"
   ]
  },
  {
   "cell_type": "code",
   "execution_count": 52,
   "id": "f2e2b996-4438-44f1-9607-0faaa0fb6296",
   "metadata": {},
   "outputs": [],
   "source": [
    "df_ex = df.copy()"
   ]
  },
  {
   "cell_type": "code",
   "execution_count": 53,
   "id": "a2e3757e-5e02-4ab1-bbf3-6c5cc1db5bfe",
   "metadata": {},
   "outputs": [
    {
     "name": "stderr",
     "output_type": "stream",
     "text": [
      "/var/folders/lb/05l0197j4wdgmqspj9s7bgjc0000gn/T/ipykernel_2336/2459347210.py:1: DeprecationWarning: In a future version, `df.iloc[:, i] = newvals` will attempt to set the values inplace instead of always setting a new array. To retain the old behavior, use either `df[df.columns[i]] = newvals` or, if columns are non-unique, `df.isetitem(i, newvals)`\n",
      "  df_ex[:] = 0\n"
     ]
    },
    {
     "data": {
      "text/html": [
       "<div>\n",
       "<style scoped>\n",
       "    .dataframe tbody tr th:only-of-type {\n",
       "        vertical-align: middle;\n",
       "    }\n",
       "\n",
       "    .dataframe tbody tr th {\n",
       "        vertical-align: top;\n",
       "    }\n",
       "\n",
       "    .dataframe thead th {\n",
       "        text-align: right;\n",
       "    }\n",
       "</style>\n",
       "<table border=\"1\" class=\"dataframe\">\n",
       "  <thead>\n",
       "    <tr style=\"text-align: right;\">\n",
       "      <th></th>\n",
       "      <th>id</th>\n",
       "      <th>target</th>\n",
       "      <th>O2_1</th>\n",
       "      <th>O2_2</th>\n",
       "      <th>O2_3</th>\n",
       "      <th>O2_4</th>\n",
       "      <th>O2_5</th>\n",
       "      <th>O2_6</th>\n",
       "      <th>O2_7</th>\n",
       "      <th>NH4_1</th>\n",
       "      <th>...</th>\n",
       "      <th>NO3_5</th>\n",
       "      <th>NO3_6</th>\n",
       "      <th>NO3_7</th>\n",
       "      <th>BOD5_1</th>\n",
       "      <th>BOD5_2</th>\n",
       "      <th>BOD5_3</th>\n",
       "      <th>BOD5_4</th>\n",
       "      <th>BOD5_5</th>\n",
       "      <th>BOD5_6</th>\n",
       "      <th>BOD5_7</th>\n",
       "    </tr>\n",
       "  </thead>\n",
       "  <tbody>\n",
       "    <tr>\n",
       "      <th>0</th>\n",
       "      <td>0</td>\n",
       "      <td>0</td>\n",
       "      <td>0</td>\n",
       "      <td>0</td>\n",
       "      <td>0</td>\n",
       "      <td>0</td>\n",
       "      <td>0</td>\n",
       "      <td>0</td>\n",
       "      <td>0</td>\n",
       "      <td>0</td>\n",
       "      <td>...</td>\n",
       "      <td>0</td>\n",
       "      <td>0</td>\n",
       "      <td>0</td>\n",
       "      <td>0</td>\n",
       "      <td>0</td>\n",
       "      <td>0</td>\n",
       "      <td>0</td>\n",
       "      <td>0</td>\n",
       "      <td>0</td>\n",
       "      <td>0</td>\n",
       "    </tr>\n",
       "    <tr>\n",
       "      <th>1</th>\n",
       "      <td>0</td>\n",
       "      <td>0</td>\n",
       "      <td>0</td>\n",
       "      <td>0</td>\n",
       "      <td>0</td>\n",
       "      <td>0</td>\n",
       "      <td>0</td>\n",
       "      <td>0</td>\n",
       "      <td>0</td>\n",
       "      <td>0</td>\n",
       "      <td>...</td>\n",
       "      <td>0</td>\n",
       "      <td>0</td>\n",
       "      <td>0</td>\n",
       "      <td>0</td>\n",
       "      <td>0</td>\n",
       "      <td>0</td>\n",
       "      <td>0</td>\n",
       "      <td>0</td>\n",
       "      <td>0</td>\n",
       "      <td>0</td>\n",
       "    </tr>\n",
       "    <tr>\n",
       "      <th>2</th>\n",
       "      <td>0</td>\n",
       "      <td>0</td>\n",
       "      <td>0</td>\n",
       "      <td>0</td>\n",
       "      <td>0</td>\n",
       "      <td>0</td>\n",
       "      <td>0</td>\n",
       "      <td>0</td>\n",
       "      <td>0</td>\n",
       "      <td>0</td>\n",
       "      <td>...</td>\n",
       "      <td>0</td>\n",
       "      <td>0</td>\n",
       "      <td>0</td>\n",
       "      <td>0</td>\n",
       "      <td>0</td>\n",
       "      <td>0</td>\n",
       "      <td>0</td>\n",
       "      <td>0</td>\n",
       "      <td>0</td>\n",
       "      <td>0</td>\n",
       "    </tr>\n",
       "    <tr>\n",
       "      <th>3</th>\n",
       "      <td>0</td>\n",
       "      <td>0</td>\n",
       "      <td>0</td>\n",
       "      <td>0</td>\n",
       "      <td>0</td>\n",
       "      <td>0</td>\n",
       "      <td>0</td>\n",
       "      <td>0</td>\n",
       "      <td>0</td>\n",
       "      <td>0</td>\n",
       "      <td>...</td>\n",
       "      <td>0</td>\n",
       "      <td>0</td>\n",
       "      <td>0</td>\n",
       "      <td>0</td>\n",
       "      <td>0</td>\n",
       "      <td>0</td>\n",
       "      <td>0</td>\n",
       "      <td>0</td>\n",
       "      <td>0</td>\n",
       "      <td>0</td>\n",
       "    </tr>\n",
       "    <tr>\n",
       "      <th>4</th>\n",
       "      <td>0</td>\n",
       "      <td>0</td>\n",
       "      <td>0</td>\n",
       "      <td>0</td>\n",
       "      <td>0</td>\n",
       "      <td>0</td>\n",
       "      <td>0</td>\n",
       "      <td>0</td>\n",
       "      <td>0</td>\n",
       "      <td>0</td>\n",
       "      <td>...</td>\n",
       "      <td>0</td>\n",
       "      <td>0</td>\n",
       "      <td>0</td>\n",
       "      <td>0</td>\n",
       "      <td>0</td>\n",
       "      <td>0</td>\n",
       "      <td>0</td>\n",
       "      <td>0</td>\n",
       "      <td>0</td>\n",
       "      <td>0</td>\n",
       "    </tr>\n",
       "    <tr>\n",
       "      <th>...</th>\n",
       "      <td>...</td>\n",
       "      <td>...</td>\n",
       "      <td>...</td>\n",
       "      <td>...</td>\n",
       "      <td>...</td>\n",
       "      <td>...</td>\n",
       "      <td>...</td>\n",
       "      <td>...</td>\n",
       "      <td>...</td>\n",
       "      <td>...</td>\n",
       "      <td>...</td>\n",
       "      <td>...</td>\n",
       "      <td>...</td>\n",
       "      <td>...</td>\n",
       "      <td>...</td>\n",
       "      <td>...</td>\n",
       "      <td>...</td>\n",
       "      <td>...</td>\n",
       "      <td>...</td>\n",
       "      <td>...</td>\n",
       "      <td>...</td>\n",
       "    </tr>\n",
       "    <tr>\n",
       "      <th>3495</th>\n",
       "      <td>0</td>\n",
       "      <td>0</td>\n",
       "      <td>0</td>\n",
       "      <td>0</td>\n",
       "      <td>0</td>\n",
       "      <td>0</td>\n",
       "      <td>0</td>\n",
       "      <td>0</td>\n",
       "      <td>0</td>\n",
       "      <td>0</td>\n",
       "      <td>...</td>\n",
       "      <td>0</td>\n",
       "      <td>0</td>\n",
       "      <td>0</td>\n",
       "      <td>0</td>\n",
       "      <td>0</td>\n",
       "      <td>0</td>\n",
       "      <td>0</td>\n",
       "      <td>0</td>\n",
       "      <td>0</td>\n",
       "      <td>0</td>\n",
       "    </tr>\n",
       "    <tr>\n",
       "      <th>3496</th>\n",
       "      <td>0</td>\n",
       "      <td>0</td>\n",
       "      <td>0</td>\n",
       "      <td>0</td>\n",
       "      <td>0</td>\n",
       "      <td>0</td>\n",
       "      <td>0</td>\n",
       "      <td>0</td>\n",
       "      <td>0</td>\n",
       "      <td>0</td>\n",
       "      <td>...</td>\n",
       "      <td>0</td>\n",
       "      <td>0</td>\n",
       "      <td>0</td>\n",
       "      <td>0</td>\n",
       "      <td>0</td>\n",
       "      <td>0</td>\n",
       "      <td>0</td>\n",
       "      <td>0</td>\n",
       "      <td>0</td>\n",
       "      <td>0</td>\n",
       "    </tr>\n",
       "    <tr>\n",
       "      <th>3497</th>\n",
       "      <td>0</td>\n",
       "      <td>0</td>\n",
       "      <td>0</td>\n",
       "      <td>0</td>\n",
       "      <td>0</td>\n",
       "      <td>0</td>\n",
       "      <td>0</td>\n",
       "      <td>0</td>\n",
       "      <td>0</td>\n",
       "      <td>0</td>\n",
       "      <td>...</td>\n",
       "      <td>0</td>\n",
       "      <td>0</td>\n",
       "      <td>0</td>\n",
       "      <td>0</td>\n",
       "      <td>0</td>\n",
       "      <td>0</td>\n",
       "      <td>0</td>\n",
       "      <td>0</td>\n",
       "      <td>0</td>\n",
       "      <td>0</td>\n",
       "    </tr>\n",
       "    <tr>\n",
       "      <th>3498</th>\n",
       "      <td>0</td>\n",
       "      <td>0</td>\n",
       "      <td>0</td>\n",
       "      <td>0</td>\n",
       "      <td>0</td>\n",
       "      <td>0</td>\n",
       "      <td>0</td>\n",
       "      <td>0</td>\n",
       "      <td>0</td>\n",
       "      <td>0</td>\n",
       "      <td>...</td>\n",
       "      <td>0</td>\n",
       "      <td>0</td>\n",
       "      <td>0</td>\n",
       "      <td>0</td>\n",
       "      <td>0</td>\n",
       "      <td>0</td>\n",
       "      <td>0</td>\n",
       "      <td>0</td>\n",
       "      <td>0</td>\n",
       "      <td>0</td>\n",
       "    </tr>\n",
       "    <tr>\n",
       "      <th>3499</th>\n",
       "      <td>0</td>\n",
       "      <td>0</td>\n",
       "      <td>0</td>\n",
       "      <td>0</td>\n",
       "      <td>0</td>\n",
       "      <td>0</td>\n",
       "      <td>0</td>\n",
       "      <td>0</td>\n",
       "      <td>0</td>\n",
       "      <td>0</td>\n",
       "      <td>...</td>\n",
       "      <td>0</td>\n",
       "      <td>0</td>\n",
       "      <td>0</td>\n",
       "      <td>0</td>\n",
       "      <td>0</td>\n",
       "      <td>0</td>\n",
       "      <td>0</td>\n",
       "      <td>0</td>\n",
       "      <td>0</td>\n",
       "      <td>0</td>\n",
       "    </tr>\n",
       "  </tbody>\n",
       "</table>\n",
       "<p>3500 rows × 37 columns</p>\n",
       "</div>"
      ],
      "text/plain": [
       "      id  target  O2_1  O2_2  O2_3  O2_4  O2_5  O2_6  O2_7  NH4_1  ...  NO3_5  \\\n",
       "0      0       0     0     0     0     0     0     0     0      0  ...      0   \n",
       "1      0       0     0     0     0     0     0     0     0      0  ...      0   \n",
       "2      0       0     0     0     0     0     0     0     0      0  ...      0   \n",
       "3      0       0     0     0     0     0     0     0     0      0  ...      0   \n",
       "4      0       0     0     0     0     0     0     0     0      0  ...      0   \n",
       "...   ..     ...   ...   ...   ...   ...   ...   ...   ...    ...  ...    ...   \n",
       "3495   0       0     0     0     0     0     0     0     0      0  ...      0   \n",
       "3496   0       0     0     0     0     0     0     0     0      0  ...      0   \n",
       "3497   0       0     0     0     0     0     0     0     0      0  ...      0   \n",
       "3498   0       0     0     0     0     0     0     0     0      0  ...      0   \n",
       "3499   0       0     0     0     0     0     0     0     0      0  ...      0   \n",
       "\n",
       "      NO3_6  NO3_7  BOD5_1  BOD5_2  BOD5_3  BOD5_4  BOD5_5  BOD5_6  BOD5_7  \n",
       "0         0      0       0       0       0       0       0       0       0  \n",
       "1         0      0       0       0       0       0       0       0       0  \n",
       "2         0      0       0       0       0       0       0       0       0  \n",
       "3         0      0       0       0       0       0       0       0       0  \n",
       "4         0      0       0       0       0       0       0       0       0  \n",
       "...     ...    ...     ...     ...     ...     ...     ...     ...     ...  \n",
       "3495      0      0       0       0       0       0       0       0       0  \n",
       "3496      0      0       0       0       0       0       0       0       0  \n",
       "3497      0      0       0       0       0       0       0       0       0  \n",
       "3498      0      0       0       0       0       0       0       0       0  \n",
       "3499      0      0       0       0       0       0       0       0       0  \n",
       "\n",
       "[3500 rows x 37 columns]"
      ]
     },
     "execution_count": 53,
     "metadata": {},
     "output_type": "execute_result"
    }
   ],
   "source": [
    "df_ex[:] = 0\n",
    "df_ex"
   ]
  },
  {
   "cell_type": "code",
   "execution_count": 54,
   "id": "0a15aa1b-881f-4260-b979-60e9064d2b65",
   "metadata": {},
   "outputs": [],
   "source": [
    "df_ex[x_pass.columns] = x_pass"
   ]
  },
  {
   "cell_type": "code",
   "execution_count": 65,
   "id": "1d187c5c-108a-4122-9496-7fa37bb03de8",
   "metadata": {},
   "outputs": [
    {
     "data": {
      "text/html": [
       "<div>\n",
       "<style scoped>\n",
       "    .dataframe tbody tr th:only-of-type {\n",
       "        vertical-align: middle;\n",
       "    }\n",
       "\n",
       "    .dataframe tbody tr th {\n",
       "        vertical-align: top;\n",
       "    }\n",
       "\n",
       "    .dataframe thead th {\n",
       "        text-align: right;\n",
       "    }\n",
       "</style>\n",
       "<table border=\"1\" class=\"dataframe\">\n",
       "  <thead>\n",
       "    <tr style=\"text-align: right;\">\n",
       "      <th></th>\n",
       "      <th>id</th>\n",
       "      <th>target</th>\n",
       "      <th>O2_1</th>\n",
       "      <th>O2_2</th>\n",
       "      <th>O2_3</th>\n",
       "      <th>O2_4</th>\n",
       "      <th>O2_5</th>\n",
       "      <th>O2_6</th>\n",
       "      <th>O2_7</th>\n",
       "      <th>NH4_1</th>\n",
       "      <th>...</th>\n",
       "      <th>NO3_5</th>\n",
       "      <th>NO3_6</th>\n",
       "      <th>NO3_7</th>\n",
       "      <th>BOD5_1</th>\n",
       "      <th>BOD5_2</th>\n",
       "      <th>BOD5_3</th>\n",
       "      <th>BOD5_4</th>\n",
       "      <th>BOD5_5</th>\n",
       "      <th>BOD5_6</th>\n",
       "      <th>BOD5_7</th>\n",
       "    </tr>\n",
       "  </thead>\n",
       "  <tbody>\n",
       "    <tr>\n",
       "      <th>0</th>\n",
       "      <td>0</td>\n",
       "      <td>8.59</td>\n",
       "      <td>7.500</td>\n",
       "      <td>9.000</td>\n",
       "      <td>0</td>\n",
       "      <td>9.265</td>\n",
       "      <td>0</td>\n",
       "      <td>0</td>\n",
       "      <td>0</td>\n",
       "      <td>0</td>\n",
       "      <td>...</td>\n",
       "      <td>0</td>\n",
       "      <td>0</td>\n",
       "      <td>0</td>\n",
       "      <td>0</td>\n",
       "      <td>0</td>\n",
       "      <td>0</td>\n",
       "      <td>0</td>\n",
       "      <td>0</td>\n",
       "      <td>0</td>\n",
       "      <td>0</td>\n",
       "    </tr>\n",
       "    <tr>\n",
       "      <th>1</th>\n",
       "      <td>0</td>\n",
       "      <td>9.10</td>\n",
       "      <td>13.533</td>\n",
       "      <td>40.900</td>\n",
       "      <td>0</td>\n",
       "      <td>9.265</td>\n",
       "      <td>0</td>\n",
       "      <td>0</td>\n",
       "      <td>0</td>\n",
       "      <td>0</td>\n",
       "      <td>...</td>\n",
       "      <td>0</td>\n",
       "      <td>0</td>\n",
       "      <td>0</td>\n",
       "      <td>0</td>\n",
       "      <td>0</td>\n",
       "      <td>0</td>\n",
       "      <td>0</td>\n",
       "      <td>0</td>\n",
       "      <td>0</td>\n",
       "      <td>0</td>\n",
       "    </tr>\n",
       "    <tr>\n",
       "      <th>2</th>\n",
       "      <td>0</td>\n",
       "      <td>8.21</td>\n",
       "      <td>3.710</td>\n",
       "      <td>5.420</td>\n",
       "      <td>0</td>\n",
       "      <td>9.265</td>\n",
       "      <td>0</td>\n",
       "      <td>0</td>\n",
       "      <td>0</td>\n",
       "      <td>0</td>\n",
       "      <td>...</td>\n",
       "      <td>0</td>\n",
       "      <td>0</td>\n",
       "      <td>0</td>\n",
       "      <td>0</td>\n",
       "      <td>0</td>\n",
       "      <td>0</td>\n",
       "      <td>0</td>\n",
       "      <td>0</td>\n",
       "      <td>0</td>\n",
       "      <td>0</td>\n",
       "    </tr>\n",
       "    <tr>\n",
       "      <th>3</th>\n",
       "      <td>0</td>\n",
       "      <td>8.39</td>\n",
       "      <td>8.700</td>\n",
       "      <td>8.100</td>\n",
       "      <td>0</td>\n",
       "      <td>9.200</td>\n",
       "      <td>0</td>\n",
       "      <td>0</td>\n",
       "      <td>0</td>\n",
       "      <td>0</td>\n",
       "      <td>...</td>\n",
       "      <td>0</td>\n",
       "      <td>0</td>\n",
       "      <td>0</td>\n",
       "      <td>0</td>\n",
       "      <td>0</td>\n",
       "      <td>0</td>\n",
       "      <td>0</td>\n",
       "      <td>0</td>\n",
       "      <td>0</td>\n",
       "      <td>0</td>\n",
       "    </tr>\n",
       "    <tr>\n",
       "      <th>4</th>\n",
       "      <td>0</td>\n",
       "      <td>8.07</td>\n",
       "      <td>8.050</td>\n",
       "      <td>8.650</td>\n",
       "      <td>0</td>\n",
       "      <td>9.265</td>\n",
       "      <td>0</td>\n",
       "      <td>0</td>\n",
       "      <td>0</td>\n",
       "      <td>0</td>\n",
       "      <td>...</td>\n",
       "      <td>0</td>\n",
       "      <td>0</td>\n",
       "      <td>0</td>\n",
       "      <td>0</td>\n",
       "      <td>0</td>\n",
       "      <td>0</td>\n",
       "      <td>0</td>\n",
       "      <td>0</td>\n",
       "      <td>0</td>\n",
       "      <td>0</td>\n",
       "    </tr>\n",
       "    <tr>\n",
       "      <th>...</th>\n",
       "      <td>...</td>\n",
       "      <td>...</td>\n",
       "      <td>...</td>\n",
       "      <td>...</td>\n",
       "      <td>...</td>\n",
       "      <td>...</td>\n",
       "      <td>...</td>\n",
       "      <td>...</td>\n",
       "      <td>...</td>\n",
       "      <td>...</td>\n",
       "      <td>...</td>\n",
       "      <td>...</td>\n",
       "      <td>...</td>\n",
       "      <td>...</td>\n",
       "      <td>...</td>\n",
       "      <td>...</td>\n",
       "      <td>...</td>\n",
       "      <td>...</td>\n",
       "      <td>...</td>\n",
       "      <td>...</td>\n",
       "      <td>...</td>\n",
       "    </tr>\n",
       "    <tr>\n",
       "      <th>3495</th>\n",
       "      <td>0</td>\n",
       "      <td>8.08</td>\n",
       "      <td>6.250</td>\n",
       "      <td>8.300</td>\n",
       "      <td>0</td>\n",
       "      <td>9.265</td>\n",
       "      <td>0</td>\n",
       "      <td>0</td>\n",
       "      <td>0</td>\n",
       "      <td>0</td>\n",
       "      <td>...</td>\n",
       "      <td>0</td>\n",
       "      <td>0</td>\n",
       "      <td>0</td>\n",
       "      <td>0</td>\n",
       "      <td>0</td>\n",
       "      <td>0</td>\n",
       "      <td>0</td>\n",
       "      <td>0</td>\n",
       "      <td>0</td>\n",
       "      <td>0</td>\n",
       "    </tr>\n",
       "    <tr>\n",
       "      <th>3496</th>\n",
       "      <td>0</td>\n",
       "      <td>8.09</td>\n",
       "      <td>6.630</td>\n",
       "      <td>6.630</td>\n",
       "      <td>0</td>\n",
       "      <td>7.600</td>\n",
       "      <td>0</td>\n",
       "      <td>0</td>\n",
       "      <td>0</td>\n",
       "      <td>0</td>\n",
       "      <td>...</td>\n",
       "      <td>0</td>\n",
       "      <td>0</td>\n",
       "      <td>0</td>\n",
       "      <td>0</td>\n",
       "      <td>0</td>\n",
       "      <td>0</td>\n",
       "      <td>0</td>\n",
       "      <td>0</td>\n",
       "      <td>0</td>\n",
       "      <td>0</td>\n",
       "    </tr>\n",
       "    <tr>\n",
       "      <th>3497</th>\n",
       "      <td>0</td>\n",
       "      <td>9.95</td>\n",
       "      <td>8.367</td>\n",
       "      <td>8.433</td>\n",
       "      <td>0</td>\n",
       "      <td>6.170</td>\n",
       "      <td>0</td>\n",
       "      <td>0</td>\n",
       "      <td>0</td>\n",
       "      <td>0</td>\n",
       "      <td>...</td>\n",
       "      <td>0</td>\n",
       "      <td>0</td>\n",
       "      <td>0</td>\n",
       "      <td>0</td>\n",
       "      <td>0</td>\n",
       "      <td>0</td>\n",
       "      <td>0</td>\n",
       "      <td>0</td>\n",
       "      <td>0</td>\n",
       "      <td>0</td>\n",
       "    </tr>\n",
       "    <tr>\n",
       "      <th>3498</th>\n",
       "      <td>0</td>\n",
       "      <td>9.52</td>\n",
       "      <td>10.000</td>\n",
       "      <td>6.630</td>\n",
       "      <td>0</td>\n",
       "      <td>9.265</td>\n",
       "      <td>0</td>\n",
       "      <td>0</td>\n",
       "      <td>0</td>\n",
       "      <td>0</td>\n",
       "      <td>...</td>\n",
       "      <td>0</td>\n",
       "      <td>0</td>\n",
       "      <td>0</td>\n",
       "      <td>0</td>\n",
       "      <td>0</td>\n",
       "      <td>0</td>\n",
       "      <td>0</td>\n",
       "      <td>0</td>\n",
       "      <td>0</td>\n",
       "      <td>0</td>\n",
       "    </tr>\n",
       "    <tr>\n",
       "      <th>3499</th>\n",
       "      <td>0</td>\n",
       "      <td>8.51</td>\n",
       "      <td>8.500</td>\n",
       "      <td>8.100</td>\n",
       "      <td>0</td>\n",
       "      <td>9.265</td>\n",
       "      <td>0</td>\n",
       "      <td>0</td>\n",
       "      <td>0</td>\n",
       "      <td>0</td>\n",
       "      <td>...</td>\n",
       "      <td>0</td>\n",
       "      <td>0</td>\n",
       "      <td>0</td>\n",
       "      <td>0</td>\n",
       "      <td>0</td>\n",
       "      <td>0</td>\n",
       "      <td>0</td>\n",
       "      <td>0</td>\n",
       "      <td>0</td>\n",
       "      <td>0</td>\n",
       "    </tr>\n",
       "  </tbody>\n",
       "</table>\n",
       "<p>3500 rows × 37 columns</p>\n",
       "</div>"
      ],
      "text/plain": [
       "      id  target    O2_1    O2_2  O2_3   O2_4  O2_5  O2_6  O2_7  NH4_1  ...  \\\n",
       "0      0    8.59   7.500   9.000     0  9.265     0     0     0      0  ...   \n",
       "1      0    9.10  13.533  40.900     0  9.265     0     0     0      0  ...   \n",
       "2      0    8.21   3.710   5.420     0  9.265     0     0     0      0  ...   \n",
       "3      0    8.39   8.700   8.100     0  9.200     0     0     0      0  ...   \n",
       "4      0    8.07   8.050   8.650     0  9.265     0     0     0      0  ...   \n",
       "...   ..     ...     ...     ...   ...    ...   ...   ...   ...    ...  ...   \n",
       "3495   0    8.08   6.250   8.300     0  9.265     0     0     0      0  ...   \n",
       "3496   0    8.09   6.630   6.630     0  7.600     0     0     0      0  ...   \n",
       "3497   0    9.95   8.367   8.433     0  6.170     0     0     0      0  ...   \n",
       "3498   0    9.52  10.000   6.630     0  9.265     0     0     0      0  ...   \n",
       "3499   0    8.51   8.500   8.100     0  9.265     0     0     0      0  ...   \n",
       "\n",
       "      NO3_5  NO3_6  NO3_7  BOD5_1  BOD5_2  BOD5_3  BOD5_4  BOD5_5  BOD5_6  \\\n",
       "0         0      0      0       0       0       0       0       0       0   \n",
       "1         0      0      0       0       0       0       0       0       0   \n",
       "2         0      0      0       0       0       0       0       0       0   \n",
       "3         0      0      0       0       0       0       0       0       0   \n",
       "4         0      0      0       0       0       0       0       0       0   \n",
       "...     ...    ...    ...     ...     ...     ...     ...     ...     ...   \n",
       "3495      0      0      0       0       0       0       0       0       0   \n",
       "3496      0      0      0       0       0       0       0       0       0   \n",
       "3497      0      0      0       0       0       0       0       0       0   \n",
       "3498      0      0      0       0       0       0       0       0       0   \n",
       "3499      0      0      0       0       0       0       0       0       0   \n",
       "\n",
       "      BOD5_7  \n",
       "0          0  \n",
       "1          0  \n",
       "2          0  \n",
       "3          0  \n",
       "4          0  \n",
       "...      ...  \n",
       "3495       0  \n",
       "3496       0  \n",
       "3497       0  \n",
       "3498       0  \n",
       "3499       0  \n",
       "\n",
       "[3500 rows x 37 columns]"
      ]
     },
     "execution_count": 65,
     "metadata": {},
     "output_type": "execute_result"
    }
   ],
   "source": [
    "df_ex"
   ]
  },
  {
   "cell_type": "code",
   "execution_count": 56,
   "id": "ff49f220-436e-4953-81f5-2ab9b6f29658",
   "metadata": {},
   "outputs": [],
   "source": [
    "df_ex['target'] = normal_y"
   ]
  },
  {
   "cell_type": "code",
   "execution_count": 57,
   "id": "0afe5b71-8574-49a6-9c7a-e233b4855d5e",
   "metadata": {},
   "outputs": [],
   "source": [
    "df_ex.to_csv('submissions/sub3.csv', index=False)"
   ]
  },
  {
   "cell_type": "code",
   "execution_count": 67,
   "id": "36774a34-60fb-4a8c-99e9-1ce500fc529f",
   "metadata": {},
   "outputs": [],
   "source": [
    "df_ex['target'] = clipped_y_agg"
   ]
  },
  {
   "cell_type": "code",
   "execution_count": 77,
   "id": "7de7159f-15a9-458f-bb7d-71c594972ee3",
   "metadata": {},
   "outputs": [],
   "source": [
    "clipp17 = y_full.clip(7, 17)"
   ]
  },
  {
   "cell_type": "code",
   "execution_count": 78,
   "id": "80ba8b90-0d17-4ce9-bdc4-726b2656d3be",
   "metadata": {},
   "outputs": [
    {
     "data": {
      "text/plain": [
       "17.0"
      ]
     },
     "execution_count": 78,
     "metadata": {},
     "output_type": "execute_result"
    }
   ],
   "source": [
    "# df_ex['target'] = clipp17\n",
    "# df_ex.target.max()"
   ]
  },
  {
   "cell_type": "code",
   "execution_count": 79,
   "id": "789a4e98-c4f3-4389-8375-17369bc24b94",
   "metadata": {},
   "outputs": [],
   "source": [
    "# df_ex.to_csv('sub8-clip_t.csv', index=False)"
   ]
  },
  {
   "cell_type": "markdown",
   "id": "b94bb061-4ea7-428c-9032-34be7e3def77",
   "metadata": {},
   "source": [
    "## Part IV: Clip/Normalize Everything TL;DR Didn't work"
   ]
  },
  {
   "cell_type": "code",
   "execution_count": 60,
   "id": "f9c7f05d-3e08-4fed-a6f2-3a25f7efa7f5",
   "metadata": {},
   "outputs": [
    {
     "data": {
      "text/plain": [
       "Index(['O2_1', 'O2_2', 'NO2_2', 'O2_4'], dtype='object')"
      ]
     },
     "execution_count": 60,
     "metadata": {},
     "output_type": "execute_result"
    }
   ],
   "source": [
    "x_pass.columns"
   ]
  },
  {
   "cell_type": "code",
   "execution_count": 61,
   "id": "34584667-d9ab-48be-ba90-7626b00811c6",
   "metadata": {},
   "outputs": [],
   "source": [
    "o21 = x_pass.iloc[:, 0]\n",
    "o22 = x_pass.iloc[:, 1]\n",
    "bod5 = x_pass.iloc[:, 2]\n",
    "nh4 = x_pass.iloc[:, 3]"
   ]
  },
  {
   "cell_type": "code",
   "execution_count": 229,
   "id": "0477a8c8-e3a5-4d41-98f1-fed28ef6cad3",
   "metadata": {},
   "outputs": [
    {
     "data": {
      "text/plain": [
       "'O2_1'"
      ]
     },
     "execution_count": 229,
     "metadata": {},
     "output_type": "execute_result"
    }
   ],
   "source": [
    "o21.name"
   ]
  },
  {
   "cell_type": "code",
   "execution_count": 132,
   "id": "cbd33efe-a19d-4b69-b1b9-da634fe22e69",
   "metadata": {},
   "outputs": [],
   "source": [
    "def clip_analysis(colu, p_low=.01, p_high =.99):\n",
    "\n",
    "    print(f'CLIPPING ANALYSIS FOR {colu.name}')\n",
    "    p99 = np.round(colu.quantile(p_high))\n",
    "    print(f'{p_high * 100}th percentile: {p99}')\n",
    "\n",
    "    p1 = np.floor(colu.quantile(p_low))\n",
    "    print(f'{p_low * 100}st percentile: {p1}')\n",
    "\n",
    "    z = np.abs(colu[colu< p1]-p1)\n",
    "    print(f'Lower end loss: {np.sum(z)}')\n",
    "\n",
    "    z = np.abs(colu[colu> p99]-p99)\n",
    "    print(f'Higher end loss: {np.sum(z)}\\n####\\n')\n",
    "\n",
    "    colu[(colu> p1)&(colu<p99)].hist(legend=True)"
   ]
  },
  {
   "cell_type": "code",
   "execution_count": 233,
   "id": "ce66b273-d2d3-4328-839f-3945510bd786",
   "metadata": {},
   "outputs": [
    {
     "name": "stdout",
     "output_type": "stream",
     "text": [
      "CLIPPING ANALYSIS FOR O2_1\n",
      "99th percentile: 15.0\n",
      "1st percentile: 4.0\n",
      "Lower end loss: 22.63\n",
      "Higher end loss: 529.883\n",
      "####\n",
      "\n"
     ]
    },
    {
     "data": {
      "image/png": "[encoded data removed]",
      "text/plain": [
       "<Figure size 640x480 with 1 Axes>"
      ]
     },
     "metadata": {},
     "output_type": "display_data"
    }
   ],
   "source": [
    "clip_analysis(ohist)"
   ]
  },
  {
   "cell_type": "code",
   "execution_count": 237,
   "id": "a964fe21-75cb-41ac-bcbb-28c23ef80008",
   "metadata": {},
   "outputs": [
    {
     "name": "stdout",
     "output_type": "stream",
     "text": [
      "CLIPPING ANALYSIS FOR O2_1\n",
      "99th percentile: 15.0\n",
      "1st percentile: 4.0\n",
      "Lower end loss: 22.63\n",
      "Higher end loss: 529.883\n",
      "####\n",
      "\n"
     ]
    },
    {
     "data": {
      "image/png": "[encoded data removed]",
      "text/plain": [
       "<Figure size 640x480 with 1 Axes>"
      ]
     },
     "metadata": {},
     "output_type": "display_data"
    },
    {
     "name": "stdout",
     "output_type": "stream",
     "text": [
      "CLIPPING ANALYSIS FOR O2_2\n",
      "99th percentile: 41.0\n",
      "1st percentile: 4.0\n",
      "Lower end loss: 16.997\n",
      "Higher end loss: 62.15000000000001\n",
      "####\n",
      "\n"
     ]
    },
    {
     "data": {
      "image/png": "[encoded data removed]",
      "text/plain": [
       "<Figure size 640x480 with 1 Axes>"
      ]
     },
     "metadata": {},
     "output_type": "display_data"
    },
    {
     "name": "stdout",
     "output_type": "stream",
     "text": [
      "CLIPPING ANALYSIS FOR BOD5_5\n",
      "99th percentile: 27.0\n",
      "1st percentile: 4.0\n",
      "Lower end loss: 41.45799999999999\n",
      "Higher end loss: 127.50500000000004\n",
      "####\n",
      "\n"
     ]
    },
    {
     "data": {
      "image/png": "[encoded data removed]",
      "text/plain": [
       "<Figure size 640x480 with 1 Axes>"
      ]
     },
     "metadata": {},
     "output_type": "display_data"
    },
    {
     "name": "stdout",
     "output_type": "stream",
     "text": [
      "CLIPPING ANALYSIS FOR NH4_6\n",
      "99th percentile: 1.0\n",
      "1st percentile: 0.0\n",
      "Lower end loss: 0.0\n",
      "Higher end loss: 121.906\n",
      "####\n",
      "\n"
     ]
    },
    {
     "data": {
      "image/png": "[encoded data removed]",
      "text/plain": [
       "<Figure size 640x480 with 1 Axes>"
      ]
     },
     "metadata": {},
     "output_type": "display_data"
    }
   ],
   "source": [
    "for i in x_pass.columns:\n",
    "    clip_analysis(x_pass[i])\n",
    "    plt.show()"
   ]
  },
  {
   "cell_type": "code",
   "execution_count": 240,
   "id": "c1d494e3-0324-4e7d-9b4b-cfcbbb9137fc",
   "metadata": {},
   "outputs": [],
   "source": [
    "x_clipped = x_pass.copy()"
   ]
  },
  {
   "cell_type": "code",
   "execution_count": 243,
   "id": "08d09741-5405-4775-a5c3-cf08e6a42a08",
   "metadata": {},
   "outputs": [
    {
     "data": {
      "text/plain": [
       "Index(['O2_1', 'O2_2', 'BOD5_5', 'NH4_6'], dtype='object')"
      ]
     },
     "execution_count": 243,
     "metadata": {},
     "output_type": "execute_result"
    }
   ],
   "source": [
    "x_clipped.columns"
   ]
  },
  {
   "cell_type": "code",
   "execution_count": 244,
   "id": "7b894066-a4e5-47e1-85b5-52f3d409c299",
   "metadata": {},
   "outputs": [],
   "source": [
    "x_clipped['O2_1'] = x_clipped['O2_1'].clip(4, 15)\n",
    "x_clipped['O2_2'] = x_clipped['O2_2'].clip(4, 41)\n",
    "x_clipped['BOD5_5'] = x_clipped['BOD5_5'].clip(4, 27)\n",
    "x_clipped['NH4_6'] = x_clipped['NH4_6'].clip(0, 1)"
   ]
  },
  {
   "cell_type": "code",
   "execution_count": 245,
   "id": "bb6db502-ed26-46e3-92ee-ed29e7ef9069",
   "metadata": {},
   "outputs": [
    {
     "data": {
      "text/html": [
       "<div>\n",
       "<style scoped>\n",
       "    .dataframe tbody tr th:only-of-type {\n",
       "        vertical-align: middle;\n",
       "    }\n",
       "\n",
       "    .dataframe tbody tr th {\n",
       "        vertical-align: top;\n",
       "    }\n",
       "\n",
       "    .dataframe thead th {\n",
       "        text-align: right;\n",
       "    }\n",
       "</style>\n",
       "<table border=\"1\" class=\"dataframe\">\n",
       "  <thead>\n",
       "    <tr style=\"text-align: right;\">\n",
       "      <th></th>\n",
       "      <th>O2_1</th>\n",
       "      <th>O2_2</th>\n",
       "      <th>BOD5_5</th>\n",
       "      <th>NH4_6</th>\n",
       "    </tr>\n",
       "  </thead>\n",
       "  <tbody>\n",
       "    <tr>\n",
       "      <th>0</th>\n",
       "      <td>7.500</td>\n",
       "      <td>9.000</td>\n",
       "      <td>16.645</td>\n",
       "      <td>1.000</td>\n",
       "    </tr>\n",
       "    <tr>\n",
       "      <th>1</th>\n",
       "      <td>13.533</td>\n",
       "      <td>40.900</td>\n",
       "      <td>5.725</td>\n",
       "      <td>0.280</td>\n",
       "    </tr>\n",
       "    <tr>\n",
       "      <th>2</th>\n",
       "      <td>4.000</td>\n",
       "      <td>5.420</td>\n",
       "      <td>6.750</td>\n",
       "      <td>0.380</td>\n",
       "    </tr>\n",
       "    <tr>\n",
       "      <th>3</th>\n",
       "      <td>8.700</td>\n",
       "      <td>8.100</td>\n",
       "      <td>8.670</td>\n",
       "      <td>1.000</td>\n",
       "    </tr>\n",
       "    <tr>\n",
       "      <th>4</th>\n",
       "      <td>8.050</td>\n",
       "      <td>8.650</td>\n",
       "      <td>8.400</td>\n",
       "      <td>0.280</td>\n",
       "    </tr>\n",
       "    <tr>\n",
       "      <th>...</th>\n",
       "      <td>...</td>\n",
       "      <td>...</td>\n",
       "      <td>...</td>\n",
       "      <td>...</td>\n",
       "    </tr>\n",
       "    <tr>\n",
       "      <th>3495</th>\n",
       "      <td>6.250</td>\n",
       "      <td>8.300</td>\n",
       "      <td>7.695</td>\n",
       "      <td>0.429</td>\n",
       "    </tr>\n",
       "    <tr>\n",
       "      <th>3496</th>\n",
       "      <td>6.630</td>\n",
       "      <td>6.630</td>\n",
       "      <td>8.415</td>\n",
       "      <td>1.000</td>\n",
       "    </tr>\n",
       "    <tr>\n",
       "      <th>3497</th>\n",
       "      <td>8.367</td>\n",
       "      <td>8.433</td>\n",
       "      <td>8.400</td>\n",
       "      <td>0.310</td>\n",
       "    </tr>\n",
       "    <tr>\n",
       "      <th>3498</th>\n",
       "      <td>10.000</td>\n",
       "      <td>6.630</td>\n",
       "      <td>6.750</td>\n",
       "      <td>1.000</td>\n",
       "    </tr>\n",
       "    <tr>\n",
       "      <th>3499</th>\n",
       "      <td>8.500</td>\n",
       "      <td>8.100</td>\n",
       "      <td>8.415</td>\n",
       "      <td>0.380</td>\n",
       "    </tr>\n",
       "  </tbody>\n",
       "</table>\n",
       "<p>3500 rows × 4 columns</p>\n",
       "</div>"
      ],
      "text/plain": [
       "        O2_1    O2_2  BOD5_5  NH4_6\n",
       "0      7.500   9.000  16.645  1.000\n",
       "1     13.533  40.900   5.725  0.280\n",
       "2      4.000   5.420   6.750  0.380\n",
       "3      8.700   8.100   8.670  1.000\n",
       "4      8.050   8.650   8.400  0.280\n",
       "...      ...     ...     ...    ...\n",
       "3495   6.250   8.300   7.695  0.429\n",
       "3496   6.630   6.630   8.415  1.000\n",
       "3497   8.367   8.433   8.400  0.310\n",
       "3498  10.000   6.630   6.750  1.000\n",
       "3499   8.500   8.100   8.415  0.380\n",
       "\n",
       "[3500 rows x 4 columns]"
      ]
     },
     "execution_count": 245,
     "metadata": {},
     "output_type": "execute_result"
    }
   ],
   "source": [
    "x_clipped"
   ]
  },
  {
   "cell_type": "code",
   "execution_count": 247,
   "id": "8d12421e-ca13-44fc-afa5-88a471ec89f6",
   "metadata": {},
   "outputs": [],
   "source": [
    "x_clipped = x_clipped.round(2)"
   ]
  },
  {
   "cell_type": "code",
   "execution_count": 248,
   "id": "ed986d07-a538-4600-bda5-067e529dd721",
   "metadata": {},
   "outputs": [],
   "source": [
    "df_ex[x_clipped.columns] = x_clipped"
   ]
  },
  {
   "cell_type": "code",
   "execution_count": 251,
   "id": "2cddbc87-f954-4d02-a592-bd23647b64ca",
   "metadata": {},
   "outputs": [
    {
     "data": {
      "text/html": [
       "<div>\n",
       "<style scoped>\n",
       "    .dataframe tbody tr th:only-of-type {\n",
       "        vertical-align: middle;\n",
       "    }\n",
       "\n",
       "    .dataframe tbody tr th {\n",
       "        vertical-align: top;\n",
       "    }\n",
       "\n",
       "    .dataframe thead th {\n",
       "        text-align: right;\n",
       "    }\n",
       "</style>\n",
       "<table border=\"1\" class=\"dataframe\">\n",
       "  <thead>\n",
       "    <tr style=\"text-align: right;\">\n",
       "      <th></th>\n",
       "      <th>id</th>\n",
       "      <th>target</th>\n",
       "      <th>O2_1</th>\n",
       "      <th>O2_2</th>\n",
       "      <th>O2_3</th>\n",
       "      <th>O2_4</th>\n",
       "      <th>O2_5</th>\n",
       "      <th>O2_6</th>\n",
       "      <th>O2_7</th>\n",
       "      <th>NH4_1</th>\n",
       "      <th>...</th>\n",
       "      <th>NO3_5</th>\n",
       "      <th>NO3_6</th>\n",
       "      <th>NO3_7</th>\n",
       "      <th>BOD5_1</th>\n",
       "      <th>BOD5_2</th>\n",
       "      <th>BOD5_3</th>\n",
       "      <th>BOD5_4</th>\n",
       "      <th>BOD5_5</th>\n",
       "      <th>BOD5_6</th>\n",
       "      <th>BOD5_7</th>\n",
       "    </tr>\n",
       "  </thead>\n",
       "  <tbody>\n",
       "    <tr>\n",
       "      <th>0</th>\n",
       "      <td>0</td>\n",
       "      <td>8.59</td>\n",
       "      <td>7.50</td>\n",
       "      <td>9.00</td>\n",
       "      <td>0</td>\n",
       "      <td>0</td>\n",
       "      <td>0</td>\n",
       "      <td>0</td>\n",
       "      <td>0</td>\n",
       "      <td>0</td>\n",
       "      <td>...</td>\n",
       "      <td>0</td>\n",
       "      <td>0</td>\n",
       "      <td>0</td>\n",
       "      <td>0</td>\n",
       "      <td>0</td>\n",
       "      <td>0</td>\n",
       "      <td>0</td>\n",
       "      <td>16.64</td>\n",
       "      <td>0</td>\n",
       "      <td>0</td>\n",
       "    </tr>\n",
       "    <tr>\n",
       "      <th>1</th>\n",
       "      <td>0</td>\n",
       "      <td>9.10</td>\n",
       "      <td>13.53</td>\n",
       "      <td>40.90</td>\n",
       "      <td>0</td>\n",
       "      <td>0</td>\n",
       "      <td>0</td>\n",
       "      <td>0</td>\n",
       "      <td>0</td>\n",
       "      <td>0</td>\n",
       "      <td>...</td>\n",
       "      <td>0</td>\n",
       "      <td>0</td>\n",
       "      <td>0</td>\n",
       "      <td>0</td>\n",
       "      <td>0</td>\n",
       "      <td>0</td>\n",
       "      <td>0</td>\n",
       "      <td>5.72</td>\n",
       "      <td>0</td>\n",
       "      <td>0</td>\n",
       "    </tr>\n",
       "    <tr>\n",
       "      <th>2</th>\n",
       "      <td>0</td>\n",
       "      <td>8.21</td>\n",
       "      <td>4.00</td>\n",
       "      <td>5.42</td>\n",
       "      <td>0</td>\n",
       "      <td>0</td>\n",
       "      <td>0</td>\n",
       "      <td>0</td>\n",
       "      <td>0</td>\n",
       "      <td>0</td>\n",
       "      <td>...</td>\n",
       "      <td>0</td>\n",
       "      <td>0</td>\n",
       "      <td>0</td>\n",
       "      <td>0</td>\n",
       "      <td>0</td>\n",
       "      <td>0</td>\n",
       "      <td>0</td>\n",
       "      <td>6.75</td>\n",
       "      <td>0</td>\n",
       "      <td>0</td>\n",
       "    </tr>\n",
       "    <tr>\n",
       "      <th>3</th>\n",
       "      <td>0</td>\n",
       "      <td>8.39</td>\n",
       "      <td>8.70</td>\n",
       "      <td>8.10</td>\n",
       "      <td>0</td>\n",
       "      <td>0</td>\n",
       "      <td>0</td>\n",
       "      <td>0</td>\n",
       "      <td>0</td>\n",
       "      <td>0</td>\n",
       "      <td>...</td>\n",
       "      <td>0</td>\n",
       "      <td>0</td>\n",
       "      <td>0</td>\n",
       "      <td>0</td>\n",
       "      <td>0</td>\n",
       "      <td>0</td>\n",
       "      <td>0</td>\n",
       "      <td>8.67</td>\n",
       "      <td>0</td>\n",
       "      <td>0</td>\n",
       "    </tr>\n",
       "    <tr>\n",
       "      <th>4</th>\n",
       "      <td>0</td>\n",
       "      <td>8.07</td>\n",
       "      <td>8.05</td>\n",
       "      <td>8.65</td>\n",
       "      <td>0</td>\n",
       "      <td>0</td>\n",
       "      <td>0</td>\n",
       "      <td>0</td>\n",
       "      <td>0</td>\n",
       "      <td>0</td>\n",
       "      <td>...</td>\n",
       "      <td>0</td>\n",
       "      <td>0</td>\n",
       "      <td>0</td>\n",
       "      <td>0</td>\n",
       "      <td>0</td>\n",
       "      <td>0</td>\n",
       "      <td>0</td>\n",
       "      <td>8.40</td>\n",
       "      <td>0</td>\n",
       "      <td>0</td>\n",
       "    </tr>\n",
       "    <tr>\n",
       "      <th>...</th>\n",
       "      <td>...</td>\n",
       "      <td>...</td>\n",
       "      <td>...</td>\n",
       "      <td>...</td>\n",
       "      <td>...</td>\n",
       "      <td>...</td>\n",
       "      <td>...</td>\n",
       "      <td>...</td>\n",
       "      <td>...</td>\n",
       "      <td>...</td>\n",
       "      <td>...</td>\n",
       "      <td>...</td>\n",
       "      <td>...</td>\n",
       "      <td>...</td>\n",
       "      <td>...</td>\n",
       "      <td>...</td>\n",
       "      <td>...</td>\n",
       "      <td>...</td>\n",
       "      <td>...</td>\n",
       "      <td>...</td>\n",
       "      <td>...</td>\n",
       "    </tr>\n",
       "    <tr>\n",
       "      <th>3495</th>\n",
       "      <td>0</td>\n",
       "      <td>8.08</td>\n",
       "      <td>6.25</td>\n",
       "      <td>8.30</td>\n",
       "      <td>0</td>\n",
       "      <td>0</td>\n",
       "      <td>0</td>\n",
       "      <td>0</td>\n",
       "      <td>0</td>\n",
       "      <td>0</td>\n",
       "      <td>...</td>\n",
       "      <td>0</td>\n",
       "      <td>0</td>\n",
       "      <td>0</td>\n",
       "      <td>0</td>\n",
       "      <td>0</td>\n",
       "      <td>0</td>\n",
       "      <td>0</td>\n",
       "      <td>7.70</td>\n",
       "      <td>0</td>\n",
       "      <td>0</td>\n",
       "    </tr>\n",
       "    <tr>\n",
       "      <th>3496</th>\n",
       "      <td>0</td>\n",
       "      <td>8.09</td>\n",
       "      <td>6.63</td>\n",
       "      <td>6.63</td>\n",
       "      <td>0</td>\n",
       "      <td>0</td>\n",
       "      <td>0</td>\n",
       "      <td>0</td>\n",
       "      <td>0</td>\n",
       "      <td>0</td>\n",
       "      <td>...</td>\n",
       "      <td>0</td>\n",
       "      <td>0</td>\n",
       "      <td>0</td>\n",
       "      <td>0</td>\n",
       "      <td>0</td>\n",
       "      <td>0</td>\n",
       "      <td>0</td>\n",
       "      <td>8.41</td>\n",
       "      <td>0</td>\n",
       "      <td>0</td>\n",
       "    </tr>\n",
       "    <tr>\n",
       "      <th>3497</th>\n",
       "      <td>0</td>\n",
       "      <td>9.95</td>\n",
       "      <td>8.37</td>\n",
       "      <td>8.43</td>\n",
       "      <td>0</td>\n",
       "      <td>0</td>\n",
       "      <td>0</td>\n",
       "      <td>0</td>\n",
       "      <td>0</td>\n",
       "      <td>0</td>\n",
       "      <td>...</td>\n",
       "      <td>0</td>\n",
       "      <td>0</td>\n",
       "      <td>0</td>\n",
       "      <td>0</td>\n",
       "      <td>0</td>\n",
       "      <td>0</td>\n",
       "      <td>0</td>\n",
       "      <td>8.40</td>\n",
       "      <td>0</td>\n",
       "      <td>0</td>\n",
       "    </tr>\n",
       "    <tr>\n",
       "      <th>3498</th>\n",
       "      <td>0</td>\n",
       "      <td>9.52</td>\n",
       "      <td>10.00</td>\n",
       "      <td>6.63</td>\n",
       "      <td>0</td>\n",
       "      <td>0</td>\n",
       "      <td>0</td>\n",
       "      <td>0</td>\n",
       "      <td>0</td>\n",
       "      <td>0</td>\n",
       "      <td>...</td>\n",
       "      <td>0</td>\n",
       "      <td>0</td>\n",
       "      <td>0</td>\n",
       "      <td>0</td>\n",
       "      <td>0</td>\n",
       "      <td>0</td>\n",
       "      <td>0</td>\n",
       "      <td>6.75</td>\n",
       "      <td>0</td>\n",
       "      <td>0</td>\n",
       "    </tr>\n",
       "    <tr>\n",
       "      <th>3499</th>\n",
       "      <td>0</td>\n",
       "      <td>8.51</td>\n",
       "      <td>8.50</td>\n",
       "      <td>8.10</td>\n",
       "      <td>0</td>\n",
       "      <td>0</td>\n",
       "      <td>0</td>\n",
       "      <td>0</td>\n",
       "      <td>0</td>\n",
       "      <td>0</td>\n",
       "      <td>...</td>\n",
       "      <td>0</td>\n",
       "      <td>0</td>\n",
       "      <td>0</td>\n",
       "      <td>0</td>\n",
       "      <td>0</td>\n",
       "      <td>0</td>\n",
       "      <td>0</td>\n",
       "      <td>8.41</td>\n",
       "      <td>0</td>\n",
       "      <td>0</td>\n",
       "    </tr>\n",
       "  </tbody>\n",
       "</table>\n",
       "<p>3500 rows × 37 columns</p>\n",
       "</div>"
      ],
      "text/plain": [
       "      id  target   O2_1   O2_2  O2_3  O2_4  O2_5  O2_6  O2_7  NH4_1  ...  \\\n",
       "0      0    8.59   7.50   9.00     0     0     0     0     0      0  ...   \n",
       "1      0    9.10  13.53  40.90     0     0     0     0     0      0  ...   \n",
       "2      0    8.21   4.00   5.42     0     0     0     0     0      0  ...   \n",
       "3      0    8.39   8.70   8.10     0     0     0     0     0      0  ...   \n",
       "4      0    8.07   8.05   8.65     0     0     0     0     0      0  ...   \n",
       "...   ..     ...    ...    ...   ...   ...   ...   ...   ...    ...  ...   \n",
       "3495   0    8.08   6.25   8.30     0     0     0     0     0      0  ...   \n",
       "3496   0    8.09   6.63   6.63     0     0     0     0     0      0  ...   \n",
       "3497   0    9.95   8.37   8.43     0     0     0     0     0      0  ...   \n",
       "3498   0    9.52  10.00   6.63     0     0     0     0     0      0  ...   \n",
       "3499   0    8.51   8.50   8.10     0     0     0     0     0      0  ...   \n",
       "\n",
       "      NO3_5  NO3_6  NO3_7  BOD5_1  BOD5_2  BOD5_3  BOD5_4  BOD5_5  BOD5_6  \\\n",
       "0         0      0      0       0       0       0       0   16.64       0   \n",
       "1         0      0      0       0       0       0       0    5.72       0   \n",
       "2         0      0      0       0       0       0       0    6.75       0   \n",
       "3         0      0      0       0       0       0       0    8.67       0   \n",
       "4         0      0      0       0       0       0       0    8.40       0   \n",
       "...     ...    ...    ...     ...     ...     ...     ...     ...     ...   \n",
       "3495      0      0      0       0       0       0       0    7.70       0   \n",
       "3496      0      0      0       0       0       0       0    8.41       0   \n",
       "3497      0      0      0       0       0       0       0    8.40       0   \n",
       "3498      0      0      0       0       0       0       0    6.75       0   \n",
       "3499      0      0      0       0       0       0       0    8.41       0   \n",
       "\n",
       "      BOD5_7  \n",
       "0          0  \n",
       "1          0  \n",
       "2          0  \n",
       "3          0  \n",
       "4          0  \n",
       "...      ...  \n",
       "3495       0  \n",
       "3496       0  \n",
       "3497       0  \n",
       "3498       0  \n",
       "3499       0  \n",
       "\n",
       "[3500 rows x 37 columns]"
      ]
     },
     "execution_count": 251,
     "metadata": {},
     "output_type": "execute_result"
    }
   ],
   "source": [
    "df_ex"
   ]
  },
  {
   "cell_type": "code",
   "execution_count": 253,
   "id": "77067426-404d-47e5-9ed4-e2d3b33e872c",
   "metadata": {},
   "outputs": [],
   "source": [
    "df_ex.to_csv('sub5-all-clip.csv', index=False)"
   ]
  },
  {
   "cell_type": "markdown",
   "id": "03c0ca39-fa65-45c5-afe3-46735b812135",
   "metadata": {},
   "source": [
    "## PART V: COMPARE CLIPS\n",
    "\n",
    "I still think we have to analyse 5 feature model more and compare clipping ranges."
   ]
  },
  {
   "cell_type": "code",
   "execution_count": 63,
   "id": "7cd32db3-1f00-44d5-922f-b6c9a0782051",
   "metadata": {},
   "outputs": [
    {
     "name": "stdout",
     "output_type": "stream",
     "text": [
      "CLIPPING ANALYSIS FOR target\n",
      "95.0th percentile: 11.0\n",
      "5.0st percentile: 6.0\n",
      "Lower end loss: 82.64999999999999\n",
      "Higher end loss: 418.46000000000004\n",
      "####\n",
      "\n"
     ]
    },
    {
     "data": {
      "image/png": "[encoded data removed]",
      "text/plain": [
       "<Figure size 640x480 with 1 Axes>"
      ]
     },
     "metadata": {},
     "output_type": "display_data"
    }
   ],
   "source": [
    "clip_analysis(y_full, p_low=.05, p_high =.95)"
   ]
  },
  {
   "cell_type": "code",
   "execution_count": 64,
   "id": "5abf1108-3646-42da-9e99-004e0c9b803b",
   "metadata": {},
   "outputs": [
    {
     "name": "stdout",
     "output_type": "stream",
     "text": [
      "CLIPPING ANALYSIS FOR target\n",
      "90.0th percentile: 10.0\n",
      "10.0st percentile: 7.0\n",
      "Lower end loss: 231.97000000000003\n",
      "Higher end loss: 614.27\n",
      "####\n",
      "\n"
     ]
    },
    {
     "data": {
      "image/png": "[encoded data removed]",
      "text/plain": [
       "<Figure size 640x480 with 1 Axes>"
      ]
     },
     "metadata": {},
     "output_type": "display_data"
    }
   ],
   "source": [
    "clip_analysis(y_full, p_low=.1, p_high =.9)"
   ]
  },
  {
   "cell_type": "code",
   "execution_count": 286,
   "id": "22043694-11ae-4c8a-b016-9f194c3f7f00",
   "metadata": {},
   "outputs": [],
   "source": [
    "clipped_y_iqr = y_full.clip(7, 9) # For IQR percent\n",
    "clipped_y15 = y_full.clip(7, 10) # For 15 percent\n",
    "clipped_y10 = y_full.clip(6, 11) # For 10 percent\n",
    "clipped_y5 = y_full.clip(5, 11) # For 5 percent\n",
    "clipped_y2 = y_full.clip(5, 16) # For 2 percent"
   ]
  },
  {
   "cell_type": "code",
   "execution_count": 287,
   "id": "b2ea7639-9439-4521-a2a9-b21f530f0be4",
   "metadata": {},
   "outputs": [],
   "source": [
    "x_train_c_iqr, x_test_c_iqr, y_train_c_iqr, y_test_c_iqr = train_test_split(x_clipped, clipped_y_iqr, test_size=0.2)\n",
    "x_train_c15, x_test_c15, y_train_c15, y_test_c15 = train_test_split(x_clipped, clipped_y15, test_size=0.2)\n",
    "x_train_c10, x_test_c10, y_train_c10, y_test_c10 = train_test_split(x_clipped, clipped_y10, test_size=0.2)\n",
    "x_train_c5, x_test_c5, y_train_c5, y_test_c5 = train_test_split(x_clipped, clipped_y5, test_size=0.2)\n",
    "x_train_c2, x_test_c2, y_train_c2, y_test_c2 = train_test_split(x_clipped, clipped_y2, test_size=0.2)"
   ]
  },
  {
   "cell_type": "code",
   "execution_count": 274,
   "id": "843a5556-54f6-4f47-9c16-30659de045d3",
   "metadata": {},
   "outputs": [
    {
     "data": {
      "text/plain": [
       "0.7281659216668053"
      ]
     },
     "execution_count": 274,
     "metadata": {},
     "output_type": "execute_result"
    }
   ],
   "source": [
    "rfr_clipped_10 = RandomForestRegressor(\n",
    "       n_estimators=1000,\n",
    "       max_depth=7,\n",
    "       n_jobs=-1,\n",
    "       random_state=42)\n",
    "\n",
    "rfr_clipped_10.fit(x_train_c10, y_train_c10)\n",
    "rfr_clipped_10_pred = rfr_clipped_10.predict(x_test_c10)\n",
    "mean_squared_error(y_test_c10, rfr_clipped_10_pred)"
   ]
  },
  {
   "cell_type": "code",
   "execution_count": 276,
   "id": "275914ca-e084-457b-b800-de791110249e",
   "metadata": {},
   "outputs": [
    {
     "data": {
      "text/plain": [
       "0.763762613056037"
      ]
     },
     "execution_count": 276,
     "metadata": {},
     "output_type": "execute_result"
    }
   ],
   "source": [
    "rfr_clipped_5 = RandomForestRegressor(\n",
    "       n_estimators=1000,\n",
    "       max_depth=7,\n",
    "       n_jobs=-1,\n",
    "       random_state=42)\n",
    "\n",
    "rfr_clipped_5.fit(x_train_c5, y_train_c5)\n",
    "rfr_clipped_5_pred = rfr_clipped_5.predict(x_test_c5)\n",
    "mean_squared_error(y_test_c5, rfr_clipped_5_pred)"
   ]
  },
  {
   "cell_type": "code",
   "execution_count": 277,
   "id": "460d97f7-bc2b-4744-877e-4b1254837605",
   "metadata": {},
   "outputs": [
    {
     "data": {
      "text/plain": [
       "1.105122554808914"
      ]
     },
     "execution_count": 277,
     "metadata": {},
     "output_type": "execute_result"
    }
   ],
   "source": [
    "rfr_clipped_2 = RandomForestRegressor(\n",
    "       n_estimators=1000,\n",
    "       max_depth=7,\n",
    "       n_jobs=-1,\n",
    "       random_state=42)\n",
    "\n",
    "rfr_clipped_2.fit(x_train_c2, y_train_c2)\n",
    "rfr_clipped_2_pred = rfr_clipped_2.predict(x_test_c2)\n",
    "mean_squared_error(y_test_c2, rfr_clipped_2_pred)"
   ]
  },
  {
   "cell_type": "code",
   "execution_count": 281,
   "id": "112a5be6-97b0-4302-a2f1-c49531d9d78b",
   "metadata": {},
   "outputs": [
    {
     "data": {
      "text/plain": [
       "0.5395887953158884"
      ]
     },
     "execution_count": 281,
     "metadata": {},
     "output_type": "execute_result"
    }
   ],
   "source": [
    "rfr_clipped_15 = RandomForestRegressor(\n",
    "       n_estimators=1000,\n",
    "       max_depth=7,\n",
    "       n_jobs=-1,\n",
    "       random_state=42)\n",
    "\n",
    "rfr_clipped_15.fit(x_train_c15, y_train_c15)\n",
    "rfr_clipped_15_pred = rfr_clipped_15.predict(x_test_c15)\n",
    "mean_squared_error(y_test_c15, rfr_clipped_15_pred)"
   ]
  },
  {
   "cell_type": "code",
   "execution_count": 288,
   "id": "f45bc78b-5137-4416-824e-35fdd095a07b",
   "metadata": {},
   "outputs": [
    {
     "data": {
      "text/plain": [
       "0.33495876494678833"
      ]
     },
     "execution_count": 288,
     "metadata": {},
     "output_type": "execute_result"
    }
   ],
   "source": [
    "rfr_clipped_iqr = RandomForestRegressor(\n",
    "       n_estimators=1000,\n",
    "       max_depth=7,\n",
    "       n_jobs=-1,\n",
    "       random_state=42)\n",
    "\n",
    "rfr_clipped_iqr.fit(x_train_c_iqr, y_train_c_iqr)\n",
    "rfr_clipped_iqr_pred = rfr_clipped_iqr.predict(x_test_c_iqr)\n",
    "mean_squared_error(y_test_c_iqr, rfr_clipped_iqr_pred)"
   ]
  },
  {
   "cell_type": "markdown",
   "id": "15f3532f-609a-40ec-bbc4-d77c6b1b1561",
   "metadata": {},
   "source": [
    "OK the interquartile range is the best for clipping the outliers."
   ]
  },
  {
   "cell_type": "code",
   "execution_count": 290,
   "id": "c12e8014-359e-4098-b589-24d77137c2e4",
   "metadata": {},
   "outputs": [],
   "source": [
    "df_ex['target'] = clipped_y_iqr\n",
    "df_ex.to_csv('sub6-iqr.csv', index=False)"
   ]
  },
  {
   "cell_type": "markdown",
   "id": "62c2f563-a89a-4ebf-b1f5-fcb5a10b5ff8",
   "metadata": {},
   "source": [
    "**KAGGLE GAVE: 1.8 which is bad**\n",
    "\n",
    "The best score which 1.35 was attained by `clipped_y_loose = y_full.clip(7, 15)`"
   ]
  },
  {
   "cell_type": "code",
   "execution_count": 97,
   "id": "95f4cdf4-f56e-416d-a0ba-58533f932f34",
   "metadata": {},
   "outputs": [
    {
     "data": {
      "text/plain": [
       "1     0.656002\n",
       "33    0.112550\n",
       "2     0.045424\n",
       "13    0.014867\n",
       "4     0.010481\n",
       "dtype: float64"
      ]
     },
     "execution_count": 97,
     "metadata": {},
     "output_type": "execute_result"
    }
   ],
   "source": [
    "imporatnces[:5]"
   ]
  },
  {
   "cell_type": "code",
   "execution_count": 103,
   "id": "bfb02dad-039b-409f-832c-23500ac84364",
   "metadata": {},
   "outputs": [],
   "source": [
    "columns = imporatnces[:5].index + 1"
   ]
  },
  {
   "cell_type": "code",
   "execution_count": 105,
   "id": "e427b044-2245-48b6-b9d1-7fe15cea7132",
   "metadata": {},
   "outputs": [],
   "source": [
    "x_pass_2 = df.iloc[:, columns]"
   ]
  },
  {
   "cell_type": "code",
   "execution_count": 118,
   "id": "efb90305-6e31-406e-aec0-300cc530046c",
   "metadata": {},
   "outputs": [
    {
     "data": {
      "text/plain": [
       "\u001b[0;31mSignature:\u001b[0m \u001b[0mclip_analysis\u001b[0m\u001b[0;34m(\u001b[0m\u001b[0mcolu\u001b[0m\u001b[0;34m,\u001b[0m \u001b[0mp_low\u001b[0m\u001b[0;34m=\u001b[0m\u001b[0;36m0.01\u001b[0m\u001b[0;34m,\u001b[0m \u001b[0mp_high\u001b[0m\u001b[0;34m=\u001b[0m\u001b[0;36m0.99\u001b[0m\u001b[0;34m)\u001b[0m\u001b[0;34m\u001b[0m\u001b[0;34m\u001b[0m\u001b[0m\n",
       "\u001b[0;31mDocstring:\u001b[0m <no docstring>\n",
       "\u001b[0;31mSource:\u001b[0m   \n",
       "\u001b[0;32mdef\u001b[0m \u001b[0mclip_analysis\u001b[0m\u001b[0;34m(\u001b[0m\u001b[0mcolu\u001b[0m\u001b[0;34m,\u001b[0m \u001b[0mp_low\u001b[0m\u001b[0;34m=\u001b[0m\u001b[0;36m.01\u001b[0m\u001b[0;34m,\u001b[0m \u001b[0mp_high\u001b[0m \u001b[0;34m=\u001b[0m\u001b[0;36m.99\u001b[0m\u001b[0;34m)\u001b[0m\u001b[0;34m:\u001b[0m\u001b[0;34m\u001b[0m\n",
       "\u001b[0;34m\u001b[0m\u001b[0;34m\u001b[0m\n",
       "\u001b[0;34m\u001b[0m    \u001b[0mprint\u001b[0m\u001b[0;34m(\u001b[0m\u001b[0;34mf'CLIPPING ANALYSIS FOR {colu.name}'\u001b[0m\u001b[0;34m)\u001b[0m\u001b[0;34m\u001b[0m\n",
       "\u001b[0;34m\u001b[0m    \u001b[0mp99\u001b[0m \u001b[0;34m=\u001b[0m \u001b[0mnp\u001b[0m\u001b[0;34m.\u001b[0m\u001b[0mround\u001b[0m\u001b[0;34m(\u001b[0m\u001b[0mcolu\u001b[0m\u001b[0;34m.\u001b[0m\u001b[0mquantile\u001b[0m\u001b[0;34m(\u001b[0m\u001b[0mp_high\u001b[0m\u001b[0;34m)\u001b[0m\u001b[0;34m)\u001b[0m\u001b[0;34m\u001b[0m\n",
       "\u001b[0;34m\u001b[0m    \u001b[0mprint\u001b[0m\u001b[0;34m(\u001b[0m\u001b[0;34mf'{p_high * 100}th percentile: {p99}'\u001b[0m\u001b[0;34m)\u001b[0m\u001b[0;34m\u001b[0m\n",
       "\u001b[0;34m\u001b[0m\u001b[0;34m\u001b[0m\n",
       "\u001b[0;34m\u001b[0m    \u001b[0mp1\u001b[0m \u001b[0;34m=\u001b[0m \u001b[0mnp\u001b[0m\u001b[0;34m.\u001b[0m\u001b[0mfloor\u001b[0m\u001b[0;34m(\u001b[0m\u001b[0mcolu\u001b[0m\u001b[0;34m.\u001b[0m\u001b[0mquantile\u001b[0m\u001b[0;34m(\u001b[0m\u001b[0mp_low\u001b[0m\u001b[0;34m)\u001b[0m\u001b[0;34m)\u001b[0m\u001b[0;34m\u001b[0m\n",
       "\u001b[0;34m\u001b[0m    \u001b[0mprint\u001b[0m\u001b[0;34m(\u001b[0m\u001b[0;34mf'{p_low * 100}st percentile: {p1}'\u001b[0m\u001b[0;34m)\u001b[0m\u001b[0;34m\u001b[0m\n",
       "\u001b[0;34m\u001b[0m\u001b[0;34m\u001b[0m\n",
       "\u001b[0;34m\u001b[0m    \u001b[0mz\u001b[0m \u001b[0;34m=\u001b[0m \u001b[0mnp\u001b[0m\u001b[0;34m.\u001b[0m\u001b[0mabs\u001b[0m\u001b[0;34m(\u001b[0m\u001b[0mcolu\u001b[0m\u001b[0;34m[\u001b[0m\u001b[0mcolu\u001b[0m\u001b[0;34m<\u001b[0m \u001b[0mp1\u001b[0m\u001b[0;34m]\u001b[0m\u001b[0;34m-\u001b[0m\u001b[0mp1\u001b[0m\u001b[0;34m)\u001b[0m\u001b[0;34m\u001b[0m\n",
       "\u001b[0;34m\u001b[0m    \u001b[0mprint\u001b[0m\u001b[0;34m(\u001b[0m\u001b[0;34mf'Lower end loss: {np.sum(z)}'\u001b[0m\u001b[0;34m)\u001b[0m\u001b[0;34m\u001b[0m\n",
       "\u001b[0;34m\u001b[0m\u001b[0;34m\u001b[0m\n",
       "\u001b[0;34m\u001b[0m    \u001b[0mz\u001b[0m \u001b[0;34m=\u001b[0m \u001b[0mnp\u001b[0m\u001b[0;34m.\u001b[0m\u001b[0mabs\u001b[0m\u001b[0;34m(\u001b[0m\u001b[0mcolu\u001b[0m\u001b[0;34m[\u001b[0m\u001b[0mcolu\u001b[0m\u001b[0;34m>\u001b[0m \u001b[0mp99\u001b[0m\u001b[0;34m]\u001b[0m\u001b[0;34m-\u001b[0m\u001b[0mp99\u001b[0m\u001b[0;34m)\u001b[0m\u001b[0;34m\u001b[0m\n",
       "\u001b[0;34m\u001b[0m    \u001b[0mprint\u001b[0m\u001b[0;34m(\u001b[0m\u001b[0;34mf'Higher end loss: {np.sum(z)}\\n####\\n'\u001b[0m\u001b[0;34m)\u001b[0m\u001b[0;34m\u001b[0m\n",
       "\u001b[0;34m\u001b[0m\u001b[0;34m\u001b[0m\n",
       "\u001b[0;34m\u001b[0m    \u001b[0mcolu\u001b[0m\u001b[0;34m[\u001b[0m\u001b[0;34m(\u001b[0m\u001b[0mcolu\u001b[0m\u001b[0;34m>\u001b[0m \u001b[0mp1\u001b[0m\u001b[0;34m)\u001b[0m\u001b[0;34m&\u001b[0m\u001b[0;34m(\u001b[0m\u001b[0mcolu\u001b[0m\u001b[0;34m<\u001b[0m\u001b[0mp99\u001b[0m\u001b[0;34m)\u001b[0m\u001b[0;34m]\u001b[0m\u001b[0;34m.\u001b[0m\u001b[0mhist\u001b[0m\u001b[0;34m(\u001b[0m\u001b[0;34m)\u001b[0m\u001b[0;34m\u001b[0m\u001b[0;34m\u001b[0m\u001b[0m\n",
       "\u001b[0;31mFile:\u001b[0m      /var/folders/lb/05l0197j4wdgmqspj9s7bgjc0000gn/T/ipykernel_2336/2885431343.py\n",
       "\u001b[0;31mType:\u001b[0m      function"
      ]
     },
     "metadata": {},
     "output_type": "display_data"
    }
   ],
   "source": [
    "clip_analysis??"
   ]
  },
  {
   "cell_type": "code",
   "execution_count": 134,
   "id": "86e9eef7-d842-4c09-96c5-15e4d298f775",
   "metadata": {},
   "outputs": [
    {
     "name": "stdout",
     "output_type": "stream",
     "text": [
      "CLIPPING ANALYSIS FOR O2_1\n",
      "99.0th percentile: 15.0\n",
      "1.0st percentile: 4.0\n",
      "Lower end loss: 22.63\n",
      "Higher end loss: 529.883\n",
      "####\n",
      "\n",
      "CLIPPING ANALYSIS FOR BOD5_5\n",
      "99.0th percentile: 27.0\n",
      "1.0st percentile: 4.0\n",
      "Lower end loss: 41.45799999999999\n",
      "Higher end loss: 127.50500000000004\n",
      "####\n",
      "\n",
      "CLIPPING ANALYSIS FOR O2_2\n",
      "99.0th percentile: 41.0\n",
      "1.0st percentile: 4.0\n",
      "Lower end loss: 16.997\n",
      "Higher end loss: 62.15000000000001\n",
      "####\n",
      "\n",
      "CLIPPING ANALYSIS FOR NH4_6\n",
      "99.0th percentile: 1.0\n",
      "1.0st percentile: 0.0\n",
      "Lower end loss: 0.0\n",
      "Higher end loss: 121.906\n",
      "####\n",
      "\n",
      "CLIPPING ANALYSIS FOR O2_4\n",
      "99.0th percentile: 11.0\n",
      "1.0st percentile: 5.0\n",
      "Lower end loss: 12.819999999999997\n",
      "Higher end loss: 128.275\n",
      "####\n",
      "\n"
     ]
    },
    {
     "data": {
      "image/png": "[encoded data removed]",
      "text/plain": [
       "<Figure size 640x480 with 1 Axes>"
      ]
     },
     "metadata": {},
     "output_type": "display_data"
    }
   ],
   "source": [
    "for i in x_pass_2:\n",
    "    clip_analysis(x_pass_2[i],p_low=.01, p_high=.99)"
   ]
  },
  {
   "cell_type": "code",
   "execution_count": 157,
   "id": "6e9d4672-ff5d-4d73-94b3-84f8b549ffc2",
   "metadata": {},
   "outputs": [],
   "source": [
    "df_ex = df.copy()"
   ]
  },
  {
   "cell_type": "code",
   "execution_count": 159,
   "id": "27acd4b9-01da-401b-8809-c89eb4a06b9c",
   "metadata": {},
   "outputs": [
    {
     "name": "stderr",
     "output_type": "stream",
     "text": [
      "/var/folders/lb/05l0197j4wdgmqspj9s7bgjc0000gn/T/ipykernel_2336/4048276789.py:1: DeprecationWarning: In a future version, `df.iloc[:, i] = newvals` will attempt to set the values inplace instead of always setting a new array. To retain the old behavior, use either `df[df.columns[i]] = newvals` or, if columns are non-unique, `df.isetitem(i, newvals)`\n",
      "  df_ex[:] =0\n"
     ]
    }
   ],
   "source": [
    "df_ex[:] =0"
   ]
  },
  {
   "cell_type": "code",
   "execution_count": 160,
   "id": "4c7cc713-f94e-49f4-bc80-d6eb281db2c7",
   "metadata": {},
   "outputs": [
    {
     "data": {
      "text/html": [
       "<div>\n",
       "<style scoped>\n",
       "    .dataframe tbody tr th:only-of-type {\n",
       "        vertical-align: middle;\n",
       "    }\n",
       "\n",
       "    .dataframe tbody tr th {\n",
       "        vertical-align: top;\n",
       "    }\n",
       "\n",
       "    .dataframe thead th {\n",
       "        text-align: right;\n",
       "    }\n",
       "</style>\n",
       "<table border=\"1\" class=\"dataframe\">\n",
       "  <thead>\n",
       "    <tr style=\"text-align: right;\">\n",
       "      <th></th>\n",
       "      <th>id</th>\n",
       "      <th>target</th>\n",
       "      <th>O2_1</th>\n",
       "      <th>O2_2</th>\n",
       "      <th>O2_3</th>\n",
       "      <th>O2_4</th>\n",
       "      <th>O2_5</th>\n",
       "      <th>O2_6</th>\n",
       "      <th>O2_7</th>\n",
       "      <th>NH4_1</th>\n",
       "      <th>...</th>\n",
       "      <th>NO3_5</th>\n",
       "      <th>NO3_6</th>\n",
       "      <th>NO3_7</th>\n",
       "      <th>BOD5_1</th>\n",
       "      <th>BOD5_2</th>\n",
       "      <th>BOD5_3</th>\n",
       "      <th>BOD5_4</th>\n",
       "      <th>BOD5_5</th>\n",
       "      <th>BOD5_6</th>\n",
       "      <th>BOD5_7</th>\n",
       "    </tr>\n",
       "  </thead>\n",
       "  <tbody>\n",
       "    <tr>\n",
       "      <th>0</th>\n",
       "      <td>0</td>\n",
       "      <td>0</td>\n",
       "      <td>0</td>\n",
       "      <td>0</td>\n",
       "      <td>0</td>\n",
       "      <td>0</td>\n",
       "      <td>0</td>\n",
       "      <td>0</td>\n",
       "      <td>0</td>\n",
       "      <td>0</td>\n",
       "      <td>...</td>\n",
       "      <td>0</td>\n",
       "      <td>0</td>\n",
       "      <td>0</td>\n",
       "      <td>0</td>\n",
       "      <td>0</td>\n",
       "      <td>0</td>\n",
       "      <td>0</td>\n",
       "      <td>0</td>\n",
       "      <td>0</td>\n",
       "      <td>0</td>\n",
       "    </tr>\n",
       "    <tr>\n",
       "      <th>1</th>\n",
       "      <td>0</td>\n",
       "      <td>0</td>\n",
       "      <td>0</td>\n",
       "      <td>0</td>\n",
       "      <td>0</td>\n",
       "      <td>0</td>\n",
       "      <td>0</td>\n",
       "      <td>0</td>\n",
       "      <td>0</td>\n",
       "      <td>0</td>\n",
       "      <td>...</td>\n",
       "      <td>0</td>\n",
       "      <td>0</td>\n",
       "      <td>0</td>\n",
       "      <td>0</td>\n",
       "      <td>0</td>\n",
       "      <td>0</td>\n",
       "      <td>0</td>\n",
       "      <td>0</td>\n",
       "      <td>0</td>\n",
       "      <td>0</td>\n",
       "    </tr>\n",
       "    <tr>\n",
       "      <th>2</th>\n",
       "      <td>0</td>\n",
       "      <td>0</td>\n",
       "      <td>0</td>\n",
       "      <td>0</td>\n",
       "      <td>0</td>\n",
       "      <td>0</td>\n",
       "      <td>0</td>\n",
       "      <td>0</td>\n",
       "      <td>0</td>\n",
       "      <td>0</td>\n",
       "      <td>...</td>\n",
       "      <td>0</td>\n",
       "      <td>0</td>\n",
       "      <td>0</td>\n",
       "      <td>0</td>\n",
       "      <td>0</td>\n",
       "      <td>0</td>\n",
       "      <td>0</td>\n",
       "      <td>0</td>\n",
       "      <td>0</td>\n",
       "      <td>0</td>\n",
       "    </tr>\n",
       "    <tr>\n",
       "      <th>3</th>\n",
       "      <td>0</td>\n",
       "      <td>0</td>\n",
       "      <td>0</td>\n",
       "      <td>0</td>\n",
       "      <td>0</td>\n",
       "      <td>0</td>\n",
       "      <td>0</td>\n",
       "      <td>0</td>\n",
       "      <td>0</td>\n",
       "      <td>0</td>\n",
       "      <td>...</td>\n",
       "      <td>0</td>\n",
       "      <td>0</td>\n",
       "      <td>0</td>\n",
       "      <td>0</td>\n",
       "      <td>0</td>\n",
       "      <td>0</td>\n",
       "      <td>0</td>\n",
       "      <td>0</td>\n",
       "      <td>0</td>\n",
       "      <td>0</td>\n",
       "    </tr>\n",
       "    <tr>\n",
       "      <th>4</th>\n",
       "      <td>0</td>\n",
       "      <td>0</td>\n",
       "      <td>0</td>\n",
       "      <td>0</td>\n",
       "      <td>0</td>\n",
       "      <td>0</td>\n",
       "      <td>0</td>\n",
       "      <td>0</td>\n",
       "      <td>0</td>\n",
       "      <td>0</td>\n",
       "      <td>...</td>\n",
       "      <td>0</td>\n",
       "      <td>0</td>\n",
       "      <td>0</td>\n",
       "      <td>0</td>\n",
       "      <td>0</td>\n",
       "      <td>0</td>\n",
       "      <td>0</td>\n",
       "      <td>0</td>\n",
       "      <td>0</td>\n",
       "      <td>0</td>\n",
       "    </tr>\n",
       "    <tr>\n",
       "      <th>...</th>\n",
       "      <td>...</td>\n",
       "      <td>...</td>\n",
       "      <td>...</td>\n",
       "      <td>...</td>\n",
       "      <td>...</td>\n",
       "      <td>...</td>\n",
       "      <td>...</td>\n",
       "      <td>...</td>\n",
       "      <td>...</td>\n",
       "      <td>...</td>\n",
       "      <td>...</td>\n",
       "      <td>...</td>\n",
       "      <td>...</td>\n",
       "      <td>...</td>\n",
       "      <td>...</td>\n",
       "      <td>...</td>\n",
       "      <td>...</td>\n",
       "      <td>...</td>\n",
       "      <td>...</td>\n",
       "      <td>...</td>\n",
       "      <td>...</td>\n",
       "    </tr>\n",
       "    <tr>\n",
       "      <th>3495</th>\n",
       "      <td>0</td>\n",
       "      <td>0</td>\n",
       "      <td>0</td>\n",
       "      <td>0</td>\n",
       "      <td>0</td>\n",
       "      <td>0</td>\n",
       "      <td>0</td>\n",
       "      <td>0</td>\n",
       "      <td>0</td>\n",
       "      <td>0</td>\n",
       "      <td>...</td>\n",
       "      <td>0</td>\n",
       "      <td>0</td>\n",
       "      <td>0</td>\n",
       "      <td>0</td>\n",
       "      <td>0</td>\n",
       "      <td>0</td>\n",
       "      <td>0</td>\n",
       "      <td>0</td>\n",
       "      <td>0</td>\n",
       "      <td>0</td>\n",
       "    </tr>\n",
       "    <tr>\n",
       "      <th>3496</th>\n",
       "      <td>0</td>\n",
       "      <td>0</td>\n",
       "      <td>0</td>\n",
       "      <td>0</td>\n",
       "      <td>0</td>\n",
       "      <td>0</td>\n",
       "      <td>0</td>\n",
       "      <td>0</td>\n",
       "      <td>0</td>\n",
       "      <td>0</td>\n",
       "      <td>...</td>\n",
       "      <td>0</td>\n",
       "      <td>0</td>\n",
       "      <td>0</td>\n",
       "      <td>0</td>\n",
       "      <td>0</td>\n",
       "      <td>0</td>\n",
       "      <td>0</td>\n",
       "      <td>0</td>\n",
       "      <td>0</td>\n",
       "      <td>0</td>\n",
       "    </tr>\n",
       "    <tr>\n",
       "      <th>3497</th>\n",
       "      <td>0</td>\n",
       "      <td>0</td>\n",
       "      <td>0</td>\n",
       "      <td>0</td>\n",
       "      <td>0</td>\n",
       "      <td>0</td>\n",
       "      <td>0</td>\n",
       "      <td>0</td>\n",
       "      <td>0</td>\n",
       "      <td>0</td>\n",
       "      <td>...</td>\n",
       "      <td>0</td>\n",
       "      <td>0</td>\n",
       "      <td>0</td>\n",
       "      <td>0</td>\n",
       "      <td>0</td>\n",
       "      <td>0</td>\n",
       "      <td>0</td>\n",
       "      <td>0</td>\n",
       "      <td>0</td>\n",
       "      <td>0</td>\n",
       "    </tr>\n",
       "    <tr>\n",
       "      <th>3498</th>\n",
       "      <td>0</td>\n",
       "      <td>0</td>\n",
       "      <td>0</td>\n",
       "      <td>0</td>\n",
       "      <td>0</td>\n",
       "      <td>0</td>\n",
       "      <td>0</td>\n",
       "      <td>0</td>\n",
       "      <td>0</td>\n",
       "      <td>0</td>\n",
       "      <td>...</td>\n",
       "      <td>0</td>\n",
       "      <td>0</td>\n",
       "      <td>0</td>\n",
       "      <td>0</td>\n",
       "      <td>0</td>\n",
       "      <td>0</td>\n",
       "      <td>0</td>\n",
       "      <td>0</td>\n",
       "      <td>0</td>\n",
       "      <td>0</td>\n",
       "    </tr>\n",
       "    <tr>\n",
       "      <th>3499</th>\n",
       "      <td>0</td>\n",
       "      <td>0</td>\n",
       "      <td>0</td>\n",
       "      <td>0</td>\n",
       "      <td>0</td>\n",
       "      <td>0</td>\n",
       "      <td>0</td>\n",
       "      <td>0</td>\n",
       "      <td>0</td>\n",
       "      <td>0</td>\n",
       "      <td>...</td>\n",
       "      <td>0</td>\n",
       "      <td>0</td>\n",
       "      <td>0</td>\n",
       "      <td>0</td>\n",
       "      <td>0</td>\n",
       "      <td>0</td>\n",
       "      <td>0</td>\n",
       "      <td>0</td>\n",
       "      <td>0</td>\n",
       "      <td>0</td>\n",
       "    </tr>\n",
       "  </tbody>\n",
       "</table>\n",
       "<p>3500 rows × 37 columns</p>\n",
       "</div>"
      ],
      "text/plain": [
       "      id  target  O2_1  O2_2  O2_3  O2_4  O2_5  O2_6  O2_7  NH4_1  ...  NO3_5  \\\n",
       "0      0       0     0     0     0     0     0     0     0      0  ...      0   \n",
       "1      0       0     0     0     0     0     0     0     0      0  ...      0   \n",
       "2      0       0     0     0     0     0     0     0     0      0  ...      0   \n",
       "3      0       0     0     0     0     0     0     0     0      0  ...      0   \n",
       "4      0       0     0     0     0     0     0     0     0      0  ...      0   \n",
       "...   ..     ...   ...   ...   ...   ...   ...   ...   ...    ...  ...    ...   \n",
       "3495   0       0     0     0     0     0     0     0     0      0  ...      0   \n",
       "3496   0       0     0     0     0     0     0     0     0      0  ...      0   \n",
       "3497   0       0     0     0     0     0     0     0     0      0  ...      0   \n",
       "3498   0       0     0     0     0     0     0     0     0      0  ...      0   \n",
       "3499   0       0     0     0     0     0     0     0     0      0  ...      0   \n",
       "\n",
       "      NO3_6  NO3_7  BOD5_1  BOD5_2  BOD5_3  BOD5_4  BOD5_5  BOD5_6  BOD5_7  \n",
       "0         0      0       0       0       0       0       0       0       0  \n",
       "1         0      0       0       0       0       0       0       0       0  \n",
       "2         0      0       0       0       0       0       0       0       0  \n",
       "3         0      0       0       0       0       0       0       0       0  \n",
       "4         0      0       0       0       0       0       0       0       0  \n",
       "...     ...    ...     ...     ...     ...     ...     ...     ...     ...  \n",
       "3495      0      0       0       0       0       0       0       0       0  \n",
       "3496      0      0       0       0       0       0       0       0       0  \n",
       "3497      0      0       0       0       0       0       0       0       0  \n",
       "3498      0      0       0       0       0       0       0       0       0  \n",
       "3499      0      0       0       0       0       0       0       0       0  \n",
       "\n",
       "[3500 rows x 37 columns]"
      ]
     },
     "execution_count": 160,
     "metadata": {},
     "output_type": "execute_result"
    }
   ],
   "source": [
    "df_ex"
   ]
  },
  {
   "cell_type": "code",
   "execution_count": 161,
   "id": "2ea4c6e2-fa2c-4a9e-ab58-e294a4e9b915",
   "metadata": {},
   "outputs": [],
   "source": [
    "df_ex['O2_1'] = x_pass_2['O2_1'].clip(4, 15)\n",
    "df_ex['BOD5_5'] = x_pass_2['BOD5_5'].clip(4, 27)\n",
    "df_ex['O2_2'] = x_pass_2['O2_2'].clip(4, 41)\n",
    "df_ex['NH4_6'] = x_pass_2['NH4_6'].clip(0, 1)\n",
    "# df_ex['O2_4'] = x_pass_2['O2_4'].clip(5, 11)"
   ]
  },
  {
   "cell_type": "code",
   "execution_count": 162,
   "id": "d0a70887-fe15-491f-b2e5-6728f026e535",
   "metadata": {},
   "outputs": [],
   "source": [
    "df_ex.target = df.target.clip(7, 16)"
   ]
  },
  {
   "cell_type": "code",
   "execution_count": 152,
   "id": "712a3a4a-8968-46f1-ab8a-446bc31383a8",
   "metadata": {},
   "outputs": [],
   "source": [
    "df_ex['O2_4'] = 0"
   ]
  },
  {
   "cell_type": "code",
   "execution_count": 163,
   "id": "23b03735-08ec-461d-93bd-3a984b49ec88",
   "metadata": {},
   "outputs": [],
   "source": [
    "df_ex.to_csv('sub10-4f.csv', index=False)"
   ]
  },
  {
   "cell_type": "code",
   "execution_count": 164,
   "id": "86c40eca-d6ee-47ce-ad2f-29b90620eead",
   "metadata": {},
   "outputs": [
    {
     "data": {
      "text/html": [
       "<div>\n",
       "<style scoped>\n",
       "    .dataframe tbody tr th:only-of-type {\n",
       "        vertical-align: middle;\n",
       "    }\n",
       "\n",
       "    .dataframe tbody tr th {\n",
       "        vertical-align: top;\n",
       "    }\n",
       "\n",
       "    .dataframe thead th {\n",
       "        text-align: right;\n",
       "    }\n",
       "</style>\n",
       "<table border=\"1\" class=\"dataframe\">\n",
       "  <thead>\n",
       "    <tr style=\"text-align: right;\">\n",
       "      <th></th>\n",
       "      <th>id</th>\n",
       "      <th>target</th>\n",
       "      <th>O2_1</th>\n",
       "      <th>O2_2</th>\n",
       "      <th>O2_3</th>\n",
       "      <th>O2_4</th>\n",
       "      <th>O2_5</th>\n",
       "      <th>O2_6</th>\n",
       "      <th>O2_7</th>\n",
       "      <th>NH4_1</th>\n",
       "      <th>...</th>\n",
       "      <th>NO3_5</th>\n",
       "      <th>NO3_6</th>\n",
       "      <th>NO3_7</th>\n",
       "      <th>BOD5_1</th>\n",
       "      <th>BOD5_2</th>\n",
       "      <th>BOD5_3</th>\n",
       "      <th>BOD5_4</th>\n",
       "      <th>BOD5_5</th>\n",
       "      <th>BOD5_6</th>\n",
       "      <th>BOD5_7</th>\n",
       "    </tr>\n",
       "  </thead>\n",
       "  <tbody>\n",
       "    <tr>\n",
       "      <th>0</th>\n",
       "      <td>0</td>\n",
       "      <td>8.59</td>\n",
       "      <td>7.500</td>\n",
       "      <td>9.000</td>\n",
       "      <td>0</td>\n",
       "      <td>0</td>\n",
       "      <td>0</td>\n",
       "      <td>0</td>\n",
       "      <td>0</td>\n",
       "      <td>0</td>\n",
       "      <td>...</td>\n",
       "      <td>0</td>\n",
       "      <td>0</td>\n",
       "      <td>0</td>\n",
       "      <td>0</td>\n",
       "      <td>0</td>\n",
       "      <td>0</td>\n",
       "      <td>0</td>\n",
       "      <td>16.645</td>\n",
       "      <td>0</td>\n",
       "      <td>0</td>\n",
       "    </tr>\n",
       "    <tr>\n",
       "      <th>1</th>\n",
       "      <td>0</td>\n",
       "      <td>9.10</td>\n",
       "      <td>13.533</td>\n",
       "      <td>40.900</td>\n",
       "      <td>0</td>\n",
       "      <td>0</td>\n",
       "      <td>0</td>\n",
       "      <td>0</td>\n",
       "      <td>0</td>\n",
       "      <td>0</td>\n",
       "      <td>...</td>\n",
       "      <td>0</td>\n",
       "      <td>0</td>\n",
       "      <td>0</td>\n",
       "      <td>0</td>\n",
       "      <td>0</td>\n",
       "      <td>0</td>\n",
       "      <td>0</td>\n",
       "      <td>5.725</td>\n",
       "      <td>0</td>\n",
       "      <td>0</td>\n",
       "    </tr>\n",
       "    <tr>\n",
       "      <th>2</th>\n",
       "      <td>0</td>\n",
       "      <td>8.21</td>\n",
       "      <td>4.000</td>\n",
       "      <td>5.420</td>\n",
       "      <td>0</td>\n",
       "      <td>0</td>\n",
       "      <td>0</td>\n",
       "      <td>0</td>\n",
       "      <td>0</td>\n",
       "      <td>0</td>\n",
       "      <td>...</td>\n",
       "      <td>0</td>\n",
       "      <td>0</td>\n",
       "      <td>0</td>\n",
       "      <td>0</td>\n",
       "      <td>0</td>\n",
       "      <td>0</td>\n",
       "      <td>0</td>\n",
       "      <td>6.750</td>\n",
       "      <td>0</td>\n",
       "      <td>0</td>\n",
       "    </tr>\n",
       "    <tr>\n",
       "      <th>3</th>\n",
       "      <td>0</td>\n",
       "      <td>8.39</td>\n",
       "      <td>8.700</td>\n",
       "      <td>8.100</td>\n",
       "      <td>0</td>\n",
       "      <td>0</td>\n",
       "      <td>0</td>\n",
       "      <td>0</td>\n",
       "      <td>0</td>\n",
       "      <td>0</td>\n",
       "      <td>...</td>\n",
       "      <td>0</td>\n",
       "      <td>0</td>\n",
       "      <td>0</td>\n",
       "      <td>0</td>\n",
       "      <td>0</td>\n",
       "      <td>0</td>\n",
       "      <td>0</td>\n",
       "      <td>8.670</td>\n",
       "      <td>0</td>\n",
       "      <td>0</td>\n",
       "    </tr>\n",
       "    <tr>\n",
       "      <th>4</th>\n",
       "      <td>0</td>\n",
       "      <td>8.07</td>\n",
       "      <td>8.050</td>\n",
       "      <td>8.650</td>\n",
       "      <td>0</td>\n",
       "      <td>0</td>\n",
       "      <td>0</td>\n",
       "      <td>0</td>\n",
       "      <td>0</td>\n",
       "      <td>0</td>\n",
       "      <td>...</td>\n",
       "      <td>0</td>\n",
       "      <td>0</td>\n",
       "      <td>0</td>\n",
       "      <td>0</td>\n",
       "      <td>0</td>\n",
       "      <td>0</td>\n",
       "      <td>0</td>\n",
       "      <td>8.400</td>\n",
       "      <td>0</td>\n",
       "      <td>0</td>\n",
       "    </tr>\n",
       "    <tr>\n",
       "      <th>...</th>\n",
       "      <td>...</td>\n",
       "      <td>...</td>\n",
       "      <td>...</td>\n",
       "      <td>...</td>\n",
       "      <td>...</td>\n",
       "      <td>...</td>\n",
       "      <td>...</td>\n",
       "      <td>...</td>\n",
       "      <td>...</td>\n",
       "      <td>...</td>\n",
       "      <td>...</td>\n",
       "      <td>...</td>\n",
       "      <td>...</td>\n",
       "      <td>...</td>\n",
       "      <td>...</td>\n",
       "      <td>...</td>\n",
       "      <td>...</td>\n",
       "      <td>...</td>\n",
       "      <td>...</td>\n",
       "      <td>...</td>\n",
       "      <td>...</td>\n",
       "    </tr>\n",
       "    <tr>\n",
       "      <th>3495</th>\n",
       "      <td>0</td>\n",
       "      <td>8.08</td>\n",
       "      <td>6.250</td>\n",
       "      <td>8.300</td>\n",
       "      <td>0</td>\n",
       "      <td>0</td>\n",
       "      <td>0</td>\n",
       "      <td>0</td>\n",
       "      <td>0</td>\n",
       "      <td>0</td>\n",
       "      <td>...</td>\n",
       "      <td>0</td>\n",
       "      <td>0</td>\n",
       "      <td>0</td>\n",
       "      <td>0</td>\n",
       "      <td>0</td>\n",
       "      <td>0</td>\n",
       "      <td>0</td>\n",
       "      <td>7.695</td>\n",
       "      <td>0</td>\n",
       "      <td>0</td>\n",
       "    </tr>\n",
       "    <tr>\n",
       "      <th>3496</th>\n",
       "      <td>0</td>\n",
       "      <td>8.09</td>\n",
       "      <td>6.630</td>\n",
       "      <td>6.630</td>\n",
       "      <td>0</td>\n",
       "      <td>0</td>\n",
       "      <td>0</td>\n",
       "      <td>0</td>\n",
       "      <td>0</td>\n",
       "      <td>0</td>\n",
       "      <td>...</td>\n",
       "      <td>0</td>\n",
       "      <td>0</td>\n",
       "      <td>0</td>\n",
       "      <td>0</td>\n",
       "      <td>0</td>\n",
       "      <td>0</td>\n",
       "      <td>0</td>\n",
       "      <td>8.415</td>\n",
       "      <td>0</td>\n",
       "      <td>0</td>\n",
       "    </tr>\n",
       "    <tr>\n",
       "      <th>3497</th>\n",
       "      <td>0</td>\n",
       "      <td>9.95</td>\n",
       "      <td>8.367</td>\n",
       "      <td>8.433</td>\n",
       "      <td>0</td>\n",
       "      <td>0</td>\n",
       "      <td>0</td>\n",
       "      <td>0</td>\n",
       "      <td>0</td>\n",
       "      <td>0</td>\n",
       "      <td>...</td>\n",
       "      <td>0</td>\n",
       "      <td>0</td>\n",
       "      <td>0</td>\n",
       "      <td>0</td>\n",
       "      <td>0</td>\n",
       "      <td>0</td>\n",
       "      <td>0</td>\n",
       "      <td>8.400</td>\n",
       "      <td>0</td>\n",
       "      <td>0</td>\n",
       "    </tr>\n",
       "    <tr>\n",
       "      <th>3498</th>\n",
       "      <td>0</td>\n",
       "      <td>9.52</td>\n",
       "      <td>10.000</td>\n",
       "      <td>6.630</td>\n",
       "      <td>0</td>\n",
       "      <td>0</td>\n",
       "      <td>0</td>\n",
       "      <td>0</td>\n",
       "      <td>0</td>\n",
       "      <td>0</td>\n",
       "      <td>...</td>\n",
       "      <td>0</td>\n",
       "      <td>0</td>\n",
       "      <td>0</td>\n",
       "      <td>0</td>\n",
       "      <td>0</td>\n",
       "      <td>0</td>\n",
       "      <td>0</td>\n",
       "      <td>6.750</td>\n",
       "      <td>0</td>\n",
       "      <td>0</td>\n",
       "    </tr>\n",
       "    <tr>\n",
       "      <th>3499</th>\n",
       "      <td>0</td>\n",
       "      <td>8.51</td>\n",
       "      <td>8.500</td>\n",
       "      <td>8.100</td>\n",
       "      <td>0</td>\n",
       "      <td>0</td>\n",
       "      <td>0</td>\n",
       "      <td>0</td>\n",
       "      <td>0</td>\n",
       "      <td>0</td>\n",
       "      <td>...</td>\n",
       "      <td>0</td>\n",
       "      <td>0</td>\n",
       "      <td>0</td>\n",
       "      <td>0</td>\n",
       "      <td>0</td>\n",
       "      <td>0</td>\n",
       "      <td>0</td>\n",
       "      <td>8.415</td>\n",
       "      <td>0</td>\n",
       "      <td>0</td>\n",
       "    </tr>\n",
       "  </tbody>\n",
       "</table>\n",
       "<p>3500 rows × 37 columns</p>\n",
       "</div>"
      ],
      "text/plain": [
       "      id  target    O2_1    O2_2  O2_3  O2_4  O2_5  O2_6  O2_7  NH4_1  ...  \\\n",
       "0      0    8.59   7.500   9.000     0     0     0     0     0      0  ...   \n",
       "1      0    9.10  13.533  40.900     0     0     0     0     0      0  ...   \n",
       "2      0    8.21   4.000   5.420     0     0     0     0     0      0  ...   \n",
       "3      0    8.39   8.700   8.100     0     0     0     0     0      0  ...   \n",
       "4      0    8.07   8.050   8.650     0     0     0     0     0      0  ...   \n",
       "...   ..     ...     ...     ...   ...   ...   ...   ...   ...    ...  ...   \n",
       "3495   0    8.08   6.250   8.300     0     0     0     0     0      0  ...   \n",
       "3496   0    8.09   6.630   6.630     0     0     0     0     0      0  ...   \n",
       "3497   0    9.95   8.367   8.433     0     0     0     0     0      0  ...   \n",
       "3498   0    9.52  10.000   6.630     0     0     0     0     0      0  ...   \n",
       "3499   0    8.51   8.500   8.100     0     0     0     0     0      0  ...   \n",
       "\n",
       "      NO3_5  NO3_6  NO3_7  BOD5_1  BOD5_2  BOD5_3  BOD5_4  BOD5_5  BOD5_6  \\\n",
       "0         0      0      0       0       0       0       0  16.645       0   \n",
       "1         0      0      0       0       0       0       0   5.725       0   \n",
       "2         0      0      0       0       0       0       0   6.750       0   \n",
       "3         0      0      0       0       0       0       0   8.670       0   \n",
       "4         0      0      0       0       0       0       0   8.400       0   \n",
       "...     ...    ...    ...     ...     ...     ...     ...     ...     ...   \n",
       "3495      0      0      0       0       0       0       0   7.695       0   \n",
       "3496      0      0      0       0       0       0       0   8.415       0   \n",
       "3497      0      0      0       0       0       0       0   8.400       0   \n",
       "3498      0      0      0       0       0       0       0   6.750       0   \n",
       "3499      0      0      0       0       0       0       0   8.415       0   \n",
       "\n",
       "      BOD5_7  \n",
       "0          0  \n",
       "1          0  \n",
       "2          0  \n",
       "3          0  \n",
       "4          0  \n",
       "...      ...  \n",
       "3495       0  \n",
       "3496       0  \n",
       "3497       0  \n",
       "3498       0  \n",
       "3499       0  \n",
       "\n",
       "[3500 rows x 37 columns]"
      ]
     },
     "execution_count": 164,
     "metadata": {},
     "output_type": "execute_result"
    }
   ],
   "source": [
    "df_ex"
   ]
  },
  {
   "cell_type": "markdown",
   "id": "b26db47f-aec8-4311-8601-80a695af2a54",
   "metadata": {},
   "source": [
    "## PART VI\n",
    "\n",
    "Let's get the final data sets one with target.clip(7, 16) and other with same target and log of independent variables and other with same x and target at 7 to 15"
   ]
  },
  {
   "cell_type": "code",
   "execution_count": 172,
   "id": "e4a1c523-0ec1-4eee-a640-051ba3bf692d",
   "metadata": {},
   "outputs": [],
   "source": [
    "df_ex = df.copy()"
   ]
  },
  {
   "cell_type": "code",
   "execution_count": 173,
   "id": "8a1ef9e9-126a-4cbb-82f1-77b7a78daa9b",
   "metadata": {},
   "outputs": [
    {
     "name": "stderr",
     "output_type": "stream",
     "text": [
      "/var/folders/lb/05l0197j4wdgmqspj9s7bgjc0000gn/T/ipykernel_2336/1214198663.py:1: DeprecationWarning: In a future version, `df.iloc[:, i] = newvals` will attempt to set the values inplace instead of always setting a new array. To retain the old behavior, use either `df[df.columns[i]] = newvals` or, if columns are non-unique, `df.isetitem(i, newvals)`\n",
      "  df_ex[:] = 0\n"
     ]
    }
   ],
   "source": [
    "df_ex[:] = 0"
   ]
  },
  {
   "cell_type": "code",
   "execution_count": 183,
   "id": "da061c7a-3ac8-4bbd-a791-3be067eda8d3",
   "metadata": {},
   "outputs": [],
   "source": [
    "x_pass_2 = x_pass_2.drop('O2_4', axis=1)"
   ]
  },
  {
   "cell_type": "code",
   "execution_count": 217,
   "id": "905e0d2a-5a69-4aed-9490-d0331b5333c4",
   "metadata": {},
   "outputs": [],
   "source": [
    "df_ex[x_pass_2.columns] = x_pass_2"
   ]
  },
  {
   "cell_type": "code",
   "execution_count": 218,
   "id": "79c06fb5-372e-443e-8e6c-edc9df11e5b6",
   "metadata": {},
   "outputs": [
    {
     "data": {
      "text/html": [
       "<div>\n",
       "<style scoped>\n",
       "    .dataframe tbody tr th:only-of-type {\n",
       "        vertical-align: middle;\n",
       "    }\n",
       "\n",
       "    .dataframe tbody tr th {\n",
       "        vertical-align: top;\n",
       "    }\n",
       "\n",
       "    .dataframe thead th {\n",
       "        text-align: right;\n",
       "    }\n",
       "</style>\n",
       "<table border=\"1\" class=\"dataframe\">\n",
       "  <thead>\n",
       "    <tr style=\"text-align: right;\">\n",
       "      <th></th>\n",
       "      <th>id</th>\n",
       "      <th>target</th>\n",
       "      <th>O2_1</th>\n",
       "      <th>O2_2</th>\n",
       "      <th>O2_3</th>\n",
       "      <th>O2_4</th>\n",
       "      <th>O2_5</th>\n",
       "      <th>O2_6</th>\n",
       "      <th>O2_7</th>\n",
       "      <th>NH4_1</th>\n",
       "      <th>...</th>\n",
       "      <th>NO3_5</th>\n",
       "      <th>NO3_6</th>\n",
       "      <th>NO3_7</th>\n",
       "      <th>BOD5_1</th>\n",
       "      <th>BOD5_2</th>\n",
       "      <th>BOD5_3</th>\n",
       "      <th>BOD5_4</th>\n",
       "      <th>BOD5_5</th>\n",
       "      <th>BOD5_6</th>\n",
       "      <th>BOD5_7</th>\n",
       "    </tr>\n",
       "  </thead>\n",
       "  <tbody>\n",
       "    <tr>\n",
       "      <th>0</th>\n",
       "      <td>0</td>\n",
       "      <td>8.59</td>\n",
       "      <td>7.500</td>\n",
       "      <td>9.000</td>\n",
       "      <td>0</td>\n",
       "      <td>0</td>\n",
       "      <td>0</td>\n",
       "      <td>0</td>\n",
       "      <td>0</td>\n",
       "      <td>0</td>\n",
       "      <td>...</td>\n",
       "      <td>0</td>\n",
       "      <td>0</td>\n",
       "      <td>0</td>\n",
       "      <td>0</td>\n",
       "      <td>0</td>\n",
       "      <td>0</td>\n",
       "      <td>0</td>\n",
       "      <td>16.645</td>\n",
       "      <td>0</td>\n",
       "      <td>0</td>\n",
       "    </tr>\n",
       "    <tr>\n",
       "      <th>1</th>\n",
       "      <td>0</td>\n",
       "      <td>9.10</td>\n",
       "      <td>13.533</td>\n",
       "      <td>40.900</td>\n",
       "      <td>0</td>\n",
       "      <td>0</td>\n",
       "      <td>0</td>\n",
       "      <td>0</td>\n",
       "      <td>0</td>\n",
       "      <td>0</td>\n",
       "      <td>...</td>\n",
       "      <td>0</td>\n",
       "      <td>0</td>\n",
       "      <td>0</td>\n",
       "      <td>0</td>\n",
       "      <td>0</td>\n",
       "      <td>0</td>\n",
       "      <td>0</td>\n",
       "      <td>5.725</td>\n",
       "      <td>0</td>\n",
       "      <td>0</td>\n",
       "    </tr>\n",
       "    <tr>\n",
       "      <th>2</th>\n",
       "      <td>0</td>\n",
       "      <td>8.21</td>\n",
       "      <td>3.710</td>\n",
       "      <td>5.420</td>\n",
       "      <td>0</td>\n",
       "      <td>0</td>\n",
       "      <td>0</td>\n",
       "      <td>0</td>\n",
       "      <td>0</td>\n",
       "      <td>0</td>\n",
       "      <td>...</td>\n",
       "      <td>0</td>\n",
       "      <td>0</td>\n",
       "      <td>0</td>\n",
       "      <td>0</td>\n",
       "      <td>0</td>\n",
       "      <td>0</td>\n",
       "      <td>0</td>\n",
       "      <td>6.750</td>\n",
       "      <td>0</td>\n",
       "      <td>0</td>\n",
       "    </tr>\n",
       "    <tr>\n",
       "      <th>3</th>\n",
       "      <td>0</td>\n",
       "      <td>8.39</td>\n",
       "      <td>8.700</td>\n",
       "      <td>8.100</td>\n",
       "      <td>0</td>\n",
       "      <td>0</td>\n",
       "      <td>0</td>\n",
       "      <td>0</td>\n",
       "      <td>0</td>\n",
       "      <td>0</td>\n",
       "      <td>...</td>\n",
       "      <td>0</td>\n",
       "      <td>0</td>\n",
       "      <td>0</td>\n",
       "      <td>0</td>\n",
       "      <td>0</td>\n",
       "      <td>0</td>\n",
       "      <td>0</td>\n",
       "      <td>8.670</td>\n",
       "      <td>0</td>\n",
       "      <td>0</td>\n",
       "    </tr>\n",
       "    <tr>\n",
       "      <th>4</th>\n",
       "      <td>0</td>\n",
       "      <td>8.07</td>\n",
       "      <td>8.050</td>\n",
       "      <td>8.650</td>\n",
       "      <td>0</td>\n",
       "      <td>0</td>\n",
       "      <td>0</td>\n",
       "      <td>0</td>\n",
       "      <td>0</td>\n",
       "      <td>0</td>\n",
       "      <td>...</td>\n",
       "      <td>0</td>\n",
       "      <td>0</td>\n",
       "      <td>0</td>\n",
       "      <td>0</td>\n",
       "      <td>0</td>\n",
       "      <td>0</td>\n",
       "      <td>0</td>\n",
       "      <td>8.400</td>\n",
       "      <td>0</td>\n",
       "      <td>0</td>\n",
       "    </tr>\n",
       "    <tr>\n",
       "      <th>...</th>\n",
       "      <td>...</td>\n",
       "      <td>...</td>\n",
       "      <td>...</td>\n",
       "      <td>...</td>\n",
       "      <td>...</td>\n",
       "      <td>...</td>\n",
       "      <td>...</td>\n",
       "      <td>...</td>\n",
       "      <td>...</td>\n",
       "      <td>...</td>\n",
       "      <td>...</td>\n",
       "      <td>...</td>\n",
       "      <td>...</td>\n",
       "      <td>...</td>\n",
       "      <td>...</td>\n",
       "      <td>...</td>\n",
       "      <td>...</td>\n",
       "      <td>...</td>\n",
       "      <td>...</td>\n",
       "      <td>...</td>\n",
       "      <td>...</td>\n",
       "    </tr>\n",
       "    <tr>\n",
       "      <th>3495</th>\n",
       "      <td>0</td>\n",
       "      <td>8.08</td>\n",
       "      <td>6.250</td>\n",
       "      <td>8.300</td>\n",
       "      <td>0</td>\n",
       "      <td>0</td>\n",
       "      <td>0</td>\n",
       "      <td>0</td>\n",
       "      <td>0</td>\n",
       "      <td>0</td>\n",
       "      <td>...</td>\n",
       "      <td>0</td>\n",
       "      <td>0</td>\n",
       "      <td>0</td>\n",
       "      <td>0</td>\n",
       "      <td>0</td>\n",
       "      <td>0</td>\n",
       "      <td>0</td>\n",
       "      <td>7.695</td>\n",
       "      <td>0</td>\n",
       "      <td>0</td>\n",
       "    </tr>\n",
       "    <tr>\n",
       "      <th>3496</th>\n",
       "      <td>0</td>\n",
       "      <td>8.09</td>\n",
       "      <td>6.630</td>\n",
       "      <td>6.630</td>\n",
       "      <td>0</td>\n",
       "      <td>0</td>\n",
       "      <td>0</td>\n",
       "      <td>0</td>\n",
       "      <td>0</td>\n",
       "      <td>0</td>\n",
       "      <td>...</td>\n",
       "      <td>0</td>\n",
       "      <td>0</td>\n",
       "      <td>0</td>\n",
       "      <td>0</td>\n",
       "      <td>0</td>\n",
       "      <td>0</td>\n",
       "      <td>0</td>\n",
       "      <td>8.415</td>\n",
       "      <td>0</td>\n",
       "      <td>0</td>\n",
       "    </tr>\n",
       "    <tr>\n",
       "      <th>3497</th>\n",
       "      <td>0</td>\n",
       "      <td>9.95</td>\n",
       "      <td>8.367</td>\n",
       "      <td>8.433</td>\n",
       "      <td>0</td>\n",
       "      <td>0</td>\n",
       "      <td>0</td>\n",
       "      <td>0</td>\n",
       "      <td>0</td>\n",
       "      <td>0</td>\n",
       "      <td>...</td>\n",
       "      <td>0</td>\n",
       "      <td>0</td>\n",
       "      <td>0</td>\n",
       "      <td>0</td>\n",
       "      <td>0</td>\n",
       "      <td>0</td>\n",
       "      <td>0</td>\n",
       "      <td>8.400</td>\n",
       "      <td>0</td>\n",
       "      <td>0</td>\n",
       "    </tr>\n",
       "    <tr>\n",
       "      <th>3498</th>\n",
       "      <td>0</td>\n",
       "      <td>9.52</td>\n",
       "      <td>10.000</td>\n",
       "      <td>6.630</td>\n",
       "      <td>0</td>\n",
       "      <td>0</td>\n",
       "      <td>0</td>\n",
       "      <td>0</td>\n",
       "      <td>0</td>\n",
       "      <td>0</td>\n",
       "      <td>...</td>\n",
       "      <td>0</td>\n",
       "      <td>0</td>\n",
       "      <td>0</td>\n",
       "      <td>0</td>\n",
       "      <td>0</td>\n",
       "      <td>0</td>\n",
       "      <td>0</td>\n",
       "      <td>6.750</td>\n",
       "      <td>0</td>\n",
       "      <td>0</td>\n",
       "    </tr>\n",
       "    <tr>\n",
       "      <th>3499</th>\n",
       "      <td>0</td>\n",
       "      <td>8.51</td>\n",
       "      <td>8.500</td>\n",
       "      <td>8.100</td>\n",
       "      <td>0</td>\n",
       "      <td>0</td>\n",
       "      <td>0</td>\n",
       "      <td>0</td>\n",
       "      <td>0</td>\n",
       "      <td>0</td>\n",
       "      <td>...</td>\n",
       "      <td>0</td>\n",
       "      <td>0</td>\n",
       "      <td>0</td>\n",
       "      <td>0</td>\n",
       "      <td>0</td>\n",
       "      <td>0</td>\n",
       "      <td>0</td>\n",
       "      <td>8.415</td>\n",
       "      <td>0</td>\n",
       "      <td>0</td>\n",
       "    </tr>\n",
       "  </tbody>\n",
       "</table>\n",
       "<p>3500 rows × 37 columns</p>\n",
       "</div>"
      ],
      "text/plain": [
       "      id  target    O2_1    O2_2  O2_3  O2_4  O2_5  O2_6  O2_7  NH4_1  ...  \\\n",
       "0      0    8.59   7.500   9.000     0     0     0     0     0      0  ...   \n",
       "1      0    9.10  13.533  40.900     0     0     0     0     0      0  ...   \n",
       "2      0    8.21   3.710   5.420     0     0     0     0     0      0  ...   \n",
       "3      0    8.39   8.700   8.100     0     0     0     0     0      0  ...   \n",
       "4      0    8.07   8.050   8.650     0     0     0     0     0      0  ...   \n",
       "...   ..     ...     ...     ...   ...   ...   ...   ...   ...    ...  ...   \n",
       "3495   0    8.08   6.250   8.300     0     0     0     0     0      0  ...   \n",
       "3496   0    8.09   6.630   6.630     0     0     0     0     0      0  ...   \n",
       "3497   0    9.95   8.367   8.433     0     0     0     0     0      0  ...   \n",
       "3498   0    9.52  10.000   6.630     0     0     0     0     0      0  ...   \n",
       "3499   0    8.51   8.500   8.100     0     0     0     0     0      0  ...   \n",
       "\n",
       "      NO3_5  NO3_6  NO3_7  BOD5_1  BOD5_2  BOD5_3  BOD5_4  BOD5_5  BOD5_6  \\\n",
       "0         0      0      0       0       0       0       0  16.645       0   \n",
       "1         0      0      0       0       0       0       0   5.725       0   \n",
       "2         0      0      0       0       0       0       0   6.750       0   \n",
       "3         0      0      0       0       0       0       0   8.670       0   \n",
       "4         0      0      0       0       0       0       0   8.400       0   \n",
       "...     ...    ...    ...     ...     ...     ...     ...     ...     ...   \n",
       "3495      0      0      0       0       0       0       0   7.695       0   \n",
       "3496      0      0      0       0       0       0       0   8.415       0   \n",
       "3497      0      0      0       0       0       0       0   8.400       0   \n",
       "3498      0      0      0       0       0       0       0   6.750       0   \n",
       "3499      0      0      0       0       0       0       0   8.415       0   \n",
       "\n",
       "      BOD5_7  \n",
       "0          0  \n",
       "1          0  \n",
       "2          0  \n",
       "3          0  \n",
       "4          0  \n",
       "...      ...  \n",
       "3495       0  \n",
       "3496       0  \n",
       "3497       0  \n",
       "3498       0  \n",
       "3499       0  \n",
       "\n",
       "[3500 rows x 37 columns]"
      ]
     },
     "execution_count": 218,
     "metadata": {},
     "output_type": "execute_result"
    }
   ],
   "source": [
    "df_ex['target'] = df.target.clip(7, 16)\n",
    "df_ex"
   ]
  },
  {
   "cell_type": "code",
   "execution_count": 219,
   "id": "9e0f753b-9104-452b-b50e-c79c54e84aee",
   "metadata": {},
   "outputs": [],
   "source": [
    "df_ex.to_csv('sub11_7-16.csv', index=False)"
   ]
  },
  {
   "cell_type": "code",
   "execution_count": 220,
   "id": "c1982e90-bb3e-40c4-bfdd-7e2b6739daa2",
   "metadata": {},
   "outputs": [],
   "source": [
    "x_pass_2_log = np.log1p(x_pass_2)"
   ]
  },
  {
   "cell_type": "code",
   "execution_count": 221,
   "id": "4a5cb1aa-ed2d-4475-8fa9-33a79a36398b",
   "metadata": {},
   "outputs": [],
   "source": [
    "df_log = df_ex.copy()\n",
    "df_log[x_pass_2_log.columns] = x_pass_2_log"
   ]
  },
  {
   "cell_type": "code",
   "execution_count": 222,
   "id": "1c850fe3-de04-4e15-89b0-c1a94fd99d9c",
   "metadata": {},
   "outputs": [],
   "source": [
    "x_pass_2_log_selective = x_pass_2.copy()"
   ]
  },
  {
   "cell_type": "code",
   "execution_count": 224,
   "id": "2d5844c2-6a62-4df1-9a90-70434f07c89e",
   "metadata": {},
   "outputs": [],
   "source": [
    "x_pass_2_log_selective['BOD5_5'] = np.log1p(x_pass_2_log_selective['BOD5_5'])\n",
    "x_pass_2_log_selective['O2_2'] = np.log1p(x_pass_2_log_selective['O2_2'])"
   ]
  },
  {
   "cell_type": "code",
   "execution_count": 227,
   "id": "4b5366e9-218e-4a26-878e-cb666d37e655",
   "metadata": {},
   "outputs": [],
   "source": [
    "df_log.target = df.target.clip(7, 15)\n",
    "df_ex.target = df.target.clip(7, 15)"
   ]
  },
  {
   "cell_type": "code",
   "execution_count": 228,
   "id": "1dd87b53-0b5e-4efb-adea-56809afb5d43",
   "metadata": {},
   "outputs": [],
   "source": [
    "df_sel = df_ex.copy()\n",
    "df_log[x_pass_2_log_selective.columns] = x_pass_2_log_selective"
   ]
  },
  {
   "cell_type": "code",
   "execution_count": 230,
   "id": "2dc4af36-6811-42be-a137-73b6fa7a3b5c",
   "metadata": {},
   "outputs": [],
   "source": [
    "dfs = [df_ex, df_log, df_sel]"
   ]
  },
  {
   "cell_type": "code",
   "execution_count": 229,
   "id": "4002b592-8163-46e2-8070-2c9c9e08fb4e",
   "metadata": {},
   "outputs": [],
   "source": [
    "x_train, x_test, y_train, y_test = train_test_split(df_ex.drop('target', axis=1), df_ex['target'], test_size=0.2)\n",
    "x_train_log, x_test_log, y_train_log, y_test_log = train_test_split(df_log.drop('target', axis=1), df_ex['target'], test_size=0.2)\n",
    "x_train_sel, x_test_sel, y_train_sel, y_test_sel = train_test_split(df_sel.drop('target', axis=1), df_ex['target'], test_size=0.2)"
   ]
  },
  {
   "cell_type": "code",
   "execution_count": null,
   "id": "da3764c2-c58a-4a9e-b0ed-4edb1329280a",
   "metadata": {},
   "outputs": [],
   "source": [
    "# Although we don't make any changes to dependent variable we still have to use each set's own y because of shuffle."
   ]
  },
  {
   "cell_type": "code",
   "execution_count": 235,
   "id": "9283d7a8-50bb-4f73-84e0-22c70b69a418",
   "metadata": {},
   "outputs": [
    {
     "name": "stdout",
     "output_type": "stream",
     "text": [
      "0.8907376319892707\n",
      "\n",
      "0.7680415884873414\n",
      "\n",
      "0.8160328322752202\n",
      "\n",
      "\n",
      "0.7169211936651716\n",
      "\n",
      "0.7471805035414959\n",
      "\n",
      "0.8814255678342398\n",
      "\n",
      "\n",
      "0.877492874047788\n",
      "\n",
      "0.7274140962410937\n",
      "\n",
      "0.7680976010666971\n",
      "\n",
      "\n",
      "0.8781223619061647\n",
      "\n",
      "0.9870677380109084\n",
      "\n",
      "0.826863221289919\n",
      "\n",
      "\n",
      "0.9461849409754419\n",
      "\n",
      "0.8710030333851491\n",
      "\n",
      "0.913103666773789\n",
      "\n",
      "\n"
     ]
    }
   ],
   "source": [
    "for j in range(5):\n",
    "    for i in range(0, 3):\n",
    "        x_t, x_v, y_t, y_v = train_test_split(dfs[i].drop('target', axis=1), dfs[i].target, test_size=0.2)\n",
    "\n",
    "        rfr = RandomForestRegressor(\n",
    "           n_estimators=1000,\n",
    "           max_depth=7,\n",
    "           n_jobs=-1,\n",
    "           random_state=42)\n",
    "\n",
    "        rfr.fit(x_t, y_t)\n",
    "        rfr_pred = rfr.predict(x_v)\n",
    "        print(mean_squared_error(y_v, rfr_pred))\n",
    "        print()\n",
    "    print()\n",
    "\n"
   ]
  },
  {
   "cell_type": "code",
   "execution_count": null,
   "id": "f657fef6-ed2b-41c0-afcb-1f64f527db2b",
   "metadata": {},
   "outputs": [],
   "source": []
  }
 ],
 "metadata": {
  "kernelspec": {
   "display_name": "Python 3 (ipykernel)",
   "language": "python",
   "name": "python3"
  },
  "language_info": {
   "codemirror_mode": {
    "name": "ipython",
    "version": 3
   },
   "file_extension": ".py",
   "mimetype": "text/x-python",
   "name": "python",
   "nbconvert_exporter": "python",
   "pygments_lexer": "ipython3",
   "version": "3.10.9"
  },
  "toc-autonumbering": true,
  "toc-showcode": false,
  "toc-showmarkdowntxt": false
 },
 "nbformat": 4,
 "nbformat_minor": 5
}
