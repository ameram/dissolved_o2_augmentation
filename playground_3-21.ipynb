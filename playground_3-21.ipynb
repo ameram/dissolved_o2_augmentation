{
 "cells": [
  {
   "cell_type": "code",
   "execution_count": 1,
   "id": "a277b17e-7813-4cc5-9feb-b1173bff92dc",
   "metadata": {},
   "outputs": [],
   "source": [
    "import pandas as pd\n",
    "import numpy as np"
   ]
  },
  {
   "cell_type": "code",
   "execution_count": 2,
   "id": "2d25b36f-055c-42b7-ab3d-b8d2367ea875",
   "metadata": {},
   "outputs": [],
   "source": [
    "import matplotlib.pyplot as plt"
   ]
  },
  {
   "cell_type": "markdown",
   "id": "3d5be428-0c0c-4f5f-a4dc-34f29d99cbb6",
   "metadata": {},
   "source": [
    "# ABOUT THIS NOTEBOOK\n",
    "\n",
    "## Created for Kaggle playground series season 3, episode 21 - 8.26.23\n",
    "This notebooks will be in two sections 1) EDA and 2) Predictions, first will mostly consist of making plots and cleaning the data. And when the data is ready we can feed to the model to prediction."
   ]
  },
  {
   "cell_type": "code",
   "execution_count": 3,
   "id": "ce951cc2-62c6-4a2f-bfae-02582eb64749",
   "metadata": {},
   "outputs": [],
   "source": [
    "df = pd.read_csv('sample_submission.csv')"
   ]
  },
  {
   "cell_type": "code",
   "execution_count": 4,
   "id": "de873da8-dbce-4cf3-b2f4-b4ab9a2f220d",
   "metadata": {},
   "outputs": [
    {
     "data": {
      "text/html": [
       "<div>\n",
       "<style scoped>\n",
       "    .dataframe tbody tr th:only-of-type {\n",
       "        vertical-align: middle;\n",
       "    }\n",
       "\n",
       "    .dataframe tbody tr th {\n",
       "        vertical-align: top;\n",
       "    }\n",
       "\n",
       "    .dataframe thead th {\n",
       "        text-align: right;\n",
       "    }\n",
       "</style>\n",
       "<table border=\"1\" class=\"dataframe\">\n",
       "  <thead>\n",
       "    <tr style=\"text-align: right;\">\n",
       "      <th></th>\n",
       "      <th>id</th>\n",
       "      <th>target</th>\n",
       "      <th>O2_1</th>\n",
       "      <th>O2_2</th>\n",
       "      <th>O2_3</th>\n",
       "      <th>O2_4</th>\n",
       "      <th>O2_5</th>\n",
       "      <th>O2_6</th>\n",
       "      <th>O2_7</th>\n",
       "      <th>NH4_1</th>\n",
       "      <th>...</th>\n",
       "      <th>NO3_5</th>\n",
       "      <th>NO3_6</th>\n",
       "      <th>NO3_7</th>\n",
       "      <th>BOD5_1</th>\n",
       "      <th>BOD5_2</th>\n",
       "      <th>BOD5_3</th>\n",
       "      <th>BOD5_4</th>\n",
       "      <th>BOD5_5</th>\n",
       "      <th>BOD5_6</th>\n",
       "      <th>BOD5_7</th>\n",
       "    </tr>\n",
       "  </thead>\n",
       "  <tbody>\n",
       "    <tr>\n",
       "      <th>0</th>\n",
       "      <td>0</td>\n",
       "      <td>8.59</td>\n",
       "      <td>7.500</td>\n",
       "      <td>9.00</td>\n",
       "      <td>9.545</td>\n",
       "      <td>9.265</td>\n",
       "      <td>8.110</td>\n",
       "      <td>8.43</td>\n",
       "      <td>7.15</td>\n",
       "      <td>0.180</td>\n",
       "      <td>...</td>\n",
       "      <td>4.95</td>\n",
       "      <td>1.730</td>\n",
       "      <td>1.800</td>\n",
       "      <td>4.800</td>\n",
       "      <td>3.15</td>\n",
       "      <td>10.665</td>\n",
       "      <td>10.465</td>\n",
       "      <td>16.645</td>\n",
       "      <td>5.75</td>\n",
       "      <td>10.37</td>\n",
       "    </tr>\n",
       "    <tr>\n",
       "      <th>1</th>\n",
       "      <td>1</td>\n",
       "      <td>9.10</td>\n",
       "      <td>13.533</td>\n",
       "      <td>40.90</td>\n",
       "      <td>8.770</td>\n",
       "      <td>9.265</td>\n",
       "      <td>6.015</td>\n",
       "      <td>10.07</td>\n",
       "      <td>7.15</td>\n",
       "      <td>1.107</td>\n",
       "      <td>...</td>\n",
       "      <td>20.05</td>\n",
       "      <td>9.530</td>\n",
       "      <td>7.695</td>\n",
       "      <td>4.550</td>\n",
       "      <td>6.95</td>\n",
       "      <td>2.040</td>\n",
       "      <td>5.200</td>\n",
       "      <td>5.725</td>\n",
       "      <td>2.95</td>\n",
       "      <td>2.23</td>\n",
       "    </tr>\n",
       "    <tr>\n",
       "      <th>2</th>\n",
       "      <td>2</td>\n",
       "      <td>8.21</td>\n",
       "      <td>3.710</td>\n",
       "      <td>5.42</td>\n",
       "      <td>8.770</td>\n",
       "      <td>9.265</td>\n",
       "      <td>4.550</td>\n",
       "      <td>10.07</td>\n",
       "      <td>7.15</td>\n",
       "      <td>0.020</td>\n",
       "      <td>...</td>\n",
       "      <td>4.58</td>\n",
       "      <td>3.025</td>\n",
       "      <td>3.960</td>\n",
       "      <td>4.935</td>\n",
       "      <td>4.95</td>\n",
       "      <td>4.725</td>\n",
       "      <td>6.075</td>\n",
       "      <td>6.750</td>\n",
       "      <td>3.50</td>\n",
       "      <td>3.17</td>\n",
       "    </tr>\n",
       "    <tr>\n",
       "      <th>3</th>\n",
       "      <td>3</td>\n",
       "      <td>8.39</td>\n",
       "      <td>8.700</td>\n",
       "      <td>8.10</td>\n",
       "      <td>9.500</td>\n",
       "      <td>9.200</td>\n",
       "      <td>5.200</td>\n",
       "      <td>8.67</td>\n",
       "      <td>6.67</td>\n",
       "      <td>0.280</td>\n",
       "      <td>...</td>\n",
       "      <td>8.45</td>\n",
       "      <td>2.070</td>\n",
       "      <td>1.730</td>\n",
       "      <td>6.300</td>\n",
       "      <td>4.70</td>\n",
       "      <td>3.500</td>\n",
       "      <td>6.200</td>\n",
       "      <td>8.670</td>\n",
       "      <td>2.90</td>\n",
       "      <td>7.37</td>\n",
       "    </tr>\n",
       "    <tr>\n",
       "      <th>4</th>\n",
       "      <td>4</td>\n",
       "      <td>8.07</td>\n",
       "      <td>8.050</td>\n",
       "      <td>8.65</td>\n",
       "      <td>7.960</td>\n",
       "      <td>9.265</td>\n",
       "      <td>3.290</td>\n",
       "      <td>10.07</td>\n",
       "      <td>7.15</td>\n",
       "      <td>0.360</td>\n",
       "      <td>...</td>\n",
       "      <td>2.02</td>\n",
       "      <td>1.730</td>\n",
       "      <td>0.760</td>\n",
       "      <td>4.800</td>\n",
       "      <td>4.97</td>\n",
       "      <td>3.950</td>\n",
       "      <td>2.800</td>\n",
       "      <td>8.400</td>\n",
       "      <td>3.50</td>\n",
       "      <td>3.90</td>\n",
       "    </tr>\n",
       "  </tbody>\n",
       "</table>\n",
       "<p>5 rows × 37 columns</p>\n",
       "</div>"
      ],
      "text/plain": [
       "   id  target    O2_1   O2_2   O2_3   O2_4   O2_5   O2_6  O2_7  NH4_1  ...  \\\n",
       "0   0    8.59   7.500   9.00  9.545  9.265  8.110   8.43  7.15  0.180  ...   \n",
       "1   1    9.10  13.533  40.90  8.770  9.265  6.015  10.07  7.15  1.107  ...   \n",
       "2   2    8.21   3.710   5.42  8.770  9.265  4.550  10.07  7.15  0.020  ...   \n",
       "3   3    8.39   8.700   8.10  9.500  9.200  5.200   8.67  6.67  0.280  ...   \n",
       "4   4    8.07   8.050   8.65  7.960  9.265  3.290  10.07  7.15  0.360  ...   \n",
       "\n",
       "   NO3_5  NO3_6  NO3_7  BOD5_1  BOD5_2  BOD5_3  BOD5_4  BOD5_5  BOD5_6  BOD5_7  \n",
       "0   4.95  1.730  1.800   4.800    3.15  10.665  10.465  16.645    5.75   10.37  \n",
       "1  20.05  9.530  7.695   4.550    6.95   2.040   5.200   5.725    2.95    2.23  \n",
       "2   4.58  3.025  3.960   4.935    4.95   4.725   6.075   6.750    3.50    3.17  \n",
       "3   8.45  2.070  1.730   6.300    4.70   3.500   6.200   8.670    2.90    7.37  \n",
       "4   2.02  1.730  0.760   4.800    4.97   3.950   2.800   8.400    3.50    3.90  \n",
       "\n",
       "[5 rows x 37 columns]"
      ]
     },
     "execution_count": 4,
     "metadata": {},
     "output_type": "execute_result"
    }
   ],
   "source": [
    "df.head()"
   ]
  },
  {
   "cell_type": "code",
   "execution_count": 5,
   "id": "44b0d783-3daa-4b82-a68f-c1c53cdf889c",
   "metadata": {},
   "outputs": [
    {
     "data": {
      "text/plain": [
       "id        False\n",
       "target    False\n",
       "O2_1      False\n",
       "O2_2      False\n",
       "O2_3      False\n",
       "O2_4      False\n",
       "O2_5      False\n",
       "O2_6      False\n",
       "O2_7      False\n",
       "NH4_1     False\n",
       "NH4_2     False\n",
       "NH4_3     False\n",
       "NH4_4     False\n",
       "NH4_5     False\n",
       "NH4_6     False\n",
       "NH4_7     False\n",
       "NO2_1     False\n",
       "NO2_2     False\n",
       "NO2_3     False\n",
       "NO2_4     False\n",
       "NO2_5     False\n",
       "NO2_6     False\n",
       "NO2_7     False\n",
       "NO3_1     False\n",
       "NO3_2     False\n",
       "NO3_3     False\n",
       "NO3_4     False\n",
       "NO3_5     False\n",
       "NO3_6     False\n",
       "NO3_7     False\n",
       "BOD5_1    False\n",
       "BOD5_2    False\n",
       "BOD5_3    False\n",
       "BOD5_4    False\n",
       "BOD5_5    False\n",
       "BOD5_6    False\n",
       "BOD5_7    False\n",
       "dtype: bool"
      ]
     },
     "execution_count": 5,
     "metadata": {},
     "output_type": "execute_result"
    }
   ],
   "source": [
    "df.isna().any()"
   ]
  },
  {
   "cell_type": "markdown",
   "id": "4bb178fc-6bbf-4d6a-9c59-fe00a0ecc23d",
   "metadata": {},
   "source": [
    "OK we don't have any null or na values.\n",
    "\n",
    "### The official kaggle explanation\n",
    "> This is a very different type of challenge! For this challenge, your task is to improve a dataset that is being used to train a random forest model; in other words, your submission will be training data, not predictions. A random forest model will be trained on your submission, used to make predictions, and then those predictions will be used to generate your score.\n",
    "\n",
    "> The dataset for this competition is a synthetic dataset based off of the Dissolved oxygen prediction in river water dataset. You are free to use the original in any way that you find useful.\n",
    "\n",
    "> Please see important information on the Evaluation tab about the model that will be trained on your submitted data.\n",
    "\n",
    "> Good luck!\n",
    "\n",
    "Now we have the current dataset which has only data from 7 stations and it is used to build a random forest model. __So first we need to create a Random Forest to compare the output__ and then augment the data by adding 8th station to df and running it again by the same random forest (or another) to see the differences.\n",
    "\n",
    "Let's create a random forest model."
   ]
  },
  {
   "cell_type": "code",
   "execution_count": 6,
   "id": "2866ab8c-c166-4991-8c5f-ebc71ab6509b",
   "metadata": {},
   "outputs": [],
   "source": [
    "indicators = ['O2', 'NH4', 'NO2', 'NO3', 'BOD5']"
   ]
  },
  {
   "cell_type": "code",
   "execution_count": 7,
   "id": "d887f0fc-edd6-4671-ac3a-b249f1445685",
   "metadata": {},
   "outputs": [],
   "source": [
    "def get_seven_stations(indicator):\n",
    "    col_names = [indicator + '_' + str(i) for i in range(1, 8)]\n",
    "    return col_names"
   ]
  },
  {
   "cell_type": "code",
   "execution_count": 8,
   "id": "e9b44cdf-c564-4a45-abf2-a63751d5fd5f",
   "metadata": {},
   "outputs": [
    {
     "data": {
      "text/plain": [
       "['BOD5_1', 'BOD5_2', 'BOD5_3', 'BOD5_4', 'BOD5_5', 'BOD5_6', 'BOD5_7']"
      ]
     },
     "execution_count": 8,
     "metadata": {},
     "output_type": "execute_result"
    }
   ],
   "source": [
    "get_seven_stations(indicators[4])"
   ]
  },
  {
   "cell_type": "code",
   "execution_count": 9,
   "id": "334402c4-f8db-4215-aa15-f1104d7e9320",
   "metadata": {},
   "outputs": [],
   "source": [
    "oxgen_col = get_seven_stations(indicators[1])"
   ]
  },
  {
   "cell_type": "code",
   "execution_count": 10,
   "id": "df46f11f-c47f-4bbe-905f-be0f3e3f117f",
   "metadata": {},
   "outputs": [
    {
     "data": {
      "text/html": [
       "<div>\n",
       "<style scoped>\n",
       "    .dataframe tbody tr th:only-of-type {\n",
       "        vertical-align: middle;\n",
       "    }\n",
       "\n",
       "    .dataframe tbody tr th {\n",
       "        vertical-align: top;\n",
       "    }\n",
       "\n",
       "    .dataframe thead th {\n",
       "        text-align: right;\n",
       "    }\n",
       "</style>\n",
       "<table border=\"1\" class=\"dataframe\">\n",
       "  <thead>\n",
       "    <tr style=\"text-align: right;\">\n",
       "      <th></th>\n",
       "      <th>NH4_1</th>\n",
       "      <th>NH4_2</th>\n",
       "      <th>NH4_3</th>\n",
       "      <th>NH4_4</th>\n",
       "      <th>NH4_5</th>\n",
       "      <th>NH4_6</th>\n",
       "      <th>NH4_7</th>\n",
       "    </tr>\n",
       "  </thead>\n",
       "  <tbody>\n",
       "    <tr>\n",
       "      <th>0</th>\n",
       "      <td>0.180</td>\n",
       "      <td>0.200</td>\n",
       "      <td>0.650</td>\n",
       "      <td>14.515</td>\n",
       "      <td>5.845</td>\n",
       "      <td>1.285</td>\n",
       "      <td>0.429</td>\n",
       "    </tr>\n",
       "    <tr>\n",
       "      <th>1</th>\n",
       "      <td>1.107</td>\n",
       "      <td>1.027</td>\n",
       "      <td>1.848</td>\n",
       "      <td>8.625</td>\n",
       "      <td>12.175</td>\n",
       "      <td>0.280</td>\n",
       "      <td>0.440</td>\n",
       "    </tr>\n",
       "    <tr>\n",
       "      <th>2</th>\n",
       "      <td>0.020</td>\n",
       "      <td>0.020</td>\n",
       "      <td>0.650</td>\n",
       "      <td>17.144</td>\n",
       "      <td>24.645</td>\n",
       "      <td>0.380</td>\n",
       "      <td>0.440</td>\n",
       "    </tr>\n",
       "    <tr>\n",
       "      <th>3</th>\n",
       "      <td>0.280</td>\n",
       "      <td>0.270</td>\n",
       "      <td>1.730</td>\n",
       "      <td>3.870</td>\n",
       "      <td>8.410</td>\n",
       "      <td>1.480</td>\n",
       "      <td>1.380</td>\n",
       "    </tr>\n",
       "    <tr>\n",
       "      <th>4</th>\n",
       "      <td>0.360</td>\n",
       "      <td>0.435</td>\n",
       "      <td>0.650</td>\n",
       "      <td>3.850</td>\n",
       "      <td>5.845</td>\n",
       "      <td>0.280</td>\n",
       "      <td>0.440</td>\n",
       "    </tr>\n",
       "    <tr>\n",
       "      <th>...</th>\n",
       "      <td>...</td>\n",
       "      <td>...</td>\n",
       "      <td>...</td>\n",
       "      <td>...</td>\n",
       "      <td>...</td>\n",
       "      <td>...</td>\n",
       "      <td>...</td>\n",
       "    </tr>\n",
       "    <tr>\n",
       "      <th>3495</th>\n",
       "      <td>0.565</td>\n",
       "      <td>0.565</td>\n",
       "      <td>3.960</td>\n",
       "      <td>2.400</td>\n",
       "      <td>5.550</td>\n",
       "      <td>0.429</td>\n",
       "      <td>0.440</td>\n",
       "    </tr>\n",
       "    <tr>\n",
       "      <th>3496</th>\n",
       "      <td>1.300</td>\n",
       "      <td>2.200</td>\n",
       "      <td>1.640</td>\n",
       "      <td>4.140</td>\n",
       "      <td>12.175</td>\n",
       "      <td>1.285</td>\n",
       "      <td>1.570</td>\n",
       "    </tr>\n",
       "    <tr>\n",
       "      <th>3497</th>\n",
       "      <td>0.430</td>\n",
       "      <td>0.400</td>\n",
       "      <td>1.848</td>\n",
       "      <td>1.800</td>\n",
       "      <td>7.625</td>\n",
       "      <td>0.310</td>\n",
       "      <td>0.844</td>\n",
       "    </tr>\n",
       "    <tr>\n",
       "      <th>3498</th>\n",
       "      <td>0.300</td>\n",
       "      <td>0.200</td>\n",
       "      <td>1.160</td>\n",
       "      <td>8.625</td>\n",
       "      <td>12.175</td>\n",
       "      <td>1.285</td>\n",
       "      <td>0.429</td>\n",
       "    </tr>\n",
       "    <tr>\n",
       "      <th>3499</th>\n",
       "      <td>0.215</td>\n",
       "      <td>0.200</td>\n",
       "      <td>0.650</td>\n",
       "      <td>4.390</td>\n",
       "      <td>30.260</td>\n",
       "      <td>0.380</td>\n",
       "      <td>0.844</td>\n",
       "    </tr>\n",
       "  </tbody>\n",
       "</table>\n",
       "<p>3500 rows × 7 columns</p>\n",
       "</div>"
      ],
      "text/plain": [
       "      NH4_1  NH4_2  NH4_3   NH4_4   NH4_5  NH4_6  NH4_7\n",
       "0     0.180  0.200  0.650  14.515   5.845  1.285  0.429\n",
       "1     1.107  1.027  1.848   8.625  12.175  0.280  0.440\n",
       "2     0.020  0.020  0.650  17.144  24.645  0.380  0.440\n",
       "3     0.280  0.270  1.730   3.870   8.410  1.480  1.380\n",
       "4     0.360  0.435  0.650   3.850   5.845  0.280  0.440\n",
       "...     ...    ...    ...     ...     ...    ...    ...\n",
       "3495  0.565  0.565  3.960   2.400   5.550  0.429  0.440\n",
       "3496  1.300  2.200  1.640   4.140  12.175  1.285  1.570\n",
       "3497  0.430  0.400  1.848   1.800   7.625  0.310  0.844\n",
       "3498  0.300  0.200  1.160   8.625  12.175  1.285  0.429\n",
       "3499  0.215  0.200  0.650   4.390  30.260  0.380  0.844\n",
       "\n",
       "[3500 rows x 7 columns]"
      ]
     },
     "execution_count": 10,
     "metadata": {},
     "output_type": "execute_result"
    }
   ],
   "source": [
    "df[oxgen_col]"
   ]
  },
  {
   "cell_type": "code",
   "execution_count": 11,
   "id": "87250301-6ba5-4e51-bd7c-6d83532000a8",
   "metadata": {},
   "outputs": [
    {
     "data": {
      "text/plain": [
       "array([[1.        , 0.20475417],\n",
       "       [0.20475417, 1.        ]])"
      ]
     },
     "execution_count": 11,
     "metadata": {},
     "output_type": "execute_result"
    }
   ],
   "source": [
    "np.corrcoef(df['O2_1'],df['O2_2'])"
   ]
  },
  {
   "cell_type": "code",
   "execution_count": 12,
   "id": "0f667534-2b2e-41ce-84e0-900fcaa53b23",
   "metadata": {},
   "outputs": [],
   "source": [
    "def corr (x,y):\n",
    "    return np.corrcoef(x, y) [0][1]\n",
    "\n",
    "def show_corr(df, a, b):\n",
    "    x,y = df [a], df[b]\n",
    "    plt.scatter (x,y, alpha=0.5, s=4)\n",
    "    plt.title(f'{a} vs {b}; r: {corr (x, y) : .2f}')"
   ]
  },
  {
   "cell_type": "code",
   "execution_count": 13,
   "id": "c5433670-b700-4b85-85cd-403548b6fdb9",
   "metadata": {},
   "outputs": [
    {
     "data": {
      "image/png": "[encoded data removed]",
      "text/plain": [
       "<Figure size 640x480 with 1 Axes>"
      ]
     },
     "metadata": {},
     "output_type": "display_data"
    }
   ],
   "source": [
    "show_corr(df, 'O2_1','O2_3')"
   ]
  },
  {
   "cell_type": "code",
   "execution_count": 14,
   "id": "250aec86-c6f2-49e6-9ec0-42bc8811a36e",
   "metadata": {},
   "outputs": [
    {
     "data": {
      "image/png": "[encoded data removed]",
      "text/plain": [
       "<Figure size 480x480 with 1 Axes>"
      ]
     },
     "metadata": {},
     "output_type": "display_data"
    }
   ],
   "source": [
    "plt.matshow(df.corr())\n",
    "plt.show()"
   ]
  },
  {
   "cell_type": "markdown",
   "id": "53b443e0-ec1e-4d2f-a38c-c3ae75fec5de",
   "metadata": {},
   "source": [
    "I thought maybe there was a correlation between perhaps oxygen and nitrogen dioxide but there aren't any power connections, except for nitrate.\n",
    "\n",
    "Let's check to TODO:\n",
    "\n",
    "- [x] Look at the big picture.\n",
    "- [x] Get the data.\n",
    "- [x] Discover and visualize the data to gain insights.\n",
    "- [ ] Prepare the data for Machine Learning algorithms.\n",
    "- [ ] Select a model and train it.\n",
    "- [ ] Fine-tune your model.\n",
    "- [ ] Present your solution.\n",
    "- [ ] Launch, monitor, and maintain your system."
   ]
  },
  {
   "cell_type": "markdown",
   "id": "ca70a16a-892f-48bf-b52a-d6681587c87b",
   "metadata": {},
   "source": [
    "### NOTE\n",
    "This is part is quite useful, since it was the part where I learnt how to index columns, obviuosly with iloc. I wonder if it is also possible with 'loc'?\n",
    "\n",
    "Another way which I thought up was to select like `df.iloc[:, 0]` and `df.iloc[:, 2:37]` and then add them to a big X df. More info on column based indexing on [Pandas Site](https://pandas.pydata.org/docs/reference/api/pandas.DataFrame.iloc.html)."
   ]
  },
  {
   "cell_type": "code",
   "execution_count": 44,
   "id": "04dd894c-603d-4421-aa1e-8329898b4184",
   "metadata": {},
   "outputs": [],
   "source": [
    "inx = np.ones((37))"
   ]
  },
  {
   "cell_type": "code",
   "execution_count": 45,
   "id": "13494991-3753-4a81-8992-26646e9cbbb6",
   "metadata": {},
   "outputs": [],
   "source": [
    "inx[1] = 0"
   ]
  },
  {
   "cell_type": "code",
   "execution_count": 51,
   "id": "671b7261-8386-42bc-909f-c3fb964c0d7c",
   "metadata": {},
   "outputs": [],
   "source": [
    "x_full = df.iloc[:, inx == True]"
   ]
  },
  {
   "cell_type": "code",
   "execution_count": 56,
   "id": "0df25801-b7f5-432c-bc5e-0249ef5a39a4",
   "metadata": {},
   "outputs": [
    {
     "data": {
      "text/plain": [
       "False"
      ]
     },
     "execution_count": 56,
     "metadata": {},
     "output_type": "execute_result"
    }
   ],
   "source": [
    "y_full = df.iloc[:, 1]\n",
    "y_full.any() != df['target'].any()"
   ]
  },
  {
   "cell_type": "code",
   "execution_count": 62,
   "id": "9588d265-e7c2-4cc5-b0bd-b8724984772d",
   "metadata": {},
   "outputs": [
    {
     "data": {
      "text/plain": [
       "65.93"
      ]
     },
     "execution_count": 62,
     "metadata": {},
     "output_type": "execute_result"
    }
   ],
   "source": [
    "np.max(y_full)"
   ]
  },
  {
   "cell_type": "code",
   "execution_count": 64,
   "id": "851a7538-8a2a-4b2d-906a-4f1b650397c1",
   "metadata": {},
   "outputs": [
    {
     "data": {
      "text/plain": [
       "1.3"
      ]
     },
     "execution_count": 64,
     "metadata": {},
     "output_type": "execute_result"
    }
   ],
   "source": [
    "np.min(y_full)\n",
    "\n",
    "# TODO test normalization"
   ]
  },
  {
   "cell_type": "code",
   "execution_count": 57,
   "id": "20f4e91d-4bb8-4abb-ac1c-017ffcbe2d90",
   "metadata": {},
   "outputs": [],
   "source": [
    "# Splitting the data\n",
    "from sklearn.model_selection import train_test_split\n",
    "\n",
    "x_train, x_test, y_train, y_test = train_test_split(x_full, y_full, test_size=0.2)"
   ]
  },
  {
   "cell_type": "code",
   "execution_count": 93,
   "id": "ad927df9-c88e-4136-b415-225daeccfce8",
   "metadata": {},
   "outputs": [
    {
     "data": {
      "text/html": [
       "<style>#sk-container-id-2 {color: black;background-color: white;}#sk-container-id-2 pre{padding: 0;}#sk-container-id-2 div.sk-toggleable {background-color: white;}#sk-container-id-2 label.sk-toggleable__label {cursor: pointer;display: block;width: 100%;margin-bottom: 0;padding: 0.3em;box-sizing: border-box;text-align: center;}#sk-container-id-2 label.sk-toggleable__label-arrow:before {content: \"▸\";float: left;margin-right: 0.25em;color: #696969;}#sk-container-id-2 label.sk-toggleable__label-arrow:hover:before {color: black;}#sk-container-id-2 div.sk-estimator:hover label.sk-toggleable__label-arrow:before {color: black;}#sk-container-id-2 div.sk-toggleable__content {max-height: 0;max-width: 0;overflow: hidden;text-align: left;background-color: #f0f8ff;}#sk-container-id-2 div.sk-toggleable__content pre {margin: 0.2em;color: black;border-radius: 0.25em;background-color: #f0f8ff;}#sk-container-id-2 input.sk-toggleable__control:checked~div.sk-toggleable__content {max-height: 200px;max-width: 100%;overflow: auto;}#sk-container-id-2 input.sk-toggleable__control:checked~label.sk-toggleable__label-arrow:before {content: \"▾\";}#sk-container-id-2 div.sk-estimator input.sk-toggleable__control:checked~label.sk-toggleable__label {background-color: #d4ebff;}#sk-container-id-2 div.sk-label input.sk-toggleable__control:checked~label.sk-toggleable__label {background-color: #d4ebff;}#sk-container-id-2 input.sk-hidden--visually {border: 0;clip: rect(1px 1px 1px 1px);clip: rect(1px, 1px, 1px, 1px);height: 1px;margin: -1px;overflow: hidden;padding: 0;position: absolute;width: 1px;}#sk-container-id-2 div.sk-estimator {font-family: monospace;background-color: #f0f8ff;border: 1px dotted black;border-radius: 0.25em;box-sizing: border-box;margin-bottom: 0.5em;}#sk-container-id-2 div.sk-estimator:hover {background-color: #d4ebff;}#sk-container-id-2 div.sk-parallel-item::after {content: \"\";width: 100%;border-bottom: 1px solid gray;flex-grow: 1;}#sk-container-id-2 div.sk-label:hover label.sk-toggleable__label {background-color: #d4ebff;}#sk-container-id-2 div.sk-serial::before {content: \"\";position: absolute;border-left: 1px solid gray;box-sizing: border-box;top: 0;bottom: 0;left: 50%;z-index: 0;}#sk-container-id-2 div.sk-serial {display: flex;flex-direction: column;align-items: center;background-color: white;padding-right: 0.2em;padding-left: 0.2em;position: relative;}#sk-container-id-2 div.sk-item {position: relative;z-index: 1;}#sk-container-id-2 div.sk-parallel {display: flex;align-items: stretch;justify-content: center;background-color: white;position: relative;}#sk-container-id-2 div.sk-item::before, #sk-container-id-2 div.sk-parallel-item::before {content: \"\";position: absolute;border-left: 1px solid gray;box-sizing: border-box;top: 0;bottom: 0;left: 50%;z-index: -1;}#sk-container-id-2 div.sk-parallel-item {display: flex;flex-direction: column;z-index: 1;position: relative;background-color: white;}#sk-container-id-2 div.sk-parallel-item:first-child::after {align-self: flex-end;width: 50%;}#sk-container-id-2 div.sk-parallel-item:last-child::after {align-self: flex-start;width: 50%;}#sk-container-id-2 div.sk-parallel-item:only-child::after {width: 0;}#sk-container-id-2 div.sk-dashed-wrapped {border: 1px dashed gray;margin: 0 0.4em 0.5em 0.4em;box-sizing: border-box;padding-bottom: 0.4em;background-color: white;}#sk-container-id-2 div.sk-label label {font-family: monospace;font-weight: bold;display: inline-block;line-height: 1.2em;}#sk-container-id-2 div.sk-label-container {text-align: center;}#sk-container-id-2 div.sk-container {/* jupyter's `normalize.less` sets `[hidden] { display: none; }` but bootstrap.min.css set `[hidden] { display: none !important; }` so we also need the `!important` here to be able to override the default hidden behavior on the sphinx rendered scikit-learn.org. See: https://github.com/scikit-learn/scikit-learn/issues/21755 */display: inline-block !important;position: relative;}#sk-container-id-2 div.sk-text-repr-fallback {display: none;}</style><div id=\"sk-container-id-2\" class=\"sk-top-container\"><div class=\"sk-text-repr-fallback\"><pre>RandomForestRegressor()</pre><b>In a Jupyter environment, please rerun this cell to show the HTML representation or trust the notebook. <br />On GitHub, the HTML representation is unable to render, please try loading this page with nbviewer.org.</b></div><div class=\"sk-container\" hidden><div class=\"sk-item\"><div class=\"sk-estimator sk-toggleable\"><input class=\"sk-toggleable__control sk-hidden--visually\" id=\"sk-estimator-id-2\" type=\"checkbox\" checked><label for=\"sk-estimator-id-2\" class=\"sk-toggleable__label sk-toggleable__label-arrow\">RandomForestRegressor</label><div class=\"sk-toggleable__content\"><pre>RandomForestRegressor()</pre></div></div></div></div></div>"
      ],
      "text/plain": [
       "RandomForestRegressor()"
      ]
     },
     "execution_count": 93,
     "metadata": {},
     "output_type": "execute_result"
    }
   ],
   "source": [
    "from sklearn.ensemble import RandomForestRegressor\n",
    "\n",
    "rf = RandomForestRegressor(\n",
    "       n_estimators=1000,\n",
    "       max_depth=7,\n",
    "       n_jobs=-1,\n",
    "       random_state=42)\n",
    "\n",
    "rf_classifier.fit(x_train, y_train)"
   ]
  },
  {
   "cell_type": "code",
   "execution_count": 94,
   "id": "508bb22e-e25c-4347-abc4-0d98e11d9960",
   "metadata": {},
   "outputs": [],
   "source": [
    "rf_preds = rf_classifier.predict(x_test)"
   ]
  },
  {
   "cell_type": "code",
   "execution_count": 95,
   "id": "680366ba-c4a4-45f6-a003-a089d753a607",
   "metadata": {},
   "outputs": [
    {
     "data": {
      "text/plain": [
       "1.3228116414285722"
      ]
     },
     "execution_count": 95,
     "metadata": {},
     "output_type": "execute_result"
    }
   ],
   "source": [
    "from sklearn.metrics import mean_squared_error\n",
    "\n",
    "mean_squared_error(y_test, rf_preds)"
   ]
  },
  {
   "cell_type": "markdown",
   "id": "14ab75d0-f36f-47d2-9800-41f3be505750",
   "metadata": {},
   "source": [
    "old MSE = 1.1714004560857145\n",
    "\n",
    "new MSE = 1.3228116414285722"
   ]
  },
  {
   "cell_type": "code",
   "execution_count": 96,
   "id": "b12547de-04a3-44cb-aee2-3c402ab1f902",
   "metadata": {},
   "outputs": [
    {
     "data": {
      "text/plain": [
       "True"
      ]
     },
     "execution_count": 96,
     "metadata": {},
     "output_type": "execute_result"
    }
   ],
   "source": [
    "len(y_test) == len(rf_preds)"
   ]
  },
  {
   "cell_type": "code",
   "execution_count": 97,
   "id": "2ba75f6f-4f92-4e83-87b4-29e69b6e6256",
   "metadata": {},
   "outputs": [
    {
     "data": {
      "text/plain": [
       "604     0.000044\n",
       "1590    0.002070\n",
       "347     1.649940\n",
       "2325    0.110689\n",
       "161     0.859514\n",
       "          ...   \n",
       "3145    1.436642\n",
       "449     1.598960\n",
       "283     0.655614\n",
       "2102    1.460231\n",
       "1451    1.411106\n",
       "Name: target, Length: 700, dtype: float64"
      ]
     },
     "execution_count": 97,
     "metadata": {},
     "output_type": "execute_result"
    }
   ],
   "source": [
    "err_values = []\n",
    "\n",
    "for i in y_test:\n",
    "    err = (y_test - rf_preds) ** 2\n",
    "    err_values.append(err)\n",
    "err"
   ]
  },
  {
   "cell_type": "code",
   "execution_count": 98,
   "id": "26ccd8c5-06b7-4b34-b60b-2140abdbd353",
   "metadata": {},
   "outputs": [
    {
     "data": {
      "image/png": "[encoded data removed]",
      "text/plain": [
       "<Figure size 640x480 with 1 Axes>"
      ]
     },
     "metadata": {},
     "output_type": "display_data"
    }
   ],
   "source": [
    "plt.scatter(y_test, rf_preds, alpha = 0.5)\n",
    "# plt.xticks(ticks=[i for i in range(len(err_values))], labels=rf_preds)\n",
    "plt.xlabel('Y')\n",
    "plt.ylabel('Y Hat')\n",
    "plt.show()"
   ]
  },
  {
   "cell_type": "code",
   "execution_count": 111,
   "id": "954e4617-6622-4224-b4da-be8d914e4d9b",
   "metadata": {},
   "outputs": [],
   "source": [
    "imporatnces = rf_classifier.feature_importances_"
   ]
  },
  {
   "cell_type": "code",
   "execution_count": 112,
   "id": "2043b7c6-eb19-40cc-9326-6322d5adb656",
   "metadata": {},
   "outputs": [
    {
     "data": {
      "text/plain": [
       "36"
      ]
     },
     "execution_count": 112,
     "metadata": {},
     "output_type": "execute_result"
    }
   ],
   "source": [
    "len(imporatnces)"
   ]
  },
  {
   "cell_type": "code",
   "execution_count": 131,
   "id": "aea807e2-178f-40e1-a90c-eef5335fe80f",
   "metadata": {},
   "outputs": [
    {
     "data": {
      "text/plain": [
       "([<matplotlib.axis.XTick at 0x7fc7dcd27910>,\n",
       "  <matplotlib.axis.XTick at 0x7fc7dcd278e0>,\n",
       "  <matplotlib.axis.XTick at 0x7fc7dcd277f0>,\n",
       "  <matplotlib.axis.XTick at 0x7fc7dcd4fdc0>,\n",
       "  <matplotlib.axis.XTick at 0x7fc7dcd4feb0>,\n",
       "  <matplotlib.axis.XTick at 0x7fc7dcd709d0>,\n",
       "  <matplotlib.axis.XTick at 0x7fc7dcd711b0>,\n",
       "  <matplotlib.axis.XTick at 0x7fc7dcd71990>,\n",
       "  <matplotlib.axis.XTick at 0x7fc7dcd72170>,\n",
       "  <matplotlib.axis.XTick at 0x7fc7dcd72950>,\n",
       "  <matplotlib.axis.XTick at 0x7fc7dcd71bd0>,\n",
       "  <matplotlib.axis.XTick at 0x7fc7dcd72ad0>,\n",
       "  <matplotlib.axis.XTick at 0x7fc7dcd732b0>,\n",
       "  <matplotlib.axis.XTick at 0x7fc7dcd73a90>,\n",
       "  <matplotlib.axis.XTick at 0x7fc7dcd73f70>,\n",
       "  <matplotlib.axis.XTick at 0x7fc7dcd73640>,\n",
       "  <matplotlib.axis.XTick at 0x7fc7dcd727a0>,\n",
       "  <matplotlib.axis.XTick at 0x7fc7dccd12d0>,\n",
       "  <matplotlib.axis.XTick at 0x7fc7dcd94e80>,\n",
       "  <matplotlib.axis.XTick at 0x7fc7dcd95660>,\n",
       "  <matplotlib.axis.XTick at 0x7fc7dcd4e500>,\n",
       "  <matplotlib.axis.XTick at 0x7fc7dcd95420>,\n",
       "  <matplotlib.axis.XTick at 0x7fc7dcd96080>,\n",
       "  <matplotlib.axis.XTick at 0x7fc7dcd96860>,\n",
       "  <matplotlib.axis.XTick at 0x7fc7dcd97040>,\n",
       "  <matplotlib.axis.XTick at 0x7fc7dcd97820>,\n",
       "  <matplotlib.axis.XTick at 0x7fc7dcd96b00>,\n",
       "  <matplotlib.axis.XTick at 0x7fc7dcd979d0>,\n",
       "  <matplotlib.axis.XTick at 0x7fc7dcd965c0>,\n",
       "  <matplotlib.axis.XTick at 0x7fc7dcdb89d0>,\n",
       "  <matplotlib.axis.XTick at 0x7fc7dcdb91b0>,\n",
       "  <matplotlib.axis.XTick at 0x7fc7dcd962f0>,\n",
       "  <matplotlib.axis.XTick at 0x7fc7dcdb8790>,\n",
       "  <matplotlib.axis.XTick at 0x7fc7dcdb9b40>,\n",
       "  <matplotlib.axis.XTick at 0x7fc7dcdba320>,\n",
       "  <matplotlib.axis.XTick at 0x7fc7dcdbab00>],\n",
       " [Text(0, 0, '0'),\n",
       "  Text(1, 0, '1'),\n",
       "  Text(2, 0, '2'),\n",
       "  Text(3, 0, '3'),\n",
       "  Text(4, 0, '4'),\n",
       "  Text(5, 0, '5'),\n",
       "  Text(6, 0, '6'),\n",
       "  Text(7, 0, '7'),\n",
       "  Text(8, 0, '8'),\n",
       "  Text(9, 0, '9'),\n",
       "  Text(10, 0, '10'),\n",
       "  Text(11, 0, '11'),\n",
       "  Text(12, 0, '12'),\n",
       "  Text(13, 0, '13'),\n",
       "  Text(14, 0, '14'),\n",
       "  Text(15, 0, '15'),\n",
       "  Text(16, 0, '16'),\n",
       "  Text(17, 0, '17'),\n",
       "  Text(18, 0, '18'),\n",
       "  Text(19, 0, '19'),\n",
       "  Text(20, 0, '20'),\n",
       "  Text(21, 0, '21'),\n",
       "  Text(22, 0, '22'),\n",
       "  Text(23, 0, '23'),\n",
       "  Text(24, 0, '24'),\n",
       "  Text(25, 0, '25'),\n",
       "  Text(26, 0, '26'),\n",
       "  Text(27, 0, '27'),\n",
       "  Text(28, 0, '28'),\n",
       "  Text(29, 0, '29'),\n",
       "  Text(30, 0, '30'),\n",
       "  Text(31, 0, '31'),\n",
       "  Text(32, 0, '32'),\n",
       "  Text(33, 0, '33'),\n",
       "  Text(34, 0, '34'),\n",
       "  Text(35, 0, '35')])"
      ]
     },
     "execution_count": 131,
     "metadata": {},
     "output_type": "execute_result"
    },
    {
     "data": {
      "image/png": "[encoded data removed]",
      "text/plain": [
       "<Figure size 1900x700 with 1 Axes>"
      ]
     },
     "metadata": {},
     "output_type": "display_data"
    }
   ],
   "source": [
    "from matplotlib.pyplot import figure\n",
    "figure(figsize=(19, 7))\n",
    "plt.plot(imporatnces)\n",
    "plt.xticks(np.arange(0, 36, step=1))"
   ]
  },
  {
   "cell_type": "markdown",
   "id": "aaac115f-eeb0-43fb-a9fc-52b8223e1da2",
   "metadata": {},
   "source": [
    "So the most importance columns are 2, 3, 34. Let's see what are these?"
   ]
  },
  {
   "cell_type": "code",
   "execution_count": 147,
   "id": "6d9b1d39-46bf-4f62-8eaf-9f773bcc25ba",
   "metadata": {},
   "outputs": [],
   "source": [
    "imporatnces = pd.Series(imporatnces)"
   ]
  },
  {
   "cell_type": "code",
   "execution_count": 159,
   "id": "e988f481-83aa-4c49-9cb6-ea4d2b719a7f",
   "metadata": {},
   "outputs": [],
   "source": [
    "imporatnces.sort_values(ascending=False, inplace=True)"
   ]
  },
  {
   "cell_type": "code",
   "execution_count": 152,
   "id": "0879ebef-e45e-4b2a-9547-df17e9b12723",
   "metadata": {},
   "outputs": [
    {
     "data": {
      "text/plain": [
       "1     0.373537\n",
       "2     0.287586\n",
       "33    0.076680\n",
       "dtype: float64"
      ]
     },
     "execution_count": 152,
     "metadata": {},
     "output_type": "execute_result"
    }
   ],
   "source": [
    "imporatnces[imporatnces > imporatnces.mean()]"
   ]
  },
  {
   "cell_type": "code",
   "execution_count": 132,
   "id": "f0e4a52b-8a3a-4f32-837a-de178791c788",
   "metadata": {},
   "outputs": [
    {
     "data": {
      "text/plain": [
       "Index(['O2_1', 'O2_2', 'BOD5_5'], dtype='object')"
      ]
     },
     "execution_count": 132,
     "metadata": {},
     "output_type": "execute_result"
    }
   ],
   "source": [
    "df.columns[[2, 3, 34]]"
   ]
  },
  {
   "cell_type": "markdown",
   "id": "4bf98216-21ea-402a-ae58-2c0c5e225a9d",
   "metadata": {},
   "source": [
    "Now I am going to train a Random Forest Regresson with only these three features and let's see how much MSE goes up? This will help to realize the real loss or lack of it by other feautres, maybe we could also combine other features imporatnce and compare but this is more fun."
   ]
  },
  {
   "cell_type": "code",
   "execution_count": 204,
   "id": "85f9e33e-d43b-41df-b8e9-b2c661c085b3",
   "metadata": {},
   "outputs": [],
   "source": [
    "minimal_train_data = []\n",
    "minimal_test_data = []\n",
    "\n",
    "for i in range(3, 18):\n",
    "    minimal_inx = np.zeros_like(x_train.columns)\n",
    "    minimal_inx[imporatnces[:i].index] = 1\n",
    "    minimal_inx = minimal_inx == 1\n",
    "    minimal_train_data.append(x_train.iloc[:, minimal_inx])\n",
    "    minimal_test_data.append(x_test.iloc[:, minimal_inx])"
   ]
  },
  {
   "cell_type": "code",
   "execution_count": 205,
   "id": "391daf0a-71d5-4ac2-80ac-cb8aa537e9a9",
   "metadata": {},
   "outputs": [
    {
     "name": "stdout",
     "output_type": "stream",
     "text": [
      "For the 3 features the mse is: 1.3232833197493163\n",
      "Compare to 36 features mse it is: \n",
      "-0.00047167832074412885\n",
      "\n",
      "For the 4 features the mse is: 1.3051850356373997\n",
      "Compare to 36 features mse it is: \n",
      "0.01762660579117248\n",
      "\n",
      "For the 5 features the mse is: 1.298113164491251\n",
      "Compare to 36 features mse it is: \n",
      "0.0246984769373213\n",
      "\n",
      "For the 6 features the mse is: 1.2904763938656119\n",
      "Compare to 36 features mse it is: \n",
      "0.032335247562960356\n",
      "\n",
      "For the 7 features the mse is: 1.2957372839214958\n",
      "Compare to 36 features mse it is: \n",
      "0.02707435750707643\n",
      "\n",
      "For the 8 features the mse is: 1.2931134855761022\n",
      "Compare to 36 features mse it is: \n",
      "0.029698155852470043\n",
      "\n",
      "For the 9 features the mse is: 1.2759689877041953\n",
      "Compare to 36 features mse it is: \n",
      "0.046842653724376904\n",
      "\n",
      "For the 10 features the mse is: 1.259769443442859\n",
      "Compare to 36 features mse it is: \n",
      "0.0630421979857132\n",
      "\n",
      "For the 11 features the mse is: 1.2653002922205046\n",
      "Compare to 36 features mse it is: \n",
      "0.057511349208067664\n",
      "\n",
      "For the 12 features the mse is: 1.2668566150911331\n",
      "Compare to 36 features mse it is: \n",
      "0.055955026337439095\n",
      "\n",
      "For the 13 features the mse is: 1.2649549090513448\n",
      "Compare to 36 features mse it is: \n",
      "0.05785673237722744\n",
      "\n",
      "For the 14 features the mse is: 1.2578054338758653\n",
      "Compare to 36 features mse it is: \n",
      "0.06500620755270692\n",
      "\n",
      "For the 15 features the mse is: 1.2538346443858437\n",
      "Compare to 36 features mse it is: \n",
      "0.06897699704272853\n",
      "\n",
      "For the 16 features the mse is: 1.2541572260381566\n",
      "Compare to 36 features mse it is: \n",
      "0.06865441539041561\n",
      "\n",
      "For the 17 features the mse is: 1.2631009391884616\n",
      "Compare to 36 features mse it is: \n",
      "0.05971070224011066\n",
      "\n"
     ]
    }
   ],
   "source": [
    "all_features_mse = 1.3228116414285722\n",
    "\n",
    "\n",
    "for i in range(0, len(minimal_test_data)):\n",
    "    minimal_rf = RandomForestRegressor(\n",
    "       n_estimators=1000,\n",
    "       max_depth=7,\n",
    "       n_jobs=-1,\n",
    "       random_state=42)\n",
    "    \n",
    "    \n",
    "    minimal_rf.fit(minimal_train_data[i], y_train)\n",
    "    minimal_preds = minimal_rf.predict(minimal_test_data[i])\n",
    "    mse = mean_squared_error(y_test, minimal_preds)\n",
    "    print(f'For the {i+3} features the mse is: {mse}')\n",
    "    print(f'Compare to 36 features mse it is: ')\n",
    "    print(f'{(all_features_mse-mse)}\\n')"
   ]
  },
  {
   "cell_type": "code",
   "execution_count": 143,
   "id": "a2e4acd2-45d7-4c47-b909-b8ef64c5401b",
   "metadata": {},
   "outputs": [
    {
     "data": {
      "text/plain": [
       "0.00047167832074412885"
      ]
     },
     "execution_count": 143,
     "metadata": {},
     "output_type": "execute_result"
    }
   ],
   "source": [
    "1.3232833197493163 - 1.3228116414285722"
   ]
  },
  {
   "cell_type": "markdown",
   "id": "e35bb8ce-6466-4712-8551-37c173143113",
   "metadata": {},
   "source": [
    "OK the 36 features version of model had a mse of 1.3228116414285722 and the new (minimal) model has only 1.3232833197493163, only 4 ten-thousandth for 33 extra features. The sweet spot is around 10 features but other than that it would be 5 and 3 features.\n",
    "\n",
    "## Checking for Outliers"
   ]
  },
  {
   "cell_type": "code",
   "execution_count": 210,
   "id": "5eb9b12e-aef9-4b02-a19c-fd1c6d7b6f3d",
   "metadata": {},
   "outputs": [],
   "source": [
    "# 5 features\n",
    "\n",
    "minimal_inx = np.zeros_like(x_train.columns)\n",
    "minimal_inx[imporatnces[:5].index] = 1\n",
    "minimal_inx = minimal_inx == 1\n",
    "five_f = x_train.iloc[:, minimal_inx]"
   ]
  },
  {
   "cell_type": "code",
   "execution_count": 211,
   "id": "d541ef84-2c20-45ca-80b0-fc9510bfe552",
   "metadata": {},
   "outputs": [
    {
     "data": {
      "text/html": [
       "<div>\n",
       "<style scoped>\n",
       "    .dataframe tbody tr th:only-of-type {\n",
       "        vertical-align: middle;\n",
       "    }\n",
       "\n",
       "    .dataframe tbody tr th {\n",
       "        vertical-align: top;\n",
       "    }\n",
       "\n",
       "    .dataframe thead th {\n",
       "        text-align: right;\n",
       "    }\n",
       "</style>\n",
       "<table border=\"1\" class=\"dataframe\">\n",
       "  <thead>\n",
       "    <tr style=\"text-align: right;\">\n",
       "      <th></th>\n",
       "      <th>O2_1</th>\n",
       "      <th>O2_2</th>\n",
       "      <th>O2_4</th>\n",
       "      <th>NH4_1</th>\n",
       "      <th>BOD5_5</th>\n",
       "    </tr>\n",
       "  </thead>\n",
       "  <tbody>\n",
       "    <tr>\n",
       "      <th>492</th>\n",
       "      <td>7.300</td>\n",
       "      <td>40.900</td>\n",
       "      <td>6.370</td>\n",
       "      <td>0.210</td>\n",
       "      <td>6.750</td>\n",
       "    </tr>\n",
       "    <tr>\n",
       "      <th>1878</th>\n",
       "      <td>6.540</td>\n",
       "      <td>4.980</td>\n",
       "      <td>9.115</td>\n",
       "      <td>1.300</td>\n",
       "      <td>6.750</td>\n",
       "    </tr>\n",
       "    <tr>\n",
       "      <th>510</th>\n",
       "      <td>4.120</td>\n",
       "      <td>5.400</td>\n",
       "      <td>6.370</td>\n",
       "      <td>0.180</td>\n",
       "      <td>5.725</td>\n",
       "    </tr>\n",
       "    <tr>\n",
       "      <th>677</th>\n",
       "      <td>8.800</td>\n",
       "      <td>8.565</td>\n",
       "      <td>8.050</td>\n",
       "      <td>0.642</td>\n",
       "      <td>5.725</td>\n",
       "    </tr>\n",
       "    <tr>\n",
       "      <th>2661</th>\n",
       "      <td>7.367</td>\n",
       "      <td>40.900</td>\n",
       "      <td>9.115</td>\n",
       "      <td>0.247</td>\n",
       "      <td>5.500</td>\n",
       "    </tr>\n",
       "    <tr>\n",
       "      <th>...</th>\n",
       "      <td>...</td>\n",
       "      <td>...</td>\n",
       "      <td>...</td>\n",
       "      <td>...</td>\n",
       "      <td>...</td>\n",
       "    </tr>\n",
       "    <tr>\n",
       "      <th>746</th>\n",
       "      <td>9.700</td>\n",
       "      <td>8.933</td>\n",
       "      <td>11.475</td>\n",
       "      <td>0.240</td>\n",
       "      <td>8.400</td>\n",
       "    </tr>\n",
       "    <tr>\n",
       "      <th>2848</th>\n",
       "      <td>8.100</td>\n",
       "      <td>7.300</td>\n",
       "      <td>9.265</td>\n",
       "      <td>0.392</td>\n",
       "      <td>9.250</td>\n",
       "    </tr>\n",
       "    <tr>\n",
       "      <th>32</th>\n",
       "      <td>8.833</td>\n",
       "      <td>8.167</td>\n",
       "      <td>7.400</td>\n",
       "      <td>0.247</td>\n",
       "      <td>6.750</td>\n",
       "    </tr>\n",
       "    <tr>\n",
       "      <th>827</th>\n",
       "      <td>7.400</td>\n",
       "      <td>7.400</td>\n",
       "      <td>10.375</td>\n",
       "      <td>0.240</td>\n",
       "      <td>8.415</td>\n",
       "    </tr>\n",
       "    <tr>\n",
       "      <th>1479</th>\n",
       "      <td>8.100</td>\n",
       "      <td>6.025</td>\n",
       "      <td>6.430</td>\n",
       "      <td>0.095</td>\n",
       "      <td>8.415</td>\n",
       "    </tr>\n",
       "  </tbody>\n",
       "</table>\n",
       "<p>2800 rows × 5 columns</p>\n",
       "</div>"
      ],
      "text/plain": [
       "       O2_1    O2_2    O2_4  NH4_1  BOD5_5\n",
       "492   7.300  40.900   6.370  0.210   6.750\n",
       "1878  6.540   4.980   9.115  1.300   6.750\n",
       "510   4.120   5.400   6.370  0.180   5.725\n",
       "677   8.800   8.565   8.050  0.642   5.725\n",
       "2661  7.367  40.900   9.115  0.247   5.500\n",
       "...     ...     ...     ...    ...     ...\n",
       "746   9.700   8.933  11.475  0.240   8.400\n",
       "2848  8.100   7.300   9.265  0.392   9.250\n",
       "32    8.833   8.167   7.400  0.247   6.750\n",
       "827   7.400   7.400  10.375  0.240   8.415\n",
       "1479  8.100   6.025   6.430  0.095   8.415\n",
       "\n",
       "[2800 rows x 5 columns]"
      ]
     },
     "execution_count": 211,
     "metadata": {},
     "output_type": "execute_result"
    }
   ],
   "source": [
    "five_f"
   ]
  },
  {
   "cell_type": "code",
   "execution_count": 212,
   "id": "1da9105e-ea8a-4765-a75e-c489c326b974",
   "metadata": {},
   "outputs": [
    {
     "data": {
      "image/png": "[encoded data removed]",
      "text/plain": [
       "<Figure size 480x480 with 1 Axes>"
      ]
     },
     "metadata": {},
     "output_type": "display_data"
    }
   ],
   "source": [
    "plt.matshow(five_f.corr())\n",
    "plt.show()"
   ]
  },
  {
   "cell_type": "code",
   "execution_count": 216,
   "id": "823918e6-a66c-44fb-916a-3d9c7f352261",
   "metadata": {},
   "outputs": [
    {
     "data": {
      "text/html": [
       "<div>\n",
       "<style scoped>\n",
       "    .dataframe tbody tr th:only-of-type {\n",
       "        vertical-align: middle;\n",
       "    }\n",
       "\n",
       "    .dataframe tbody tr th {\n",
       "        vertical-align: top;\n",
       "    }\n",
       "\n",
       "    .dataframe thead th {\n",
       "        text-align: right;\n",
       "    }\n",
       "</style>\n",
       "<table border=\"1\" class=\"dataframe\">\n",
       "  <thead>\n",
       "    <tr style=\"text-align: right;\">\n",
       "      <th></th>\n",
       "      <th>O2_1</th>\n",
       "      <th>O2_2</th>\n",
       "      <th>O2_4</th>\n",
       "      <th>NH4_1</th>\n",
       "      <th>BOD5_5</th>\n",
       "    </tr>\n",
       "  </thead>\n",
       "  <tbody>\n",
       "    <tr>\n",
       "      <th>count</th>\n",
       "      <td>2800.000000</td>\n",
       "      <td>2800.000000</td>\n",
       "      <td>2800.000000</td>\n",
       "      <td>2800.000000</td>\n",
       "      <td>2800.000000</td>\n",
       "    </tr>\n",
       "    <tr>\n",
       "      <th>mean</th>\n",
       "      <td>8.220693</td>\n",
       "      <td>9.167426</td>\n",
       "      <td>8.085610</td>\n",
       "      <td>0.340259</td>\n",
       "      <td>7.817023</td>\n",
       "    </tr>\n",
       "    <tr>\n",
       "      <th>std</th>\n",
       "      <td>3.066095</td>\n",
       "      <td>6.554263</td>\n",
       "      <td>1.445915</td>\n",
       "      <td>0.284042</td>\n",
       "      <td>3.742571</td>\n",
       "    </tr>\n",
       "    <tr>\n",
       "      <th>min</th>\n",
       "      <td>0.000000</td>\n",
       "      <td>0.000000</td>\n",
       "      <td>2.300000</td>\n",
       "      <td>0.020000</td>\n",
       "      <td>2.020000</td>\n",
       "    </tr>\n",
       "    <tr>\n",
       "      <th>25%</th>\n",
       "      <td>7.100000</td>\n",
       "      <td>7.300000</td>\n",
       "      <td>6.900000</td>\n",
       "      <td>0.210000</td>\n",
       "      <td>5.725000</td>\n",
       "    </tr>\n",
       "    <tr>\n",
       "      <th>50%</th>\n",
       "      <td>7.933000</td>\n",
       "      <td>8.300000</td>\n",
       "      <td>7.980000</td>\n",
       "      <td>0.247000</td>\n",
       "      <td>7.500000</td>\n",
       "    </tr>\n",
       "    <tr>\n",
       "      <th>75%</th>\n",
       "      <td>9.100000</td>\n",
       "      <td>8.700000</td>\n",
       "      <td>9.260000</td>\n",
       "      <td>0.370000</td>\n",
       "      <td>8.400000</td>\n",
       "    </tr>\n",
       "    <tr>\n",
       "      <th>max</th>\n",
       "      <td>46.950000</td>\n",
       "      <td>65.950000</td>\n",
       "      <td>21.800000</td>\n",
       "      <td>4.200000</td>\n",
       "      <td>82.450000</td>\n",
       "    </tr>\n",
       "  </tbody>\n",
       "</table>\n",
       "</div>"
      ],
      "text/plain": [
       "              O2_1         O2_2         O2_4        NH4_1       BOD5_5\n",
       "count  2800.000000  2800.000000  2800.000000  2800.000000  2800.000000\n",
       "mean      8.220693     9.167426     8.085610     0.340259     7.817023\n",
       "std       3.066095     6.554263     1.445915     0.284042     3.742571\n",
       "min       0.000000     0.000000     2.300000     0.020000     2.020000\n",
       "25%       7.100000     7.300000     6.900000     0.210000     5.725000\n",
       "50%       7.933000     8.300000     7.980000     0.247000     7.500000\n",
       "75%       9.100000     8.700000     9.260000     0.370000     8.400000\n",
       "max      46.950000    65.950000    21.800000     4.200000    82.450000"
      ]
     },
     "execution_count": 216,
     "metadata": {},
     "output_type": "execute_result"
    }
   ],
   "source": [
    "five_f.describe()"
   ]
  },
  {
   "cell_type": "markdown",
   "id": "ad9f2b23-d846-4707-a009-4bba7b051b1e",
   "metadata": {},
   "source": [
    "OK there are some jarring outliers, maybe let's get the ratio of how much data is outside of the IQR?"
   ]
  },
  {
   "cell_type": "code",
   "execution_count": 238,
   "id": "37e4c99a-1994-45f1-946f-f6709a2cfafa",
   "metadata": {},
   "outputs": [],
   "source": [
    "O21_cutoff = (five_f['O2_1'].quantile(0.99))\n",
    "O22_cutoff = (five_f['O2_2'].quantile(0.9))\n",
    "O24_cutoff = (five_f['O2_4'].quantile(0.9))\n",
    "NH4_cutoff = (five_f['NH4_1'].quantile(0.9))\n",
    "BOD5_cutoff = (five_f['BOD5_5'].quantile(0.9))\n",
    "\n",
    "# Clip the last 10 percentiles\n",
    "\n",
    "# TODO test normalization"
   ]
  },
  {
   "cell_type": "code",
   "execution_count": 233,
   "id": "d5994044-48c2-480e-99d1-b33858dfb038",
   "metadata": {},
   "outputs": [
    {
     "name": "stdout",
     "output_type": "stream",
     "text": [
      "90.10714285714285\n",
      "90.25\n",
      "93.67857142857143\n",
      "90.42857142857143\n",
      "90.35714285714286\n"
     ]
    }
   ],
   "source": [
    "print(len(five_f[five_f['O2_1'] <= O21_cutoff])/len(five_f)* 100)\n",
    "print(len(five_f[five_f['O2_2'] <= O22_cutoff])/len(five_f)* 100)\n",
    "print(len(five_f[five_f['O2_4'] <= O24_cutoff])/len(five_f)* 100)\n",
    "print(len(five_f[five_f['NH4_1'] <= NH4_cutoff])/len(five_f)* 100)\n",
    "print(len(five_f[five_f['BOD5_5'] <= BOD5_cutoff])/len(five_f)* 100)"
   ]
  },
  {
   "cell_type": "markdown",
   "id": "75628eb1-4c83-40a1-82ff-4c3ccfad1f28",
   "metadata": {},
   "source": [
    "I don't think this kind of mechanical cut off would be beneficial."
   ]
  },
  {
   "cell_type": "code",
   "execution_count": 250,
   "id": "c294f0b1-b25a-4c8d-9487-62ed57cce77c",
   "metadata": {},
   "outputs": [
    {
     "data": {
      "text/plain": [
       "(array([2.638e+03, 9.800e+01, 1.100e+01, 5.100e+01, 0.000e+00, 0.000e+00,\n",
       "        1.000e+00, 0.000e+00, 0.000e+00, 1.000e+00]),\n",
       " array([ 2.02 , 10.063, 18.106, 26.149, 34.192, 42.235, 50.278, 58.321,\n",
       "        66.364, 74.407, 82.45 ]),\n",
       " <BarContainer object of 10 artists>)"
      ]
     },
     "execution_count": 250,
     "metadata": {},
     "output_type": "execute_result"
    },
    {
     "data": {
      "image/png": "[encoded data removed]",
      "text/plain": [
       "<Figure size 640x480 with 1 Axes>"
      ]
     },
     "metadata": {},
     "output_type": "display_data"
    }
   ],
   "source": [
    "plt.hist(five_f['O2_1'], alpha=0.4)\n",
    "plt.hist(five_f['O2_2'], alpha=0.4)\n",
    "plt.hist(five_f['O2_4'], alpha=0.4)\n",
    "plt.hist(five_f['NH4_1'], alpha=0.4)\n",
    "plt.hist(five_f['BOD5_5'], alpha=0.4)"
   ]
  },
  {
   "cell_type": "markdown",
   "id": "ac8e7374-ead2-45d8-abf5-15a560dfb2b4",
   "metadata": {},
   "source": [
    "This is a skewed data, log might help us."
   ]
  },
  {
   "cell_type": "code",
   "execution_count": null,
   "id": "7791a0e4-213e-4fed-8e35-629c49e1e0f8",
   "metadata": {},
   "outputs": [],
   "source": []
  }
 ],
 "metadata": {
  "kernelspec": {
   "display_name": "Python 3 (ipykernel)",
   "language": "python",
   "name": "python3"
  },
  "language_info": {
   "codemirror_mode": {
    "name": "ipython",
    "version": 3
   },
   "file_extension": ".py",
   "mimetype": "text/x-python",
   "name": "python",
   "nbconvert_exporter": "python",
   "pygments_lexer": "ipython3",
   "version": "3.10.9"
  }
 },
 "nbformat": 4,
 "nbformat_minor": 5
}
