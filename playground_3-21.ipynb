{
 "cells": [
  {
   "cell_type": "code",
   "execution_count": 1,
   "id": "a277b17e-7813-4cc5-9feb-b1173bff92dc",
   "metadata": {},
   "outputs": [],
   "source": [
    "import pandas as pd\n",
    "import numpy as np"
   ]
  },
  {
   "cell_type": "code",
   "execution_count": 45,
   "id": "2d25b36f-055c-42b7-ab3d-b8d2367ea875",
   "metadata": {},
   "outputs": [],
   "source": [
    "import matplotlib.pyplot as plt"
   ]
  },
  {
   "cell_type": "markdown",
   "id": "3d5be428-0c0c-4f5f-a4dc-34f29d99cbb6",
   "metadata": {},
   "source": [
    "# ABOUT THIS NOTEBOOK\n",
    "\n",
    "## Created for Kaggle playground series season 3, episode 21 - 8.26.23\n",
    "This notebooks will be in two sections 1) EDA and 2) Predictions, first will mostly consist of making plots and cleaning the data. And when the data is ready we can feed to the model to prediction."
   ]
  },
  {
   "cell_type": "code",
   "execution_count": 2,
   "id": "ce951cc2-62c6-4a2f-bfae-02582eb64749",
   "metadata": {},
   "outputs": [],
   "source": [
    "df = pd.read_csv('sample_submission.csv')"
   ]
  },
  {
   "cell_type": "code",
   "execution_count": 4,
   "id": "de873da8-dbce-4cf3-b2f4-b4ab9a2f220d",
   "metadata": {},
   "outputs": [
    {
     "data": {
      "text/html": [
       "<div>\n",
       "<style scoped>\n",
       "    .dataframe tbody tr th:only-of-type {\n",
       "        vertical-align: middle;\n",
       "    }\n",
       "\n",
       "    .dataframe tbody tr th {\n",
       "        vertical-align: top;\n",
       "    }\n",
       "\n",
       "    .dataframe thead th {\n",
       "        text-align: right;\n",
       "    }\n",
       "</style>\n",
       "<table border=\"1\" class=\"dataframe\">\n",
       "  <thead>\n",
       "    <tr style=\"text-align: right;\">\n",
       "      <th></th>\n",
       "      <th>id</th>\n",
       "      <th>target</th>\n",
       "      <th>O2_1</th>\n",
       "      <th>O2_2</th>\n",
       "      <th>O2_3</th>\n",
       "      <th>O2_4</th>\n",
       "      <th>O2_5</th>\n",
       "      <th>O2_6</th>\n",
       "      <th>O2_7</th>\n",
       "      <th>NH4_1</th>\n",
       "      <th>...</th>\n",
       "      <th>NO3_5</th>\n",
       "      <th>NO3_6</th>\n",
       "      <th>NO3_7</th>\n",
       "      <th>BOD5_1</th>\n",
       "      <th>BOD5_2</th>\n",
       "      <th>BOD5_3</th>\n",
       "      <th>BOD5_4</th>\n",
       "      <th>BOD5_5</th>\n",
       "      <th>BOD5_6</th>\n",
       "      <th>BOD5_7</th>\n",
       "    </tr>\n",
       "  </thead>\n",
       "  <tbody>\n",
       "    <tr>\n",
       "      <th>0</th>\n",
       "      <td>0</td>\n",
       "      <td>8.59</td>\n",
       "      <td>7.500</td>\n",
       "      <td>9.00</td>\n",
       "      <td>9.545</td>\n",
       "      <td>9.265</td>\n",
       "      <td>8.110</td>\n",
       "      <td>8.43</td>\n",
       "      <td>7.15</td>\n",
       "      <td>0.180</td>\n",
       "      <td>...</td>\n",
       "      <td>4.95</td>\n",
       "      <td>1.730</td>\n",
       "      <td>1.800</td>\n",
       "      <td>4.800</td>\n",
       "      <td>3.15</td>\n",
       "      <td>10.665</td>\n",
       "      <td>10.465</td>\n",
       "      <td>16.645</td>\n",
       "      <td>5.75</td>\n",
       "      <td>10.37</td>\n",
       "    </tr>\n",
       "    <tr>\n",
       "      <th>1</th>\n",
       "      <td>1</td>\n",
       "      <td>9.10</td>\n",
       "      <td>13.533</td>\n",
       "      <td>40.90</td>\n",
       "      <td>8.770</td>\n",
       "      <td>9.265</td>\n",
       "      <td>6.015</td>\n",
       "      <td>10.07</td>\n",
       "      <td>7.15</td>\n",
       "      <td>1.107</td>\n",
       "      <td>...</td>\n",
       "      <td>20.05</td>\n",
       "      <td>9.530</td>\n",
       "      <td>7.695</td>\n",
       "      <td>4.550</td>\n",
       "      <td>6.95</td>\n",
       "      <td>2.040</td>\n",
       "      <td>5.200</td>\n",
       "      <td>5.725</td>\n",
       "      <td>2.95</td>\n",
       "      <td>2.23</td>\n",
       "    </tr>\n",
       "    <tr>\n",
       "      <th>2</th>\n",
       "      <td>2</td>\n",
       "      <td>8.21</td>\n",
       "      <td>3.710</td>\n",
       "      <td>5.42</td>\n",
       "      <td>8.770</td>\n",
       "      <td>9.265</td>\n",
       "      <td>4.550</td>\n",
       "      <td>10.07</td>\n",
       "      <td>7.15</td>\n",
       "      <td>0.020</td>\n",
       "      <td>...</td>\n",
       "      <td>4.58</td>\n",
       "      <td>3.025</td>\n",
       "      <td>3.960</td>\n",
       "      <td>4.935</td>\n",
       "      <td>4.95</td>\n",
       "      <td>4.725</td>\n",
       "      <td>6.075</td>\n",
       "      <td>6.750</td>\n",
       "      <td>3.50</td>\n",
       "      <td>3.17</td>\n",
       "    </tr>\n",
       "    <tr>\n",
       "      <th>3</th>\n",
       "      <td>3</td>\n",
       "      <td>8.39</td>\n",
       "      <td>8.700</td>\n",
       "      <td>8.10</td>\n",
       "      <td>9.500</td>\n",
       "      <td>9.200</td>\n",
       "      <td>5.200</td>\n",
       "      <td>8.67</td>\n",
       "      <td>6.67</td>\n",
       "      <td>0.280</td>\n",
       "      <td>...</td>\n",
       "      <td>8.45</td>\n",
       "      <td>2.070</td>\n",
       "      <td>1.730</td>\n",
       "      <td>6.300</td>\n",
       "      <td>4.70</td>\n",
       "      <td>3.500</td>\n",
       "      <td>6.200</td>\n",
       "      <td>8.670</td>\n",
       "      <td>2.90</td>\n",
       "      <td>7.37</td>\n",
       "    </tr>\n",
       "    <tr>\n",
       "      <th>4</th>\n",
       "      <td>4</td>\n",
       "      <td>8.07</td>\n",
       "      <td>8.050</td>\n",
       "      <td>8.65</td>\n",
       "      <td>7.960</td>\n",
       "      <td>9.265</td>\n",
       "      <td>3.290</td>\n",
       "      <td>10.07</td>\n",
       "      <td>7.15</td>\n",
       "      <td>0.360</td>\n",
       "      <td>...</td>\n",
       "      <td>2.02</td>\n",
       "      <td>1.730</td>\n",
       "      <td>0.760</td>\n",
       "      <td>4.800</td>\n",
       "      <td>4.97</td>\n",
       "      <td>3.950</td>\n",
       "      <td>2.800</td>\n",
       "      <td>8.400</td>\n",
       "      <td>3.50</td>\n",
       "      <td>3.90</td>\n",
       "    </tr>\n",
       "  </tbody>\n",
       "</table>\n",
       "<p>5 rows × 37 columns</p>\n",
       "</div>"
      ],
      "text/plain": [
       "   id  target    O2_1   O2_2   O2_3   O2_4   O2_5   O2_6  O2_7  NH4_1  ...  \\\n",
       "0   0    8.59   7.500   9.00  9.545  9.265  8.110   8.43  7.15  0.180  ...   \n",
       "1   1    9.10  13.533  40.90  8.770  9.265  6.015  10.07  7.15  1.107  ...   \n",
       "2   2    8.21   3.710   5.42  8.770  9.265  4.550  10.07  7.15  0.020  ...   \n",
       "3   3    8.39   8.700   8.10  9.500  9.200  5.200   8.67  6.67  0.280  ...   \n",
       "4   4    8.07   8.050   8.65  7.960  9.265  3.290  10.07  7.15  0.360  ...   \n",
       "\n",
       "   NO3_5  NO3_6  NO3_7  BOD5_1  BOD5_2  BOD5_3  BOD5_4  BOD5_5  BOD5_6  BOD5_7  \n",
       "0   4.95  1.730  1.800   4.800    3.15  10.665  10.465  16.645    5.75   10.37  \n",
       "1  20.05  9.530  7.695   4.550    6.95   2.040   5.200   5.725    2.95    2.23  \n",
       "2   4.58  3.025  3.960   4.935    4.95   4.725   6.075   6.750    3.50    3.17  \n",
       "3   8.45  2.070  1.730   6.300    4.70   3.500   6.200   8.670    2.90    7.37  \n",
       "4   2.02  1.730  0.760   4.800    4.97   3.950   2.800   8.400    3.50    3.90  \n",
       "\n",
       "[5 rows x 37 columns]"
      ]
     },
     "execution_count": 4,
     "metadata": {},
     "output_type": "execute_result"
    }
   ],
   "source": [
    "df.head()"
   ]
  },
  {
   "cell_type": "code",
   "execution_count": 12,
   "id": "44b0d783-3daa-4b82-a68f-c1c53cdf889c",
   "metadata": {},
   "outputs": [
    {
     "data": {
      "text/plain": [
       "id        False\n",
       "target    False\n",
       "O2_1      False\n",
       "O2_2      False\n",
       "O2_3      False\n",
       "O2_4      False\n",
       "O2_5      False\n",
       "O2_6      False\n",
       "O2_7      False\n",
       "NH4_1     False\n",
       "NH4_2     False\n",
       "NH4_3     False\n",
       "NH4_4     False\n",
       "NH4_5     False\n",
       "NH4_6     False\n",
       "NH4_7     False\n",
       "NO2_1     False\n",
       "NO2_2     False\n",
       "NO2_3     False\n",
       "NO2_4     False\n",
       "NO2_5     False\n",
       "NO2_6     False\n",
       "NO2_7     False\n",
       "NO3_1     False\n",
       "NO3_2     False\n",
       "NO3_3     False\n",
       "NO3_4     False\n",
       "NO3_5     False\n",
       "NO3_6     False\n",
       "NO3_7     False\n",
       "BOD5_1    False\n",
       "BOD5_2    False\n",
       "BOD5_3    False\n",
       "BOD5_4    False\n",
       "BOD5_5    False\n",
       "BOD5_6    False\n",
       "BOD5_7    False\n",
       "dtype: bool"
      ]
     },
     "execution_count": 12,
     "metadata": {},
     "output_type": "execute_result"
    }
   ],
   "source": [
    "df.isna().any()"
   ]
  },
  {
   "cell_type": "markdown",
   "id": "4bb178fc-6bbf-4d6a-9c59-fe00a0ecc23d",
   "metadata": {},
   "source": [
    "OK we don't have any null or na values.\n",
    "\n",
    "### The official kaggle explanation\n",
    "> This is a very different type of challenge! For this challenge, your task is to improve a dataset that is being used to train a random forest model; in other words, your submission will be training data, not predictions. A random forest model will be trained on your submission, used to make predictions, and then those predictions will be used to generate your score.\n",
    "\n",
    "> The dataset for this competition is a synthetic dataset based off of the Dissolved oxygen prediction in river water dataset. You are free to use the original in any way that you find useful.\n",
    "\n",
    "> Please see important information on the Evaluation tab about the model that will be trained on your submitted data.\n",
    "\n",
    "> Good luck!\n",
    "\n",
    "Now we have the current dataset which has only data from 7 stations and it is used to build a random forest model. __So first we need to create a Random Forest to compare the output__ and then augment the data by adding 8th station to df and running it again by the same random forest (or another) to see the differences.\n",
    "\n",
    "Let's create a random forest model."
   ]
  },
  {
   "cell_type": "code",
   "execution_count": 22,
   "id": "2866ab8c-c166-4991-8c5f-ebc71ab6509b",
   "metadata": {},
   "outputs": [],
   "source": [
    "indicators = ['O2', 'NH4', 'NO2', 'NO3', 'BOD5']"
   ]
  },
  {
   "cell_type": "code",
   "execution_count": 29,
   "id": "d887f0fc-edd6-4671-ac3a-b249f1445685",
   "metadata": {},
   "outputs": [],
   "source": [
    "def get_seven_stations(indicator):\n",
    "    col_names = [indicator + '_' + str(i) for i in range(1, 8)]\n",
    "    return col_names"
   ]
  },
  {
   "cell_type": "code",
   "execution_count": 31,
   "id": "e9b44cdf-c564-4a45-abf2-a63751d5fd5f",
   "metadata": {},
   "outputs": [
    {
     "data": {
      "text/plain": [
       "['BOD5_1', 'BOD5_2', 'BOD5_3', 'BOD5_4', 'BOD5_5', 'BOD5_6', 'BOD5_7']"
      ]
     },
     "execution_count": 31,
     "metadata": {},
     "output_type": "execute_result"
    }
   ],
   "source": [
    "get_seven_stations(indicators[4])"
   ]
  },
  {
   "cell_type": "code",
   "execution_count": 27,
   "id": "334402c4-f8db-4215-aa15-f1104d7e9320",
   "metadata": {},
   "outputs": [
    {
     "data": {
      "text/plain": [
       "['O2_1', 'O2_2', 'O2_3', 'O2_4', 'O2_5', 'O2_6', 'O2_7']"
      ]
     },
     "execution_count": 27,
     "metadata": {},
     "output_type": "execute_result"
    }
   ],
   "source": [
    "oxgen_col = get_seven_stations(indicators[1])"
   ]
  },
  {
   "cell_type": "code",
   "execution_count": 28,
   "id": "df46f11f-c47f-4bbe-905f-be0f3e3f117f",
   "metadata": {},
   "outputs": [
    {
     "data": {
      "text/html": [
       "<div>\n",
       "<style scoped>\n",
       "    .dataframe tbody tr th:only-of-type {\n",
       "        vertical-align: middle;\n",
       "    }\n",
       "\n",
       "    .dataframe tbody tr th {\n",
       "        vertical-align: top;\n",
       "    }\n",
       "\n",
       "    .dataframe thead th {\n",
       "        text-align: right;\n",
       "    }\n",
       "</style>\n",
       "<table border=\"1\" class=\"dataframe\">\n",
       "  <thead>\n",
       "    <tr style=\"text-align: right;\">\n",
       "      <th></th>\n",
       "      <th>O2_1</th>\n",
       "      <th>O2_2</th>\n",
       "      <th>O2_3</th>\n",
       "      <th>O2_4</th>\n",
       "      <th>O2_5</th>\n",
       "      <th>O2_6</th>\n",
       "      <th>O2_7</th>\n",
       "    </tr>\n",
       "  </thead>\n",
       "  <tbody>\n",
       "    <tr>\n",
       "      <th>0</th>\n",
       "      <td>7.500</td>\n",
       "      <td>9.000</td>\n",
       "      <td>9.545</td>\n",
       "      <td>9.265</td>\n",
       "      <td>8.110</td>\n",
       "      <td>8.430</td>\n",
       "      <td>7.150</td>\n",
       "    </tr>\n",
       "    <tr>\n",
       "      <th>1</th>\n",
       "      <td>13.533</td>\n",
       "      <td>40.900</td>\n",
       "      <td>8.770</td>\n",
       "      <td>9.265</td>\n",
       "      <td>6.015</td>\n",
       "      <td>10.070</td>\n",
       "      <td>7.150</td>\n",
       "    </tr>\n",
       "    <tr>\n",
       "      <th>2</th>\n",
       "      <td>3.710</td>\n",
       "      <td>5.420</td>\n",
       "      <td>8.770</td>\n",
       "      <td>9.265</td>\n",
       "      <td>4.550</td>\n",
       "      <td>10.070</td>\n",
       "      <td>7.150</td>\n",
       "    </tr>\n",
       "    <tr>\n",
       "      <th>3</th>\n",
       "      <td>8.700</td>\n",
       "      <td>8.100</td>\n",
       "      <td>9.500</td>\n",
       "      <td>9.200</td>\n",
       "      <td>5.200</td>\n",
       "      <td>8.670</td>\n",
       "      <td>6.670</td>\n",
       "    </tr>\n",
       "    <tr>\n",
       "      <th>4</th>\n",
       "      <td>8.050</td>\n",
       "      <td>8.650</td>\n",
       "      <td>7.960</td>\n",
       "      <td>9.265</td>\n",
       "      <td>3.290</td>\n",
       "      <td>10.070</td>\n",
       "      <td>7.150</td>\n",
       "    </tr>\n",
       "    <tr>\n",
       "      <th>...</th>\n",
       "      <td>...</td>\n",
       "      <td>...</td>\n",
       "      <td>...</td>\n",
       "      <td>...</td>\n",
       "      <td>...</td>\n",
       "      <td>...</td>\n",
       "      <td>...</td>\n",
       "    </tr>\n",
       "    <tr>\n",
       "      <th>3495</th>\n",
       "      <td>6.250</td>\n",
       "      <td>8.300</td>\n",
       "      <td>7.795</td>\n",
       "      <td>9.265</td>\n",
       "      <td>5.690</td>\n",
       "      <td>8.555</td>\n",
       "      <td>6.335</td>\n",
       "    </tr>\n",
       "    <tr>\n",
       "      <th>3496</th>\n",
       "      <td>6.630</td>\n",
       "      <td>6.630</td>\n",
       "      <td>8.370</td>\n",
       "      <td>7.600</td>\n",
       "      <td>0.636</td>\n",
       "      <td>8.430</td>\n",
       "      <td>7.150</td>\n",
       "    </tr>\n",
       "    <tr>\n",
       "      <th>3497</th>\n",
       "      <td>8.367</td>\n",
       "      <td>8.433</td>\n",
       "      <td>8.770</td>\n",
       "      <td>6.170</td>\n",
       "      <td>5.800</td>\n",
       "      <td>10.400</td>\n",
       "      <td>7.200</td>\n",
       "    </tr>\n",
       "    <tr>\n",
       "      <th>3498</th>\n",
       "      <td>10.000</td>\n",
       "      <td>6.630</td>\n",
       "      <td>9.545</td>\n",
       "      <td>9.265</td>\n",
       "      <td>3.290</td>\n",
       "      <td>8.980</td>\n",
       "      <td>2.310</td>\n",
       "    </tr>\n",
       "    <tr>\n",
       "      <th>3499</th>\n",
       "      <td>8.500</td>\n",
       "      <td>8.100</td>\n",
       "      <td>9.545</td>\n",
       "      <td>9.265</td>\n",
       "      <td>8.110</td>\n",
       "      <td>9.805</td>\n",
       "      <td>7.150</td>\n",
       "    </tr>\n",
       "  </tbody>\n",
       "</table>\n",
       "<p>3500 rows × 7 columns</p>\n",
       "</div>"
      ],
      "text/plain": [
       "        O2_1    O2_2   O2_3   O2_4   O2_5    O2_6   O2_7\n",
       "0      7.500   9.000  9.545  9.265  8.110   8.430  7.150\n",
       "1     13.533  40.900  8.770  9.265  6.015  10.070  7.150\n",
       "2      3.710   5.420  8.770  9.265  4.550  10.070  7.150\n",
       "3      8.700   8.100  9.500  9.200  5.200   8.670  6.670\n",
       "4      8.050   8.650  7.960  9.265  3.290  10.070  7.150\n",
       "...      ...     ...    ...    ...    ...     ...    ...\n",
       "3495   6.250   8.300  7.795  9.265  5.690   8.555  6.335\n",
       "3496   6.630   6.630  8.370  7.600  0.636   8.430  7.150\n",
       "3497   8.367   8.433  8.770  6.170  5.800  10.400  7.200\n",
       "3498  10.000   6.630  9.545  9.265  3.290   8.980  2.310\n",
       "3499   8.500   8.100  9.545  9.265  8.110   9.805  7.150\n",
       "\n",
       "[3500 rows x 7 columns]"
      ]
     },
     "execution_count": 28,
     "metadata": {},
     "output_type": "execute_result"
    }
   ],
   "source": [
    "df[oxgen_col]"
   ]
  },
  {
   "cell_type": "code",
   "execution_count": 39,
   "id": "87250301-6ba5-4e51-bd7c-6d83532000a8",
   "metadata": {},
   "outputs": [
    {
     "data": {
      "text/plain": [
       "array([[1.        , 0.20475417],\n",
       "       [0.20475417, 1.        ]])"
      ]
     },
     "execution_count": 39,
     "metadata": {},
     "output_type": "execute_result"
    }
   ],
   "source": [
    "np.corrcoef(df['O2_1'],df['O2_2'])"
   ]
  },
  {
   "cell_type": "code",
   "execution_count": 48,
   "id": "0f667534-2b2e-41ce-84e0-900fcaa53b23",
   "metadata": {},
   "outputs": [],
   "source": [
    "def corr (x,y):\n",
    "    return np.corrcoef(x, y) [0][1]\n",
    "\n",
    "def show_corr(df, a, b):\n",
    "    x,y = df [a], df[b]\n",
    "    plt.scatter (x,y, alpha=0.5, s=4)\n",
    "    plt.title(f'{a} vs {b}; r: {corr (x, y) : .2f}')"
   ]
  },
  {
   "cell_type": "code",
   "execution_count": 50,
   "id": "c5433670-b700-4b85-85cd-403548b6fdb9",
   "metadata": {},
   "outputs": [
    {
     "data": {
      "image/png": "[encoded data removed]",
      "text/plain": [
       "<Figure size 640x480 with 1 Axes>"
      ]
     },
     "metadata": {},
     "output_type": "display_data"
    }
   ],
   "source": [
    "show_corr(df, 'O2_1','O2_3')"
   ]
  },
  {
   "cell_type": "code",
   "execution_count": 52,
   "id": "250aec86-c6f2-49e6-9ec0-42bc8811a36e",
   "metadata": {},
   "outputs": [
    {
     "data": {
      "image/png": "[encoded data removed]",
      "text/plain": [
       "<Figure size 480x480 with 1 Axes>"
      ]
     },
     "metadata": {},
     "output_type": "display_data"
    }
   ],
   "source": [
    "plt.matshow(df.corr())\n",
    "plt.show()"
   ]
  },
  {
   "cell_type": "markdown",
   "id": "53b443e0-ec1e-4d2f-a38c-c3ae75fec5de",
   "metadata": {},
   "source": [
    "I thought maybe there was a correlation between perhaps oxygen and nitrogen dioxide but there aren't any power connections, except for nitrate.\n",
    "\n",
    "Let's check to TODO:\n",
    "\n",
    "- [x] Look at the big picture.\n",
    "- [x] Get the data.\n",
    "- [x] Discover and visualize the data to gain insights.\n",
    "- [ ] Prepare the data for Machine Learning algorithms.\n",
    "- [ ] Select a model and train it.\n",
    "- [ ] Fine-tune your model.\n",
    "- [ ] Present your solution.\n",
    "- [ ] Launch, monitor, and maintain your system."
   ]
  },
  {
   "cell_type": "code",
   "execution_count": null,
   "id": "ad927df9-c88e-4136-b415-225daeccfce8",
   "metadata": {},
   "outputs": [],
   "source": [
    "from sklearn.ensemble import RandomForestClassifier\n",
    "\n",
    "rf_classifier = RandomForestClassifier()"
   ]
  }
 ],
 "metadata": {
  "kernelspec": {
   "display_name": "Python 3 (ipykernel)",
   "language": "python",
   "name": "python3"
  },
  "language_info": {
   "codemirror_mode": {
    "name": "ipython",
    "version": 3
   },
   "file_extension": ".py",
   "mimetype": "text/x-python",
   "name": "python",
   "nbconvert_exporter": "python",
   "pygments_lexer": "ipython3",
   "version": "3.10.9"
  }
 },
 "nbformat": 4,
 "nbformat_minor": 5
}
