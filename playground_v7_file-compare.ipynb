{
 "cells": [
  {
   "cell_type": "code",
   "execution_count": 1,
   "id": "e2f7b492-eb89-4cdd-b04f-fdf71a5b5ab0",
   "metadata": {},
   "outputs": [],
   "source": [
    "import numpy as np\n",
    "import pandas as pd\n",
    "import matplotlib.pyplot as plt"
   ]
  },
  {
   "cell_type": "code",
   "execution_count": 2,
   "id": "6bf5f655-74c7-457a-b668-b678d219aa36",
   "metadata": {},
   "outputs": [
    {
     "data": {
      "text/html": [
       "<div>\n",
       "<style scoped>\n",
       "    .dataframe tbody tr th:only-of-type {\n",
       "        vertical-align: middle;\n",
       "    }\n",
       "\n",
       "    .dataframe tbody tr th {\n",
       "        vertical-align: top;\n",
       "    }\n",
       "\n",
       "    .dataframe thead th {\n",
       "        text-align: right;\n",
       "    }\n",
       "</style>\n",
       "<table border=\"1\" class=\"dataframe\">\n",
       "  <thead>\n",
       "    <tr style=\"text-align: right;\">\n",
       "      <th></th>\n",
       "      <th>id</th>\n",
       "      <th>target</th>\n",
       "      <th>O2_1</th>\n",
       "      <th>O2_2</th>\n",
       "      <th>O2_3</th>\n",
       "      <th>O2_4</th>\n",
       "      <th>O2_5</th>\n",
       "      <th>O2_6</th>\n",
       "      <th>O2_7</th>\n",
       "      <th>NH4_1</th>\n",
       "      <th>...</th>\n",
       "      <th>NO3_5</th>\n",
       "      <th>NO3_6</th>\n",
       "      <th>NO3_7</th>\n",
       "      <th>BOD5_1</th>\n",
       "      <th>BOD5_2</th>\n",
       "      <th>BOD5_3</th>\n",
       "      <th>BOD5_4</th>\n",
       "      <th>BOD5_5</th>\n",
       "      <th>BOD5_6</th>\n",
       "      <th>BOD5_7</th>\n",
       "    </tr>\n",
       "  </thead>\n",
       "  <tbody>\n",
       "    <tr>\n",
       "      <th>0</th>\n",
       "      <td>0.0</td>\n",
       "      <td>8.59</td>\n",
       "      <td>7.500</td>\n",
       "      <td>9.000</td>\n",
       "      <td>0.0</td>\n",
       "      <td>0.0</td>\n",
       "      <td>0.0</td>\n",
       "      <td>0.0</td>\n",
       "      <td>0.0</td>\n",
       "      <td>0.0</td>\n",
       "      <td>...</td>\n",
       "      <td>0.0</td>\n",
       "      <td>0.0</td>\n",
       "      <td>0.0</td>\n",
       "      <td>0.0</td>\n",
       "      <td>0.0</td>\n",
       "      <td>0.0</td>\n",
       "      <td>0.0</td>\n",
       "      <td>16.645</td>\n",
       "      <td>0.0</td>\n",
       "      <td>0.0</td>\n",
       "    </tr>\n",
       "    <tr>\n",
       "      <th>1</th>\n",
       "      <td>0.0</td>\n",
       "      <td>9.10</td>\n",
       "      <td>13.533</td>\n",
       "      <td>40.900</td>\n",
       "      <td>0.0</td>\n",
       "      <td>0.0</td>\n",
       "      <td>0.0</td>\n",
       "      <td>0.0</td>\n",
       "      <td>0.0</td>\n",
       "      <td>0.0</td>\n",
       "      <td>...</td>\n",
       "      <td>0.0</td>\n",
       "      <td>0.0</td>\n",
       "      <td>0.0</td>\n",
       "      <td>0.0</td>\n",
       "      <td>0.0</td>\n",
       "      <td>0.0</td>\n",
       "      <td>0.0</td>\n",
       "      <td>5.725</td>\n",
       "      <td>0.0</td>\n",
       "      <td>0.0</td>\n",
       "    </tr>\n",
       "    <tr>\n",
       "      <th>2</th>\n",
       "      <td>0.0</td>\n",
       "      <td>8.21</td>\n",
       "      <td>3.710</td>\n",
       "      <td>5.420</td>\n",
       "      <td>0.0</td>\n",
       "      <td>0.0</td>\n",
       "      <td>0.0</td>\n",
       "      <td>0.0</td>\n",
       "      <td>0.0</td>\n",
       "      <td>0.0</td>\n",
       "      <td>...</td>\n",
       "      <td>0.0</td>\n",
       "      <td>0.0</td>\n",
       "      <td>0.0</td>\n",
       "      <td>0.0</td>\n",
       "      <td>0.0</td>\n",
       "      <td>0.0</td>\n",
       "      <td>0.0</td>\n",
       "      <td>6.750</td>\n",
       "      <td>0.0</td>\n",
       "      <td>0.0</td>\n",
       "    </tr>\n",
       "    <tr>\n",
       "      <th>3</th>\n",
       "      <td>0.0</td>\n",
       "      <td>8.39</td>\n",
       "      <td>8.700</td>\n",
       "      <td>8.100</td>\n",
       "      <td>0.0</td>\n",
       "      <td>0.0</td>\n",
       "      <td>0.0</td>\n",
       "      <td>0.0</td>\n",
       "      <td>0.0</td>\n",
       "      <td>0.0</td>\n",
       "      <td>...</td>\n",
       "      <td>0.0</td>\n",
       "      <td>0.0</td>\n",
       "      <td>0.0</td>\n",
       "      <td>0.0</td>\n",
       "      <td>0.0</td>\n",
       "      <td>0.0</td>\n",
       "      <td>0.0</td>\n",
       "      <td>8.670</td>\n",
       "      <td>0.0</td>\n",
       "      <td>0.0</td>\n",
       "    </tr>\n",
       "    <tr>\n",
       "      <th>4</th>\n",
       "      <td>0.0</td>\n",
       "      <td>8.07</td>\n",
       "      <td>8.050</td>\n",
       "      <td>8.650</td>\n",
       "      <td>0.0</td>\n",
       "      <td>0.0</td>\n",
       "      <td>0.0</td>\n",
       "      <td>0.0</td>\n",
       "      <td>0.0</td>\n",
       "      <td>0.0</td>\n",
       "      <td>...</td>\n",
       "      <td>0.0</td>\n",
       "      <td>0.0</td>\n",
       "      <td>0.0</td>\n",
       "      <td>0.0</td>\n",
       "      <td>0.0</td>\n",
       "      <td>0.0</td>\n",
       "      <td>0.0</td>\n",
       "      <td>8.400</td>\n",
       "      <td>0.0</td>\n",
       "      <td>0.0</td>\n",
       "    </tr>\n",
       "    <tr>\n",
       "      <th>...</th>\n",
       "      <td>...</td>\n",
       "      <td>...</td>\n",
       "      <td>...</td>\n",
       "      <td>...</td>\n",
       "      <td>...</td>\n",
       "      <td>...</td>\n",
       "      <td>...</td>\n",
       "      <td>...</td>\n",
       "      <td>...</td>\n",
       "      <td>...</td>\n",
       "      <td>...</td>\n",
       "      <td>...</td>\n",
       "      <td>...</td>\n",
       "      <td>...</td>\n",
       "      <td>...</td>\n",
       "      <td>...</td>\n",
       "      <td>...</td>\n",
       "      <td>...</td>\n",
       "      <td>...</td>\n",
       "      <td>...</td>\n",
       "      <td>...</td>\n",
       "    </tr>\n",
       "    <tr>\n",
       "      <th>3495</th>\n",
       "      <td>0.0</td>\n",
       "      <td>10.91</td>\n",
       "      <td>9.600</td>\n",
       "      <td>8.200</td>\n",
       "      <td>0.0</td>\n",
       "      <td>0.0</td>\n",
       "      <td>0.0</td>\n",
       "      <td>0.0</td>\n",
       "      <td>0.0</td>\n",
       "      <td>0.0</td>\n",
       "      <td>...</td>\n",
       "      <td>0.0</td>\n",
       "      <td>0.0</td>\n",
       "      <td>0.0</td>\n",
       "      <td>0.0</td>\n",
       "      <td>0.0</td>\n",
       "      <td>0.0</td>\n",
       "      <td>0.0</td>\n",
       "      <td>6.750</td>\n",
       "      <td>0.0</td>\n",
       "      <td>0.0</td>\n",
       "    </tr>\n",
       "    <tr>\n",
       "      <th>3496</th>\n",
       "      <td>0.0</td>\n",
       "      <td>9.63</td>\n",
       "      <td>6.550</td>\n",
       "      <td>8.750</td>\n",
       "      <td>0.0</td>\n",
       "      <td>0.0</td>\n",
       "      <td>0.0</td>\n",
       "      <td>0.0</td>\n",
       "      <td>0.0</td>\n",
       "      <td>0.0</td>\n",
       "      <td>...</td>\n",
       "      <td>0.0</td>\n",
       "      <td>0.0</td>\n",
       "      <td>0.0</td>\n",
       "      <td>0.0</td>\n",
       "      <td>0.0</td>\n",
       "      <td>0.0</td>\n",
       "      <td>0.0</td>\n",
       "      <td>6.750</td>\n",
       "      <td>0.0</td>\n",
       "      <td>0.0</td>\n",
       "    </tr>\n",
       "    <tr>\n",
       "      <th>3497</th>\n",
       "      <td>0.0</td>\n",
       "      <td>9.70</td>\n",
       "      <td>5.070</td>\n",
       "      <td>5.025</td>\n",
       "      <td>0.0</td>\n",
       "      <td>0.0</td>\n",
       "      <td>0.0</td>\n",
       "      <td>0.0</td>\n",
       "      <td>0.0</td>\n",
       "      <td>0.0</td>\n",
       "      <td>...</td>\n",
       "      <td>0.0</td>\n",
       "      <td>0.0</td>\n",
       "      <td>0.0</td>\n",
       "      <td>0.0</td>\n",
       "      <td>0.0</td>\n",
       "      <td>0.0</td>\n",
       "      <td>0.0</td>\n",
       "      <td>8.025</td>\n",
       "      <td>0.0</td>\n",
       "      <td>0.0</td>\n",
       "    </tr>\n",
       "    <tr>\n",
       "      <th>3498</th>\n",
       "      <td>0.0</td>\n",
       "      <td>10.52</td>\n",
       "      <td>9.400</td>\n",
       "      <td>8.400</td>\n",
       "      <td>0.0</td>\n",
       "      <td>0.0</td>\n",
       "      <td>0.0</td>\n",
       "      <td>0.0</td>\n",
       "      <td>0.0</td>\n",
       "      <td>0.0</td>\n",
       "      <td>...</td>\n",
       "      <td>0.0</td>\n",
       "      <td>0.0</td>\n",
       "      <td>0.0</td>\n",
       "      <td>0.0</td>\n",
       "      <td>0.0</td>\n",
       "      <td>0.0</td>\n",
       "      <td>0.0</td>\n",
       "      <td>6.750</td>\n",
       "      <td>0.0</td>\n",
       "      <td>0.0</td>\n",
       "    </tr>\n",
       "    <tr>\n",
       "      <th>3499</th>\n",
       "      <td>0.0</td>\n",
       "      <td>9.52</td>\n",
       "      <td>6.540</td>\n",
       "      <td>4.980</td>\n",
       "      <td>0.0</td>\n",
       "      <td>0.0</td>\n",
       "      <td>0.0</td>\n",
       "      <td>0.0</td>\n",
       "      <td>0.0</td>\n",
       "      <td>0.0</td>\n",
       "      <td>...</td>\n",
       "      <td>0.0</td>\n",
       "      <td>0.0</td>\n",
       "      <td>0.0</td>\n",
       "      <td>0.0</td>\n",
       "      <td>0.0</td>\n",
       "      <td>0.0</td>\n",
       "      <td>0.0</td>\n",
       "      <td>6.750</td>\n",
       "      <td>0.0</td>\n",
       "      <td>0.0</td>\n",
       "    </tr>\n",
       "  </tbody>\n",
       "</table>\n",
       "<p>3500 rows × 37 columns</p>\n",
       "</div>"
      ],
      "text/plain": [
       "       id  target    O2_1    O2_2  O2_3  O2_4  O2_5  O2_6  O2_7  NH4_1  ...  \\\n",
       "0     0.0    8.59   7.500   9.000   0.0   0.0   0.0   0.0   0.0    0.0  ...   \n",
       "1     0.0    9.10  13.533  40.900   0.0   0.0   0.0   0.0   0.0    0.0  ...   \n",
       "2     0.0    8.21   3.710   5.420   0.0   0.0   0.0   0.0   0.0    0.0  ...   \n",
       "3     0.0    8.39   8.700   8.100   0.0   0.0   0.0   0.0   0.0    0.0  ...   \n",
       "4     0.0    8.07   8.050   8.650   0.0   0.0   0.0   0.0   0.0    0.0  ...   \n",
       "...   ...     ...     ...     ...   ...   ...   ...   ...   ...    ...  ...   \n",
       "3495  0.0   10.91   9.600   8.200   0.0   0.0   0.0   0.0   0.0    0.0  ...   \n",
       "3496  0.0    9.63   6.550   8.750   0.0   0.0   0.0   0.0   0.0    0.0  ...   \n",
       "3497  0.0    9.70   5.070   5.025   0.0   0.0   0.0   0.0   0.0    0.0  ...   \n",
       "3498  0.0   10.52   9.400   8.400   0.0   0.0   0.0   0.0   0.0    0.0  ...   \n",
       "3499  0.0    9.52   6.540   4.980   0.0   0.0   0.0   0.0   0.0    0.0  ...   \n",
       "\n",
       "      NO3_5  NO3_6  NO3_7  BOD5_1  BOD5_2  BOD5_3  BOD5_4  BOD5_5  BOD5_6  \\\n",
       "0       0.0    0.0    0.0     0.0     0.0     0.0     0.0  16.645     0.0   \n",
       "1       0.0    0.0    0.0     0.0     0.0     0.0     0.0   5.725     0.0   \n",
       "2       0.0    0.0    0.0     0.0     0.0     0.0     0.0   6.750     0.0   \n",
       "3       0.0    0.0    0.0     0.0     0.0     0.0     0.0   8.670     0.0   \n",
       "4       0.0    0.0    0.0     0.0     0.0     0.0     0.0   8.400     0.0   \n",
       "...     ...    ...    ...     ...     ...     ...     ...     ...     ...   \n",
       "3495    0.0    0.0    0.0     0.0     0.0     0.0     0.0   6.750     0.0   \n",
       "3496    0.0    0.0    0.0     0.0     0.0     0.0     0.0   6.750     0.0   \n",
       "3497    0.0    0.0    0.0     0.0     0.0     0.0     0.0   8.025     0.0   \n",
       "3498    0.0    0.0    0.0     0.0     0.0     0.0     0.0   6.750     0.0   \n",
       "3499    0.0    0.0    0.0     0.0     0.0     0.0     0.0   6.750     0.0   \n",
       "\n",
       "      BOD5_7  \n",
       "0        0.0  \n",
       "1        0.0  \n",
       "2        0.0  \n",
       "3        0.0  \n",
       "4        0.0  \n",
       "...      ...  \n",
       "3495     0.0  \n",
       "3496     0.0  \n",
       "3497     0.0  \n",
       "3498     0.0  \n",
       "3499     0.0  \n",
       "\n",
       "[3500 rows x 37 columns]"
      ]
     },
     "execution_count": 2,
     "metadata": {},
     "output_type": "execute_result"
    }
   ],
   "source": [
    "art_sub = pd.read_csv('art_sub.csv')\n",
    "art_sub"
   ]
  },
  {
   "cell_type": "code",
   "execution_count": 3,
   "id": "87d1a9ac-0cfa-4107-b038-9725acb1a6aa",
   "metadata": {},
   "outputs": [],
   "source": [
    "lof_sub = pd.read_csv('sub21_normal.csv')"
   ]
  },
  {
   "cell_type": "code",
   "execution_count": 5,
   "id": "73f30df0-70a5-4074-95f4-7c9390716b3f",
   "metadata": {},
   "outputs": [
    {
     "data": {
      "text/plain": [
       "Index(['id', 'target', 'O2_1', 'O2_2', 'O2_3', 'O2_4', 'O2_5', 'O2_6', 'O2_7',\n",
       "       'NH4_1', 'NH4_2', 'NH4_3', 'NH4_4', 'NH4_5', 'NH4_6', 'NH4_7', 'NO2_1',\n",
       "       'NO2_2', 'NO2_3', 'NO2_4', 'NO2_5', 'NO2_6', 'NO2_7', 'NO3_1', 'NO3_2',\n",
       "       'NO3_3', 'NO3_4', 'NO3_5', 'NO3_6', 'NO3_7', 'BOD5_1', 'BOD5_2',\n",
       "       'BOD5_3', 'BOD5_4', 'BOD5_5', 'BOD5_6', 'BOD5_7'],\n",
       "      dtype='object')"
      ]
     },
     "execution_count": 5,
     "metadata": {},
     "output_type": "execute_result"
    }
   ],
   "source": [
    "lof_sub.columns"
   ]
  },
  {
   "cell_type": "code",
   "execution_count": 6,
   "id": "14db67db-a056-4278-a6e4-226c500b75a4",
   "metadata": {},
   "outputs": [
    {
     "data": {
      "text/plain": [
       "Index(['id', 'target', 'O2_1', 'O2_2', 'O2_3', 'O2_4', 'O2_5', 'O2_6', 'O2_7',\n",
       "       'NH4_1', 'NH4_2', 'NH4_3', 'NH4_4', 'NH4_5', 'NH4_6', 'NH4_7', 'NO2_1',\n",
       "       'NO2_2', 'NO2_3', 'NO2_4', 'NO2_5', 'NO2_6', 'NO2_7', 'NO3_1', 'NO3_2',\n",
       "       'NO3_3', 'NO3_4', 'NO3_5', 'NO3_6', 'NO3_7', 'BOD5_1', 'BOD5_2',\n",
       "       'BOD5_3', 'BOD5_4', 'BOD5_5', 'BOD5_6', 'BOD5_7'],\n",
       "      dtype='object')"
      ]
     },
     "execution_count": 6,
     "metadata": {},
     "output_type": "execute_result"
    }
   ],
   "source": [
    "art_sub.columns"
   ]
  },
  {
   "cell_type": "code",
   "execution_count": 7,
   "id": "ead6e2f5-b7f7-43a0-b504-a13806416e39",
   "metadata": {},
   "outputs": [
    {
     "data": {
      "text/plain": [
       "3500"
      ]
     },
     "execution_count": 7,
     "metadata": {},
     "output_type": "execute_result"
    }
   ],
   "source": [
    "len(art_sub)"
   ]
  },
  {
   "cell_type": "code",
   "execution_count": 8,
   "id": "9fb9b8cb-6cb8-4c95-ac85-cf562e26b85c",
   "metadata": {},
   "outputs": [
    {
     "data": {
      "text/plain": [
       "20.0"
      ]
     },
     "execution_count": 8,
     "metadata": {},
     "output_type": "execute_result"
    }
   ],
   "source": [
    "art_sub.target.max()"
   ]
  },
  {
   "cell_type": "code",
   "execution_count": 9,
   "id": "fcb7ec62-e58d-4fb0-b5f9-8e3a8d9e3905",
   "metadata": {},
   "outputs": [
    {
     "data": {
      "text/plain": [
       "7.0"
      ]
     },
     "execution_count": 9,
     "metadata": {},
     "output_type": "execute_result"
    }
   ],
   "source": [
    "art_sub.target.min()"
   ]
  },
  {
   "cell_type": "markdown",
   "id": "2ac4b7e5-ad87-42b0-a60a-dcc46327c3cc",
   "metadata": {},
   "source": [
    "Here we can see a clipping between 7 and 20"
   ]
  },
  {
   "cell_type": "code",
   "execution_count": 10,
   "id": "dc5bad15-d6b6-4dda-ae7f-77d97571eda8",
   "metadata": {},
   "outputs": [
    {
     "data": {
      "text/plain": [
       "<Axes: >"
      ]
     },
     "execution_count": 10,
     "metadata": {},
     "output_type": "execute_result"
    },
    {
     "data": {
      "image/png": "[encoded data removed]",
      "text/plain": [
       "<Figure size 640x480 with 1 Axes>"
      ]
     },
     "metadata": {},
     "output_type": "display_data"
    }
   ],
   "source": [
    "art_sub.target.hist()"
   ]
  },
  {
   "cell_type": "code",
   "execution_count": 11,
   "id": "f51991a2-4ec5-4d06-9d87-899a9c1471cd",
   "metadata": {},
   "outputs": [
    {
     "data": {
      "text/plain": [
       "<Axes: >"
      ]
     },
     "execution_count": 11,
     "metadata": {},
     "output_type": "execute_result"
    },
    {
     "data": {
      "image/png": "[encoded data removed]",
      "text/plain": [
       "<Figure size 640x480 with 1 Axes>"
      ]
     },
     "metadata": {},
     "output_type": "display_data"
    }
   ],
   "source": [
    "lof_sub.target.hist()"
   ]
  },
  {
   "cell_type": "code",
   "execution_count": 13,
   "id": "7f538ded-89b1-44dd-8608-00a1bafb90c5",
   "metadata": {},
   "outputs": [
    {
     "data": {
      "text/plain": [
       "id        False\n",
       "target     True\n",
       "O2_1       True\n",
       "O2_2       True\n",
       "O2_3      False\n",
       "O2_4      False\n",
       "O2_5      False\n",
       "O2_6      False\n",
       "O2_7      False\n",
       "NH4_1     False\n",
       "NH4_2     False\n",
       "NH4_3     False\n",
       "NH4_4     False\n",
       "NH4_5     False\n",
       "NH4_6     False\n",
       "NH4_7     False\n",
       "NO2_1     False\n",
       "NO2_2     False\n",
       "NO2_3     False\n",
       "NO2_4     False\n",
       "NO2_5     False\n",
       "NO2_6     False\n",
       "NO2_7     False\n",
       "NO3_1     False\n",
       "NO3_2     False\n",
       "NO3_3     False\n",
       "NO3_4     False\n",
       "NO3_5     False\n",
       "NO3_6     False\n",
       "NO3_7     False\n",
       "BOD5_1    False\n",
       "BOD5_2    False\n",
       "BOD5_3    False\n",
       "BOD5_4    False\n",
       "BOD5_5     True\n",
       "BOD5_6    False\n",
       "BOD5_7    False\n",
       "Name: 1, dtype: bool"
      ]
     },
     "execution_count": 13,
     "metadata": {},
     "output_type": "execute_result"
    }
   ],
   "source": [
    "art_sub.iloc[1, :]>0"
   ]
  },
  {
   "cell_type": "markdown",
   "id": "64372bb7-b08a-4937-8145-22739469fd85",
   "metadata": {},
   "source": [
    "This features only target, O2_1, O2_2, and BOD5_5"
   ]
  },
  {
   "cell_type": "code",
   "execution_count": 14,
   "id": "9d2890fb-f955-4fb2-8ca8-7bf93e38faf1",
   "metadata": {},
   "outputs": [],
   "source": [
    "df = pd.read_csv('sample_submission.csv')"
   ]
  },
  {
   "cell_type": "code",
   "execution_count": 20,
   "id": "b5d09012-4394-4d0f-91da-f274a4b67706",
   "metadata": {},
   "outputs": [
    {
     "data": {
      "text/plain": [
       "False    3214\n",
       "True      286\n",
       "Name: BOD5_5, dtype: int64"
      ]
     },
     "execution_count": 20,
     "metadata": {},
     "output_type": "execute_result"
    }
   ],
   "source": [
    "(df['BOD5_5'] == art_sub['BOD5_5']).value_counts()"
   ]
  },
  {
   "cell_type": "code",
   "execution_count": 22,
   "id": "dce4f29c-3877-405d-8149-62c208604f97",
   "metadata": {},
   "outputs": [
    {
     "data": {
      "text/plain": [
       "False    3423\n",
       "True       77\n",
       "Name: O2_1, dtype: int64"
      ]
     },
     "execution_count": 22,
     "metadata": {},
     "output_type": "execute_result"
    }
   ],
   "source": [
    "(df['O2_1'] == art_sub['O2_1']).value_counts()"
   ]
  },
  {
   "cell_type": "code",
   "execution_count": 21,
   "id": "5fd37ac0-06d5-4ee3-a795-995e0ff329ad",
   "metadata": {},
   "outputs": [
    {
     "data": {
      "text/plain": [
       "False    3404\n",
       "True       96\n",
       "Name: O2_2, dtype: int64"
      ]
     },
     "execution_count": 21,
     "metadata": {},
     "output_type": "execute_result"
    }
   ],
   "source": [
    "(df['O2_2'] == art_sub['O2_2']).value_counts()"
   ]
  },
  {
   "cell_type": "code",
   "execution_count": 23,
   "id": "0bd3f647-a582-46b6-b15c-e5099f2c137c",
   "metadata": {},
   "outputs": [
    {
     "data": {
      "text/plain": [
       "False    3451\n",
       "True       49\n",
       "Name: target, dtype: int64"
      ]
     },
     "execution_count": 23,
     "metadata": {},
     "output_type": "execute_result"
    }
   ],
   "source": [
    "(df['target'].clip(7, 20) == art_sub['target']).value_counts()"
   ]
  },
  {
   "cell_type": "markdown",
   "id": "172fbfda-99ad-419d-acfd-74342839ebf8",
   "metadata": {},
   "source": [
    "So it is not just merely clipping and copying the features."
   ]
  },
  {
   "cell_type": "code",
   "execution_count": null,
   "id": "f8901ae5-c7ba-4790-a45b-01b1b1bbcb7c",
   "metadata": {},
   "outputs": [],
   "source": []
  }
 ],
 "metadata": {
  "kernelspec": {
   "display_name": "Python 3 (ipykernel)",
   "language": "python",
   "name": "python3"
  },
  "language_info": {
   "codemirror_mode": {
    "name": "ipython",
    "version": 3
   },
   "file_extension": ".py",
   "mimetype": "text/x-python",
   "name": "python",
   "nbconvert_exporter": "python",
   "pygments_lexer": "ipython3",
   "version": "3.10.9"
  }
 },
 "nbformat": 4,
 "nbformat_minor": 5
}
