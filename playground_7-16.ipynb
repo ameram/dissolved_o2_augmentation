{
 "cells": [
  {
   "cell_type": "code",
   "execution_count": 1,
   "id": "8024345f-85cc-4ad0-8201-80d8c7e3ec7d",
   "metadata": {},
   "outputs": [],
   "source": [
    "import numpy as np\n",
    "import pandas as pd\n",
    "import matplotlib.pyplot as plt"
   ]
  },
  {
   "cell_type": "code",
   "execution_count": 2,
   "id": "4a807f68-965a-49ba-9871-b2f70acc144e",
   "metadata": {},
   "outputs": [
    {
     "data": {
      "text/html": [
       "<div>\n",
       "<style scoped>\n",
       "    .dataframe tbody tr th:only-of-type {\n",
       "        vertical-align: middle;\n",
       "    }\n",
       "\n",
       "    .dataframe tbody tr th {\n",
       "        vertical-align: top;\n",
       "    }\n",
       "\n",
       "    .dataframe thead th {\n",
       "        text-align: right;\n",
       "    }\n",
       "</style>\n",
       "<table border=\"1\" class=\"dataframe\">\n",
       "  <thead>\n",
       "    <tr style=\"text-align: right;\">\n",
       "      <th></th>\n",
       "      <th>id</th>\n",
       "      <th>target</th>\n",
       "      <th>O2_1</th>\n",
       "      <th>O2_2</th>\n",
       "      <th>O2_3</th>\n",
       "      <th>O2_4</th>\n",
       "      <th>O2_5</th>\n",
       "      <th>O2_6</th>\n",
       "      <th>O2_7</th>\n",
       "      <th>NH4_1</th>\n",
       "      <th>...</th>\n",
       "      <th>NO3_5</th>\n",
       "      <th>NO3_6</th>\n",
       "      <th>NO3_7</th>\n",
       "      <th>BOD5_1</th>\n",
       "      <th>BOD5_2</th>\n",
       "      <th>BOD5_3</th>\n",
       "      <th>BOD5_4</th>\n",
       "      <th>BOD5_5</th>\n",
       "      <th>BOD5_6</th>\n",
       "      <th>BOD5_7</th>\n",
       "    </tr>\n",
       "  </thead>\n",
       "  <tbody>\n",
       "    <tr>\n",
       "      <th>0</th>\n",
       "      <td>0</td>\n",
       "      <td>8.59</td>\n",
       "      <td>7.500</td>\n",
       "      <td>9.00</td>\n",
       "      <td>9.545</td>\n",
       "      <td>9.265</td>\n",
       "      <td>8.110</td>\n",
       "      <td>8.43</td>\n",
       "      <td>7.15</td>\n",
       "      <td>0.180</td>\n",
       "      <td>...</td>\n",
       "      <td>4.95</td>\n",
       "      <td>1.730</td>\n",
       "      <td>1.800</td>\n",
       "      <td>4.800</td>\n",
       "      <td>3.15</td>\n",
       "      <td>10.665</td>\n",
       "      <td>10.465</td>\n",
       "      <td>16.645</td>\n",
       "      <td>5.75</td>\n",
       "      <td>10.37</td>\n",
       "    </tr>\n",
       "    <tr>\n",
       "      <th>1</th>\n",
       "      <td>1</td>\n",
       "      <td>9.10</td>\n",
       "      <td>13.533</td>\n",
       "      <td>40.90</td>\n",
       "      <td>8.770</td>\n",
       "      <td>9.265</td>\n",
       "      <td>6.015</td>\n",
       "      <td>10.07</td>\n",
       "      <td>7.15</td>\n",
       "      <td>1.107</td>\n",
       "      <td>...</td>\n",
       "      <td>20.05</td>\n",
       "      <td>9.530</td>\n",
       "      <td>7.695</td>\n",
       "      <td>4.550</td>\n",
       "      <td>6.95</td>\n",
       "      <td>2.040</td>\n",
       "      <td>5.200</td>\n",
       "      <td>5.725</td>\n",
       "      <td>2.95</td>\n",
       "      <td>2.23</td>\n",
       "    </tr>\n",
       "    <tr>\n",
       "      <th>2</th>\n",
       "      <td>2</td>\n",
       "      <td>8.21</td>\n",
       "      <td>3.710</td>\n",
       "      <td>5.42</td>\n",
       "      <td>8.770</td>\n",
       "      <td>9.265</td>\n",
       "      <td>4.550</td>\n",
       "      <td>10.07</td>\n",
       "      <td>7.15</td>\n",
       "      <td>0.020</td>\n",
       "      <td>...</td>\n",
       "      <td>4.58</td>\n",
       "      <td>3.025</td>\n",
       "      <td>3.960</td>\n",
       "      <td>4.935</td>\n",
       "      <td>4.95</td>\n",
       "      <td>4.725</td>\n",
       "      <td>6.075</td>\n",
       "      <td>6.750</td>\n",
       "      <td>3.50</td>\n",
       "      <td>3.17</td>\n",
       "    </tr>\n",
       "    <tr>\n",
       "      <th>3</th>\n",
       "      <td>3</td>\n",
       "      <td>8.39</td>\n",
       "      <td>8.700</td>\n",
       "      <td>8.10</td>\n",
       "      <td>9.500</td>\n",
       "      <td>9.200</td>\n",
       "      <td>5.200</td>\n",
       "      <td>8.67</td>\n",
       "      <td>6.67</td>\n",
       "      <td>0.280</td>\n",
       "      <td>...</td>\n",
       "      <td>8.45</td>\n",
       "      <td>2.070</td>\n",
       "      <td>1.730</td>\n",
       "      <td>6.300</td>\n",
       "      <td>4.70</td>\n",
       "      <td>3.500</td>\n",
       "      <td>6.200</td>\n",
       "      <td>8.670</td>\n",
       "      <td>2.90</td>\n",
       "      <td>7.37</td>\n",
       "    </tr>\n",
       "    <tr>\n",
       "      <th>4</th>\n",
       "      <td>4</td>\n",
       "      <td>8.07</td>\n",
       "      <td>8.050</td>\n",
       "      <td>8.65</td>\n",
       "      <td>7.960</td>\n",
       "      <td>9.265</td>\n",
       "      <td>3.290</td>\n",
       "      <td>10.07</td>\n",
       "      <td>7.15</td>\n",
       "      <td>0.360</td>\n",
       "      <td>...</td>\n",
       "      <td>2.02</td>\n",
       "      <td>1.730</td>\n",
       "      <td>0.760</td>\n",
       "      <td>4.800</td>\n",
       "      <td>4.97</td>\n",
       "      <td>3.950</td>\n",
       "      <td>2.800</td>\n",
       "      <td>8.400</td>\n",
       "      <td>3.50</td>\n",
       "      <td>3.90</td>\n",
       "    </tr>\n",
       "  </tbody>\n",
       "</table>\n",
       "<p>5 rows × 37 columns</p>\n",
       "</div>"
      ],
      "text/plain": [
       "   id  target    O2_1   O2_2   O2_3   O2_4   O2_5   O2_6  O2_7  NH4_1  ...  \\\n",
       "0   0    8.59   7.500   9.00  9.545  9.265  8.110   8.43  7.15  0.180  ...   \n",
       "1   1    9.10  13.533  40.90  8.770  9.265  6.015  10.07  7.15  1.107  ...   \n",
       "2   2    8.21   3.710   5.42  8.770  9.265  4.550  10.07  7.15  0.020  ...   \n",
       "3   3    8.39   8.700   8.10  9.500  9.200  5.200   8.67  6.67  0.280  ...   \n",
       "4   4    8.07   8.050   8.65  7.960  9.265  3.290  10.07  7.15  0.360  ...   \n",
       "\n",
       "   NO3_5  NO3_6  NO3_7  BOD5_1  BOD5_2  BOD5_3  BOD5_4  BOD5_5  BOD5_6  BOD5_7  \n",
       "0   4.95  1.730  1.800   4.800    3.15  10.665  10.465  16.645    5.75   10.37  \n",
       "1  20.05  9.530  7.695   4.550    6.95   2.040   5.200   5.725    2.95    2.23  \n",
       "2   4.58  3.025  3.960   4.935    4.95   4.725   6.075   6.750    3.50    3.17  \n",
       "3   8.45  2.070  1.730   6.300    4.70   3.500   6.200   8.670    2.90    7.37  \n",
       "4   2.02  1.730  0.760   4.800    4.97   3.950   2.800   8.400    3.50    3.90  \n",
       "\n",
       "[5 rows x 37 columns]"
      ]
     },
     "execution_count": 2,
     "metadata": {},
     "output_type": "execute_result"
    }
   ],
   "source": [
    "df = pd.read_csv('sample_submission.csv')\n",
    "df.head()"
   ]
  },
  {
   "cell_type": "code",
   "execution_count": 9,
   "id": "ccd441d6-62ed-4960-9f9f-cffe0772898c",
   "metadata": {},
   "outputs": [
    {
     "name": "stderr",
     "output_type": "stream",
     "text": [
      "/var/folders/lb/05l0197j4wdgmqspj9s7bgjc0000gn/T/ipykernel_1301/3759698944.py:2: DeprecationWarning: In a future version, `df.iloc[:, i] = newvals` will attempt to set the values inplace instead of always setting a new array. To retain the old behavior, use either `df[df.columns[i]] = newvals` or, if columns are non-unique, `df.isetitem(i, newvals)`\n",
      "  df_ex.iloc[:] = 0\n"
     ]
    }
   ],
   "source": [
    "df_ex = df.copy()\n",
    "df_ex.iloc[:] = 0"
   ]
  },
  {
   "cell_type": "code",
   "execution_count": 10,
   "id": "9644d9ef-7c72-4fdc-ad26-99d98fafdce0",
   "metadata": {},
   "outputs": [
    {
     "data": {
      "text/html": [
       "<div>\n",
       "<style scoped>\n",
       "    .dataframe tbody tr th:only-of-type {\n",
       "        vertical-align: middle;\n",
       "    }\n",
       "\n",
       "    .dataframe tbody tr th {\n",
       "        vertical-align: top;\n",
       "    }\n",
       "\n",
       "    .dataframe thead th {\n",
       "        text-align: right;\n",
       "    }\n",
       "</style>\n",
       "<table border=\"1\" class=\"dataframe\">\n",
       "  <thead>\n",
       "    <tr style=\"text-align: right;\">\n",
       "      <th></th>\n",
       "      <th>id</th>\n",
       "      <th>target</th>\n",
       "      <th>O2_1</th>\n",
       "      <th>O2_2</th>\n",
       "      <th>O2_3</th>\n",
       "      <th>O2_4</th>\n",
       "      <th>O2_5</th>\n",
       "      <th>O2_6</th>\n",
       "      <th>O2_7</th>\n",
       "      <th>NH4_1</th>\n",
       "      <th>...</th>\n",
       "      <th>NO3_5</th>\n",
       "      <th>NO3_6</th>\n",
       "      <th>NO3_7</th>\n",
       "      <th>BOD5_1</th>\n",
       "      <th>BOD5_2</th>\n",
       "      <th>BOD5_3</th>\n",
       "      <th>BOD5_4</th>\n",
       "      <th>BOD5_5</th>\n",
       "      <th>BOD5_6</th>\n",
       "      <th>BOD5_7</th>\n",
       "    </tr>\n",
       "  </thead>\n",
       "  <tbody>\n",
       "    <tr>\n",
       "      <th>0</th>\n",
       "      <td>0</td>\n",
       "      <td>0</td>\n",
       "      <td>0</td>\n",
       "      <td>0</td>\n",
       "      <td>0</td>\n",
       "      <td>0</td>\n",
       "      <td>0</td>\n",
       "      <td>0</td>\n",
       "      <td>0</td>\n",
       "      <td>0</td>\n",
       "      <td>...</td>\n",
       "      <td>0</td>\n",
       "      <td>0</td>\n",
       "      <td>0</td>\n",
       "      <td>0</td>\n",
       "      <td>0</td>\n",
       "      <td>0</td>\n",
       "      <td>0</td>\n",
       "      <td>0</td>\n",
       "      <td>0</td>\n",
       "      <td>0</td>\n",
       "    </tr>\n",
       "    <tr>\n",
       "      <th>1</th>\n",
       "      <td>0</td>\n",
       "      <td>0</td>\n",
       "      <td>0</td>\n",
       "      <td>0</td>\n",
       "      <td>0</td>\n",
       "      <td>0</td>\n",
       "      <td>0</td>\n",
       "      <td>0</td>\n",
       "      <td>0</td>\n",
       "      <td>0</td>\n",
       "      <td>...</td>\n",
       "      <td>0</td>\n",
       "      <td>0</td>\n",
       "      <td>0</td>\n",
       "      <td>0</td>\n",
       "      <td>0</td>\n",
       "      <td>0</td>\n",
       "      <td>0</td>\n",
       "      <td>0</td>\n",
       "      <td>0</td>\n",
       "      <td>0</td>\n",
       "    </tr>\n",
       "  </tbody>\n",
       "</table>\n",
       "<p>2 rows × 37 columns</p>\n",
       "</div>"
      ],
      "text/plain": [
       "   id  target  O2_1  O2_2  O2_3  O2_4  O2_5  O2_6  O2_7  NH4_1  ...  NO3_5  \\\n",
       "0   0       0     0     0     0     0     0     0     0      0  ...      0   \n",
       "1   0       0     0     0     0     0     0     0     0      0  ...      0   \n",
       "\n",
       "   NO3_6  NO3_7  BOD5_1  BOD5_2  BOD5_3  BOD5_4  BOD5_5  BOD5_6  BOD5_7  \n",
       "0      0      0       0       0       0       0       0       0       0  \n",
       "1      0      0       0       0       0       0       0       0       0  \n",
       "\n",
       "[2 rows x 37 columns]"
      ]
     },
     "execution_count": 10,
     "metadata": {},
     "output_type": "execute_result"
    }
   ],
   "source": [
    "df_ex.head(2)"
   ]
  },
  {
   "cell_type": "code",
   "execution_count": 11,
   "id": "8120285d-e8a8-49f9-92be-5d3938731dc0",
   "metadata": {},
   "outputs": [],
   "source": [
    "# Let's clip the values to 6-16 and see the results\n",
    "df_ex.target = df.target.clip(7, 16)"
   ]
  },
  {
   "cell_type": "code",
   "execution_count": 12,
   "id": "1d8fa69e-fbfb-4410-b17f-c0d2256bb49a",
   "metadata": {},
   "outputs": [],
   "source": [
    "column_names = ['O2_1', 'O2_2', 'BOD5_5', 'NH4_6']\n",
    "column_names_3 = ['O2_1', 'O2_2', 'BOD5_5']"
   ]
  },
  {
   "cell_type": "code",
   "execution_count": 13,
   "id": "ff157378-1ab4-4c58-84e2-7b3247ffd1ce",
   "metadata": {},
   "outputs": [],
   "source": [
    "# Most important features were O2_1, O2_2, BOD5_5, NH4_6 lets get them into df_ex\n",
    "\n",
    "df_ex[column_names_3] = df[column_names_3]\n",
    "df_ex.to_csv('sub14.csv', index=False)"
   ]
  },
  {
   "cell_type": "markdown",
   "id": "36cbc8de-343e-44eb-a7f9-c12eebeb0d5c",
   "metadata": {},
   "source": [
    "No a substantial difference"
   ]
  },
  {
   "cell_type": "code",
   "execution_count": 16,
   "id": "787894b9-630e-4cd4-b049-b41d266da062",
   "metadata": {},
   "outputs": [
    {
     "data": {
      "text/plain": [
       "8.216992571428571"
      ]
     },
     "execution_count": 16,
     "metadata": {},
     "output_type": "execute_result"
    }
   ],
   "source": [
    "# Let's clip at 7 to 16 and delete everything outside of 3std\n",
    "\n",
    "df['O2_1'].std()\n",
    "df['O2_1'].mean()"
   ]
  },
  {
   "cell_type": "code",
   "execution_count": 17,
   "id": "079fbdde-3307-4bf7-a6c6-d1ca8c6809de",
   "metadata": {},
   "outputs": [
    {
     "data": {
      "text/plain": [
       "{'whiskers': [<matplotlib.lines.Line2D at 0x7f9cf79a2c50>,\n",
       "  <matplotlib.lines.Line2D at 0x7f9cf79a1ea0>],\n",
       " 'caps': [<matplotlib.lines.Line2D at 0x7f9cf79a1570>,\n",
       "  <matplotlib.lines.Line2D at 0x7f9cf79a0df0>],\n",
       " 'boxes': [<matplotlib.lines.Line2D at 0x7f9cf79f40d0>],\n",
       " 'medians': [<matplotlib.lines.Line2D at 0x7f9cf79a3820>],\n",
       " 'fliers': [<matplotlib.lines.Line2D at 0x7f9cf79a05b0>],\n",
       " 'means': []}"
      ]
     },
     "execution_count": 17,
     "metadata": {},
     "output_type": "execute_result"
    },
    {
     "data": {
      "image/png": "[encoded data removed]",
      "text/plain": [
       "<Figure size 640x480 with 1 Axes>"
      ]
     },
     "metadata": {},
     "output_type": "display_data"
    }
   ],
   "source": [
    "plt.boxplot(df['O2_1'])"
   ]
  },
  {
   "cell_type": "code",
   "execution_count": 20,
   "id": "38590c57-4ae7-4175-8c4c-abdacd02975b",
   "metadata": {},
   "outputs": [
    {
     "name": "stdout",
     "output_type": "stream",
     "text": [
      "We clip at -0.9052361674178453 to 17.339221310274986\n"
     ]
    }
   ],
   "source": [
    "high = df['O2_1'].mean() + (3*df['O2_1'].std())\n",
    "low = df['O2_1'].mean() - (3*df['O2_1'].std())\n",
    "print(f'We clip at {low} to {high}')"
   ]
  },
  {
   "cell_type": "markdown",
   "id": "4f739441-220f-4e23-9694-2d8866b9c7cd",
   "metadata": {},
   "source": [
    "This doesn't seem a good way.\n",
    "\n",
    "Below is copied from kaggle more specifically from [this link](https://www.kaggle.com/code/act18l/added-lof-svm-iforest-very-simple-approach)"
   ]
  },
  {
   "cell_type": "code",
   "execution_count": 32,
   "id": "75295506-1fa8-437d-a274-77add2bc1c94",
   "metadata": {},
   "outputs": [],
   "source": [
    "from sklearn.linear_model import SGDOneClassSVM\n",
    "#df = df.reset_index(drop=True)"
   ]
  },
  {
   "cell_type": "code",
   "execution_count": 33,
   "id": "fa9eb831-00f7-4268-a85c-adc9a657c918",
   "metadata": {},
   "outputs": [],
   "source": [
    "clf = SGDOneClassSVM(nu=0.55).fit(df.drop(['id'],axis=1))\n",
    "# Training data is every column except id"
   ]
  },
  {
   "cell_type": "code",
   "execution_count": null,
   "id": "208b261d-92e5-4316-ad54-1e0a0a34ffd2",
   "metadata": {},
   "outputs": [
    {
     "data": {
      "text/plain": [
       "37"
      ]
     },
     "execution_count": 45,
     "metadata": {},
     "output_type": "execute_result"
    }
   ],
   "source": [
    "len(np.where(clf.predict(df.drop(['id'],axis=1)) == -1)[0])"
   ]
  },
  {
   "cell_type": "code",
   "execution_count": 46,
   "id": "97684d2b-f16e-48b8-b961-b13befe58965",
   "metadata": {},
   "outputs": [
    {
     "name": "stdout",
     "output_type": "stream",
     "text": [
      "37\n"
     ]
    }
   ],
   "source": [
    "print(len(np.array(np.where(clf.predict(df.drop(['id'],axis=1))==-1))[0]))"
   ]
  },
  {
   "cell_type": "code",
   "execution_count": null,
   "id": "028eeff0-c680-4e9c-8b1e-9278f7d45ddb",
   "metadata": {},
   "outputs": [
    {
     "data": {
      "text/plain": [
       "Int64Index([  76,  133,  282,  302,  433,  454,  463,  476,  510,  543,  613,\n",
       "             749,  797,  807, 1054, 1248, 1375, 1502, 1625, 1626, 1662, 1719,\n",
       "            1955, 2006, 2360, 2378, 2445, 2530, 2533, 2535, 2627, 2793, 3112,\n",
       "            3322, 3324, 3376, 3464],\n",
       "           dtype='int64')"
      ]
     },
     "execution_count": 47,
     "metadata": {},
     "output_type": "execute_result"
    }
   ],
   "source": [
    "df.index[np.array(np.where(clf.predict(df.drop(['id'],axis=1))==-1))[0]]"
   ]
  },
  {
   "cell_type": "code",
   "execution_count": 48,
   "id": "a9f57a67-09b9-46b9-8973-6acad39cdc57",
   "metadata": {},
   "outputs": [],
   "source": [
    "df.drop(df.index[np.array(np.where(clf.predict(df.drop(['id'],axis=1))==-1))[0]], axis=0, inplace=True)\n"
   ]
  },
  {
   "cell_type": "code",
   "execution_count": 49,
   "id": "3086b11f-5916-49a9-b7f7-89b9c0488441",
   "metadata": {},
   "outputs": [
    {
     "name": "stdout",
     "output_type": "stream",
     "text": [
      "3463\n"
     ]
    }
   ],
   "source": [
    "print(len(df))"
   ]
  },
  {
   "cell_type": "code",
   "execution_count": 50,
   "id": "b9123e4c-92c1-47c4-8a4e-aa50fec5f28b",
   "metadata": {},
   "outputs": [],
   "source": [
    "# Now use of isolation foreset"
   ]
  },
  {
   "cell_type": "code",
   "execution_count": 51,
   "id": "43c7a19e-bad5-4806-b8c2-b272c29abd5b",
   "metadata": {},
   "outputs": [
    {
     "data": {
      "text/plain": [
       "59"
      ]
     },
     "execution_count": 51,
     "metadata": {},
     "output_type": "execute_result"
    }
   ],
   "source": [
    "from sklearn.ensemble import IsolationForest\n",
    "clf = IsolationForest(random_state=0).fit(df.drop(['id'],axis=1))\n",
    "len(np.array(np.where(clf.predict(df.drop(['id'],axis=1))==-1))[0])"
   ]
  },
  {
   "cell_type": "code",
   "execution_count": 52,
   "id": "408d2387-6e39-43a5-986d-5dee9f6ea687",
   "metadata": {},
   "outputs": [
    {
     "data": {
      "text/plain": [
       "3404"
      ]
     },
     "execution_count": 52,
     "metadata": {},
     "output_type": "execute_result"
    }
   ],
   "source": [
    "df.drop(df.index[np.array(np.where(clf.predict(df.drop(['id'],axis=1))==-1))[0]], axis=0, inplace=True)\n",
    "len(df)"
   ]
  },
  {
   "cell_type": "code",
   "execution_count": 53,
   "id": "04038fe1-7243-4109-b2da-3ab339414ea0",
   "metadata": {},
   "outputs": [],
   "source": [
    "from sklearn.neighbors import LocalOutlierFactor\n",
    "\n",
    "\n",
    "data = df.drop(['id'], axis=1)"
   ]
  },
  {
   "cell_type": "code",
   "execution_count": 54,
   "id": "55d0dfbf-838c-4f31-b2cd-5fe8eed964b9",
   "metadata": {},
   "outputs": [],
   "source": [
    "# Select a subset of features for visualization (excluding 'id')\n",
    "selected_features = df.columns[2:]"
   ]
  },
  {
   "cell_type": "code",
   "execution_count": 55,
   "id": "9cd45968-53f3-4ffb-b37b-97c663e8fd07",
   "metadata": {},
   "outputs": [],
   "source": [
    "# Create an instance of LocalOutlierFactor\n",
    "lof = LocalOutlierFactor(n_neighbors=3, contamination=0.1)"
   ]
  },
  {
   "cell_type": "code",
   "execution_count": 56,
   "id": "d313d704-e7fd-46d9-a90c-81e6a2d14b0d",
   "metadata": {},
   "outputs": [
    {
     "data": {
      "text/html": [
       "<style>#sk-container-id-1 {color: black;background-color: white;}#sk-container-id-1 pre{padding: 0;}#sk-container-id-1 div.sk-toggleable {background-color: white;}#sk-container-id-1 label.sk-toggleable__label {cursor: pointer;display: block;width: 100%;margin-bottom: 0;padding: 0.3em;box-sizing: border-box;text-align: center;}#sk-container-id-1 label.sk-toggleable__label-arrow:before {content: \"▸\";float: left;margin-right: 0.25em;color: #696969;}#sk-container-id-1 label.sk-toggleable__label-arrow:hover:before {color: black;}#sk-container-id-1 div.sk-estimator:hover label.sk-toggleable__label-arrow:before {color: black;}#sk-container-id-1 div.sk-toggleable__content {max-height: 0;max-width: 0;overflow: hidden;text-align: left;background-color: #f0f8ff;}#sk-container-id-1 div.sk-toggleable__content pre {margin: 0.2em;color: black;border-radius: 0.25em;background-color: #f0f8ff;}#sk-container-id-1 input.sk-toggleable__control:checked~div.sk-toggleable__content {max-height: 200px;max-width: 100%;overflow: auto;}#sk-container-id-1 input.sk-toggleable__control:checked~label.sk-toggleable__label-arrow:before {content: \"▾\";}#sk-container-id-1 div.sk-estimator input.sk-toggleable__control:checked~label.sk-toggleable__label {background-color: #d4ebff;}#sk-container-id-1 div.sk-label input.sk-toggleable__control:checked~label.sk-toggleable__label {background-color: #d4ebff;}#sk-container-id-1 input.sk-hidden--visually {border: 0;clip: rect(1px 1px 1px 1px);clip: rect(1px, 1px, 1px, 1px);height: 1px;margin: -1px;overflow: hidden;padding: 0;position: absolute;width: 1px;}#sk-container-id-1 div.sk-estimator {font-family: monospace;background-color: #f0f8ff;border: 1px dotted black;border-radius: 0.25em;box-sizing: border-box;margin-bottom: 0.5em;}#sk-container-id-1 div.sk-estimator:hover {background-color: #d4ebff;}#sk-container-id-1 div.sk-parallel-item::after {content: \"\";width: 100%;border-bottom: 1px solid gray;flex-grow: 1;}#sk-container-id-1 div.sk-label:hover label.sk-toggleable__label {background-color: #d4ebff;}#sk-container-id-1 div.sk-serial::before {content: \"\";position: absolute;border-left: 1px solid gray;box-sizing: border-box;top: 0;bottom: 0;left: 50%;z-index: 0;}#sk-container-id-1 div.sk-serial {display: flex;flex-direction: column;align-items: center;background-color: white;padding-right: 0.2em;padding-left: 0.2em;position: relative;}#sk-container-id-1 div.sk-item {position: relative;z-index: 1;}#sk-container-id-1 div.sk-parallel {display: flex;align-items: stretch;justify-content: center;background-color: white;position: relative;}#sk-container-id-1 div.sk-item::before, #sk-container-id-1 div.sk-parallel-item::before {content: \"\";position: absolute;border-left: 1px solid gray;box-sizing: border-box;top: 0;bottom: 0;left: 50%;z-index: -1;}#sk-container-id-1 div.sk-parallel-item {display: flex;flex-direction: column;z-index: 1;position: relative;background-color: white;}#sk-container-id-1 div.sk-parallel-item:first-child::after {align-self: flex-end;width: 50%;}#sk-container-id-1 div.sk-parallel-item:last-child::after {align-self: flex-start;width: 50%;}#sk-container-id-1 div.sk-parallel-item:only-child::after {width: 0;}#sk-container-id-1 div.sk-dashed-wrapped {border: 1px dashed gray;margin: 0 0.4em 0.5em 0.4em;box-sizing: border-box;padding-bottom: 0.4em;background-color: white;}#sk-container-id-1 div.sk-label label {font-family: monospace;font-weight: bold;display: inline-block;line-height: 1.2em;}#sk-container-id-1 div.sk-label-container {text-align: center;}#sk-container-id-1 div.sk-container {/* jupyter's `normalize.less` sets `[hidden] { display: none; }` but bootstrap.min.css set `[hidden] { display: none !important; }` so we also need the `!important` here to be able to override the default hidden behavior on the sphinx rendered scikit-learn.org. See: https://github.com/scikit-learn/scikit-learn/issues/21755 */display: inline-block !important;position: relative;}#sk-container-id-1 div.sk-text-repr-fallback {display: none;}</style><div id=\"sk-container-id-1\" class=\"sk-top-container\"><div class=\"sk-text-repr-fallback\"><pre>LocalOutlierFactor(contamination=0.1, n_neighbors=3)</pre><b>In a Jupyter environment, please rerun this cell to show the HTML representation or trust the notebook. <br />On GitHub, the HTML representation is unable to render, please try loading this page with nbviewer.org.</b></div><div class=\"sk-container\" hidden><div class=\"sk-item\"><div class=\"sk-estimator sk-toggleable\"><input class=\"sk-toggleable__control sk-hidden--visually\" id=\"sk-estimator-id-1\" type=\"checkbox\" checked><label for=\"sk-estimator-id-1\" class=\"sk-toggleable__label sk-toggleable__label-arrow\">LocalOutlierFactor</label><div class=\"sk-toggleable__content\"><pre>LocalOutlierFactor(contamination=0.1, n_neighbors=3)</pre></div></div></div></div></div>"
      ],
      "text/plain": [
       "LocalOutlierFactor(contamination=0.1, n_neighbors=3)"
      ]
     },
     "execution_count": 56,
     "metadata": {},
     "output_type": "execute_result"
    }
   ],
   "source": [
    "lof"
   ]
  },
  {
   "cell_type": "code",
   "execution_count": 57,
   "id": "b6422ba3-eeb9-4c40-9e29-54d4eace8bbb",
   "metadata": {},
   "outputs": [],
   "source": [
    "# Fit the model and predict anomalies\n",
    "predictions = lof.fit_predict(df[selected_features])"
   ]
  },
  {
   "cell_type": "code",
   "execution_count": 64,
   "id": "f09a4d38-ca73-42d0-afc0-50757b64e38d",
   "metadata": {},
   "outputs": [
    {
     "data": {
      "text/plain": [
       "(array([  14,   29,   36,   37,   46,   49,   82,  104,  113,  123,  124,\n",
       "         130,  131,  133,  135,  155,  172,  176,  179,  195,  198,  205,\n",
       "         214,  216,  232,  253,  254,  269,  280,  294,  295,  312,  318,\n",
       "         326,  330,  353,  356,  366,  370,  397,  422,  423,  431,  437,\n",
       "         439,  452,  454,  473,  504,  536,  543,  546,  572,  575,  580,\n",
       "         587,  593,  597,  617,  620,  630,  640,  643,  646,  649,  671,\n",
       "         673,  692,  707,  711,  712,  718,  725,  739,  752,  758,  765,\n",
       "         781,  795,  808,  814,  827,  834,  835,  836,  840,  852,  859,\n",
       "         876,  887,  890,  901,  905,  911,  933,  942,  955,  956,  975,\n",
       "         984, 1002, 1003, 1007, 1013, 1014, 1022, 1029, 1039, 1048, 1071,\n",
       "        1086, 1091, 1112, 1133, 1136, 1145, 1159, 1160, 1173, 1189, 1201,\n",
       "        1203, 1207, 1238, 1249, 1287, 1289, 1295, 1296, 1297, 1307, 1309,\n",
       "        1317, 1321, 1323, 1326, 1327, 1328, 1339, 1343, 1348, 1363, 1374,\n",
       "        1385, 1399, 1412, 1424, 1430, 1433, 1441, 1453, 1459, 1463, 1476,\n",
       "        1480, 1493, 1501, 1507, 1519, 1535, 1536, 1548, 1557, 1558, 1570,\n",
       "        1606, 1607, 1630, 1636, 1648, 1657, 1668, 1679, 1686, 1720, 1723,\n",
       "        1730, 1734, 1754, 1766, 1768, 1772, 1779, 1792, 1799, 1807, 1809,\n",
       "        1812, 1816, 1820, 1822, 1832, 1835, 1853, 1864, 1873, 1876, 1889,\n",
       "        1890, 1892, 1904, 1908, 1918, 1922, 1927, 1930, 1944, 1945, 1946,\n",
       "        1963, 1970, 2005, 2011, 2012, 2029, 2043, 2081, 2084, 2092, 2100,\n",
       "        2105, 2109, 2114, 2129, 2133, 2150, 2155, 2172, 2176, 2179, 2210,\n",
       "        2267, 2281, 2293, 2307, 2309, 2312, 2320, 2321, 2324, 2329, 2330,\n",
       "        2355, 2369, 2389, 2392, 2398, 2401, 2407, 2410, 2414, 2424, 2444,\n",
       "        2451, 2459, 2461, 2472, 2474, 2493, 2503, 2514, 2519, 2524, 2536,\n",
       "        2553, 2563, 2567, 2569, 2600, 2604, 2609, 2613, 2635, 2636, 2641,\n",
       "        2656, 2679, 2699, 2717, 2744, 2745, 2748, 2749, 2764, 2768, 2785,\n",
       "        2801, 2804, 2818, 2821, 2846, 2848, 2895, 2896, 2898, 2922, 2925,\n",
       "        2931, 2933, 2947, 2951, 2956, 2957, 2973, 2987, 2991, 3005, 3028,\n",
       "        3030, 3031, 3032, 3052, 3075, 3080, 3082, 3122, 3142, 3171, 3189,\n",
       "        3215, 3237, 3239, 3241, 3257, 3275, 3284, 3294, 3301, 3307, 3313,\n",
       "        3324, 3330, 3344, 3345, 3347, 3357, 3364, 3372, 3377, 3388, 3398]),)"
      ]
     },
     "execution_count": 64,
     "metadata": {},
     "output_type": "execute_result"
    }
   ],
   "source": [
    "np.where(predictions==-1)"
   ]
  },
  {
   "cell_type": "code",
   "execution_count": 65,
   "id": "79e19e11-6e9a-4958-ae13-bca7293f0f0a",
   "metadata": {},
   "outputs": [],
   "source": [
    "# Find the indices of anomalies (outliers)\n",
    "anomaly_indices = np.where(predictions == -1)[0]\n",
    "\n",
    "# Remove anomalies from the DataFrame\n",
    "df = df.drop(index=df.index[anomaly_indices])"
   ]
  },
  {
   "cell_type": "code",
   "execution_count": 66,
   "id": "efa0b7de-bf19-4bdb-963e-c3355292c1bb",
   "metadata": {},
   "outputs": [
    {
     "data": {
      "text/plain": [
       "3063"
      ]
     },
     "execution_count": 66,
     "metadata": {},
     "output_type": "execute_result"
    }
   ],
   "source": [
    "len(df)"
   ]
  },
  {
   "cell_type": "code",
   "execution_count": 67,
   "id": "602ef119-4fbb-47b3-9cd5-13a94cc84b3e",
   "metadata": {},
   "outputs": [],
   "source": [
    "# We basically annihilated the df :)\n",
    "df.to_csv('sub14-intern.csv', index=False)"
   ]
  },
  {
   "cell_type": "code",
   "execution_count": 69,
   "id": "241271aa-b2f0-465d-a450-2f714cce2a74",
   "metadata": {},
   "outputs": [],
   "source": [
    "df_o = df.copy()"
   ]
  },
  {
   "cell_type": "code",
   "execution_count": 70,
   "id": "9a7bf7f6-679e-4e5c-9ccb-3b20752a4dbf",
   "metadata": {},
   "outputs": [
    {
     "name": "stderr",
     "output_type": "stream",
     "text": [
      "/var/folders/lb/05l0197j4wdgmqspj9s7bgjc0000gn/T/ipykernel_1301/2104695013.py:1: DeprecationWarning: In a future version, `df.iloc[:, i] = newvals` will attempt to set the values inplace instead of always setting a new array. To retain the old behavior, use either `df[df.columns[i]] = newvals` or, if columns are non-unique, `df.isetitem(i, newvals)`\n",
      "  df[:]=0\n"
     ]
    }
   ],
   "source": [
    "df[:]=0"
   ]
  },
  {
   "cell_type": "code",
   "execution_count": 74,
   "id": "f7f11207-a91c-48e6-9050-4dbaac26850c",
   "metadata": {},
   "outputs": [],
   "source": [
    "df[column_names] = df_o[column_names]\n",
    "df['target'] = df_o['target']"
   ]
  },
  {
   "cell_type": "code",
   "execution_count": 76,
   "id": "9276665d-42f1-4a14-be26-3fc90026c582",
   "metadata": {},
   "outputs": [],
   "source": [
    "df.to_csv('sub14-3.csv', index=False)"
   ]
  },
  {
   "cell_type": "code",
   "execution_count": 80,
   "id": "96b44fab-4b36-46c4-b1cb-5a722511e740",
   "metadata": {},
   "outputs": [
    {
     "data": {
      "text/plain": [
       "0       0\n",
       "1       0\n",
       "2       0\n",
       "3       0\n",
       "4       0\n",
       "       ..\n",
       "3494    0\n",
       "3495    0\n",
       "3496    0\n",
       "3497    0\n",
       "3499    0\n",
       "Name: NH4_6, Length: 3063, dtype: int64"
      ]
     },
     "execution_count": 80,
     "metadata": {},
     "output_type": "execute_result"
    }
   ],
   "source": [
    "df['NH4_6'] = 0\n",
    "df['NH4_6']"
   ]
  },
  {
   "cell_type": "code",
   "execution_count": 82,
   "id": "87f460b4-8b41-45a6-908e-a48b730dbdb1",
   "metadata": {},
   "outputs": [],
   "source": [
    "df.to_csv('sub14-2.csv', index=False)"
   ]
  },
  {
   "cell_type": "code",
   "execution_count": null,
   "id": "d1952fbc-b05c-4575-85a2-e22a488d6ec8",
   "metadata": {},
   "outputs": [],
   "source": []
  }
 ],
 "metadata": {
  "kernelspec": {
   "display_name": "Python 3 (ipykernel)",
   "language": "python",
   "name": "python3"
  },
  "language_info": {
   "codemirror_mode": {
    "name": "ipython",
    "version": 3
   },
   "file_extension": ".py",
   "mimetype": "text/x-python",
   "name": "python",
   "nbconvert_exporter": "python",
   "pygments_lexer": "ipython3",
   "version": "3.10.9"
  }
 },
 "nbformat": 4,
 "nbformat_minor": 5
}
